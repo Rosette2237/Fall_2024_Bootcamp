{
 "cells": [
  {
   "cell_type": "markdown",
   "metadata": {
    "cell_id": "ee1cd9469139475d81a36cad8382a37a",
    "deepnote_cell_type": "markdown",
    "id": "kMCpFfLkRgWM"
   },
   "source": [
    "<img src=\"https://drive.google.com/uc?id=1E_GYlzeV8zomWYNBpQk0i00XcZjhoy3S\" width=\"100\"/>"
   ]
  },
  {
   "cell_type": "markdown",
   "metadata": {
    "cell_id": "6582f308519b49c08b8fbea8e236ceea",
    "deepnote_cell_type": "markdown",
    "id": "NZZ8eQWzRt5L"
   },
   "source": [
    "# DSGT Bootcamp Week 1: Introduction and Environment Setup"
   ]
  },
  {
   "cell_type": "markdown",
   "metadata": {
    "cell_id": "12c22c84344840f4909f2fb5bdbc3d58",
    "deepnote_cell_type": "markdown",
    "id": "0FMrC6O5R0eK"
   },
   "source": [
    "# Learning Objectives\n",
    "\n",
    "1. Gain an understanding of Intel Developer Cloud\n",
    "2. Introduction to team project\n",
    "3. Gain an understanding of Kaggle\n",
    "4. Download and prepare dataset\n",
    "5. Install dependencies\n",
    "6. Gain an understanding of the basics of Python\n",
    "7. Gain an understanding of the basics of GitHub / Git"
   ]
  },
  {
   "cell_type": "markdown",
   "metadata": {
    "cell_id": "71295ab8b8e842e3aeddf655338e4636",
    "deepnote_cell_type": "markdown",
    "id": "9rcgS2KqDfzz"
   },
   "source": [
    "<img src=\"https://www.kaggle.com/static/images/site-logo.png\" alt=\"kaggle-logo-LOL\"/>"
   ]
  },
  {
   "cell_type": "markdown",
   "metadata": {
    "cell_id": "dda2902176d6403093d69685e6fedadd",
    "deepnote_cell_type": "markdown",
    "id": "Phk42Mo4yprz"
   },
   "source": [
    "# Introducing Kaggle\n",
    "\n",
    "\n",
    "\n",
    "#### [Kaggle](https://kaggle.com) is an online 'practice tool' that helps you become a better data scientist. They have various data science challenges, tutorials, and resources to help you improve your skillset.\n",
    "\n",
    "\n",
    "#### For this bootcamp, we'll be trying to predict trends using the Kaggle Titanic Data Set. This dataset models variable related to the passengers and victims of the Titanic sinking incident. By the end of this bootcamp, you'll submit your machine learning model to the leaderboards and see how well it performs compared to others worldwide.\n",
    "\n",
    "#### For more information on Kaggle, check out the resources section."
   ]
  },
  {
   "cell_type": "markdown",
   "metadata": {
    "cell_id": "56dc5893bb964e1bae88cfff4eba4073",
    "deepnote_cell_type": "markdown",
    "id": "nm7y9iLZyryD"
   },
   "source": [
    "# Accessing the Titanic Dataset\n",
    "\n",
    "#### To speed up the data download process, we've placed the data in this workshop folder. If you look under \"Files\", you'll see a file called `titanic_train.csv`.\n"
   ]
  },
  {
   "cell_type": "code",
   "execution_count": 7,
   "metadata": {
    "cell_id": "634af2c1f4094cacad12e605c5714cd5",
    "colab": {
     "base_uri": "https://localhost:8080/"
    },
    "deepnote_cell_type": "code",
    "deepnote_to_be_reexecuted": false,
    "execution_millis": 23,
    "execution_start": 1693596063213,
    "id": "0CHmVx419Ayb",
    "outputId": "96497d4e-63c4-40ab-f54c-d82c18685619",
    "source_hash": null,
    "tags": []
   },
   "outputs": [
    {
     "data": {
      "text/plain": [
       "'/home/u0ffb3364e89b0a170bc2fe23407f010/In_Person/Workshop One'"
      ]
     },
     "execution_count": 7,
     "metadata": {},
     "output_type": "execute_result"
    }
   ],
   "source": [
    "\"\"\"\n",
    "You can use the following commands in Colab code cells. \n",
    "Type \"%pwd\" to list the folder you are currently in and \"%ls\" to list subfolders. Use \"%cd [subfolder]\"\n",
    "to change your current directory into where the data is.\n",
    "\"\"\"\n",
    "%pwd"
   ]
  },
  {
   "cell_type": "code",
   "execution_count": 8,
   "metadata": {
    "cell_id": "4ccaa27413284b3ca3acc51fb1d7ad62",
    "colab": {
     "base_uri": "https://localhost:8080/"
    },
    "deepnote_cell_type": "code",
    "deepnote_to_be_reexecuted": false,
    "execution_millis": 954,
    "execution_start": 1693596063231,
    "id": "tBmUfRyg9FZD",
    "outputId": "e2542068-5fdd-4822-8f96-990bf52acdfb",
    "source_hash": null
   },
   "outputs": [
    {
     "name": "stdout",
     "output_type": "stream",
     "text": [
      "'Workshop 1 Drill Spring 2024.ipynb'   \u001b[0m\u001b[01;34mhello\u001b[0m/\n",
      " Workshop_1_Spring_2024.ipynb          titanic_train.csv\n"
     ]
    }
   ],
   "source": [
    "%ls"
   ]
  },
  {
   "cell_type": "code",
   "execution_count": 3,
   "metadata": {
    "cell_id": "b0950a361bcb4f1f87d2943e1da06b87",
    "deepnote_cell_type": "code",
    "deepnote_to_be_reexecuted": false,
    "execution_millis": 2055878,
    "execution_start": 1693596064183,
    "source_hash": null,
    "tags": []
   },
   "outputs": [
    {
     "name": "stdout",
     "output_type": "stream",
     "text": [
      "mkdir: cannot create directory ‘hello’: File exists\n"
     ]
    }
   ],
   "source": [
    "\"\"\"\n",
    "You can use mkdir to make a new directory and rm to remove a directory\n",
    "\"\"\"\n",
    "%mkdir hello #make a directory called hello\n",
    "#%cd hello\n",
    "#%cat > cat.txt #create a file called cat.txt in hello/\n",
    "#%ls \n",
    "# get out of hello directory\n",
    "#%cd ../. \n",
    "#%ls\n",
    "#%rm -rf hello #remove the hello directory and all subdirectories and files within\n",
    "#%ls"
   ]
  },
  {
   "cell_type": "markdown",
   "metadata": {
    "cell_id": "ac40605597e848e09e1a82ba520ed819",
    "deepnote_cell_type": "text-cell-p",
    "formattedRanges": [],
    "is_collapsed": false,
    "tags": []
   },
   "source": [
    "FYI, you can try out the above terminal commands in the terminal mode. Go to \"Project\" on the right sidebar. Under \"Termainals\", click the \"+\" icon to create a new terminal. The terminal is already configured for you to run your Linux commands. "
   ]
  },
  {
   "cell_type": "markdown",
   "metadata": {
    "cell_id": "23f2f3faede643dc8de17478a71c1274",
    "deepnote_cell_type": "markdown",
    "id": "VXfkXLRBylkN"
   },
   "source": [
    "# Read Data with Pandas\n",
    "\n",
    "#### `!pip install` adds libraries (things that add more functionality to Python) to this environment as opposed to your machine. \n",
    "\n",
    "#### We'll worry about importing and using these libraries later. For now, let's just make sure your environment has them installed.\n",
    "\n",
    "#### Applied Data Science frequently uses core libraries to avoid \"reinventing the wheel\". One of these is pandas!"
   ]
  },
  {
   "cell_type": "code",
   "execution_count": 9,
   "metadata": {},
   "outputs": [
    {
     "name": "stdout",
     "output_type": "stream",
     "text": [
      "Defaulting to user installation because normal site-packages is not writeable\n",
      "Requirement already satisfied: pandas in /home/u0ffb3364e89b0a170bc2fe23407f010/.local/lib/python3.10/site-packages (2.2.2)\n",
      "Requirement already satisfied: python-dateutil>=2.8.2 in /home/u0ffb3364e89b0a170bc2fe23407f010/.local/lib/python3.10/site-packages (from pandas) (2.9.0.post0)\n",
      "Requirement already satisfied: numpy>=1.22.4 in /home/u0ffb3364e89b0a170bc2fe23407f010/.local/lib/python3.10/site-packages (from pandas) (1.26.4)\n",
      "Requirement already satisfied: tzdata>=2022.7 in /home/u0ffb3364e89b0a170bc2fe23407f010/.local/lib/python3.10/site-packages (from pandas) (2024.1)\n",
      "Requirement already satisfied: pytz>=2020.1 in /usr/lib/python3/dist-packages (from pandas) (2022.1)\n",
      "Requirement already satisfied: six>=1.5 in /usr/lib/python3/dist-packages (from python-dateutil>=2.8.2->pandas) (1.16.0)\n"
     ]
    }
   ],
   "source": [
    "!pip install pandas"
   ]
  },
  {
   "cell_type": "code",
   "execution_count": 5,
   "metadata": {
    "cell_id": "f5a54d09d9af45e682d7b83a70b251b1",
    "colab": {
     "base_uri": "https://localhost:8080/"
    },
    "deepnote_cell_type": "code",
    "deepnote_to_be_reexecuted": false,
    "execution_millis": 10,
    "execution_start": 1693598120046,
    "id": "JHXhNb9WF015",
    "outputId": "e9e741c6-5d5e-4a1b-e5ef-97b7f239f10b",
    "source_hash": null,
    "tags": []
   },
   "outputs": [],
   "source": [
    "import pandas as pd #pd is the standard abbreviation for the library"
   ]
  },
  {
   "cell_type": "markdown",
   "metadata": {
    "cell_id": "319f6322b6b44092aab6d3236e065b71",
    "deepnote_cell_type": "markdown",
    "id": "k1CPQDK_-k3-"
   },
   "source": [
    "#### Now that we're in the correct folder, we can use pandas to take a sneak peek at the data. Don't worry about these commands -- we'll cover them next week!"
   ]
  },
  {
   "cell_type": "code",
   "execution_count": 10,
   "metadata": {
    "cell_id": "83685949a1b446cbb93f7be968b1811a",
    "colab": {
     "base_uri": "https://localhost:8080/",
     "height": 204
    },
    "deepnote_cell_type": "code",
    "deepnote_to_be_reexecuted": false,
    "execution_millis": 433,
    "execution_start": 1693598120051,
    "id": "_q_48Wy1_PCR",
    "outputId": "8203ddc0-0161-45d2-a13c-cd3783548239",
    "source_hash": null
   },
   "outputs": [
    {
     "data": {
      "text/html": [
       "<div>\n",
       "<style scoped>\n",
       "    .dataframe tbody tr th:only-of-type {\n",
       "        vertical-align: middle;\n",
       "    }\n",
       "\n",
       "    .dataframe tbody tr th {\n",
       "        vertical-align: top;\n",
       "    }\n",
       "\n",
       "    .dataframe thead th {\n",
       "        text-align: right;\n",
       "    }\n",
       "</style>\n",
       "<table border=\"1\" class=\"dataframe\">\n",
       "  <thead>\n",
       "    <tr style=\"text-align: right;\">\n",
       "      <th></th>\n",
       "      <th>PassengerId</th>\n",
       "      <th>Survived</th>\n",
       "      <th>Pclass</th>\n",
       "      <th>Name</th>\n",
       "      <th>Sex</th>\n",
       "      <th>Age</th>\n",
       "      <th>SibSp</th>\n",
       "      <th>Parch</th>\n",
       "      <th>Ticket</th>\n",
       "      <th>Fare</th>\n",
       "      <th>Cabin</th>\n",
       "      <th>Embarked</th>\n",
       "    </tr>\n",
       "  </thead>\n",
       "  <tbody>\n",
       "    <tr>\n",
       "      <th>0</th>\n",
       "      <td>1</td>\n",
       "      <td>0</td>\n",
       "      <td>3</td>\n",
       "      <td>Braund, Mr. Owen Harris</td>\n",
       "      <td>male</td>\n",
       "      <td>22.0</td>\n",
       "      <td>1</td>\n",
       "      <td>0</td>\n",
       "      <td>A/5 21171</td>\n",
       "      <td>7.2500</td>\n",
       "      <td>NaN</td>\n",
       "      <td>S</td>\n",
       "    </tr>\n",
       "    <tr>\n",
       "      <th>1</th>\n",
       "      <td>2</td>\n",
       "      <td>1</td>\n",
       "      <td>1</td>\n",
       "      <td>Cumings, Mrs. John Bradley (Florence Briggs Th...</td>\n",
       "      <td>female</td>\n",
       "      <td>38.0</td>\n",
       "      <td>1</td>\n",
       "      <td>0</td>\n",
       "      <td>PC 17599</td>\n",
       "      <td>71.2833</td>\n",
       "      <td>C85</td>\n",
       "      <td>C</td>\n",
       "    </tr>\n",
       "    <tr>\n",
       "      <th>2</th>\n",
       "      <td>3</td>\n",
       "      <td>1</td>\n",
       "      <td>3</td>\n",
       "      <td>Heikkinen, Miss. Laina</td>\n",
       "      <td>female</td>\n",
       "      <td>26.0</td>\n",
       "      <td>0</td>\n",
       "      <td>0</td>\n",
       "      <td>STON/O2. 3101282</td>\n",
       "      <td>7.9250</td>\n",
       "      <td>NaN</td>\n",
       "      <td>S</td>\n",
       "    </tr>\n",
       "    <tr>\n",
       "      <th>3</th>\n",
       "      <td>4</td>\n",
       "      <td>1</td>\n",
       "      <td>1</td>\n",
       "      <td>Futrelle, Mrs. Jacques Heath (Lily May Peel)</td>\n",
       "      <td>female</td>\n",
       "      <td>35.0</td>\n",
       "      <td>1</td>\n",
       "      <td>0</td>\n",
       "      <td>113803</td>\n",
       "      <td>53.1000</td>\n",
       "      <td>C123</td>\n",
       "      <td>S</td>\n",
       "    </tr>\n",
       "    <tr>\n",
       "      <th>4</th>\n",
       "      <td>5</td>\n",
       "      <td>0</td>\n",
       "      <td>3</td>\n",
       "      <td>Allen, Mr. William Henry</td>\n",
       "      <td>male</td>\n",
       "      <td>35.0</td>\n",
       "      <td>0</td>\n",
       "      <td>0</td>\n",
       "      <td>373450</td>\n",
       "      <td>8.0500</td>\n",
       "      <td>NaN</td>\n",
       "      <td>S</td>\n",
       "    </tr>\n",
       "  </tbody>\n",
       "</table>\n",
       "</div>"
      ],
      "text/plain": [
       "   PassengerId  Survived  Pclass  \\\n",
       "0            1         0       3   \n",
       "1            2         1       1   \n",
       "2            3         1       3   \n",
       "3            4         1       1   \n",
       "4            5         0       3   \n",
       "\n",
       "                                                Name     Sex   Age  SibSp  \\\n",
       "0                            Braund, Mr. Owen Harris    male  22.0      1   \n",
       "1  Cumings, Mrs. John Bradley (Florence Briggs Th...  female  38.0      1   \n",
       "2                             Heikkinen, Miss. Laina  female  26.0      0   \n",
       "3       Futrelle, Mrs. Jacques Heath (Lily May Peel)  female  35.0      1   \n",
       "4                           Allen, Mr. William Henry    male  35.0      0   \n",
       "\n",
       "   Parch            Ticket     Fare Cabin Embarked  \n",
       "0      0         A/5 21171   7.2500   NaN        S  \n",
       "1      0          PC 17599  71.2833   C85        C  \n",
       "2      0  STON/O2. 3101282   7.9250   NaN        S  \n",
       "3      0            113803  53.1000  C123        S  \n",
       "4      0            373450   8.0500   NaN        S  "
      ]
     },
     "execution_count": 10,
     "metadata": {},
     "output_type": "execute_result"
    }
   ],
   "source": [
    "df = pd.read_csv(\"titanic_train.csv\")\n",
    "df.head()"
   ]
  },
  {
   "cell_type": "markdown",
   "metadata": {
    "cell_id": "e33269187d1a4e5e8b1912095f098224",
    "deepnote_cell_type": "markdown",
    "tags": []
   },
   "source": [
    "One thing that is really cool with this dataframe is that you can filter and sort columns in the notebook itself! Super handy if you want to explore your data at a base level before writing your code. There is also a widget you can use to create visualizations for columns within your dataset. We'll dive into pandas deeper in Workshop 2"
   ]
  },
  {
   "cell_type": "markdown",
   "metadata": {
    "cell_id": "949e5255976d45fe8074e50a0a3b5f6e",
    "deepnote_cell_type": "markdown",
    "id": "qyEK4gX9y0PZ"
   },
   "source": [
    "# Introduction to the Python Programming Language\n",
    "\n",
    "### **Why do we use Python?**\n",
    "- Easy to read and understand\n",
    "- Lots of libraries for Data Science\n",
    "- One of the most popular languages for Data Science (alongside R)\n"
   ]
  },
  {
   "cell_type": "markdown",
   "metadata": {
    "cell_id": "794037e44b4843d2b93a0f9db2418d98",
    "deepnote_cell_type": "markdown",
    "id": "j66yp2mDEetL"
   },
   "source": [
    "# Primer on Variables, If Statements, and Loops"
   ]
  },
  {
   "cell_type": "code",
   "execution_count": 11,
   "metadata": {
    "cell_id": "b33363204a8c4a2485674d545d709d6c",
    "colab": {
     "base_uri": "https://localhost:8080/"
    },
    "deepnote_cell_type": "code",
    "deepnote_to_be_reexecuted": false,
    "execution_millis": 13,
    "execution_start": 1693598120210,
    "id": "HUrFLyLOEkfG",
    "outputId": "ea44156b-0967-4f91-fdca-c3166d37a5c6",
    "source_hash": null
   },
   "outputs": [
    {
     "name": "stdout",
     "output_type": "stream",
     "text": [
      "30\n",
      "Data Science is fun\n"
     ]
    }
   ],
   "source": [
    "#You can create a variable by using an \"=\" sign. The value on the right gets \n",
    "#assigned to the variable name of the left.\n",
    "\n",
    "a = 10\n",
    "b = 20\n",
    "print(a + b)\n",
    "\n",
    "c = \"Data Science \"\n",
    "d = \"is fun\"\n",
    "print(c + d)"
   ]
  },
  {
   "cell_type": "code",
   "execution_count": 8,
   "metadata": {
    "cell_id": "ac7ae40fb68c462395a49d740b57333c",
    "deepnote_cell_type": "code",
    "deepnote_to_be_reexecuted": false,
    "execution_millis": 56,
    "execution_start": 1693598120211,
    "id": "YLfeSKtbErVH",
    "source_hash": null
   },
   "outputs": [
    {
     "name": "stdout",
     "output_type": "stream",
     "text": [
      "False!\n"
     ]
    }
   ],
   "source": [
    "#If statements allow you to run certain lines of code based on certain conditions.\n",
    "\n",
    "if (c + d) == \"Data Science is fun!\":\n",
    "  print(\"Correct!\")\n",
    "else: # this section is only triggered if (c + d) doesn't equal \"Data Science is fun!\"\n",
    "  print(\"False!\")"
   ]
  },
  {
   "cell_type": "code",
   "execution_count": 12,
   "metadata": {
    "cell_id": "291c7304354d4eb193bb45e75a88ade3",
    "colab": {
     "base_uri": "https://localhost:8080/",
     "height": 201
    },
    "deepnote_cell_type": "code",
    "deepnote_to_be_reexecuted": false,
    "execution_millis": 17,
    "execution_start": 1693598120213,
    "id": "epAzjTqYE0CY",
    "outputId": "8398392e-75e8-4147-e384-d8c9c93d93fd",
    "source_hash": null
   },
   "outputs": [
    {
     "name": "stdout",
     "output_type": "stream",
     "text": [
      "DSGT\n",
      "DSGT\n",
      "DSGT\n",
      "DSGT\n",
      "DSGT\n",
      "DSGT\n",
      "DSGT\n",
      "DSGT\n",
      "DSGT\n",
      "DSGT\n"
     ]
    }
   ],
   "source": [
    "#For loops are used to perform an action a fixed amount of times, or to go through each element in a list or string\n",
    "for index in range(0, a):\n",
    "  print('DSGT')"
   ]
  },
  {
   "cell_type": "code",
   "execution_count": 10,
   "metadata": {
    "cell_id": "fcaabe277c7545de88e879dcd1e87007",
    "colab": {
     "base_uri": "https://localhost:8080/"
    },
    "deepnote_cell_type": "code",
    "deepnote_to_be_reexecuted": false,
    "execution_millis": 48,
    "execution_start": 1693598120220,
    "id": "bJZTcRwIM3zw",
    "outputId": "4fb5db5a-dec2-4ab7-aea2-bd91613c5006",
    "source_hash": null
   },
   "outputs": [
    {
     "name": "stdout",
     "output_type": "stream",
     "text": [
      "D\n",
      "a\n",
      "t\n",
      "a\n",
      " \n",
      "S\n",
      "c\n",
      "i\n",
      "e\n",
      "n\n",
      "c\n",
      "e\n",
      " \n",
      "i\n",
      "s\n",
      " \n",
      "f\n",
      "u\n",
      "n\n"
     ]
    }
   ],
   "source": [
    "#In this block of code, c+d is treated as a list of letters, with letter serving \n",
    "#as each individual character as the for loop iterates through the string.\n",
    "for letter in c + d:\n",
    "  print(letter)"
   ]
  },
  {
   "cell_type": "markdown",
   "metadata": {
    "cell_id": "31c8783adaf147528b4c54b9c1dbd77e",
    "deepnote_cell_type": "markdown",
    "id": "bEFTGIpgE5t9"
   },
   "source": [
    "# Lists, Tuples, and Dictionaries"
   ]
  },
  {
   "cell_type": "code",
   "execution_count": 11,
   "metadata": {
    "cell_id": "020dcb206ef245dfa6757551c7229240",
    "colab": {
     "base_uri": "https://localhost:8080/"
    },
    "deepnote_cell_type": "code",
    "deepnote_to_be_reexecuted": false,
    "execution_millis": 36,
    "execution_start": 1693598120269,
    "id": "TwecS6ZuE8BC",
    "outputId": "b8b6a75f-802f-4b93-ad6a-47f62cecf547",
    "source_hash": null
   },
   "outputs": [
    {
     "name": "stdout",
     "output_type": "stream",
     "text": [
      "5\n"
     ]
    }
   ],
   "source": [
    "# Let's start by creating a list (otherwise known as an array)\n",
    "c = [\"a\", 2, \"c\"] # a - 0, 2 - 1, c - 2\n",
    "\n",
    "# We can retrieve an element by accessing its position in the array. \n",
    "# Position counting starts at 0 in Python.\n",
    "c[0] = 5\n",
    "print(c[0])"
   ]
  },
  {
   "cell_type": "code",
   "execution_count": 13,
   "metadata": {
    "cell_id": "2b396a5092ca4be4907ae5d6fd48d12f",
    "colab": {
     "base_uri": "https://localhost:8080/",
     "height": 198
    },
    "deepnote_cell_type": "code",
    "deepnote_to_be_reexecuted": false,
    "execution_millis": 619,
    "execution_start": 1693598120269,
    "id": "wIob7QaJBztr",
    "outputId": "5463528d-74d0-4496-bfe2-9c855123a76b",
    "source_hash": null
   },
   "outputs": [
    {
     "ename": "TypeError",
     "evalue": "'tuple' object does not support item assignment",
     "output_type": "error",
     "traceback": [
      "\u001b[0;31m---------------------------------------------------------------------------\u001b[0m",
      "\u001b[0;31mTypeError\u001b[0m                                 Traceback (most recent call last)",
      "Cell \u001b[0;32mIn[13], line 3\u001b[0m\n\u001b[1;32m      1\u001b[0m \u001b[38;5;66;03m# Tuples are lists but they don't like change\u001b[39;00m\n\u001b[1;32m      2\u001b[0m tup \u001b[38;5;241m=\u001b[39m (\u001b[38;5;124m\"\u001b[39m\u001b[38;5;124mcar\u001b[39m\u001b[38;5;124m\"\u001b[39m, \u001b[38;5;28;01mTrue\u001b[39;00m, \u001b[38;5;241m4\u001b[39m)\n\u001b[0;32m----> 3\u001b[0m \u001b[43mtup\u001b[49m\u001b[43m[\u001b[49m\u001b[38;5;241;43m2\u001b[39;49m\u001b[43m]\u001b[49m \u001b[38;5;241m=\u001b[39m \u001b[38;5;241m5\u001b[39m \u001b[38;5;66;03m#would cause an error\u001b[39;00m\n",
      "\u001b[0;31mTypeError\u001b[0m: 'tuple' object does not support item assignment"
     ]
    }
   ],
   "source": [
    "# Tuples are lists but they don't like change\n",
    "tup = (\"car\", True, 4)\n",
    "tup[2] = 5 #would cause an error"
   ]
  },
  {
   "cell_type": "code",
   "execution_count": 14,
   "metadata": {
    "cell_id": "26caa265d24c444997d1c5e9f5970494",
    "deepnote_cell_type": "code",
    "deepnote_to_be_reexecuted": true,
    "execution_millis": 2,
    "execution_start": 1663964983295,
    "id": "tj4spNEJB21Q",
    "source_hash": null
   },
   "outputs": [
    {
     "name": "stdout",
     "output_type": "stream",
     "text": [
      "Fun\n",
      "{'Data Science': 'Fun', 'GPA': 4, 'Best Numbers': [99, 100], 'Birds are Real': False}\n"
     ]
    }
   ],
   "source": [
    "# Dictionaries are unordered key, value pairs\n",
    "d = {\"Data Science\": \"Fun\", \"GPA\": 4, \"Best Numbers\": [3, 4]}\n",
    "\n",
    "# We can get values by looking up their corresponding key\n",
    "print(d[\"Data Science\"])\n",
    "\n",
    "# We can also reassign the value of keys\n",
    "d[\"Best Numbers\"] = [99, 100]\n",
    "\n",
    "# And add keys\n",
    "d[\"Birds are Real\"] = False\n",
    "\n",
    "\n",
    "#We can also print out all the key value pairs\n",
    "\n",
    "print(d)"
   ]
  },
  {
   "cell_type": "markdown",
   "metadata": {
    "cell_id": "af5aa500b9fc4099890e107d408b448f",
    "deepnote_cell_type": "markdown",
    "id": "NnelD93RFW1f"
   },
   "source": [
    "## Functions"
   ]
  },
  {
   "cell_type": "code",
   "execution_count": 15,
   "metadata": {
    "cell_id": "fc88f3de9ae84d0b8e7d0d1cabdce7e6",
    "deepnote_cell_type": "code",
    "deepnote_to_be_reexecuted": true,
    "execution_millis": 10,
    "execution_start": 1663965138704,
    "id": "NG5OzAFoFbY5",
    "owner_user_id": "62793d04-d528-4115-8ac3-ef1aa25c3727",
    "source_hash": null
   },
   "outputs": [
    {
     "name": "stdout",
     "output_type": "stream",
     "text": [
      "6\n",
      "11\n",
      "18\n"
     ]
    }
   ],
   "source": [
    "# Functions help improve code reusability and readability. \n",
    "# You can define a series of steps and then use them multiple times.\n",
    "\n",
    "def add(a, b):\n",
    "  sum = a + b\n",
    "  return sum\n",
    "\n",
    "print(add(2, 4))\n",
    "print(add(4, 7))\n",
    "print(add(3 * 4, 6))"
   ]
  },
  {
   "cell_type": "markdown",
   "metadata": {
    "cell_id": "4d1687cc6a8b48c4a4ef2a0c936e1d64",
    "deepnote_cell_type": "markdown",
    "id": "MxsbZHMmQpUI"
   },
   "source": [
    "**Note**: A lot of Data Science is dependent on having a solid foundation in Python. If you aren't currently familiar, we *highly recommend* spending some time learning (tutorials available in resources). Otherwise, using the libraries and parsing data in a foreign language may make things rather difficult."
   ]
  },
  {
   "cell_type": "markdown",
   "metadata": {
    "cell_id": "60b81503db16416baff461beef823068",
    "deepnote_cell_type": "markdown",
    "id": "-CSKEPPcxF0W"
   },
   "source": [
    "## **Introduction to the Version Control and GitHub**\n",
    "What is Version Control?\n",
    "*  Tracks changes in computer files\n",
    "*  Coordinates work between multiple developers\n",
    "*  Allows you to revert back at any time\n",
    "*  Can have local & remote repositories\n",
    "\n",
    "\n",
    " What is GitHub?\n",
    " *  cloud-based Git repository hosting service\n",
    "*   Allows users to use Git for version control \n",
    "*   **Git** is a command line tool\n",
    "*   **GitHub** is a web-based graphical user interface\n",
    "\n",
    "# Set Up\n",
    "\n",
    "If you do not already have Git on your computer, use the following link to install it:\n",
    "\n",
    "[Install Git](https://git-scm.com/downloads)\n",
    "\n",
    "**Setting Up a Repo**\n",
    "\n",
    "\n",
    "*  `git config`\n",
    "\n",
    "  *   `git config --global user.name \"YOUR_NAME\"`\n",
    "\n",
    "  *   `git config --global user.email \"YOUR_EMAIL\"`\n",
    "\n",
    "\n",
    "**Create a Repo**\n",
    "\n",
    "*   `git init`\n",
    "\n",
    "*   `git clone [URL]`\n",
    "\n",
    "** You can use\n",
    "https://github.gatech.edu with\n",
    "YOUR_NAME = your username that you log into GitHub with (GT Username for https://github.gatech.edu)\n",
    "YOUR_EMAIL = your email that you log into GitHub with (GT Email for https://github.gatech.edu)\n",
    "**"
   ]
  },
  {
   "cell_type": "markdown",
   "metadata": {
    "cell_id": "e821370630994c56be4be2a04b1508d6",
    "deepnote_cell_type": "markdown",
    "id": "dlQFmU3e5--N"
   },
   "source": [
    "**GitHub GUI**\n",
    "\n",
    "One person in each team will create a \"New Repository\" on GitHub. Once they add team members to the repo, anyone can clone the project to their local device using \"$git clone [URL]\" ."
   ]
  },
  {
   "cell_type": "markdown",
   "metadata": {
    "cell_id": "ac44be3420ce4a7ab948dc40b4db2b12",
    "deepnote_cell_type": "markdown",
    "id": "USJkBbHY9oct"
   },
   "source": [
    "# Steps for Using Git\n",
    "\n",
    "\n",
    "1.   Check that you are up to date with Remote Repo -- `git fetch`\n",
    "  *   check status -- `git status` \n",
    "  *   if not up to date, pull down changes -- `git pull`\n",
    "\n",
    "2.   Make changes to code\n",
    "3.   Add all changes to the \"stage\" -- `git add .`\n",
    "4.   Commit any changes you want to make -- `git commit -m [message]`\n",
    "5.   Update the Remote Repo with your changes -- `git push`\n",
    "\n",
    "\n",
    "**Summary**\n",
    "\n",
    "3 stage process for making commits (after you have made a change):\n",
    "\n",
    "\n",
    "1.   ADD\n",
    "2.   COMMIT\n",
    "3.   PUSH\n"
   ]
  },
  {
   "cell_type": "markdown",
   "metadata": {
    "cell_id": "b76172a6ccd14ce0b2bbc15433dcc3ab",
    "deepnote_cell_type": "markdown",
    "id": "kNUVptWJ_DqF"
   },
   "source": [
    "# Branching\n",
    "\n",
    "By default when you create your project you will be on Master - however, it is good practice to have different branches for different features, people etc.\n",
    "\n",
    "* To see all local branches --  `git branch` \n",
    "\n",
    "* To create a branch -- `git branch [BRANCHNAME]`\n",
    "\n",
    "* To move to a branch -- `git checkout [BRANCHNAME]`\n",
    "\n",
    "* To create a new branch **and** move to it -- `git checkout -b [BRANCHNAME]`"
   ]
  },
  {
   "cell_type": "markdown",
   "metadata": {
    "cell_id": "95062072013f4ff595abdd89ead18c8a",
    "deepnote_cell_type": "markdown",
    "id": "ENZ-hygvAZsW"
   },
   "source": [
    "# Merging\n",
    "Merging allows you to carry the changes in one branch over to another branch. Github is your best friend for this - you can open and resolve merge conflicts through the GUI very easily. However, it is also good to know how to do it manually, in the event that you are unable to resolve conflicts. \n",
    "\n",
    "**Manual Steps**\n",
    "1.   `git checkout [NAME_OF_BRANCH_TO_MERGE_INTO]`\n",
    "\n",
    "2.   `git merge [NAME_OF_BRANCH_TO_BRING_IN]`\n",
    "\n"
   ]
  },
  {
   "cell_type": "markdown",
   "metadata": {
    "cell_id": "012418159a8b445b9662ce8df8a289cd",
    "deepnote_cell_type": "markdown",
    "tags": []
   },
   "source": [
    "**Note:** Github provides a benefit for university students called the GitHub Student Developer Pack. As long as you have your university id (eg: BuzzCard), you can simply visit this link and use your personal GitHub account to apply for the Student Developer Pack. See this [link](https://docs.github.com/en/education/explore-the-benefits-of-teaching-and-learning-with-github-education/github-global-campus-for-students/apply-to-github-global-campus-as-a-student)"
   ]
  },
  {
   "cell_type": "markdown",
   "metadata": {
    "cell_id": "e70bf70bc77148e8b3efbd8d597b0e43",
    "deepnote_cell_type": "markdown",
    "id": "6dXVVwOP46a3"
   },
   "source": [
    "# Helpful Resources\n",
    "\n",
    "#### [Colab Overview](https://colab.research.google.com/notebooks/basic_features_overview.ipynb)\n",
    "#### [Kaggle Courses](https://www.kaggle.com/learn/overview)\n",
    "#### [Kaggle](https://www.kaggle.com/)\n",
    "#### [Intro Python](https://pythonprogramming.net/introduction-learn-python-3-tutorials/)\n",
    "#### [Pandas Documentation](https://pandas.pydata.org/docs/)\n",
    "#### [Pandas Cheatsheet](https://pandas.pydata.org/Pandas_Cheat_Sheet.pdf)\n",
    "#### [Github Tutorial](https://guides.github.com/activities/hello-world/)\n",
    "#### [GitKraken](https://www.gitkraken.com/) - Recommended to get the Github Student Developer Pack with your personal Github Account to access some cool tooling in GitKraken"
   ]
  }
 ],
 "metadata": {
  "deepnote_execution_queue": [],
  "deepnote_notebook_id": "147fcf6afb584d7ca74f20272ba556f0",
  "deepnote_persisted_session": {
   "createdAt": "2023-09-01T20:16:27.818Z"
  },
  "kernelspec": {
   "display_name": "Python 3 (ipykernel)",
   "language": "python",
   "name": "python3"
  },
  "language_info": {
   "codemirror_mode": {
    "name": "ipython",
    "version": 3
   },
   "file_extension": ".py",
   "mimetype": "text/x-python",
   "name": "python",
   "nbconvert_exporter": "python",
   "pygments_lexer": "ipython3",
   "version": "3.12.4"
  }
 },
 "nbformat": 4,
 "nbformat_minor": 4
}
