{
 "cells": [
  {
   "cell_type": "markdown",
   "metadata": {
    "cell_id": "e180006135294a9d9f9ba9b89cbc5a35",
    "deepnote_cell_height": 406.59375,
    "deepnote_cell_type": "markdown",
    "id": "UNWessW4qk2H"
   },
   "source": [
    "<img src=\"https://raw.githubusercontent.com/hwhitt/DSGT-Workshop-Content/master/images/logo.png\" width=\"100\"/>\n",
    "\n",
    "# Workshop 5: Introduction to Deep Learning\n",
    "\n",
    "## Learning Objectives\n",
    "- create a fully-connected neural network architecture\n",
    "- apply neural nets to two classic ML problems: regression and classification\n",
    "- train neural nets with stochastic gradient descent\n",
    "- improve performance with dropout, batch normalization, and other techniques"
   ]
  },
  {
   "cell_type": "markdown",
   "metadata": {
    "cell_id": "d0ff33e0926f48aea83e3f76df78ccc2",
    "deepnote_cell_height": 315.59375,
    "deepnote_cell_type": "markdown",
    "id": "WSoHiO701ewd",
    "owner_user_id": "62793d04-d528-4115-8ac3-ef1aa25c3727"
   },
   "source": [
    "## What is Deep Learning\n",
    "\n",
    "Some of the most impressive advances in artificial intelligence in recent years have been in the field of deep learning. Natural language translation, image recognition, and game playing are all tasks where deep learning models have neared or even exceeded human-level performance.\n",
    "\n",
    "So what is deep learning? **Deep learning** is an approach to machine learning characterized by deep stacks of computations. This depth of computation is what has enabled deep learning models to disentangle the kinds of complex and hierarchical patterns found in the most challenging real-world datasets.\n",
    "\n",
    "Through their power and scalability **neural networks** have become the defining model of deep learning. Neural networks are composed of neurons, where each neuron individually performs only a simple computation. The power of a neural network comes instead from the complexity of the connections these neurons can form."
   ]
  },
  {
   "cell_type": "markdown",
   "metadata": {
    "cell_id": "f536a6c36a764f62a4702e65815e6e1f",
    "deepnote_cell_height": 562.796875,
    "deepnote_cell_type": "markdown",
    "id": "Bk5gV78Y1utI"
   },
   "source": [
    "## The Linear Unit\n",
    "\n",
    "So let's begin with the fundamental component of a neural network: the individual neuron. As a diagram, a **neuron** (or **unit**) with one input looks like:\n",
    "\n",
    "<figure style=\"padding: 1em;\">\n",
    "<img src=\"https://i.imgur.com/mfOlDR6.png\" width=\"250\" alt=\"Diagram of a linear unit.\">\n",
    "<figcaption style=\"textalign: center; font-style: italic\"><center>The Linear Unit: $y = w x + b$\n",
    "</center></figcaption>\n",
    "</figure>\n",
    "\n",
    "The input is `x`. Its connection to the neuron has a **weight** which is `w`. Whenever a value flows through a connection, you multiply the value by the connection's weight. For the input `x`, what reaches the neuron is `w * x`. A neural network \"learns\" by modifying its weights.\n",
    "\n",
    "The `b` is a special kind of weight we call the **bias**. The bias doesn't have any input data associated with it; instead, we put a `1` in the diagram so that the value that reaches the neuron is just `b` (since `1 * b = b`). The bias enables the neuron to modify the output independently of its inputs.\n",
    "\n",
    "The `y` is the value the neuron ultimately outputs. To get the output, the neuron sums up all the values it receives through its connections. This neuron's activation is `y = w * x + b`, or as a formula 𝑦 = 𝑤𝑥 + 𝑏."
   ]
  },
  {
   "cell_type": "markdown",
   "metadata": {
    "cell_id": "600bf4e4e13a4509878984a75d592e26",
    "deepnote_cell_height": 144.796875,
    "deepnote_cell_type": "markdown",
    "id": "RVo1ukMkjg3n"
   },
   "source": [
    "## Linear Units in Keras\n",
    "\n",
    "The easiest way to create a model in Keras is through `keras.Sequential`, which creates a neural network as a stack of *layers*.\n",
    "\n",
    "We could define a simple linear model accepting three input features and producing a single output like so:"
   ]
  },
  {
   "cell_type": "code",
   "execution_count": null,
   "metadata": {
    "cell_id": "47d197df7943467684f89785c5dbdfea",
    "deepnote_cell_type": "code",
    "deepnote_to_be_reexecuted": false,
    "execution_millis": 2776,
    "execution_start": 1698440707702,
    "id": "qtCJ0eGKchvI",
    "source_hash": null
   },
   "outputs": [
    {
     "name": "stderr",
     "output_type": "stream",
     "text": [
      "2023-10-27 21:05:07.670359: I tensorflow/core/platform/cpu_feature_guard.cc:193] This TensorFlow binary is optimized with oneAPI Deep Neural Network Library (oneDNN) to use the following CPU instructions in performance-critical operations:  AVX2 FMA\n",
      "To enable them in other operations, rebuild TensorFlow with the appropriate compiler flags.\n",
      "2023-10-27 21:05:07.860105: W tensorflow/stream_executor/platform/default/dso_loader.cc:64] Could not load dynamic library 'libcudart.so.11.0'; dlerror: libcudart.so.11.0: cannot open shared object file: No such file or directory\n",
      "2023-10-27 21:05:07.860133: I tensorflow/stream_executor/cuda/cudart_stub.cc:29] Ignore above cudart dlerror if you do not have a GPU set up on your machine.\n",
      "2023-10-27 21:05:07.882877: E tensorflow/stream_executor/cuda/cuda_blas.cc:2981] Unable to register cuBLAS factory: Attempting to register factory for plugin cuBLAS when one has already been registered\n",
      "2023-10-27 21:05:08.765332: W tensorflow/stream_executor/platform/default/dso_loader.cc:64] Could not load dynamic library 'libnvinfer.so.7'; dlerror: libnvinfer.so.7: cannot open shared object file: No such file or directory\n",
      "2023-10-27 21:05:08.765641: W tensorflow/stream_executor/platform/default/dso_loader.cc:64] Could not load dynamic library 'libnvinfer_plugin.so.7'; dlerror: libnvinfer_plugin.so.7: cannot open shared object file: No such file or directory\n",
      "2023-10-27 21:05:08.765661: W tensorflow/compiler/tf2tensorrt/utils/py_utils.cc:38] TF-TRT Warning: Cannot dlopen some TensorRT libraries. If you would like to use Nvidia GPU with TensorRT, please make sure the missing libraries mentioned above are installed properly.\n",
      "2023-10-27 21:05:10.254708: W tensorflow/stream_executor/platform/default/dso_loader.cc:64] Could not load dynamic library 'libcuda.so.1'; dlerror: libcuda.so.1: cannot open shared object file: No such file or directory\n",
      "2023-10-27 21:05:10.254748: W tensorflow/stream_executor/cuda/cuda_driver.cc:263] failed call to cuInit: UNKNOWN ERROR (303)\n",
      "2023-10-27 21:05:10.254769: I tensorflow/stream_executor/cuda/cuda_diagnostics.cc:156] kernel driver does not appear to be running on this host (p-8488eaf2-ff92-4a43-b350-fdb8e01ce644): /proc/driver/nvidia/version does not exist\n",
      "2023-10-27 21:05:10.255015: I tensorflow/core/platform/cpu_feature_guard.cc:193] This TensorFlow binary is optimized with oneAPI Deep Neural Network Library (oneDNN) to use the following CPU instructions in performance-critical operations:  AVX2 FMA\n",
      "To enable them in other operations, rebuild TensorFlow with the appropriate compiler flags.\n"
     ]
    }
   ],
   "source": [
    "from tensorflow import keras\n",
    "from tensorflow.keras import layers\n",
    "\n",
    "# Create a network with 1 linear unit\n",
    "model = keras.Sequential([\n",
    "    layers.Dense(units=1, input_shape=[3])\n",
    "])"
   ]
  },
  {
   "cell_type": "markdown",
   "metadata": {
    "cell_id": "116abd693325476cab636a98406ef0da",
    "deepnote_cell_height": 533.5,
    "deepnote_cell_type": "markdown",
    "id": "aUph8xIAsC1l"
   },
   "source": [
    "## Layers\n",
    "\n",
    "Neural networks typically organize their neurons into layers. When we collect together linear units having a common set of inputs we get a dense layer.\n",
    "\n",
    "<figure style=\"padding: 1em;\">\n",
    "<img src=\"https://i.imgur.com/2MA4iMV.png\" width=\"300\" alt=\"A stack of three circles in an input layer connected to two circles in a dense layer.\">\n",
    "<figcaption style=\"textalign: center; font-style: italic\"><center>A dense layer of two linear units receiving two inputs and a bias.\n",
    "</center></figcaption>\n",
    "</figure>\n",
    "\n",
    "You could think of each layer in a neural network as performing some kind of relatively simple transformation. Through a deep stack of layers, a neural network can transform its inputs in more and more complex ways. In a well-trained neural network, each layer is a transformation getting us a little bit closer to a solution."
   ]
  },
  {
   "cell_type": "markdown",
   "metadata": {
    "cell_id": "15a24476ec534946866b74400055a0ce",
    "deepnote_cell_height": 1721.296875,
    "deepnote_cell_type": "markdown",
    "id": "VNRzH5eEsmc7"
   },
   "source": [
    "## The Activation Function\n",
    "\n",
    "It turns out, however, that two dense layers with nothing in between are no better than a single dense layer by itself. Dense layers by themselves can never move us out of the world of lines and planes. What we need is something *nonlinear*. What we need are activation functions.\n",
    "\n",
    "<figure style=\"padding: 1em;\">\n",
    "<img src=\"https://i.imgur.com/OLSUEYT.png\" width=\"400\" alt=\" \">\n",
    "<figcaption style=\"textalign: center; font-style: italic\"><center>Without activation functions, neural networks can only learn linear relationships. In order to fit curves, we'll need to use activation functions. \n",
    "</center></figcaption>\n",
    "</figure>\n",
    "\n",
    "An **activation function** is simply some function we apply to each of a layer's outputs (its *activations*). The most common is the *rectifier* function $max(0, x)$.\n",
    "\n",
    "<figure style=\"padding: 1em;\">\n",
    "<img src=\"https://i.imgur.com/aeIyAlF.png\" width=\"400\" alt=\"A graph of the rectifier function. The line y=x when x>0 and y=0 when x<0, making a 'hinge' shape like '_/'.\">\n",
    "<figcaption style=\"textalign: center; font-style: italic\"><center>\n",
    "</center></figcaption>\n",
    "</figure>\n",
    "\n",
    "The rectifier function has a graph that's a line with the negative part \"rectified\" to zero. Applying the function to the outputs of a neuron will put a *bend* in the data, moving us away from simple lines.\n",
    "\n",
    "When we attach the rectifier to a linear unit, we get a **rectified linear unit** or **ReLU**. (For this reason, it's common to call the rectifier function the \"ReLU function\".)  Applying a ReLU activation to a linear unit means the output becomes `max(0, w * x + b)`, which we might draw in a diagram like:\n",
    "\n",
    "<figure style=\"padding: 1em;\">\n",
    "<img src=\"https://i.imgur.com/eFry7Yu.png\" width=\"250\" alt=\"Diagram of a single ReLU. Like a linear unit, but instead of a '+' symbol we now have a hinge '_/'. \">\n",
    "<figcaption style=\"textalign: center; font-style: italic\"><center>A rectified linear unit.\n",
    "</center></figcaption>\n",
    "</figure>\n",
    "\n",
    "The usual way of attaching an activation function to a `Dense` layer is to include it as part of the definition with the `activation` argument. Sometimes though you'll want to put some other layer between the `Dense` layer and its activation function. (We'll see an example of this in Lesson 5 with *batch normalization*.) In this case, we can define the activation in its own `Activation` layer, like so:\n",
    "\n",
    "```\n",
    "layers.Dense(units=8),\n",
    "layers.Activation('relu')\n",
    "```\n",
    "\n",
    "This is completely equivalent to the ordinary way: `layers.Dense(units=8, activation='relu')`.\n",
    "\n",
    "### Alternatives to ReLU\n",
    "\n",
    "There is a whole family of variants of the `'relu'` activation -- `'elu'`, `'selu'`, and `'swish'`, among others -- all of which you can use in Keras. Sometimes one activation will perform better than another on a given task, so you could consider experimenting with activations as you develop a model. The ReLU activation tends to do well on most problems, so it's a good one to start with.\n",
    "\n",
    "Let's look at the graphs of some of these. Change the activation from `'relu'` to one of the others named above. Then run the cell to see the graph. (Check out the [documentation](https://www.tensorflow.org/api_docs/python/tf/keras/activations) for more ideas.)"
   ]
  },
  {
   "cell_type": "markdown",
   "metadata": {
    "cell_id": "3a9b551d4c354619a7a5cd3ad85578b9",
    "deepnote_cell_height": 765.84375,
    "deepnote_cell_type": "markdown",
    "id": "29WCJQAos6nS"
   },
   "source": [
    "## Stacking Dense Layers\n",
    "\n",
    "Now that we have some nonlinearity, let's see how we can stack layers to get complex data transformations.\n",
    "\n",
    "<figure style=\"padding: 1em;\">\n",
    "<img src=\"https://i.imgur.com/Y5iwFQZ.png\" width=\"450\" alt=\"An input layer, two hidden layers, and a final linear layer.\">\n",
    "<figcaption style=\"textalign: center; font-style: italic\"><center>A stack of dense layers makes a \"fully-connected\" network.\n",
    "</center></figcaption>\n",
    "</figure>\n",
    "\n",
    "The layers before the output layer are sometimes called **hidden** since we never see their outputs directly.\n",
    "\n",
    "Now, notice that the final (output) layer is a linear unit (meaning, no activation function). That makes this network appropriate to a regression task, where we are trying to predict some arbitrary numeric value. Other tasks (like classification) might require an activation function on the output.\n",
    "\n",
    "### Building Sequential Models ##\n",
    "\n",
    "The `Sequential` model we've been using will connect together a list of layers in order from first to last: the first layer gets the input, the last layer produces the output. This creates the model in the figure above:"
   ]
  },
  {
   "cell_type": "code",
   "execution_count": null,
   "metadata": {
    "cell_id": "bbad1ae76ddb4f71913eb43103a1ce18",
    "deepnote_cell_type": "code",
    "deepnote_to_be_reexecuted": false,
    "execution_millis": 25,
    "execution_start": 1698440710309,
    "id": "UbqnO-GGtGzo",
    "source_hash": null
   },
   "outputs": [],
   "source": [
    "from tensorflow import keras\n",
    "from tensorflow.keras import layers\n",
    "\n",
    "model = keras.Sequential([\n",
    "    # the hidden ReLU layers\n",
    "    layers.Dense(units=4, activation='relu', input_shape=[2]),\n",
    "    layers.Dense(units=3, activation='relu'),\n",
    "    # the linear output layer \n",
    "    layers.Dense(units=1),\n",
    "])"
   ]
  },
  {
   "cell_type": "markdown",
   "metadata": {
    "cell_id": "d289a6ae3aa248bd9d5c3e9c6528f4d8",
    "deepnote_cell_height": 74.796875,
    "deepnote_cell_type": "markdown",
    "id": "sAutyLfutKUX"
   },
   "source": [
    "Be sure to pass all the layers together in a list, like `[layer, layer, layer, ...]`, instead of as separate arguments. To add an activation function to a layer, just give its name in the `activation` argument."
   ]
  },
  {
   "cell_type": "code",
   "execution_count": null,
   "metadata": {
    "cell_id": "b3697eaae77b4c05a8e8b21f1bd7f4ab",
    "deepnote_cell_type": "code",
    "deepnote_to_be_reexecuted": false,
    "execution_millis": 47,
    "execution_start": 1698440710343,
    "id": "16T4rL9unqBr",
    "source_hash": null
   },
   "outputs": [],
   "source": [
    "model = keras.Sequential([\n",
    "    layers.Dense(units=512, activation='relu', input_shape=[11]),\n",
    "    layers.Dense(units=512, activation='relu'),\n",
    "    layers.Dense(units=512, activation='relu'),\n",
    "    layers.Dense(units=1)\n",
    "])"
   ]
  },
  {
   "cell_type": "markdown",
   "metadata": {
    "cell_id": "0ccf558f7ca94cc795741ff925008396",
    "deepnote_cell_height": 2307.84375,
    "deepnote_cell_type": "markdown",
    "id": "Gg3PVwlAt7_x"
   },
   "source": [
    "## The Loss Function\n",
    "\n",
    "We've seen how to design an architecture for a network, but we haven't seen how to tell a network *what* problem to solve. This is the job of the loss function.\n",
    "\n",
    "The **loss function** measures the disparity between the the target's true value and the value the model predicts. \n",
    "\n",
    "Different problems call for different loss functions. We have been looking at **regression** problems, where the task is to predict some numerical value -- calories in *80 Cereals*, rating in *Red Wine Quality*. Other regression tasks might be predicting the price of a house or the fuel efficiency of a car.\n",
    "\n",
    "A common loss function for regression problems is the **mean absolute error** or **MAE**. For each prediction `y_pred`, MAE measures the disparity from the true target `y_true` by an absolute difference `abs(y_true - y_pred)`.\n",
    "\n",
    "The total MAE loss on a dataset is the mean of all these absolute differences.\n",
    "\n",
    "<figure style=\"padding: 1em;\">\n",
    "<img src=\"https://i.imgur.com/VDcvkZN.png\" width=\"500\" alt=\"A graph depicting error bars from data points to the fitted line..\">\n",
    "<figcaption style=\"textalign: center; font-style: italic\"><center>The mean absolute error is the average length between the fitted curve and the data points.\n",
    "</center></figcaption>\n",
    "</figure>\n",
    "\n",
    "Besides MAE, other loss functions you might see for regression problems are the mean-squared error (MSE) or the Huber loss (both available in Keras).\n",
    "\n",
    "During training, the model will use the loss function as a guide for finding the correct values of its weights (lower loss is better). In other words, the loss function tells the network its objective.\n",
    "\n",
    "# The Optimizer - Stochastic Gradient Descent #\n",
    "\n",
    "We've described the problem we want the network to solve, but now we need to say *how* to solve it. This is the job of the **optimizer**. The optimizer is an algorithm that adjusts the weights to minimize the loss.\n",
    "\n",
    "Virtually all of the optimization algorithms used in deep learning belong to a family called **stochastic gradient descent**. They are iterative algorithms that train a network in steps. One **step** of training goes like this:\n",
    "1. Sample some training data and run it through the network to make predictions.\n",
    "2. Measure the loss between the predictions and the true values.\n",
    "3. Finally, adjust the weights in a direction that makes the loss smaller.\n",
    "\n",
    "Then just do this over and over until the loss is as small as you like (or until it won't decrease any further.)\n",
    "\n",
    "<figure style=\"padding: 1em;\">\n",
    "<img src=\"https://i.imgur.com/rFI1tIk.gif\" width=\"1600\" alt=\"Fitting a line batch by batch. The loss decreases and the weights approach their true values.\">\n",
    "<figcaption style=\"textalign: center; font-style: italic\"><center>Training a neural network with Stochastic Gradient Descent.\n",
    "</center></figcaption>\n",
    "</figure>\n",
    "\n",
    "Each iteration's sample of training data is called a **minibatch** (or often just \"batch\"), while a complete round of the training data is called an **epoch**. The number of epochs you train for is how many times the network will see each training example.\n",
    "\n",
    "The animation shows the linear model from Lesson 1 being trained with SGD. The pale red dots depict the entire training set, while the solid red dots are the minibatches. Every time SGD sees a new minibatch, it will shift the weights (`w` the slope and `b` the y-intercept) toward their correct values on that batch. Batch after batch, the line eventually converges to its best fit. You can see that the loss gets smaller as the weights get closer to their true values.\n",
    "\n",
    "## Learning Rate and Batch Size ##\n",
    "\n",
    "Notice that the line only makes a small shift in the direction of each batch (instead of moving all the way). The size of these shifts is determined by the **learning rate**. A smaller learning rate means the network needs to see more minibatches before its weights converge to their best values.\n",
    "\n",
    "The learning rate and the size of the minibatches are the two parameters that have the largest effect on how the SGD training proceeds. Their interaction is often subtle and the right choice for these parameters isn't always obvious. (We'll explore these effects in the exercise.)\n",
    "\n",
    "Fortunately, for most work it won't be necessary to do an extensive hyperparameter search to get satisfactory results. **Adam** is an SGD algorithm that has an adaptive learning rate that makes it suitable for most problems without any parameter tuning (it is \"self tuning\", in a sense). Adam is a great general-purpose optimizer.\n",
    "\n",
    "## Adding the Loss and Optimizer ##\n",
    "\n",
    "After defining a model, you can add a loss function and optimizer with the model's `compile` method:\n",
    "\n",
    "```\n",
    "model.compile(\n",
    "    optimizer=\"adam\",\n",
    "    loss=\"mae\",\n",
    ")\n",
    "```\n",
    "\n",
    "Notice that we are able to specify the loss and optimizer with just a string. You can also access these directly through the Keras API -- if you wanted to tune parameters, for instance -- but for us, the defaults will work fine."
   ]
  },
  {
   "cell_type": "markdown",
   "metadata": {
    "cell_id": "9bb267b963dd4a60b3e1e502a2acefda",
    "deepnote_cell_height": 133.59375,
    "deepnote_cell_type": "markdown",
    "id": "oNnMlWGDwwUX"
   },
   "source": [
    "The *Red Wine Quality* dataset consists of physiochemical measurements from about 1600 Portuguese red wines.  Also included is a quality rating for each wine from blind taste-tests. How well can we predict a wine's perceived quality from these measurements?\n",
    "\n",
    "First, run the next cell to display the first few rows of this dataset."
   ]
  },
  {
   "cell_type": "code",
   "execution_count": null,
   "metadata": {
    "cell_id": "f66fd0c2a0c54a5eb6989d7a5f7b568e",
    "colab": {
     "base_uri": "https://localhost:8080/",
     "height": 175
    },
    "deepnote_cell_type": "code",
    "deepnote_to_be_reexecuted": false,
    "executionInfo": {
     "elapsed": 258,
     "status": "ok",
     "timestamp": 1649717943699,
     "user": {
      "displayName": "Abhijat Chauhan",
      "userId": "05189893653438442553"
     },
     "user_tz": 240
    },
    "execution_millis": 380,
    "execution_start": 1698440710393,
    "id": "vEurNY20wu9L",
    "outputId": "57b89b48-3506-4c69-b58c-f89af3acfd62",
    "source_hash": null
   },
   "outputs": [
    {
     "data": {
      "application/vnd.deepnote.dataframe.v3+json": {
       "column_count": 12,
       "columns": [
        {
         "dtype": "float64",
         "name": "fixed acidity",
         "stats": {
          "histogram": [
           {
            "bin_end": 8.37,
            "bin_start": 8.1,
            "count": 1
           },
           {
            "bin_end": 8.64,
            "bin_start": 8.37,
            "count": 0
           },
           {
            "bin_end": 8.91,
            "bin_start": 8.64,
            "count": 0
           },
           {
            "bin_end": 9.18,
            "bin_start": 8.91,
            "count": 1
           },
           {
            "bin_end": 9.45,
            "bin_start": 9.18,
            "count": 0
           },
           {
            "bin_end": 9.72,
            "bin_start": 9.45,
            "count": 0
           },
           {
            "bin_end": 9.99,
            "bin_start": 9.72,
            "count": 0
           },
           {
            "bin_end": 10.260000000000002,
            "bin_start": 9.99,
            "count": 1
           },
           {
            "bin_end": 10.530000000000001,
            "bin_start": 10.260000000000002,
            "count": 0
           },
           {
            "bin_end": 10.8,
            "bin_start": 10.530000000000001,
            "count": 1
           }
          ],
          "max": "10.8",
          "min": "8.1",
          "nan_count": 0,
          "unique_count": 4
         }
        },
        {
         "dtype": "float64",
         "name": "volatile acidity",
         "stats": {
          "histogram": [
           {
            "bin_end": 0.34299999999999997,
            "bin_start": 0.29,
            "count": 1
           },
           {
            "bin_end": 0.396,
            "bin_start": 0.34299999999999997,
            "count": 0
           },
           {
            "bin_end": 0.449,
            "bin_start": 0.396,
            "count": 0
           },
           {
            "bin_end": 0.502,
            "bin_start": 0.449,
            "count": 1
           },
           {
            "bin_end": 0.5549999999999999,
            "bin_start": 0.502,
            "count": 0
           },
           {
            "bin_end": 0.6080000000000001,
            "bin_start": 0.5549999999999999,
            "count": 0
           },
           {
            "bin_end": 0.661,
            "bin_start": 0.6080000000000001,
            "count": 1
           },
           {
            "bin_end": 0.714,
            "bin_start": 0.661,
            "count": 0
           },
           {
            "bin_end": 0.767,
            "bin_start": 0.714,
            "count": 0
           },
           {
            "bin_end": 0.82,
            "bin_start": 0.767,
            "count": 1
           }
          ],
          "max": "0.82",
          "min": "0.29",
          "nan_count": 0,
          "unique_count": 4
         }
        },
        {
         "dtype": "float64",
         "name": "citric acid",
         "stats": {
          "histogram": [
           {
            "bin_end": 0.043,
            "bin_start": 0,
            "count": 1
           },
           {
            "bin_end": 0.086,
            "bin_start": 0.043,
            "count": 0
           },
           {
            "bin_end": 0.129,
            "bin_start": 0.086,
            "count": 0
           },
           {
            "bin_end": 0.172,
            "bin_start": 0.129,
            "count": 0
           },
           {
            "bin_end": 0.21499999999999997,
            "bin_start": 0.172,
            "count": 0
           },
           {
            "bin_end": 0.258,
            "bin_start": 0.21499999999999997,
            "count": 0
           },
           {
            "bin_end": 0.301,
            "bin_start": 0.258,
            "count": 0
           },
           {
            "bin_end": 0.344,
            "bin_start": 0.301,
            "count": 1
           },
           {
            "bin_end": 0.38699999999999996,
            "bin_start": 0.344,
            "count": 1
           },
           {
            "bin_end": 0.43,
            "bin_start": 0.38699999999999996,
            "count": 1
           }
          ],
          "max": "0.43",
          "min": "0.0",
          "nan_count": 0,
          "unique_count": 4
         }
        },
        {
         "dtype": "float64",
         "name": "residual sugar",
         "stats": {
          "histogram": [
           {
            "bin_end": 2.0300000000000002,
            "bin_start": 1.8,
            "count": 1
           },
           {
            "bin_end": 2.26,
            "bin_start": 2.0300000000000002,
            "count": 2
           },
           {
            "bin_end": 2.49,
            "bin_start": 2.26,
            "count": 0
           },
           {
            "bin_end": 2.7199999999999998,
            "bin_start": 2.49,
            "count": 0
           },
           {
            "bin_end": 2.95,
            "bin_start": 2.7199999999999998,
            "count": 0
           },
           {
            "bin_end": 3.1799999999999997,
            "bin_start": 2.95,
            "count": 0
           },
           {
            "bin_end": 3.41,
            "bin_start": 3.1799999999999997,
            "count": 0
           },
           {
            "bin_end": 3.6399999999999997,
            "bin_start": 3.41,
            "count": 0
           },
           {
            "bin_end": 3.87,
            "bin_start": 3.6399999999999997,
            "count": 0
           },
           {
            "bin_end": 4.1,
            "bin_start": 3.87,
            "count": 1
           }
          ],
          "max": "4.1",
          "min": "1.8",
          "nan_count": 0,
          "unique_count": 4
         }
        },
        {
         "dtype": "float64",
         "name": "chlorides",
         "stats": {
          "histogram": [
           {
            "bin_end": 0.0648,
            "bin_start": 0.053,
            "count": 2
           },
           {
            "bin_end": 0.0766,
            "bin_start": 0.0648,
            "count": 0
           },
           {
            "bin_end": 0.0884,
            "bin_start": 0.0766,
            "count": 0
           },
           {
            "bin_end": 0.10020000000000001,
            "bin_start": 0.0884,
            "count": 1
           },
           {
            "bin_end": 0.11200000000000002,
            "bin_start": 0.10020000000000001,
            "count": 0
           },
           {
            "bin_end": 0.1238,
            "bin_start": 0.11200000000000002,
            "count": 0
           },
           {
            "bin_end": 0.1356,
            "bin_start": 0.1238,
            "count": 0
           },
           {
            "bin_end": 0.1474,
            "bin_start": 0.1356,
            "count": 0
           },
           {
            "bin_end": 0.1592,
            "bin_start": 0.1474,
            "count": 0
           },
           {
            "bin_end": 0.171,
            "bin_start": 0.1592,
            "count": 1
           }
          ],
          "max": "0.171",
          "min": "0.053",
          "nan_count": 0,
          "unique_count": 4
         }
        },
        {
         "dtype": "float64",
         "name": "free sulfur dioxide",
         "stats": {
          "histogram": [
           {
            "bin_end": 7.2,
            "bin_start": 5,
            "count": 2
           },
           {
            "bin_end": 9.4,
            "bin_start": 7.2,
            "count": 0
           },
           {
            "bin_end": 11.600000000000001,
            "bin_start": 9.4,
            "count": 0
           },
           {
            "bin_end": 13.8,
            "bin_start": 11.600000000000001,
            "count": 1
           },
           {
            "bin_end": 16,
            "bin_start": 13.8,
            "count": 0
           },
           {
            "bin_end": 18.200000000000003,
            "bin_start": 16,
            "count": 0
           },
           {
            "bin_end": 20.400000000000002,
            "bin_start": 18.200000000000003,
            "count": 0
           },
           {
            "bin_end": 22.6,
            "bin_start": 20.400000000000002,
            "count": 0
           },
           {
            "bin_end": 24.8,
            "bin_start": 22.6,
            "count": 0
           },
           {
            "bin_end": 27,
            "bin_start": 24.8,
            "count": 1
           }
          ],
          "max": "27.0",
          "min": "5.0",
          "nan_count": 0,
          "unique_count": 3
         }
        },
        {
         "dtype": "float64",
         "name": "total sulfur dioxide",
         "stats": {
          "histogram": [
           {
            "bin_end": 19.2,
            "bin_start": 14,
            "count": 2
           },
           {
            "bin_end": 24.4,
            "bin_start": 19.2,
            "count": 0
           },
           {
            "bin_end": 29.6,
            "bin_start": 24.4,
            "count": 1
           },
           {
            "bin_end": 34.8,
            "bin_start": 29.6,
            "count": 0
           },
           {
            "bin_end": 40,
            "bin_start": 34.8,
            "count": 0
           },
           {
            "bin_end": 45.2,
            "bin_start": 40,
            "count": 0
           },
           {
            "bin_end": 50.4,
            "bin_start": 45.2,
            "count": 0
           },
           {
            "bin_end": 55.6,
            "bin_start": 50.4,
            "count": 0
           },
           {
            "bin_end": 60.800000000000004,
            "bin_start": 55.6,
            "count": 0
           },
           {
            "bin_end": 66,
            "bin_start": 60.800000000000004,
            "count": 1
           }
          ],
          "max": "66.0",
          "min": "14.0",
          "nan_count": 0,
          "unique_count": 3
         }
        },
        {
         "dtype": "float64",
         "name": "density",
         "stats": {
          "histogram": [
           {
            "bin_end": 0.995498,
            "bin_start": 0.99516,
            "count": 1
           },
           {
            "bin_end": 0.995836,
            "bin_start": 0.995498,
            "count": 0
           },
           {
            "bin_end": 0.996174,
            "bin_start": 0.995836,
            "count": 0
           },
           {
            "bin_end": 0.9965120000000001,
            "bin_start": 0.996174,
            "count": 0
           },
           {
            "bin_end": 0.99685,
            "bin_start": 0.9965120000000001,
            "count": 0
           },
           {
            "bin_end": 0.997188,
            "bin_start": 0.99685,
            "count": 0
           },
           {
            "bin_end": 0.997526,
            "bin_start": 0.997188,
            "count": 0
           },
           {
            "bin_end": 0.997864,
            "bin_start": 0.997526,
            "count": 0
           },
           {
            "bin_end": 0.998202,
            "bin_start": 0.997864,
            "count": 2
           },
           {
            "bin_end": 0.99854,
            "bin_start": 0.998202,
            "count": 1
           }
          ],
          "max": "0.99854",
          "min": "0.99516",
          "nan_count": 0,
          "unique_count": 3
         }
        },
        {
         "dtype": "float64",
         "name": "pH",
         "stats": {
          "histogram": [
           {
            "bin_end": 3.189,
            "bin_start": 3.17,
            "count": 2
           },
           {
            "bin_end": 3.2079999999999997,
            "bin_start": 3.189,
            "count": 0
           },
           {
            "bin_end": 3.227,
            "bin_start": 3.2079999999999997,
            "count": 0
           },
           {
            "bin_end": 3.246,
            "bin_start": 3.227,
            "count": 0
           },
           {
            "bin_end": 3.2649999999999997,
            "bin_start": 3.246,
            "count": 1
           },
           {
            "bin_end": 3.284,
            "bin_start": 3.2649999999999997,
            "count": 0
           },
           {
            "bin_end": 3.303,
            "bin_start": 3.284,
            "count": 0
           },
           {
            "bin_end": 3.322,
            "bin_start": 3.303,
            "count": 0
           },
           {
            "bin_end": 3.3409999999999997,
            "bin_start": 3.322,
            "count": 0
           },
           {
            "bin_end": 3.36,
            "bin_start": 3.3409999999999997,
            "count": 1
           }
          ],
          "max": "3.36",
          "min": "3.17",
          "nan_count": 0,
          "unique_count": 3
         }
        },
        {
         "dtype": "float64",
         "name": "sulphates",
         "stats": {
          "histogram": [
           {
            "bin_end": 0.46199999999999997,
            "bin_start": 0.42,
            "count": 1
           },
           {
            "bin_end": 0.504,
            "bin_start": 0.46199999999999997,
            "count": 0
           },
           {
            "bin_end": 0.546,
            "bin_start": 0.504,
            "count": 1
           },
           {
            "bin_end": 0.588,
            "bin_start": 0.546,
            "count": 0
           },
           {
            "bin_end": 0.6299999999999999,
            "bin_start": 0.588,
            "count": 0
           },
           {
            "bin_end": 0.6719999999999999,
            "bin_start": 0.6299999999999999,
            "count": 0
           },
           {
            "bin_end": 0.714,
            "bin_start": 0.6719999999999999,
            "count": 0
           },
           {
            "bin_end": 0.756,
            "bin_start": 0.714,
            "count": 0
           },
           {
            "bin_end": 0.7979999999999999,
            "bin_start": 0.756,
            "count": 1
           },
           {
            "bin_end": 0.84,
            "bin_start": 0.7979999999999999,
            "count": 1
           }
          ],
          "max": "0.84",
          "min": "0.42",
          "nan_count": 0,
          "unique_count": 4
         }
        },
        {
         "dtype": "float64",
         "name": "alcohol",
         "stats": {
          "histogram": [
           {
            "bin_end": 9.809999999999999,
            "bin_start": 9.6,
            "count": 1
           },
           {
            "bin_end": 10.02,
            "bin_start": 9.809999999999999,
            "count": 1
           },
           {
            "bin_end": 10.23,
            "bin_start": 10.02,
            "count": 0
           },
           {
            "bin_end": 10.44,
            "bin_start": 10.23,
            "count": 0
           },
           {
            "bin_end": 10.649999999999999,
            "bin_start": 10.44,
            "count": 0
           },
           {
            "bin_end": 10.86,
            "bin_start": 10.649999999999999,
            "count": 1
           },
           {
            "bin_end": 11.07,
            "bin_start": 10.86,
            "count": 0
           },
           {
            "bin_end": 11.28,
            "bin_start": 11.07,
            "count": 0
           },
           {
            "bin_end": 11.489999999999998,
            "bin_start": 11.28,
            "count": 0
           },
           {
            "bin_end": 11.7,
            "bin_start": 11.489999999999998,
            "count": 1
           }
          ],
          "max": "11.7",
          "min": "9.6",
          "nan_count": 0,
          "unique_count": 4
         }
        },
        {
         "dtype": "int64",
         "name": "quality",
         "stats": {
          "histogram": [
           {
            "bin_end": 5.2,
            "bin_start": 5,
            "count": 1
           },
           {
            "bin_end": 5.4,
            "bin_start": 5.2,
            "count": 0
           },
           {
            "bin_end": 5.6,
            "bin_start": 5.4,
            "count": 0
           },
           {
            "bin_end": 5.8,
            "bin_start": 5.6,
            "count": 0
           },
           {
            "bin_end": 6,
            "bin_start": 5.8,
            "count": 0
           },
           {
            "bin_end": 6.2,
            "bin_start": 6,
            "count": 2
           },
           {
            "bin_end": 6.4,
            "bin_start": 6.2,
            "count": 0
           },
           {
            "bin_end": 6.6,
            "bin_start": 6.4,
            "count": 0
           },
           {
            "bin_end": 6.8,
            "bin_start": 6.6,
            "count": 0
           },
           {
            "bin_end": 7,
            "bin_start": 6.8,
            "count": 1
           }
          ],
          "max": "7",
          "min": "5",
          "nan_count": 0,
          "unique_count": 3
         }
        },
        {
         "dtype": "int64",
         "name": "_deepnote_index_column"
        }
       ],
       "row_count": 4,
       "rows": [
        {
         "_deepnote_index_column": 1109,
         "alcohol": 10.8,
         "chlorides": 0.171,
         "citric acid": 0.43,
         "density": 0.9982,
         "fixed acidity": 10.8,
         "free sulfur dioxide": 27,
         "pH": 3.17,
         "quality": 6,
         "residual sugar": 2.1,
         "sulphates": 0.76,
         "total sulfur dioxide": 66,
         "volatile acidity": 0.47
        },
        {
         "_deepnote_index_column": 1032,
         "alcohol": 9.6,
         "chlorides": 0.095,
         "citric acid": 0,
         "density": 0.99854,
         "fixed acidity": 8.1,
         "free sulfur dioxide": 5,
         "pH": 3.36,
         "quality": 5,
         "residual sugar": 4.1,
         "sulphates": 0.53,
         "total sulfur dioxide": 14,
         "volatile acidity": 0.82
        },
        {
         "_deepnote_index_column": 1002,
         "alcohol": 11.7,
         "chlorides": 0.063,
         "citric acid": 0.33,
         "density": 0.99516,
         "fixed acidity": 9.1,
         "free sulfur dioxide": 13,
         "pH": 3.26,
         "quality": 7,
         "residual sugar": 2.05,
         "sulphates": 0.84,
         "total sulfur dioxide": 27,
         "volatile acidity": 0.29
        },
        {
         "_deepnote_index_column": 487,
         "alcohol": 10,
         "chlorides": 0.053,
         "citric acid": 0.36,
         "density": 0.9982,
         "fixed acidity": 10.2,
         "free sulfur dioxide": 5,
         "pH": 3.17,
         "quality": 6,
         "residual sugar": 1.8,
         "sulphates": 0.42,
         "total sulfur dioxide": 14,
         "volatile acidity": 0.645
        }
       ]
      },
      "text/html": [
       "<div>\n",
       "<style scoped>\n",
       "    .dataframe tbody tr th:only-of-type {\n",
       "        vertical-align: middle;\n",
       "    }\n",
       "\n",
       "    .dataframe tbody tr th {\n",
       "        vertical-align: top;\n",
       "    }\n",
       "\n",
       "    .dataframe thead th {\n",
       "        text-align: right;\n",
       "    }\n",
       "</style>\n",
       "<table border=\"1\" class=\"dataframe\">\n",
       "  <thead>\n",
       "    <tr style=\"text-align: right;\">\n",
       "      <th></th>\n",
       "      <th>fixed acidity</th>\n",
       "      <th>volatile acidity</th>\n",
       "      <th>citric acid</th>\n",
       "      <th>residual sugar</th>\n",
       "      <th>chlorides</th>\n",
       "      <th>free sulfur dioxide</th>\n",
       "      <th>total sulfur dioxide</th>\n",
       "      <th>density</th>\n",
       "      <th>pH</th>\n",
       "      <th>sulphates</th>\n",
       "      <th>alcohol</th>\n",
       "      <th>quality</th>\n",
       "    </tr>\n",
       "  </thead>\n",
       "  <tbody>\n",
       "    <tr>\n",
       "      <th>1109</th>\n",
       "      <td>10.8</td>\n",
       "      <td>0.470</td>\n",
       "      <td>0.43</td>\n",
       "      <td>2.10</td>\n",
       "      <td>0.171</td>\n",
       "      <td>27.0</td>\n",
       "      <td>66.0</td>\n",
       "      <td>0.99820</td>\n",
       "      <td>3.17</td>\n",
       "      <td>0.76</td>\n",
       "      <td>10.8</td>\n",
       "      <td>6</td>\n",
       "    </tr>\n",
       "    <tr>\n",
       "      <th>1032</th>\n",
       "      <td>8.1</td>\n",
       "      <td>0.820</td>\n",
       "      <td>0.00</td>\n",
       "      <td>4.10</td>\n",
       "      <td>0.095</td>\n",
       "      <td>5.0</td>\n",
       "      <td>14.0</td>\n",
       "      <td>0.99854</td>\n",
       "      <td>3.36</td>\n",
       "      <td>0.53</td>\n",
       "      <td>9.6</td>\n",
       "      <td>5</td>\n",
       "    </tr>\n",
       "    <tr>\n",
       "      <th>1002</th>\n",
       "      <td>9.1</td>\n",
       "      <td>0.290</td>\n",
       "      <td>0.33</td>\n",
       "      <td>2.05</td>\n",
       "      <td>0.063</td>\n",
       "      <td>13.0</td>\n",
       "      <td>27.0</td>\n",
       "      <td>0.99516</td>\n",
       "      <td>3.26</td>\n",
       "      <td>0.84</td>\n",
       "      <td>11.7</td>\n",
       "      <td>7</td>\n",
       "    </tr>\n",
       "    <tr>\n",
       "      <th>487</th>\n",
       "      <td>10.2</td>\n",
       "      <td>0.645</td>\n",
       "      <td>0.36</td>\n",
       "      <td>1.80</td>\n",
       "      <td>0.053</td>\n",
       "      <td>5.0</td>\n",
       "      <td>14.0</td>\n",
       "      <td>0.99820</td>\n",
       "      <td>3.17</td>\n",
       "      <td>0.42</td>\n",
       "      <td>10.0</td>\n",
       "      <td>6</td>\n",
       "    </tr>\n",
       "  </tbody>\n",
       "</table>\n",
       "</div>"
      ],
      "text/plain": [
       "      fixed acidity  volatile acidity  citric acid  residual sugar  chlorides  \\\n",
       "1109           10.8             0.470         0.43            2.10      0.171   \n",
       "1032            8.1             0.820         0.00            4.10      0.095   \n",
       "1002            9.1             0.290         0.33            2.05      0.063   \n",
       "487            10.2             0.645         0.36            1.80      0.053   \n",
       "\n",
       "      free sulfur dioxide  total sulfur dioxide  density    pH  sulphates  \\\n",
       "1109                 27.0                  66.0  0.99820  3.17       0.76   \n",
       "1032                  5.0                  14.0  0.99854  3.36       0.53   \n",
       "1002                 13.0                  27.0  0.99516  3.26       0.84   \n",
       "487                   5.0                  14.0  0.99820  3.17       0.42   \n",
       "\n",
       "      alcohol  quality  \n",
       "1109     10.8        6  \n",
       "1032      9.6        5  \n",
       "1002     11.7        7  \n",
       "487      10.0        6  "
      ]
     },
     "metadata": {},
     "output_type": "display_data"
    }
   ],
   "source": [
    "import pandas as pd\n",
    "from IPython.display import display\n",
    "\n",
    "red_wine = pd.read_csv('red-wine.csv')\n",
    "\n",
    "# Create training and validation splits\n",
    "df_train = red_wine.sample(frac=0.7, random_state=0)\n",
    "df_valid = red_wine.drop(df_train.index) # validation set becomes dataframe - trainingset\n",
    "display(df_train.head(4)) #displays the first few entries in the training set\n",
    "\n",
    "# Scale to [0, 1]\n",
    "max_ = df_train.max(axis=0)\n",
    "min_ = df_train.min(axis=0)\n",
    "df_train = (df_train - min_) / (max_ - min_)\n",
    "df_valid = (df_valid - min_) / (max_ - min_)\n",
    "\n",
    "# Split features and target\n",
    "X_train = df_train.drop('quality', axis=1)\n",
    "X_valid = df_valid.drop('quality', axis=1)\n",
    "y_train = df_train['quality']\n",
    "y_valid = df_valid['quality']"
   ]
  },
  {
   "cell_type": "markdown",
   "metadata": {
    "cell_id": "68914aca40c44d09b08ea5e5f5ad6384",
    "deepnote_cell_height": 88.796875,
    "deepnote_cell_type": "markdown",
    "id": "SC0GuhUyw7z7"
   },
   "source": [
    "You can get the number of rows and columns of a dataframe (or a Numpy array) with the `shape` attribute.\n",
    "\n",
    "The `input_shape` parameter for a Keras model on this task should be equivalent to the number of features."
   ]
  },
  {
   "cell_type": "code",
   "execution_count": null,
   "metadata": {
    "cell_id": "2d49e96e326a4ec6a643148f2d99218b",
    "colab": {
     "base_uri": "https://localhost:8080/"
    },
    "deepnote_cell_type": "code",
    "deepnote_to_be_reexecuted": false,
    "executionInfo": {
     "elapsed": 125,
     "status": "ok",
     "timestamp": 1637021279902,
     "user": {
      "displayName": "Joseph Cannaday",
      "photoUrl": "https://lh3.googleusercontent.com/a/default-user=s64",
      "userId": "14636187980402214607"
     },
     "user_tz": 300
    },
    "execution_millis": 36,
    "execution_start": 1698440710608,
    "id": "LAv52vOLw8c6",
    "outputId": "5a51e77d-8528-4cfd-d0e6-e4f39dd66dd6",
    "source_hash": null
   },
   "outputs": [
    {
     "data": {
      "text/plain": [
       "(1119, 11)"
      ]
     },
     "execution_count": 5,
     "metadata": {},
     "output_type": "execute_result"
    }
   ],
   "source": [
    "X_train.shape"
   ]
  },
  {
   "cell_type": "markdown",
   "metadata": {
    "cell_id": "6971e387615d4324bf2261c2bd0b8842",
    "deepnote_cell_height": 133.59375,
    "deepnote_cell_type": "markdown",
    "id": "usaaGB7ewbyp"
   },
   "source": [
    "Now we will define a linear model appropriate for this task. Pay attention to how many inputs and outputs the model should have. Eleven columns means eleven inputs.\n",
    "\n",
    "We've chosen a three-layer network with over 1500 neurons. This network should be capable of learning fairly complex relationships in the data."
   ]
  },
  {
   "cell_type": "code",
   "execution_count": null,
   "metadata": {
    "cell_id": "28bc92c67080475fb0779d78261e63d0",
    "deepnote_cell_type": "code",
    "deepnote_to_be_reexecuted": false,
    "execution_millis": 56,
    "execution_start": 1698440710612,
    "id": "bCowJzkLwc47",
    "source_hash": null
   },
   "outputs": [],
   "source": [
    "model = keras.Sequential([\n",
    "    layers.Dense(512, activation='relu', input_shape=[11]),\n",
    "    layers.Dense(512, activation='relu'),\n",
    "    layers.Dense(512, activation='relu'),\n",
    "    layers.Dense(1),\n",
    "])"
   ]
  },
  {
   "cell_type": "markdown",
   "metadata": {
    "cell_id": "f80ea5d61b734afba459afa60e7a24e4",
    "deepnote_cell_height": 52.390625,
    "deepnote_cell_type": "markdown",
    "id": "ylNwj7Z-xOvg"
   },
   "source": [
    "After defining the model, we compile in the optimizer and loss function."
   ]
  },
  {
   "cell_type": "code",
   "execution_count": null,
   "metadata": {
    "cell_id": "d91d4bf2132f40f7bd8d3d28170162c6",
    "deepnote_cell_type": "code",
    "deepnote_to_be_reexecuted": false,
    "execution_millis": 11,
    "execution_start": 1698440710651,
    "id": "IMvm7elWt6s_",
    "source_hash": null
   },
   "outputs": [],
   "source": [
    "model.compile(\n",
    "    optimizer=\"adam\",\n",
    "    loss=\"mae\",\n",
    ")"
   ]
  },
  {
   "cell_type": "markdown",
   "metadata": {
    "cell_id": "f6aa5e4968a04e57ae999bb280bfe433",
    "deepnote_cell_height": 74.796875,
    "deepnote_cell_type": "markdown",
    "id": "o6vd3CV5xWed"
   },
   "source": [
    "Now we're ready to start training! We've told Keras to feed the optimizer 256 rows of the training data at a time (the `batch_size`) and to do that 10 times all the way through the dataset (the `epochs`)."
   ]
  },
  {
   "cell_type": "code",
   "execution_count": null,
   "metadata": {
    "cell_id": "daeb23fdb50e41cfa1400646beb9f71f",
    "colab": {
     "base_uri": "https://localhost:8080/"
    },
    "deepnote_cell_type": "code",
    "deepnote_to_be_reexecuted": false,
    "executionInfo": {
     "elapsed": 2886,
     "status": "ok",
     "timestamp": 1649718277888,
     "user": {
      "displayName": "Abhijat Chauhan",
      "userId": "05189893653438442553"
     },
     "user_tz": 240
    },
    "execution_millis": 2232,
    "execution_start": 1698440710663,
    "id": "kvBxyOtEfdzf",
    "outputId": "37510b31-5086-4e2c-d416-feb3968eb3e2",
    "source_hash": null
   },
   "outputs": [
    {
     "name": "stdout",
     "output_type": "stream",
     "text": [
      "Epoch 1/12\n",
      "5/5 [==============================] - 1s 55ms/step - loss: 0.2801 - val_loss: 0.1299\n",
      "Epoch 2/12\n",
      "5/5 [==============================] - 0s 26ms/step - loss: 0.1364 - val_loss: 0.1214\n",
      "Epoch 3/12\n",
      "5/5 [==============================] - 0s 26ms/step - loss: 0.1241 - val_loss: 0.1145\n",
      "Epoch 4/12\n",
      "5/5 [==============================] - 0s 29ms/step - loss: 0.1136 - val_loss: 0.1083\n",
      "Epoch 5/12\n",
      "5/5 [==============================] - 0s 26ms/step - loss: 0.1100 - val_loss: 0.1126\n",
      "Epoch 6/12\n",
      "5/5 [==============================] - 0s 28ms/step - loss: 0.1099 - val_loss: 0.1042\n",
      "Epoch 7/12\n",
      "5/5 [==============================] - 0s 26ms/step - loss: 0.1063 - val_loss: 0.1084\n",
      "Epoch 8/12\n",
      "5/5 [==============================] - 0s 26ms/step - loss: 0.1045 - val_loss: 0.1009\n",
      "Epoch 9/12\n",
      "5/5 [==============================] - 0s 40ms/step - loss: 0.1021 - val_loss: 0.0998\n",
      "Epoch 10/12\n",
      "5/5 [==============================] - 0s 13ms/step - loss: 0.1012 - val_loss: 0.1008\n",
      "Epoch 11/12\n",
      "5/5 [==============================] - 0s 12ms/step - loss: 0.0997 - val_loss: 0.0994\n",
      "Epoch 12/12\n",
      "5/5 [==============================] - 0s 26ms/step - loss: 0.0984 - val_loss: 0.1015\n"
     ]
    }
   ],
   "source": [
    "history = model.fit(\n",
    "    X_train, y_train,\n",
    "    validation_data=(X_valid, y_valid),\n",
    "    batch_size=256,\n",
    "    epochs=12,\n",
    ")"
   ]
  },
  {
   "cell_type": "markdown",
   "metadata": {
    "cell_id": "6a8b335fb64f46199ee086c712cc9c3b",
    "deepnote_cell_height": 111.1875,
    "deepnote_cell_type": "markdown",
    "id": "oLTkq6irxemS"
   },
   "source": [
    "You can see that Keras will keep you updated on the loss as the model trains.\n",
    "\n",
    "Often, a better way to view the loss though is to plot it. The `fit` method in fact keeps a record of the loss produced during training in a `History` object. We'll convert the data to a Pandas dataframe, which makes the plotting easy."
   ]
  },
  {
   "cell_type": "code",
   "execution_count": null,
   "metadata": {
    "cell_id": "9d04d45689104738ba6eef8cc7199538",
    "colab": {
     "base_uri": "https://localhost:8080/",
     "height": 265
    },
    "deepnote_cell_type": "code",
    "deepnote_to_be_reexecuted": false,
    "executionInfo": {
     "elapsed": 504,
     "status": "ok",
     "timestamp": 1636997242192,
     "user": {
      "displayName": "Joseph Cannaday",
      "photoUrl": "https://lh3.googleusercontent.com/a/default-user=s64",
      "userId": "14636187980402214607"
     },
     "user_tz": 300
    },
    "execution_millis": 1285,
    "execution_start": 1698440712751,
    "id": "Oq9C_Z-affF8",
    "outputId": "8a9adb16-df34-4da9-d4b1-54dd3e49a557",
    "source_hash": null
   },
   "outputs": [
    {
     "data": {
      "image/png": "[encoded data removed]",
      "text/plain": [
       "<Figure size 640x480 with 1 Axes>"
      ]
     },
     "metadata": {
      "image/png": {
       "height": 413,
       "width": 565
      }
     },
     "output_type": "display_data"
    }
   ],
   "source": [
    "# convert the training history to a dataframe\n",
    "history_df = pd.DataFrame(history.history)\n",
    "# use Pandas native plot method to display loss and validation loss through each epoch\n",
    "history_df.loc[:,['loss','val_loss']].plot();"
   ]
  },
  {
   "cell_type": "markdown",
   "metadata": {
    "cell_id": "780edaa1dde44b3b81b2a6a1bd766df9",
    "deepnote_cell_height": 74.796875,
    "deepnote_cell_type": "markdown",
    "id": "LY8o67GRxj8u"
   },
   "source": [
    "Notice how the loss levels off as the epochs go by. When the loss curve becomes horizontal like that, it means the model has learned all it can and there would be no reason continue for additional epochs."
   ]
  },
  {
   "cell_type": "markdown",
   "metadata": {
    "cell_id": "ed1fe85ab27e478fa7c4bd8a1850cf7d",
    "deepnote_cell_height": 2312.0625,
    "deepnote_cell_type": "markdown",
    "id": "-J7Gc0syxwab"
   },
   "source": [
    "## Overfitting and Underfitting\n",
    "https://stackoverflow.com/questions/62484768/how-to-choose-the-number-of-units-for-the-dense-layer-in-the-convoluted-neural-n \n",
    "\n",
    "There's more to the world of deep learning than just dense layers. There are dozens of kinds of layers you might add to a model. (Try browsing through the [Keras docs](https://www.tensorflow.org/api_docs/python/tf/keras/layers/) for a sample!) Some are like dense layers and define connections between neurons, and others can do preprocessing or transformations of other sorts.\n",
    "\n",
    "We'll cover two kinds of special layers, not containing any neurons themselves, but that add some functionality that can sometimes benefit a model in various ways. Both are commonly used in modern architectures.\n",
    "\n",
    "## Dropout\n",
    "\n",
    "The first of these is the \"dropout layer\", which can help correct overfitting.\n",
    "\n",
    "In the last lesson we talked about how overfitting is caused by the network learning spurious patterns in the training data. To recognize these spurious patterns a network will often rely on very specific combinations of weight, a kind of \"conspiracy\" of weights. Being so specific, they tend to be fragile: remove one and the conspiracy falls apart.\n",
    "\n",
    "This is the idea behind **dropout**. To break up these conspiracies, we randomly *drop out* some fraction of a layer's input units every step of training, making it much harder for the network to learn those spurious patterns in the training data. Instead, it has to search for broad, general patterns, whose weight patterns tend to be more robust.\n",
    "\n",
    "<figure style=\"padding: 1em;\">\n",
    "<img src=\"https://i.imgur.com/a86utxY.gif\" width=\"600\" alt=\"An animation of a network cycling through various random dropout configurations.\">\n",
    "<figcaption style=\"textalign: center; font-style: italic\"><center>Here, 50% dropout has been added between the two hidden layers.</center></figcaption>\n",
    "</figure>\n",
    "\n",
    "You could also think about dropout as creating a kind of *ensemble* of networks. The predictions will no longer be made by one big network, but instead by a committee of smaller networks. Individuals in the committee tend to make different kinds of mistakes, but be right at the same time, making the committee as a whole better than any individual. (If you're familiar with random forests as an ensemble of decision trees, it's the same idea.)\n",
    "\n",
    "### Adding Dropout\n",
    "\n",
    "In Keras, the dropout rate argument `rate` defines what percentage of the input units to shut off. Put the `Dropout` layer just before the layer you want the dropout applied to:\n",
    "\n",
    "```\n",
    "keras.Sequential([\n",
    "    # ...\n",
    "    layer.Dropout(rate=0.3), # apply 30% dropout to the next layer\n",
    "    layer.Dense(16),\n",
    "    # ...\n",
    "])\n",
    "```\n",
    "\n",
    "## Batch Normalization\n",
    "\n",
    "The next special layer we'll look at performs \"batch normalization\" (or \"batchnorm\"), which can help correct training that is slow or unstable.\n",
    "\n",
    "With neural networks, it's generally a good idea to put all of your data on a common scale, perhaps with something like scikit-learn's [StandardScaler](https://scikit-learn.org/stable/modules/generated/sklearn.preprocessing.StandardScaler.html) or [MinMaxScaler](https://scikit-learn.org/stable/modules/generated/sklearn.preprocessing.MinMaxScaler.html). The reason is that SGD will shift the network weights in proportion to how large an activation the data produces. Features that tend to produce activations of very different sizes can make for unstable training behavior.\n",
    "\n",
    "Now, if it's good to normalize the data before it goes into the network, maybe also normalizing inside the network would be better! In fact, we have a special kind of layer that can do this, the **batch normalization layer**. A batch normalization layer looks at each batch as it comes in, first normalizing the batch with its own mean and standard deviation, and then also putting the data on a new scale with two trainable rescaling parameters. Batchnorm, in effect, performs a kind of coordinated rescaling of its inputs.\n",
    "\n",
    "Most often, batchnorm is added as an aid to the optimization process (though it can sometimes also help prediction performance). Models with batchnorm tend to need fewer epochs to complete training. Moreover, batchnorm can also fix various problems that can cause the training to get \"stuck\". Consider adding batch normalization to your models, especially if you're having trouble during training.\n",
    "\n",
    "### Adding Batch Normalization\n",
    "\n",
    "It seems that batch normalization can be used at almost any point in a network. You can put it after a layer...\n",
    "\n",
    "```\n",
    "layers.Dense(16, activation='relu'),\n",
    "layers.BatchNormalization(),\n",
    "```\n",
    "\n",
    "... or between a layer and its activation function:\n",
    "\n",
    "```\n",
    "layers.Dense(16),\n",
    "layers.BatchNormalization(),\n",
    "layers.Activation('relu'),\n",
    "```\n",
    "\n",
    "And if you add it as the first layer of your network it can act as a kind of adaptive preprocessor, standing in for something like Sci-Kit Learn's `StandardScaler`.\n",
    "\n",
    "## Example - Using Dropout and Batch Normalization\n",
    "\n",
    "Let's continue developing the *Red Wine* model. Now we'll increase the capacity even more, but add dropout to control overfitting and batch normalization to speed up optimization. This time, we'll also leave off standardizing the data, to demonstrate how batch normalization can stabalize the training."
   ]
  },
  {
   "cell_type": "markdown",
   "metadata": {
    "cell_id": "29f01ae7b4ef4c48b22dfe32e502f93c",
    "deepnote_cell_height": 52.390625,
    "deepnote_cell_type": "markdown",
    "id": "XjVmqWeQyYsJ"
   },
   "source": [
    "Whan adding dropout, you may need to increase the number of units in your `Dense` layers."
   ]
  },
  {
   "cell_type": "code",
   "execution_count": null,
   "metadata": {
    "cell_id": "140b6845e6df45929cf2e60abdad2e92",
    "deepnote_cell_type": "code",
    "deepnote_to_be_reexecuted": false,
    "execution_millis": 91,
    "execution_start": 1698440713941,
    "id": "P0HYnBLfyTOp",
    "source_hash": null
   },
   "outputs": [],
   "source": [
    "from tensorflow import keras\n",
    "from tensorflow.keras import layers\n",
    "\n",
    "model = keras.Sequential([\n",
    "    layers.Dense(1024, activation='relu', input_shape=[11]),\n",
    "    layers.Dropout(0.3),\n",
    "    layers.BatchNormalization(),\n",
    "    layers.Dense(1024, activation='relu'),\n",
    "    layers.Dropout(0.3),\n",
    "    layers.BatchNormalization(),\n",
    "    layers.Dense(1024, activation='relu'),\n",
    "    layers.Dropout(0.3),\n",
    "    layers.BatchNormalization(),\n",
    "    layers.Dense(1),\n",
    "])"
   ]
  },
  {
   "cell_type": "markdown",
   "metadata": {
    "cell_id": "12d05f1355074470b353ef24d89c3d56",
    "deepnote_cell_height": 52.390625,
    "deepnote_cell_type": "markdown",
    "id": "TvcDOv8Fyegx"
   },
   "source": [
    "There's nothing to change this time in how we set up the training."
   ]
  },
  {
   "cell_type": "code",
   "execution_count": null,
   "metadata": {
    "cell_id": "81f90efaba66420aa9b8e06629ff6ac8",
    "colab": {
     "base_uri": "https://localhost:8080/",
     "height": 267
    },
    "deepnote_cell_type": "code",
    "deepnote_to_be_reexecuted": false,
    "executionInfo": {
     "elapsed": 43922,
     "status": "ok",
     "timestamp": 1637022086382,
     "user": {
      "displayName": "Joseph Cannaday",
      "photoUrl": "https://lh3.googleusercontent.com/a/default-user=s64",
      "userId": "14636187980402214607"
     },
     "user_tz": 300
    },
    "execution_millis": 52239,
    "execution_start": 1698440714039,
    "id": "OOXp1uU2yfUf",
    "outputId": "c5fb2d69-7ca8-444e-980d-33776a8d5687",
    "source_hash": null
   },
   "outputs": [
    {
     "data": {
      "image/png": "[encoded data removed]",
      "text/plain": [
       "<Figure size 640x480 with 1 Axes>"
      ]
     },
     "metadata": {
      "image/png": {
       "height": 413,
       "width": 547
      }
     },
     "output_type": "display_data"
    }
   ],
   "source": [
    "model.compile(\n",
    "    optimizer='adam',\n",
    "    loss='mae',\n",
    ")\n",
    "\n",
    "history = model.fit(\n",
    "    X_train, y_train,\n",
    "    validation_data=(X_valid, y_valid),\n",
    "    batch_size=256,\n",
    "    epochs=100,\n",
    "    verbose=0,\n",
    ")\n",
    "\n",
    "\n",
    "# Show the learning curves\n",
    "history_df = pd.DataFrame(history.history)\n",
    "history_df.loc[:, ['loss', 'val_loss']].plot();"
   ]
  },
  {
   "cell_type": "markdown",
   "metadata": {
    "cell_id": "06986f43038f408b83ebc82c40650048",
    "deepnote_cell_height": 74.796875,
    "deepnote_cell_type": "markdown",
    "id": "LdwGpw0Qyk8I"
   },
   "source": [
    "You'll typically get better performance if you standardize your data before using it for training. That we were able to use the raw data at all, however, shows how effective batch normalization can be on more difficult datasets."
   ]
  },
  {
   "cell_type": "markdown",
   "metadata": {
    "created_in_deepnote_cell": true,
    "deepnote_cell_type": "markdown"
   },
   "source": [
    "<a style='text-decoration:none;line-height:16px;display:flex;color:#5B5B62;padding:10px;justify-content:end;' href='https://deepnote.com?utm_source=created-in-deepnote-cell&projectId=8488eaf2-ff92-4a43-b350-fdb8e01ce644' target=\"_blank\">\n",
    "<img alt='Created in deepnote.com' style='display:inline;max-height:16px;margin:0px;margin-right:7.5px;' src='data:image/svg+xml;base64,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' > </img>\n",
    "Created in <span style='font-weight:600;margin-left:4px;'>Deepnote</span></a>"
   ]
  }
 ],
 "metadata": {
  "deepnote_execution_queue": [],
  "deepnote_notebook_id": "50176c5bddfa42609c02627b94d4e6a8",
  "deepnote_persisted_session": {
   "createdAt": "2023-10-27T21:31:23.621Z"
  },
  "kernelspec": {
   "display_name": "Python 3 (ipykernel)",
   "language": "python",
   "name": "python3"
  },
  "language_info": {
   "codemirror_mode": {
    "name": "ipython",
    "version": 3
   },
   "file_extension": ".py",
   "mimetype": "text/x-python",
   "name": "python",
   "nbconvert_exporter": "python",
   "pygments_lexer": "ipython3",
   "version": "3.8.0"
  }
 },
 "nbformat": 4,
 "nbformat_minor": 4
}
