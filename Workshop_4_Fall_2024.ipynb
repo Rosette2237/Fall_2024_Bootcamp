{
 "cells": [
  {
   "cell_type": "markdown",
   "metadata": {
    "cell_id": "9def201a24ca428bb9762061124cd6e8",
    "deepnote_cell_height": 170,
    "deepnote_cell_type": "markdown",
    "id": "l1Mq435Ia2Mv"
   },
   "source": [
    "<img src=\"https://raw.githubusercontent.com/hwhitt/DSGT-Workshop-Content/master/images/logo.png\" width=\"100\"/>"
   ]
  },
  {
   "cell_type": "markdown",
   "metadata": {
    "cell_id": "2f4523dafd174f1ba56af33824080dc8",
    "deepnote_cell_height": 134,
    "deepnote_cell_type": "markdown",
    "id": "F6Wr8OPWbBAH"
   },
   "source": [
    "# DSGT Bootcamp Week 4: Modeling with Machine Learning"
   ]
  },
  {
   "cell_type": "markdown",
   "metadata": {
    "cell_id": "0a67a44204034f89a46b943de8f060a3",
    "deepnote_cell_height": 198.59375,
    "deepnote_cell_type": "markdown",
    "id": "6YV1AHlsbWge"
   },
   "source": [
    "## Learning Objectives \n",
    "- What is a Machine Learning Model?\n",
    "- Classification vs. Regression\n",
    "- Survey of models (eg: Decision Tree/Random Forest, Logistic Regression, Neural Networks, SVM)\n",
    "- Evaluate performance of Machine Learning model (eg: metrics like precision, accuracy, recall, mean square error, etc)\n"
   ]
  },
  {
   "cell_type": "code",
   "execution_count": 1,
   "metadata": {
    "cell_id": "a3079c8730b54016b21199e17e5bed6f",
    "colab": {
     "base_uri": "https://localhost:8080/"
    },
    "deepnote_cell_type": "code",
    "deepnote_to_be_reexecuted": false,
    "executionInfo": {
     "elapsed": 263,
     "status": "ok",
     "timestamp": 1635525556332,
     "user": {
      "displayName": "Shasha Liao",
      "photoUrl": "https://lh3.googleusercontent.com/a-/AOh14Ghf5Tj0GAz5by2x9KRBgR3ka1GNpPK67XG2GpESnA=s64",
      "userId": "03341420781931408968"
     },
     "user_tz": 240
    },
    "execution_millis": 204,
    "execution_start": 1667592060537,
    "id": "0ZA5B4CGvyu0",
    "outputId": "49b39038-7606-40ad-9e23-f25d2d733438",
    "source_hash": "ebb1c4ba"
   },
   "outputs": [
    {
     "name": "stdout",
     "output_type": "stream",
     "text": [
      "requirements.txt  titanic_train.csv\n"
     ]
    }
   ],
   "source": [
    "%ls"
   ]
  },
  {
   "cell_type": "code",
   "execution_count": 2,
   "metadata": {
    "cell_id": "63c47bd01c9f4ef1bfbcd8625217588b",
    "deepnote_cell_type": "code",
    "deepnote_to_be_reexecuted": false,
    "execution_millis": 1685,
    "execution_start": 1667592060740,
    "id": "UwWiWkgJksYf",
    "source_hash": "9be45cb9"
   },
   "outputs": [],
   "source": [
    "import pandas as pd\n",
    "import numpy as np\n",
    "import matplotlib.pyplot as plt\n",
    "import seaborn as sns\n",
    "\n",
    "import warnings # filtering out messy warning messages\n",
    "warnings.filterwarnings(\"ignore\")"
   ]
  },
  {
   "cell_type": "code",
   "execution_count": 3,
   "metadata": {
    "cell_id": "94b7df368e2e4c5dbbf52393cd9ce01e",
    "colab": {
     "base_uri": "https://localhost:8080/",
     "height": 228
    },
    "deepnote_cell_type": "code",
    "deepnote_to_be_reexecuted": false,
    "executionInfo": {
     "elapsed": 891,
     "status": "ok",
     "timestamp": 1635806535829,
     "user": {
      "displayName": "Shasha Liao",
      "photoUrl": "https://lh3.googleusercontent.com/a-/AOh14Ghf5Tj0GAz5by2x9KRBgR3ka1GNpPK67XG2GpESnA=s64",
      "userId": "03341420781931408968"
     },
     "user_tz": 240
    },
    "execution_millis": 52,
    "execution_start": 1667592062432,
    "id": "TIiGfqjHq1c3",
    "outputId": "187bc897-03d8-4b01-82ad-529739fe32ef",
    "source_hash": "7de78ae1"
   },
   "outputs": [
    {
     "data": {
      "application/vnd.deepnote.dataframe.v3+json": {
       "column_count": 12,
       "columns": [
        {
         "dtype": "int64",
         "name": "PassengerId",
         "stats": {
          "histogram": [
           {
            "bin_end": 1.4,
            "bin_start": 1,
            "count": 1
           },
           {
            "bin_end": 1.8,
            "bin_start": 1.4,
            "count": 0
           },
           {
            "bin_end": 2.2,
            "bin_start": 1.8,
            "count": 1
           },
           {
            "bin_end": 2.6,
            "bin_start": 2.2,
            "count": 0
           },
           {
            "bin_end": 3,
            "bin_start": 2.6,
            "count": 0
           },
           {
            "bin_end": 3.4000000000000004,
            "bin_start": 3,
            "count": 1
           },
           {
            "bin_end": 3.8000000000000003,
            "bin_start": 3.4000000000000004,
            "count": 0
           },
           {
            "bin_end": 4.2,
            "bin_start": 3.8000000000000003,
            "count": 1
           },
           {
            "bin_end": 4.6,
            "bin_start": 4.2,
            "count": 0
           },
           {
            "bin_end": 5,
            "bin_start": 4.6,
            "count": 1
           }
          ],
          "max": "5",
          "min": "1",
          "nan_count": 0,
          "unique_count": 5
         }
        },
        {
         "dtype": "int64",
         "name": "Survived",
         "stats": {
          "histogram": [
           {
            "bin_end": 0.1,
            "bin_start": 0,
            "count": 2
           },
           {
            "bin_end": 0.2,
            "bin_start": 0.1,
            "count": 0
           },
           {
            "bin_end": 0.30000000000000004,
            "bin_start": 0.2,
            "count": 0
           },
           {
            "bin_end": 0.4,
            "bin_start": 0.30000000000000004,
            "count": 0
           },
           {
            "bin_end": 0.5,
            "bin_start": 0.4,
            "count": 0
           },
           {
            "bin_end": 0.6000000000000001,
            "bin_start": 0.5,
            "count": 0
           },
           {
            "bin_end": 0.7000000000000001,
            "bin_start": 0.6000000000000001,
            "count": 0
           },
           {
            "bin_end": 0.8,
            "bin_start": 0.7000000000000001,
            "count": 0
           },
           {
            "bin_end": 0.9,
            "bin_start": 0.8,
            "count": 0
           },
           {
            "bin_end": 1,
            "bin_start": 0.9,
            "count": 3
           }
          ],
          "max": "1",
          "min": "0",
          "nan_count": 0,
          "unique_count": 2
         }
        },
        {
         "dtype": "int64",
         "name": "Pclass",
         "stats": {
          "histogram": [
           {
            "bin_end": 1.2,
            "bin_start": 1,
            "count": 2
           },
           {
            "bin_end": 1.4,
            "bin_start": 1.2,
            "count": 0
           },
           {
            "bin_end": 1.6,
            "bin_start": 1.4,
            "count": 0
           },
           {
            "bin_end": 1.8,
            "bin_start": 1.6,
            "count": 0
           },
           {
            "bin_end": 2,
            "bin_start": 1.8,
            "count": 0
           },
           {
            "bin_end": 2.2,
            "bin_start": 2,
            "count": 0
           },
           {
            "bin_end": 2.4000000000000004,
            "bin_start": 2.2,
            "count": 0
           },
           {
            "bin_end": 2.6,
            "bin_start": 2.4000000000000004,
            "count": 0
           },
           {
            "bin_end": 2.8,
            "bin_start": 2.6,
            "count": 0
           },
           {
            "bin_end": 3,
            "bin_start": 2.8,
            "count": 3
           }
          ],
          "max": "3",
          "min": "1",
          "nan_count": 0,
          "unique_count": 2
         }
        },
        {
         "dtype": "object",
         "name": "Name",
         "stats": {
          "categories": [
           {
            "count": 1,
            "name": "Braund, Mr. Owen Harris"
           },
           {
            "count": 1,
            "name": "Cumings, Mrs. John Bradley (Florence Briggs Thayer)"
           },
           {
            "count": 3,
            "name": "3 others"
           }
          ],
          "nan_count": 0,
          "unique_count": 5
         }
        },
        {
         "dtype": "object",
         "name": "Sex",
         "stats": {
          "categories": [
           {
            "count": 3,
            "name": "female"
           },
           {
            "count": 2,
            "name": "male"
           }
          ],
          "nan_count": 0,
          "unique_count": 2
         }
        },
        {
         "dtype": "float64",
         "name": "Age",
         "stats": {
          "histogram": [
           {
            "bin_end": 23.6,
            "bin_start": 22,
            "count": 1
           },
           {
            "bin_end": 25.2,
            "bin_start": 23.6,
            "count": 0
           },
           {
            "bin_end": 26.8,
            "bin_start": 25.2,
            "count": 1
           },
           {
            "bin_end": 28.4,
            "bin_start": 26.8,
            "count": 0
           },
           {
            "bin_end": 30,
            "bin_start": 28.4,
            "count": 0
           },
           {
            "bin_end": 31.6,
            "bin_start": 30,
            "count": 0
           },
           {
            "bin_end": 33.2,
            "bin_start": 31.6,
            "count": 0
           },
           {
            "bin_end": 34.8,
            "bin_start": 33.2,
            "count": 0
           },
           {
            "bin_end": 36.4,
            "bin_start": 34.8,
            "count": 2
           },
           {
            "bin_end": 38,
            "bin_start": 36.4,
            "count": 1
           }
          ],
          "max": "38.0",
          "min": "22.0",
          "nan_count": 0,
          "unique_count": 4
         }
        },
        {
         "dtype": "int64",
         "name": "SibSp",
         "stats": {
          "histogram": [
           {
            "bin_end": 0.1,
            "bin_start": 0,
            "count": 2
           },
           {
            "bin_end": 0.2,
            "bin_start": 0.1,
            "count": 0
           },
           {
            "bin_end": 0.30000000000000004,
            "bin_start": 0.2,
            "count": 0
           },
           {
            "bin_end": 0.4,
            "bin_start": 0.30000000000000004,
            "count": 0
           },
           {
            "bin_end": 0.5,
            "bin_start": 0.4,
            "count": 0
           },
           {
            "bin_end": 0.6000000000000001,
            "bin_start": 0.5,
            "count": 0
           },
           {
            "bin_end": 0.7000000000000001,
            "bin_start": 0.6000000000000001,
            "count": 0
           },
           {
            "bin_end": 0.8,
            "bin_start": 0.7000000000000001,
            "count": 0
           },
           {
            "bin_end": 0.9,
            "bin_start": 0.8,
            "count": 0
           },
           {
            "bin_end": 1,
            "bin_start": 0.9,
            "count": 3
           }
          ],
          "max": "1",
          "min": "0",
          "nan_count": 0,
          "unique_count": 2
         }
        },
        {
         "dtype": "int64",
         "name": "Parch",
         "stats": {
          "histogram": [
           {
            "bin_end": -0.4,
            "bin_start": -0.5,
            "count": 0
           },
           {
            "bin_end": -0.3,
            "bin_start": -0.4,
            "count": 0
           },
           {
            "bin_end": -0.19999999999999996,
            "bin_start": -0.3,
            "count": 0
           },
           {
            "bin_end": -0.09999999999999998,
            "bin_start": -0.19999999999999996,
            "count": 0
           },
           {
            "bin_end": 0,
            "bin_start": -0.09999999999999998,
            "count": 0
           },
           {
            "bin_end": 0.10000000000000009,
            "bin_start": 0,
            "count": 5
           },
           {
            "bin_end": 0.20000000000000007,
            "bin_start": 0.10000000000000009,
            "count": 0
           },
           {
            "bin_end": 0.30000000000000004,
            "bin_start": 0.20000000000000007,
            "count": 0
           },
           {
            "bin_end": 0.4,
            "bin_start": 0.30000000000000004,
            "count": 0
           },
           {
            "bin_end": 0.5,
            "bin_start": 0.4,
            "count": 0
           }
          ],
          "max": "0",
          "min": "0",
          "nan_count": 0,
          "unique_count": 1
         }
        },
        {
         "dtype": "object",
         "name": "Ticket",
         "stats": {
          "categories": [
           {
            "count": 1,
            "name": "A/5 21171"
           },
           {
            "count": 1,
            "name": "PC 17599"
           },
           {
            "count": 3,
            "name": "3 others"
           }
          ],
          "nan_count": 0,
          "unique_count": 5
         }
        },
        {
         "dtype": "float64",
         "name": "Fare",
         "stats": {
          "histogram": [
           {
            "bin_end": 13.65333,
            "bin_start": 7.25,
            "count": 3
           },
           {
            "bin_end": 20.05666,
            "bin_start": 13.65333,
            "count": 0
           },
           {
            "bin_end": 26.459989999999998,
            "bin_start": 20.05666,
            "count": 0
           },
           {
            "bin_end": 32.86332,
            "bin_start": 26.459989999999998,
            "count": 0
           },
           {
            "bin_end": 39.26665,
            "bin_start": 32.86332,
            "count": 0
           },
           {
            "bin_end": 45.669979999999995,
            "bin_start": 39.26665,
            "count": 0
           },
           {
            "bin_end": 52.07331,
            "bin_start": 45.669979999999995,
            "count": 0
           },
           {
            "bin_end": 58.476639999999996,
            "bin_start": 52.07331,
            "count": 1
           },
           {
            "bin_end": 64.87996999999999,
            "bin_start": 58.476639999999996,
            "count": 0
           },
           {
            "bin_end": 71.2833,
            "bin_start": 64.87996999999999,
            "count": 1
           }
          ],
          "max": "71.2833",
          "min": "7.25",
          "nan_count": 0,
          "unique_count": 5
         }
        },
        {
         "dtype": "object",
         "name": "Cabin",
         "stats": {
          "categories": [
           {
            "count": 1,
            "name": "C85"
           },
           {
            "count": 1,
            "name": "C123"
           },
           {
            "count": 3,
            "name": "Missing"
           }
          ],
          "nan_count": 3,
          "unique_count": 2
         }
        },
        {
         "dtype": "object",
         "name": "Embarked",
         "stats": {
          "categories": [
           {
            "count": 4,
            "name": "S"
           },
           {
            "count": 1,
            "name": "C"
           }
          ],
          "nan_count": 0,
          "unique_count": 2
         }
        },
        {
         "dtype": "int64",
         "name": "_deepnote_index_column"
        }
       ],
       "row_count": 5,
       "rows": [
        {
         "Age": "22.0",
         "Cabin": "nan",
         "Embarked": "S",
         "Fare": "7.25",
         "Name": "Braund, Mr. Owen Harris",
         "Parch": "0",
         "PassengerId": "1",
         "Pclass": "3",
         "Sex": "male",
         "SibSp": "1",
         "Survived": "0",
         "Ticket": "A/5 21171",
         "_deepnote_index_column": "0"
        },
        {
         "Age": "38.0",
         "Cabin": "C85",
         "Embarked": "C",
         "Fare": "71.2833",
         "Name": "Cumings, Mrs. John Bradley (Florence Briggs Thayer)",
         "Parch": "0",
         "PassengerId": "2",
         "Pclass": "1",
         "Sex": "female",
         "SibSp": "1",
         "Survived": "1",
         "Ticket": "PC 17599",
         "_deepnote_index_column": "1"
        },
        {
         "Age": "26.0",
         "Cabin": "nan",
         "Embarked": "S",
         "Fare": "7.925",
         "Name": "Heikkinen, Miss. Laina",
         "Parch": "0",
         "PassengerId": "3",
         "Pclass": "3",
         "Sex": "female",
         "SibSp": "0",
         "Survived": "1",
         "Ticket": "STON/O2. 3101282",
         "_deepnote_index_column": "2"
        },
        {
         "Age": "35.0",
         "Cabin": "C123",
         "Embarked": "S",
         "Fare": "53.1",
         "Name": "Futrelle, Mrs. Jacques Heath (Lily May Peel)",
         "Parch": "0",
         "PassengerId": "4",
         "Pclass": "1",
         "Sex": "female",
         "SibSp": "1",
         "Survived": "1",
         "Ticket": "113803",
         "_deepnote_index_column": "3"
        },
        {
         "Age": "35.0",
         "Cabin": "nan",
         "Embarked": "S",
         "Fare": "8.05",
         "Name": "Allen, Mr. William Henry",
         "Parch": "0",
         "PassengerId": "5",
         "Pclass": "3",
         "Sex": "male",
         "SibSp": "0",
         "Survived": "0",
         "Ticket": "373450",
         "_deepnote_index_column": "4"
        }
       ]
      },
      "text/html": [
       "<div>\n",
       "<style scoped>\n",
       "    .dataframe tbody tr th:only-of-type {\n",
       "        vertical-align: middle;\n",
       "    }\n",
       "\n",
       "    .dataframe tbody tr th {\n",
       "        vertical-align: top;\n",
       "    }\n",
       "\n",
       "    .dataframe thead th {\n",
       "        text-align: right;\n",
       "    }\n",
       "</style>\n",
       "<table border=\"1\" class=\"dataframe\">\n",
       "  <thead>\n",
       "    <tr style=\"text-align: right;\">\n",
       "      <th></th>\n",
       "      <th>PassengerId</th>\n",
       "      <th>Survived</th>\n",
       "      <th>Pclass</th>\n",
       "      <th>Name</th>\n",
       "      <th>Sex</th>\n",
       "      <th>Age</th>\n",
       "      <th>SibSp</th>\n",
       "      <th>Parch</th>\n",
       "      <th>Ticket</th>\n",
       "      <th>Fare</th>\n",
       "      <th>Cabin</th>\n",
       "      <th>Embarked</th>\n",
       "    </tr>\n",
       "  </thead>\n",
       "  <tbody>\n",
       "    <tr>\n",
       "      <th>0</th>\n",
       "      <td>1</td>\n",
       "      <td>0</td>\n",
       "      <td>3</td>\n",
       "      <td>Braund, Mr. Owen Harris</td>\n",
       "      <td>male</td>\n",
       "      <td>22.0</td>\n",
       "      <td>1</td>\n",
       "      <td>0</td>\n",
       "      <td>A/5 21171</td>\n",
       "      <td>7.2500</td>\n",
       "      <td>NaN</td>\n",
       "      <td>S</td>\n",
       "    </tr>\n",
       "    <tr>\n",
       "      <th>1</th>\n",
       "      <td>2</td>\n",
       "      <td>1</td>\n",
       "      <td>1</td>\n",
       "      <td>Cumings, Mrs. John Bradley (Florence Briggs Th...</td>\n",
       "      <td>female</td>\n",
       "      <td>38.0</td>\n",
       "      <td>1</td>\n",
       "      <td>0</td>\n",
       "      <td>PC 17599</td>\n",
       "      <td>71.2833</td>\n",
       "      <td>C85</td>\n",
       "      <td>C</td>\n",
       "    </tr>\n",
       "    <tr>\n",
       "      <th>2</th>\n",
       "      <td>3</td>\n",
       "      <td>1</td>\n",
       "      <td>3</td>\n",
       "      <td>Heikkinen, Miss. Laina</td>\n",
       "      <td>female</td>\n",
       "      <td>26.0</td>\n",
       "      <td>0</td>\n",
       "      <td>0</td>\n",
       "      <td>STON/O2. 3101282</td>\n",
       "      <td>7.9250</td>\n",
       "      <td>NaN</td>\n",
       "      <td>S</td>\n",
       "    </tr>\n",
       "    <tr>\n",
       "      <th>3</th>\n",
       "      <td>4</td>\n",
       "      <td>1</td>\n",
       "      <td>1</td>\n",
       "      <td>Futrelle, Mrs. Jacques Heath (Lily May Peel)</td>\n",
       "      <td>female</td>\n",
       "      <td>35.0</td>\n",
       "      <td>1</td>\n",
       "      <td>0</td>\n",
       "      <td>113803</td>\n",
       "      <td>53.1000</td>\n",
       "      <td>C123</td>\n",
       "      <td>S</td>\n",
       "    </tr>\n",
       "    <tr>\n",
       "      <th>4</th>\n",
       "      <td>5</td>\n",
       "      <td>0</td>\n",
       "      <td>3</td>\n",
       "      <td>Allen, Mr. William Henry</td>\n",
       "      <td>male</td>\n",
       "      <td>35.0</td>\n",
       "      <td>0</td>\n",
       "      <td>0</td>\n",
       "      <td>373450</td>\n",
       "      <td>8.0500</td>\n",
       "      <td>NaN</td>\n",
       "      <td>S</td>\n",
       "    </tr>\n",
       "  </tbody>\n",
       "</table>\n",
       "</div>"
      ],
      "text/plain": [
       "   PassengerId  Survived  Pclass  \\\n",
       "0            1         0       3   \n",
       "1            2         1       1   \n",
       "2            3         1       3   \n",
       "3            4         1       1   \n",
       "4            5         0       3   \n",
       "\n",
       "                                                Name     Sex   Age  SibSp  \\\n",
       "0                            Braund, Mr. Owen Harris    male  22.0      1   \n",
       "1  Cumings, Mrs. John Bradley (Florence Briggs Th...  female  38.0      1   \n",
       "2                             Heikkinen, Miss. Laina  female  26.0      0   \n",
       "3       Futrelle, Mrs. Jacques Heath (Lily May Peel)  female  35.0      1   \n",
       "4                           Allen, Mr. William Henry    male  35.0      0   \n",
       "\n",
       "   Parch            Ticket     Fare Cabin Embarked  \n",
       "0      0         A/5 21171   7.2500   NaN        S  \n",
       "1      0          PC 17599  71.2833   C85        C  \n",
       "2      0  STON/O2. 3101282   7.9250   NaN        S  \n",
       "3      0            113803  53.1000  C123        S  \n",
       "4      0            373450   8.0500   NaN        S  "
      ]
     },
     "execution_count": 3,
     "metadata": {},
     "output_type": "execute_result"
    }
   ],
   "source": [
    "# Read data\n",
    "df = pd.read_csv('titanic_train.csv')\n",
    "df.head()"
   ]
  },
  {
   "cell_type": "markdown",
   "metadata": {
    "cell_id": "df46a3e3a9a149b08ef83daad5f96534",
    "deepnote_cell_height": 173.1875,
    "deepnote_cell_type": "markdown",
    "id": "ZVDViAfrq9vw"
   },
   "source": [
    "## Data Preprocessing\n",
    "- Remove columns and rows with a lot of missing values\n",
    "- Remove irrelevant columns like **PassengerId, Name, Ticket**\n",
    "- Create dummy variables for categorical features like **Sex, Embarked**"
   ]
  },
  {
   "cell_type": "code",
   "execution_count": 4,
   "metadata": {
    "cell_id": "cf7222c6a1ff4091a67871a9ee2ffa0d",
    "deepnote_cell_type": "code",
    "deepnote_to_be_reexecuted": false,
    "execution_millis": 0,
    "execution_start": 1667592062486,
    "id": "sh7DwBs5v_Rd",
    "source_hash": "6adce15b"
   },
   "outputs": [],
   "source": [
    "def clean(df):\n",
    "\n",
    "  # remove columns and rows with a lot of missing values\n",
    "  df = df.drop(columns = ['Cabin'])\n",
    "  df = df.dropna(axis=0,how = 'any')\n",
    "\n",
    "  # remove irrelevant columns\n",
    "  df = df.drop(columns = ['PassengerId', 'Name', 'Ticket']).reset_index(drop = True)\n",
    "  return df"
   ]
  },
  {
   "cell_type": "code",
   "execution_count": 5,
   "metadata": {
    "cell_id": "a5a9876988504714b203f4e4400cf89a",
    "colab": {
     "base_uri": "https://localhost:8080/",
     "height": 447
    },
    "deepnote_cell_type": "code",
    "deepnote_to_be_reexecuted": false,
    "executionInfo": {
     "elapsed": 230,
     "status": "ok",
     "timestamp": 1635806602619,
     "user": {
      "displayName": "Shasha Liao",
      "photoUrl": "https://lh3.googleusercontent.com/a-/AOh14Ghf5Tj0GAz5by2x9KRBgR3ka1GNpPK67XG2GpESnA=s64",
      "userId": "03341420781931408968"
     },
     "user_tz": 240
    },
    "execution_millis": 35,
    "execution_start": 1667592062489,
    "id": "tFxfJbtAxf4D",
    "outputId": "5ec6c7b9-dbbb-47e2-aeb9-58a38d2c6553",
    "source_hash": "718c3620"
   },
   "outputs": [
    {
     "data": {
      "application/vnd.deepnote.dataframe.v3+json": {
       "column_count": 8,
       "columns": [
        {
         "dtype": "int64",
         "name": "Survived",
         "stats": {
          "histogram": [
           {
            "bin_end": 0.1,
            "bin_start": 0,
            "count": 424
           },
           {
            "bin_end": 0.2,
            "bin_start": 0.1,
            "count": 0
           },
           {
            "bin_end": 0.30000000000000004,
            "bin_start": 0.2,
            "count": 0
           },
           {
            "bin_end": 0.4,
            "bin_start": 0.30000000000000004,
            "count": 0
           },
           {
            "bin_end": 0.5,
            "bin_start": 0.4,
            "count": 0
           },
           {
            "bin_end": 0.6000000000000001,
            "bin_start": 0.5,
            "count": 0
           },
           {
            "bin_end": 0.7000000000000001,
            "bin_start": 0.6000000000000001,
            "count": 0
           },
           {
            "bin_end": 0.8,
            "bin_start": 0.7000000000000001,
            "count": 0
           },
           {
            "bin_end": 0.9,
            "bin_start": 0.8,
            "count": 0
           },
           {
            "bin_end": 1,
            "bin_start": 0.9,
            "count": 288
           }
          ],
          "max": "1",
          "min": "0",
          "nan_count": 0,
          "unique_count": 2
         }
        },
        {
         "dtype": "int64",
         "name": "Pclass",
         "stats": {
          "histogram": [
           {
            "bin_end": 1.2,
            "bin_start": 1,
            "count": 184
           },
           {
            "bin_end": 1.4,
            "bin_start": 1.2,
            "count": 0
           },
           {
            "bin_end": 1.6,
            "bin_start": 1.4,
            "count": 0
           },
           {
            "bin_end": 1.8,
            "bin_start": 1.6,
            "count": 0
           },
           {
            "bin_end": 2,
            "bin_start": 1.8,
            "count": 0
           },
           {
            "bin_end": 2.2,
            "bin_start": 2,
            "count": 173
           },
           {
            "bin_end": 2.4000000000000004,
            "bin_start": 2.2,
            "count": 0
           },
           {
            "bin_end": 2.6,
            "bin_start": 2.4000000000000004,
            "count": 0
           },
           {
            "bin_end": 2.8,
            "bin_start": 2.6,
            "count": 0
           },
           {
            "bin_end": 3,
            "bin_start": 2.8,
            "count": 355
           }
          ],
          "max": "3",
          "min": "1",
          "nan_count": 0,
          "unique_count": 3
         }
        },
        {
         "dtype": "object",
         "name": "Sex",
         "stats": {
          "categories": [
           {
            "count": 453,
            "name": "male"
           },
           {
            "count": 259,
            "name": "female"
           }
          ],
          "nan_count": 0,
          "unique_count": 2
         }
        },
        {
         "dtype": "float64",
         "name": "Age",
         "stats": {
          "histogram": [
           {
            "bin_end": 8.378,
            "bin_start": 0.42,
            "count": 54
           },
           {
            "bin_end": 16.336000000000002,
            "bin_start": 8.378,
            "count": 46
           },
           {
            "bin_end": 24.294000000000004,
            "bin_start": 16.336000000000002,
            "count": 177
           },
           {
            "bin_end": 32.252,
            "bin_start": 24.294000000000004,
            "count": 169
           },
           {
            "bin_end": 40.21,
            "bin_start": 32.252,
            "count": 117
           },
           {
            "bin_end": 48.168000000000006,
            "bin_start": 40.21,
            "count": 70
           },
           {
            "bin_end": 56.126000000000005,
            "bin_start": 48.168000000000006,
            "count": 45
           },
           {
            "bin_end": 64.084,
            "bin_start": 56.126000000000005,
            "count": 23
           },
           {
            "bin_end": 72.042,
            "bin_start": 64.084,
            "count": 9
           },
           {
            "bin_end": 80,
            "bin_start": 72.042,
            "count": 2
           }
          ],
          "max": "80.0",
          "min": "0.42",
          "nan_count": 0,
          "unique_count": 88
         }
        },
        {
         "dtype": "int64",
         "name": "SibSp",
         "stats": {
          "histogram": [
           {
            "bin_end": 0.5,
            "bin_start": 0,
            "count": 469
           },
           {
            "bin_end": 1,
            "bin_start": 0.5,
            "count": 0
           },
           {
            "bin_end": 1.5,
            "bin_start": 1,
            "count": 183
           },
           {
            "bin_end": 2,
            "bin_start": 1.5,
            "count": 0
           },
           {
            "bin_end": 2.5,
            "bin_start": 2,
            "count": 25
           },
           {
            "bin_end": 3,
            "bin_start": 2.5,
            "count": 0
           },
           {
            "bin_end": 3.5,
            "bin_start": 3,
            "count": 12
           },
           {
            "bin_end": 4,
            "bin_start": 3.5,
            "count": 0
           },
           {
            "bin_end": 4.5,
            "bin_start": 4,
            "count": 18
           },
           {
            "bin_end": 5,
            "bin_start": 4.5,
            "count": 5
           }
          ],
          "max": "5",
          "min": "0",
          "nan_count": 0,
          "unique_count": 6
         }
        },
        {
         "dtype": "int64",
         "name": "Parch",
         "stats": {
          "histogram": [
           {
            "bin_end": 0.6,
            "bin_start": 0,
            "count": 519
           },
           {
            "bin_end": 1.2,
            "bin_start": 0.6,
            "count": 110
           },
           {
            "bin_end": 1.7999999999999998,
            "bin_start": 1.2,
            "count": 0
           },
           {
            "bin_end": 2.4,
            "bin_start": 1.7999999999999998,
            "count": 68
           },
           {
            "bin_end": 3,
            "bin_start": 2.4,
            "count": 0
           },
           {
            "bin_end": 3.5999999999999996,
            "bin_start": 3,
            "count": 5
           },
           {
            "bin_end": 4.2,
            "bin_start": 3.5999999999999996,
            "count": 4
           },
           {
            "bin_end": 4.8,
            "bin_start": 4.2,
            "count": 0
           },
           {
            "bin_end": 5.3999999999999995,
            "bin_start": 4.8,
            "count": 5
           },
           {
            "bin_end": 6,
            "bin_start": 5.3999999999999995,
            "count": 1
           }
          ],
          "max": "6",
          "min": "0",
          "nan_count": 0,
          "unique_count": 7
         }
        },
        {
         "dtype": "float64",
         "name": "Fare",
         "stats": {
          "histogram": [
           {
            "bin_end": 51.23292,
            "bin_start": 0,
            "count": 577
           },
           {
            "bin_end": 102.46584,
            "bin_start": 51.23292,
            "count": 87
           },
           {
            "bin_end": 153.69876,
            "bin_start": 102.46584,
            "count": 28
           },
           {
            "bin_end": 204.93168,
            "bin_start": 153.69876,
            "count": 2
           },
           {
            "bin_end": 256.1646,
            "bin_start": 204.93168,
            "count": 9
           },
           {
            "bin_end": 307.39752,
            "bin_start": 256.1646,
            "count": 6
           },
           {
            "bin_end": 358.63044,
            "bin_start": 307.39752,
            "count": 0
           },
           {
            "bin_end": 409.86336,
            "bin_start": 358.63044,
            "count": 0
           },
           {
            "bin_end": 461.09628,
            "bin_start": 409.86336,
            "count": 0
           },
           {
            "bin_end": 512.3292,
            "bin_start": 461.09628,
            "count": 3
           }
          ],
          "max": "512.3292",
          "min": "0.0",
          "nan_count": 0,
          "unique_count": 219
         }
        },
        {
         "dtype": "object",
         "name": "Embarked",
         "stats": {
          "categories": [
           {
            "count": 554,
            "name": "S"
           },
           {
            "count": 130,
            "name": "C"
           },
           {
            "count": 28,
            "name": "Q"
           }
          ],
          "nan_count": 0,
          "unique_count": 3
         }
        },
        {
         "dtype": "int64",
         "name": "_deepnote_index_column"
        }
       ],
       "row_count": 712,
       "rows": [
        {
         "Age": "22.0",
         "Embarked": "S",
         "Fare": "7.25",
         "Parch": "0",
         "Pclass": "3",
         "Sex": "male",
         "SibSp": "1",
         "Survived": "0",
         "_deepnote_index_column": "0"
        },
        {
         "Age": "38.0",
         "Embarked": "C",
         "Fare": "71.2833",
         "Parch": "0",
         "Pclass": "1",
         "Sex": "female",
         "SibSp": "1",
         "Survived": "1",
         "_deepnote_index_column": "1"
        },
        {
         "Age": "26.0",
         "Embarked": "S",
         "Fare": "7.925",
         "Parch": "0",
         "Pclass": "3",
         "Sex": "female",
         "SibSp": "0",
         "Survived": "1",
         "_deepnote_index_column": "2"
        },
        {
         "Age": "35.0",
         "Embarked": "S",
         "Fare": "53.1",
         "Parch": "0",
         "Pclass": "1",
         "Sex": "female",
         "SibSp": "1",
         "Survived": "1",
         "_deepnote_index_column": "3"
        },
        {
         "Age": "35.0",
         "Embarked": "S",
         "Fare": "8.05",
         "Parch": "0",
         "Pclass": "3",
         "Sex": "male",
         "SibSp": "0",
         "Survived": "0",
         "_deepnote_index_column": "4"
        },
        {
         "Age": "54.0",
         "Embarked": "S",
         "Fare": "51.8625",
         "Parch": "0",
         "Pclass": "1",
         "Sex": "male",
         "SibSp": "0",
         "Survived": "0",
         "_deepnote_index_column": "5"
        },
        {
         "Age": "2.0",
         "Embarked": "S",
         "Fare": "21.075",
         "Parch": "1",
         "Pclass": "3",
         "Sex": "male",
         "SibSp": "3",
         "Survived": "0",
         "_deepnote_index_column": "6"
        },
        {
         "Age": "27.0",
         "Embarked": "S",
         "Fare": "11.1333",
         "Parch": "2",
         "Pclass": "3",
         "Sex": "female",
         "SibSp": "0",
         "Survived": "1",
         "_deepnote_index_column": "7"
        },
        {
         "Age": "14.0",
         "Embarked": "C",
         "Fare": "30.0708",
         "Parch": "0",
         "Pclass": "2",
         "Sex": "female",
         "SibSp": "1",
         "Survived": "1",
         "_deepnote_index_column": "8"
        },
        {
         "Age": "4.0",
         "Embarked": "S",
         "Fare": "16.7",
         "Parch": "1",
         "Pclass": "3",
         "Sex": "female",
         "SibSp": "1",
         "Survived": "1",
         "_deepnote_index_column": "9"
        }
       ]
      },
      "text/html": [
       "<div>\n",
       "<style scoped>\n",
       "    .dataframe tbody tr th:only-of-type {\n",
       "        vertical-align: middle;\n",
       "    }\n",
       "\n",
       "    .dataframe tbody tr th {\n",
       "        vertical-align: top;\n",
       "    }\n",
       "\n",
       "    .dataframe thead th {\n",
       "        text-align: right;\n",
       "    }\n",
       "</style>\n",
       "<table border=\"1\" class=\"dataframe\">\n",
       "  <thead>\n",
       "    <tr style=\"text-align: right;\">\n",
       "      <th></th>\n",
       "      <th>Survived</th>\n",
       "      <th>Pclass</th>\n",
       "      <th>Sex</th>\n",
       "      <th>Age</th>\n",
       "      <th>SibSp</th>\n",
       "      <th>Parch</th>\n",
       "      <th>Fare</th>\n",
       "      <th>Embarked</th>\n",
       "    </tr>\n",
       "  </thead>\n",
       "  <tbody>\n",
       "    <tr>\n",
       "      <th>0</th>\n",
       "      <td>0</td>\n",
       "      <td>3</td>\n",
       "      <td>male</td>\n",
       "      <td>22.0</td>\n",
       "      <td>1</td>\n",
       "      <td>0</td>\n",
       "      <td>7.2500</td>\n",
       "      <td>S</td>\n",
       "    </tr>\n",
       "    <tr>\n",
       "      <th>1</th>\n",
       "      <td>1</td>\n",
       "      <td>1</td>\n",
       "      <td>female</td>\n",
       "      <td>38.0</td>\n",
       "      <td>1</td>\n",
       "      <td>0</td>\n",
       "      <td>71.2833</td>\n",
       "      <td>C</td>\n",
       "    </tr>\n",
       "    <tr>\n",
       "      <th>2</th>\n",
       "      <td>1</td>\n",
       "      <td>3</td>\n",
       "      <td>female</td>\n",
       "      <td>26.0</td>\n",
       "      <td>0</td>\n",
       "      <td>0</td>\n",
       "      <td>7.9250</td>\n",
       "      <td>S</td>\n",
       "    </tr>\n",
       "    <tr>\n",
       "      <th>3</th>\n",
       "      <td>1</td>\n",
       "      <td>1</td>\n",
       "      <td>female</td>\n",
       "      <td>35.0</td>\n",
       "      <td>1</td>\n",
       "      <td>0</td>\n",
       "      <td>53.1000</td>\n",
       "      <td>S</td>\n",
       "    </tr>\n",
       "    <tr>\n",
       "      <th>4</th>\n",
       "      <td>0</td>\n",
       "      <td>3</td>\n",
       "      <td>male</td>\n",
       "      <td>35.0</td>\n",
       "      <td>0</td>\n",
       "      <td>0</td>\n",
       "      <td>8.0500</td>\n",
       "      <td>S</td>\n",
       "    </tr>\n",
       "    <tr>\n",
       "      <th>...</th>\n",
       "      <td>...</td>\n",
       "      <td>...</td>\n",
       "      <td>...</td>\n",
       "      <td>...</td>\n",
       "      <td>...</td>\n",
       "      <td>...</td>\n",
       "      <td>...</td>\n",
       "      <td>...</td>\n",
       "    </tr>\n",
       "    <tr>\n",
       "      <th>707</th>\n",
       "      <td>0</td>\n",
       "      <td>3</td>\n",
       "      <td>female</td>\n",
       "      <td>39.0</td>\n",
       "      <td>0</td>\n",
       "      <td>5</td>\n",
       "      <td>29.1250</td>\n",
       "      <td>Q</td>\n",
       "    </tr>\n",
       "    <tr>\n",
       "      <th>708</th>\n",
       "      <td>0</td>\n",
       "      <td>2</td>\n",
       "      <td>male</td>\n",
       "      <td>27.0</td>\n",
       "      <td>0</td>\n",
       "      <td>0</td>\n",
       "      <td>13.0000</td>\n",
       "      <td>S</td>\n",
       "    </tr>\n",
       "    <tr>\n",
       "      <th>709</th>\n",
       "      <td>1</td>\n",
       "      <td>1</td>\n",
       "      <td>female</td>\n",
       "      <td>19.0</td>\n",
       "      <td>0</td>\n",
       "      <td>0</td>\n",
       "      <td>30.0000</td>\n",
       "      <td>S</td>\n",
       "    </tr>\n",
       "    <tr>\n",
       "      <th>710</th>\n",
       "      <td>1</td>\n",
       "      <td>1</td>\n",
       "      <td>male</td>\n",
       "      <td>26.0</td>\n",
       "      <td>0</td>\n",
       "      <td>0</td>\n",
       "      <td>30.0000</td>\n",
       "      <td>C</td>\n",
       "    </tr>\n",
       "    <tr>\n",
       "      <th>711</th>\n",
       "      <td>0</td>\n",
       "      <td>3</td>\n",
       "      <td>male</td>\n",
       "      <td>32.0</td>\n",
       "      <td>0</td>\n",
       "      <td>0</td>\n",
       "      <td>7.7500</td>\n",
       "      <td>Q</td>\n",
       "    </tr>\n",
       "  </tbody>\n",
       "</table>\n",
       "<p>712 rows × 8 columns</p>\n",
       "</div>"
      ],
      "text/plain": [
       "     Survived  Pclass     Sex   Age  SibSp  Parch     Fare Embarked\n",
       "0           0       3    male  22.0      1      0   7.2500        S\n",
       "1           1       1  female  38.0      1      0  71.2833        C\n",
       "2           1       3  female  26.0      0      0   7.9250        S\n",
       "3           1       1  female  35.0      1      0  53.1000        S\n",
       "4           0       3    male  35.0      0      0   8.0500        S\n",
       "..        ...     ...     ...   ...    ...    ...      ...      ...\n",
       "707         0       3  female  39.0      0      5  29.1250        Q\n",
       "708         0       2    male  27.0      0      0  13.0000        S\n",
       "709         1       1  female  19.0      0      0  30.0000        S\n",
       "710         1       1    male  26.0      0      0  30.0000        C\n",
       "711         0       3    male  32.0      0      0   7.7500        Q\n",
       "\n",
       "[712 rows x 8 columns]"
      ]
     },
     "execution_count": 5,
     "metadata": {},
     "output_type": "execute_result"
    }
   ],
   "source": [
    "df = clean(df)\n",
    "df"
   ]
  },
  {
   "cell_type": "code",
   "execution_count": 6,
   "metadata": {
    "cell_id": "4911e4874b3d4cffbbe7878cfcd9a346",
    "colab": {
     "base_uri": "https://localhost:8080/",
     "height": 447
    },
    "deepnote_cell_type": "code",
    "deepnote_to_be_reexecuted": false,
    "executionInfo": {
     "elapsed": 137,
     "status": "ok",
     "timestamp": 1635806633961,
     "user": {
      "displayName": "Shasha Liao",
      "photoUrl": "https://lh3.googleusercontent.com/a-/AOh14Ghf5Tj0GAz5by2x9KRBgR3ka1GNpPK67XG2GpESnA=s64",
      "userId": "03341420781931408968"
     },
     "user_tz": 240
    },
    "execution_millis": 37,
    "execution_start": 1667592062525,
    "id": "Sn7rO-Xi3IzN",
    "outputId": "c8e33d8e-d6ec-4b1f-8ba7-0955e4403c2e",
    "source_hash": "74f3a837"
   },
   "outputs": [
    {
     "data": {
      "application/vnd.deepnote.dataframe.v3+json": {
       "column_count": 2,
       "columns": [
        {
         "dtype": "uint8",
         "name": "female",
         "stats": {
          "histogram": [
           {
            "bin_end": 0.1,
            "bin_start": 0,
            "count": 453
           },
           {
            "bin_end": 0.2,
            "bin_start": 0.1,
            "count": 0
           },
           {
            "bin_end": 0.30000000000000004,
            "bin_start": 0.2,
            "count": 0
           },
           {
            "bin_end": 0.4,
            "bin_start": 0.30000000000000004,
            "count": 0
           },
           {
            "bin_end": 0.5,
            "bin_start": 0.4,
            "count": 0
           },
           {
            "bin_end": 0.6000000000000001,
            "bin_start": 0.5,
            "count": 0
           },
           {
            "bin_end": 0.7000000000000001,
            "bin_start": 0.6000000000000001,
            "count": 0
           },
           {
            "bin_end": 0.8,
            "bin_start": 0.7000000000000001,
            "count": 0
           },
           {
            "bin_end": 0.9,
            "bin_start": 0.8,
            "count": 0
           },
           {
            "bin_end": 1,
            "bin_start": 0.9,
            "count": 259
           }
          ],
          "max": "1",
          "min": "0",
          "nan_count": 0,
          "unique_count": 2
         }
        },
        {
         "dtype": "uint8",
         "name": "male",
         "stats": {
          "histogram": [
           {
            "bin_end": 0.1,
            "bin_start": 0,
            "count": 259
           },
           {
            "bin_end": 0.2,
            "bin_start": 0.1,
            "count": 0
           },
           {
            "bin_end": 0.30000000000000004,
            "bin_start": 0.2,
            "count": 0
           },
           {
            "bin_end": 0.4,
            "bin_start": 0.30000000000000004,
            "count": 0
           },
           {
            "bin_end": 0.5,
            "bin_start": 0.4,
            "count": 0
           },
           {
            "bin_end": 0.6000000000000001,
            "bin_start": 0.5,
            "count": 0
           },
           {
            "bin_end": 0.7000000000000001,
            "bin_start": 0.6000000000000001,
            "count": 0
           },
           {
            "bin_end": 0.8,
            "bin_start": 0.7000000000000001,
            "count": 0
           },
           {
            "bin_end": 0.9,
            "bin_start": 0.8,
            "count": 0
           },
           {
            "bin_end": 1,
            "bin_start": 0.9,
            "count": 453
           }
          ],
          "max": "1",
          "min": "0",
          "nan_count": 0,
          "unique_count": 2
         }
        },
        {
         "dtype": "int64",
         "name": "_deepnote_index_column"
        }
       ],
       "row_count": 712,
       "rows": [
        {
         "_deepnote_index_column": "0",
         "female": "0",
         "male": "1"
        },
        {
         "_deepnote_index_column": "1",
         "female": "1",
         "male": "0"
        },
        {
         "_deepnote_index_column": "2",
         "female": "1",
         "male": "0"
        },
        {
         "_deepnote_index_column": "3",
         "female": "1",
         "male": "0"
        },
        {
         "_deepnote_index_column": "4",
         "female": "0",
         "male": "1"
        },
        {
         "_deepnote_index_column": "5",
         "female": "0",
         "male": "1"
        },
        {
         "_deepnote_index_column": "6",
         "female": "0",
         "male": "1"
        },
        {
         "_deepnote_index_column": "7",
         "female": "1",
         "male": "0"
        },
        {
         "_deepnote_index_column": "8",
         "female": "1",
         "male": "0"
        },
        {
         "_deepnote_index_column": "9",
         "female": "1",
         "male": "0"
        }
       ]
      },
      "text/html": [
       "<div>\n",
       "<style scoped>\n",
       "    .dataframe tbody tr th:only-of-type {\n",
       "        vertical-align: middle;\n",
       "    }\n",
       "\n",
       "    .dataframe tbody tr th {\n",
       "        vertical-align: top;\n",
       "    }\n",
       "\n",
       "    .dataframe thead th {\n",
       "        text-align: right;\n",
       "    }\n",
       "</style>\n",
       "<table border=\"1\" class=\"dataframe\">\n",
       "  <thead>\n",
       "    <tr style=\"text-align: right;\">\n",
       "      <th></th>\n",
       "      <th>female</th>\n",
       "      <th>male</th>\n",
       "    </tr>\n",
       "  </thead>\n",
       "  <tbody>\n",
       "    <tr>\n",
       "      <th>0</th>\n",
       "      <td>0</td>\n",
       "      <td>1</td>\n",
       "    </tr>\n",
       "    <tr>\n",
       "      <th>1</th>\n",
       "      <td>1</td>\n",
       "      <td>0</td>\n",
       "    </tr>\n",
       "    <tr>\n",
       "      <th>2</th>\n",
       "      <td>1</td>\n",
       "      <td>0</td>\n",
       "    </tr>\n",
       "    <tr>\n",
       "      <th>3</th>\n",
       "      <td>1</td>\n",
       "      <td>0</td>\n",
       "    </tr>\n",
       "    <tr>\n",
       "      <th>4</th>\n",
       "      <td>0</td>\n",
       "      <td>1</td>\n",
       "    </tr>\n",
       "    <tr>\n",
       "      <th>...</th>\n",
       "      <td>...</td>\n",
       "      <td>...</td>\n",
       "    </tr>\n",
       "    <tr>\n",
       "      <th>707</th>\n",
       "      <td>1</td>\n",
       "      <td>0</td>\n",
       "    </tr>\n",
       "    <tr>\n",
       "      <th>708</th>\n",
       "      <td>0</td>\n",
       "      <td>1</td>\n",
       "    </tr>\n",
       "    <tr>\n",
       "      <th>709</th>\n",
       "      <td>1</td>\n",
       "      <td>0</td>\n",
       "    </tr>\n",
       "    <tr>\n",
       "      <th>710</th>\n",
       "      <td>0</td>\n",
       "      <td>1</td>\n",
       "    </tr>\n",
       "    <tr>\n",
       "      <th>711</th>\n",
       "      <td>0</td>\n",
       "      <td>1</td>\n",
       "    </tr>\n",
       "  </tbody>\n",
       "</table>\n",
       "<p>712 rows × 2 columns</p>\n",
       "</div>"
      ],
      "text/plain": [
       "     female  male\n",
       "0         0     1\n",
       "1         1     0\n",
       "2         1     0\n",
       "3         1     0\n",
       "4         0     1\n",
       "..      ...   ...\n",
       "707       1     0\n",
       "708       0     1\n",
       "709       1     0\n",
       "710       0     1\n",
       "711       0     1\n",
       "\n",
       "[712 rows x 2 columns]"
      ]
     },
     "execution_count": 6,
     "metadata": {},
     "output_type": "execute_result"
    }
   ],
   "source": [
    "pd.get_dummies(df['Sex'])"
   ]
  },
  {
   "cell_type": "code",
   "execution_count": 7,
   "metadata": {
    "cell_id": "d99303d08f7c410b96f63042e45e86a9",
    "colab": {
     "base_uri": "https://localhost:8080/",
     "height": 447
    },
    "deepnote_cell_type": "code",
    "deepnote_to_be_reexecuted": false,
    "executionInfo": {
     "elapsed": 147,
     "status": "ok",
     "timestamp": 1635806644765,
     "user": {
      "displayName": "Shasha Liao",
      "photoUrl": "https://lh3.googleusercontent.com/a-/AOh14Ghf5Tj0GAz5by2x9KRBgR3ka1GNpPK67XG2GpESnA=s64",
      "userId": "03341420781931408968"
     },
     "user_tz": 240
    },
    "execution_millis": 4,
    "execution_start": 1667592062589,
    "id": "mzlmyJRCx-lw",
    "outputId": "a2c3f0ba-b462-4fa4-aef8-3c4416e44484",
    "source_hash": "a4124f6c"
   },
   "outputs": [
    {
     "data": {
      "application/vnd.deepnote.dataframe.v3+json": {
       "column_count": 9,
       "columns": [
        {
         "dtype": "int64",
         "name": "Survived",
         "stats": {
          "histogram": [
           {
            "bin_end": 0.1,
            "bin_start": 0,
            "count": 424
           },
           {
            "bin_end": 0.2,
            "bin_start": 0.1,
            "count": 0
           },
           {
            "bin_end": 0.30000000000000004,
            "bin_start": 0.2,
            "count": 0
           },
           {
            "bin_end": 0.4,
            "bin_start": 0.30000000000000004,
            "count": 0
           },
           {
            "bin_end": 0.5,
            "bin_start": 0.4,
            "count": 0
           },
           {
            "bin_end": 0.6000000000000001,
            "bin_start": 0.5,
            "count": 0
           },
           {
            "bin_end": 0.7000000000000001,
            "bin_start": 0.6000000000000001,
            "count": 0
           },
           {
            "bin_end": 0.8,
            "bin_start": 0.7000000000000001,
            "count": 0
           },
           {
            "bin_end": 0.9,
            "bin_start": 0.8,
            "count": 0
           },
           {
            "bin_end": 1,
            "bin_start": 0.9,
            "count": 288
           }
          ],
          "max": "1",
          "min": "0",
          "nan_count": 0,
          "unique_count": 2
         }
        },
        {
         "dtype": "int64",
         "name": "Pclass",
         "stats": {
          "histogram": [
           {
            "bin_end": 1.2,
            "bin_start": 1,
            "count": 184
           },
           {
            "bin_end": 1.4,
            "bin_start": 1.2,
            "count": 0
           },
           {
            "bin_end": 1.6,
            "bin_start": 1.4,
            "count": 0
           },
           {
            "bin_end": 1.8,
            "bin_start": 1.6,
            "count": 0
           },
           {
            "bin_end": 2,
            "bin_start": 1.8,
            "count": 0
           },
           {
            "bin_end": 2.2,
            "bin_start": 2,
            "count": 173
           },
           {
            "bin_end": 2.4000000000000004,
            "bin_start": 2.2,
            "count": 0
           },
           {
            "bin_end": 2.6,
            "bin_start": 2.4000000000000004,
            "count": 0
           },
           {
            "bin_end": 2.8,
            "bin_start": 2.6,
            "count": 0
           },
           {
            "bin_end": 3,
            "bin_start": 2.8,
            "count": 355
           }
          ],
          "max": "3",
          "min": "1",
          "nan_count": 0,
          "unique_count": 3
         }
        },
        {
         "dtype": "float64",
         "name": "Age",
         "stats": {
          "histogram": [
           {
            "bin_end": 8.378,
            "bin_start": 0.42,
            "count": 54
           },
           {
            "bin_end": 16.336000000000002,
            "bin_start": 8.378,
            "count": 46
           },
           {
            "bin_end": 24.294000000000004,
            "bin_start": 16.336000000000002,
            "count": 177
           },
           {
            "bin_end": 32.252,
            "bin_start": 24.294000000000004,
            "count": 169
           },
           {
            "bin_end": 40.21,
            "bin_start": 32.252,
            "count": 117
           },
           {
            "bin_end": 48.168000000000006,
            "bin_start": 40.21,
            "count": 70
           },
           {
            "bin_end": 56.126000000000005,
            "bin_start": 48.168000000000006,
            "count": 45
           },
           {
            "bin_end": 64.084,
            "bin_start": 56.126000000000005,
            "count": 23
           },
           {
            "bin_end": 72.042,
            "bin_start": 64.084,
            "count": 9
           },
           {
            "bin_end": 80,
            "bin_start": 72.042,
            "count": 2
           }
          ],
          "max": "80.0",
          "min": "0.42",
          "nan_count": 0,
          "unique_count": 88
         }
        },
        {
         "dtype": "int64",
         "name": "SibSp",
         "stats": {
          "histogram": [
           {
            "bin_end": 0.5,
            "bin_start": 0,
            "count": 469
           },
           {
            "bin_end": 1,
            "bin_start": 0.5,
            "count": 0
           },
           {
            "bin_end": 1.5,
            "bin_start": 1,
            "count": 183
           },
           {
            "bin_end": 2,
            "bin_start": 1.5,
            "count": 0
           },
           {
            "bin_end": 2.5,
            "bin_start": 2,
            "count": 25
           },
           {
            "bin_end": 3,
            "bin_start": 2.5,
            "count": 0
           },
           {
            "bin_end": 3.5,
            "bin_start": 3,
            "count": 12
           },
           {
            "bin_end": 4,
            "bin_start": 3.5,
            "count": 0
           },
           {
            "bin_end": 4.5,
            "bin_start": 4,
            "count": 18
           },
           {
            "bin_end": 5,
            "bin_start": 4.5,
            "count": 5
           }
          ],
          "max": "5",
          "min": "0",
          "nan_count": 0,
          "unique_count": 6
         }
        },
        {
         "dtype": "int64",
         "name": "Parch",
         "stats": {
          "histogram": [
           {
            "bin_end": 0.6,
            "bin_start": 0,
            "count": 519
           },
           {
            "bin_end": 1.2,
            "bin_start": 0.6,
            "count": 110
           },
           {
            "bin_end": 1.7999999999999998,
            "bin_start": 1.2,
            "count": 0
           },
           {
            "bin_end": 2.4,
            "bin_start": 1.7999999999999998,
            "count": 68
           },
           {
            "bin_end": 3,
            "bin_start": 2.4,
            "count": 0
           },
           {
            "bin_end": 3.5999999999999996,
            "bin_start": 3,
            "count": 5
           },
           {
            "bin_end": 4.2,
            "bin_start": 3.5999999999999996,
            "count": 4
           },
           {
            "bin_end": 4.8,
            "bin_start": 4.2,
            "count": 0
           },
           {
            "bin_end": 5.3999999999999995,
            "bin_start": 4.8,
            "count": 5
           },
           {
            "bin_end": 6,
            "bin_start": 5.3999999999999995,
            "count": 1
           }
          ],
          "max": "6",
          "min": "0",
          "nan_count": 0,
          "unique_count": 7
         }
        },
        {
         "dtype": "float64",
         "name": "Fare",
         "stats": {
          "histogram": [
           {
            "bin_end": 51.23292,
            "bin_start": 0,
            "count": 577
           },
           {
            "bin_end": 102.46584,
            "bin_start": 51.23292,
            "count": 87
           },
           {
            "bin_end": 153.69876,
            "bin_start": 102.46584,
            "count": 28
           },
           {
            "bin_end": 204.93168,
            "bin_start": 153.69876,
            "count": 2
           },
           {
            "bin_end": 256.1646,
            "bin_start": 204.93168,
            "count": 9
           },
           {
            "bin_end": 307.39752,
            "bin_start": 256.1646,
            "count": 6
           },
           {
            "bin_end": 358.63044,
            "bin_start": 307.39752,
            "count": 0
           },
           {
            "bin_end": 409.86336,
            "bin_start": 358.63044,
            "count": 0
           },
           {
            "bin_end": 461.09628,
            "bin_start": 409.86336,
            "count": 0
           },
           {
            "bin_end": 512.3292,
            "bin_start": 461.09628,
            "count": 3
           }
          ],
          "max": "512.3292",
          "min": "0.0",
          "nan_count": 0,
          "unique_count": 219
         }
        },
        {
         "dtype": "object",
         "name": "Embarked",
         "stats": {
          "categories": [
           {
            "count": 554,
            "name": "S"
           },
           {
            "count": 130,
            "name": "C"
           },
           {
            "count": 28,
            "name": "Q"
           }
          ],
          "nan_count": 0,
          "unique_count": 3
         }
        },
        {
         "dtype": "uint8",
         "name": "female",
         "stats": {
          "histogram": [
           {
            "bin_end": 0.1,
            "bin_start": 0,
            "count": 453
           },
           {
            "bin_end": 0.2,
            "bin_start": 0.1,
            "count": 0
           },
           {
            "bin_end": 0.30000000000000004,
            "bin_start": 0.2,
            "count": 0
           },
           {
            "bin_end": 0.4,
            "bin_start": 0.30000000000000004,
            "count": 0
           },
           {
            "bin_end": 0.5,
            "bin_start": 0.4,
            "count": 0
           },
           {
            "bin_end": 0.6000000000000001,
            "bin_start": 0.5,
            "count": 0
           },
           {
            "bin_end": 0.7000000000000001,
            "bin_start": 0.6000000000000001,
            "count": 0
           },
           {
            "bin_end": 0.8,
            "bin_start": 0.7000000000000001,
            "count": 0
           },
           {
            "bin_end": 0.9,
            "bin_start": 0.8,
            "count": 0
           },
           {
            "bin_end": 1,
            "bin_start": 0.9,
            "count": 259
           }
          ],
          "max": "1",
          "min": "0",
          "nan_count": 0,
          "unique_count": 2
         }
        },
        {
         "dtype": "uint8",
         "name": "male",
         "stats": {
          "histogram": [
           {
            "bin_end": 0.1,
            "bin_start": 0,
            "count": 259
           },
           {
            "bin_end": 0.2,
            "bin_start": 0.1,
            "count": 0
           },
           {
            "bin_end": 0.30000000000000004,
            "bin_start": 0.2,
            "count": 0
           },
           {
            "bin_end": 0.4,
            "bin_start": 0.30000000000000004,
            "count": 0
           },
           {
            "bin_end": 0.5,
            "bin_start": 0.4,
            "count": 0
           },
           {
            "bin_end": 0.6000000000000001,
            "bin_start": 0.5,
            "count": 0
           },
           {
            "bin_end": 0.7000000000000001,
            "bin_start": 0.6000000000000001,
            "count": 0
           },
           {
            "bin_end": 0.8,
            "bin_start": 0.7000000000000001,
            "count": 0
           },
           {
            "bin_end": 0.9,
            "bin_start": 0.8,
            "count": 0
           },
           {
            "bin_end": 1,
            "bin_start": 0.9,
            "count": 453
           }
          ],
          "max": "1",
          "min": "0",
          "nan_count": 0,
          "unique_count": 2
         }
        },
        {
         "dtype": "int64",
         "name": "_deepnote_index_column"
        }
       ],
       "row_count": 712,
       "rows": [
        {
         "Age": "22.0",
         "Embarked": "S",
         "Fare": "7.25",
         "Parch": "0",
         "Pclass": "3",
         "SibSp": "1",
         "Survived": "0",
         "_deepnote_index_column": "0",
         "female": "0",
         "male": "1"
        },
        {
         "Age": "38.0",
         "Embarked": "C",
         "Fare": "71.2833",
         "Parch": "0",
         "Pclass": "1",
         "SibSp": "1",
         "Survived": "1",
         "_deepnote_index_column": "1",
         "female": "1",
         "male": "0"
        },
        {
         "Age": "26.0",
         "Embarked": "S",
         "Fare": "7.925",
         "Parch": "0",
         "Pclass": "3",
         "SibSp": "0",
         "Survived": "1",
         "_deepnote_index_column": "2",
         "female": "1",
         "male": "0"
        },
        {
         "Age": "35.0",
         "Embarked": "S",
         "Fare": "53.1",
         "Parch": "0",
         "Pclass": "1",
         "SibSp": "1",
         "Survived": "1",
         "_deepnote_index_column": "3",
         "female": "1",
         "male": "0"
        },
        {
         "Age": "35.0",
         "Embarked": "S",
         "Fare": "8.05",
         "Parch": "0",
         "Pclass": "3",
         "SibSp": "0",
         "Survived": "0",
         "_deepnote_index_column": "4",
         "female": "0",
         "male": "1"
        },
        {
         "Age": "54.0",
         "Embarked": "S",
         "Fare": "51.8625",
         "Parch": "0",
         "Pclass": "1",
         "SibSp": "0",
         "Survived": "0",
         "_deepnote_index_column": "5",
         "female": "0",
         "male": "1"
        },
        {
         "Age": "2.0",
         "Embarked": "S",
         "Fare": "21.075",
         "Parch": "1",
         "Pclass": "3",
         "SibSp": "3",
         "Survived": "0",
         "_deepnote_index_column": "6",
         "female": "0",
         "male": "1"
        },
        {
         "Age": "27.0",
         "Embarked": "S",
         "Fare": "11.1333",
         "Parch": "2",
         "Pclass": "3",
         "SibSp": "0",
         "Survived": "1",
         "_deepnote_index_column": "7",
         "female": "1",
         "male": "0"
        },
        {
         "Age": "14.0",
         "Embarked": "C",
         "Fare": "30.0708",
         "Parch": "0",
         "Pclass": "2",
         "SibSp": "1",
         "Survived": "1",
         "_deepnote_index_column": "8",
         "female": "1",
         "male": "0"
        },
        {
         "Age": "4.0",
         "Embarked": "S",
         "Fare": "16.7",
         "Parch": "1",
         "Pclass": "3",
         "SibSp": "1",
         "Survived": "1",
         "_deepnote_index_column": "9",
         "female": "1",
         "male": "0"
        }
       ]
      },
      "text/html": [
       "<div>\n",
       "<style scoped>\n",
       "    .dataframe tbody tr th:only-of-type {\n",
       "        vertical-align: middle;\n",
       "    }\n",
       "\n",
       "    .dataframe tbody tr th {\n",
       "        vertical-align: top;\n",
       "    }\n",
       "\n",
       "    .dataframe thead th {\n",
       "        text-align: right;\n",
       "    }\n",
       "</style>\n",
       "<table border=\"1\" class=\"dataframe\">\n",
       "  <thead>\n",
       "    <tr style=\"text-align: right;\">\n",
       "      <th></th>\n",
       "      <th>Survived</th>\n",
       "      <th>Pclass</th>\n",
       "      <th>Age</th>\n",
       "      <th>SibSp</th>\n",
       "      <th>Parch</th>\n",
       "      <th>Fare</th>\n",
       "      <th>Embarked</th>\n",
       "      <th>female</th>\n",
       "      <th>male</th>\n",
       "    </tr>\n",
       "  </thead>\n",
       "  <tbody>\n",
       "    <tr>\n",
       "      <th>0</th>\n",
       "      <td>0</td>\n",
       "      <td>3</td>\n",
       "      <td>22.0</td>\n",
       "      <td>1</td>\n",
       "      <td>0</td>\n",
       "      <td>7.2500</td>\n",
       "      <td>S</td>\n",
       "      <td>0</td>\n",
       "      <td>1</td>\n",
       "    </tr>\n",
       "    <tr>\n",
       "      <th>1</th>\n",
       "      <td>1</td>\n",
       "      <td>1</td>\n",
       "      <td>38.0</td>\n",
       "      <td>1</td>\n",
       "      <td>0</td>\n",
       "      <td>71.2833</td>\n",
       "      <td>C</td>\n",
       "      <td>1</td>\n",
       "      <td>0</td>\n",
       "    </tr>\n",
       "    <tr>\n",
       "      <th>2</th>\n",
       "      <td>1</td>\n",
       "      <td>3</td>\n",
       "      <td>26.0</td>\n",
       "      <td>0</td>\n",
       "      <td>0</td>\n",
       "      <td>7.9250</td>\n",
       "      <td>S</td>\n",
       "      <td>1</td>\n",
       "      <td>0</td>\n",
       "    </tr>\n",
       "    <tr>\n",
       "      <th>3</th>\n",
       "      <td>1</td>\n",
       "      <td>1</td>\n",
       "      <td>35.0</td>\n",
       "      <td>1</td>\n",
       "      <td>0</td>\n",
       "      <td>53.1000</td>\n",
       "      <td>S</td>\n",
       "      <td>1</td>\n",
       "      <td>0</td>\n",
       "    </tr>\n",
       "    <tr>\n",
       "      <th>4</th>\n",
       "      <td>0</td>\n",
       "      <td>3</td>\n",
       "      <td>35.0</td>\n",
       "      <td>0</td>\n",
       "      <td>0</td>\n",
       "      <td>8.0500</td>\n",
       "      <td>S</td>\n",
       "      <td>0</td>\n",
       "      <td>1</td>\n",
       "    </tr>\n",
       "    <tr>\n",
       "      <th>...</th>\n",
       "      <td>...</td>\n",
       "      <td>...</td>\n",
       "      <td>...</td>\n",
       "      <td>...</td>\n",
       "      <td>...</td>\n",
       "      <td>...</td>\n",
       "      <td>...</td>\n",
       "      <td>...</td>\n",
       "      <td>...</td>\n",
       "    </tr>\n",
       "    <tr>\n",
       "      <th>707</th>\n",
       "      <td>0</td>\n",
       "      <td>3</td>\n",
       "      <td>39.0</td>\n",
       "      <td>0</td>\n",
       "      <td>5</td>\n",
       "      <td>29.1250</td>\n",
       "      <td>Q</td>\n",
       "      <td>1</td>\n",
       "      <td>0</td>\n",
       "    </tr>\n",
       "    <tr>\n",
       "      <th>708</th>\n",
       "      <td>0</td>\n",
       "      <td>2</td>\n",
       "      <td>27.0</td>\n",
       "      <td>0</td>\n",
       "      <td>0</td>\n",
       "      <td>13.0000</td>\n",
       "      <td>S</td>\n",
       "      <td>0</td>\n",
       "      <td>1</td>\n",
       "    </tr>\n",
       "    <tr>\n",
       "      <th>709</th>\n",
       "      <td>1</td>\n",
       "      <td>1</td>\n",
       "      <td>19.0</td>\n",
       "      <td>0</td>\n",
       "      <td>0</td>\n",
       "      <td>30.0000</td>\n",
       "      <td>S</td>\n",
       "      <td>1</td>\n",
       "      <td>0</td>\n",
       "    </tr>\n",
       "    <tr>\n",
       "      <th>710</th>\n",
       "      <td>1</td>\n",
       "      <td>1</td>\n",
       "      <td>26.0</td>\n",
       "      <td>0</td>\n",
       "      <td>0</td>\n",
       "      <td>30.0000</td>\n",
       "      <td>C</td>\n",
       "      <td>0</td>\n",
       "      <td>1</td>\n",
       "    </tr>\n",
       "    <tr>\n",
       "      <th>711</th>\n",
       "      <td>0</td>\n",
       "      <td>3</td>\n",
       "      <td>32.0</td>\n",
       "      <td>0</td>\n",
       "      <td>0</td>\n",
       "      <td>7.7500</td>\n",
       "      <td>Q</td>\n",
       "      <td>0</td>\n",
       "      <td>1</td>\n",
       "    </tr>\n",
       "  </tbody>\n",
       "</table>\n",
       "<p>712 rows × 9 columns</p>\n",
       "</div>"
      ],
      "text/plain": [
       "     Survived  Pclass   Age  SibSp  Parch     Fare Embarked  female  male\n",
       "0           0       3  22.0      1      0   7.2500        S       0     1\n",
       "1           1       1  38.0      1      0  71.2833        C       1     0\n",
       "2           1       3  26.0      0      0   7.9250        S       1     0\n",
       "3           1       1  35.0      1      0  53.1000        S       1     0\n",
       "4           0       3  35.0      0      0   8.0500        S       0     1\n",
       "..        ...     ...   ...    ...    ...      ...      ...     ...   ...\n",
       "707         0       3  39.0      0      5  29.1250        Q       1     0\n",
       "708         0       2  27.0      0      0  13.0000        S       0     1\n",
       "709         1       1  19.0      0      0  30.0000        S       1     0\n",
       "710         1       1  26.0      0      0  30.0000        C       0     1\n",
       "711         0       3  32.0      0      0   7.7500        Q       0     1\n",
       "\n",
       "[712 rows x 9 columns]"
      ]
     },
     "execution_count": 7,
     "metadata": {},
     "output_type": "execute_result"
    }
   ],
   "source": [
    "df = pd.concat([df, pd.get_dummies(df['Sex'])], axis = 1).drop(columns = ['Sex'])\n",
    "df"
   ]
  },
  {
   "cell_type": "code",
   "execution_count": 8,
   "metadata": {
    "cell_id": "69d25d50dafa4cb9a21d58ae6174755a",
    "colab": {
     "base_uri": "https://localhost:8080/",
     "height": 447
    },
    "deepnote_cell_type": "code",
    "deepnote_to_be_reexecuted": false,
    "executionInfo": {
     "elapsed": 229,
     "status": "ok",
     "timestamp": 1635806655775,
     "user": {
      "displayName": "Shasha Liao",
      "photoUrl": "https://lh3.googleusercontent.com/a-/AOh14Ghf5Tj0GAz5by2x9KRBgR3ka1GNpPK67XG2GpESnA=s64",
      "userId": "03341420781931408968"
     },
     "user_tz": 240
    },
    "execution_millis": 15,
    "execution_start": 1667592062594,
    "id": "_CgwBFE22Goy",
    "outputId": "179dca66-da82-4ff4-c1c9-b068e3afb808",
    "source_hash": "1c54aa53"
   },
   "outputs": [
    {
     "data": {
      "application/vnd.deepnote.dataframe.v3+json": {
       "column_count": 3,
       "columns": [
        {
         "dtype": "uint8",
         "name": "C",
         "stats": {
          "histogram": [
           {
            "bin_end": 0.1,
            "bin_start": 0,
            "count": 582
           },
           {
            "bin_end": 0.2,
            "bin_start": 0.1,
            "count": 0
           },
           {
            "bin_end": 0.30000000000000004,
            "bin_start": 0.2,
            "count": 0
           },
           {
            "bin_end": 0.4,
            "bin_start": 0.30000000000000004,
            "count": 0
           },
           {
            "bin_end": 0.5,
            "bin_start": 0.4,
            "count": 0
           },
           {
            "bin_end": 0.6000000000000001,
            "bin_start": 0.5,
            "count": 0
           },
           {
            "bin_end": 0.7000000000000001,
            "bin_start": 0.6000000000000001,
            "count": 0
           },
           {
            "bin_end": 0.8,
            "bin_start": 0.7000000000000001,
            "count": 0
           },
           {
            "bin_end": 0.9,
            "bin_start": 0.8,
            "count": 0
           },
           {
            "bin_end": 1,
            "bin_start": 0.9,
            "count": 130
           }
          ],
          "max": "1",
          "min": "0",
          "nan_count": 0,
          "unique_count": 2
         }
        },
        {
         "dtype": "uint8",
         "name": "Q",
         "stats": {
          "histogram": [
           {
            "bin_end": 0.1,
            "bin_start": 0,
            "count": 684
           },
           {
            "bin_end": 0.2,
            "bin_start": 0.1,
            "count": 0
           },
           {
            "bin_end": 0.30000000000000004,
            "bin_start": 0.2,
            "count": 0
           },
           {
            "bin_end": 0.4,
            "bin_start": 0.30000000000000004,
            "count": 0
           },
           {
            "bin_end": 0.5,
            "bin_start": 0.4,
            "count": 0
           },
           {
            "bin_end": 0.6000000000000001,
            "bin_start": 0.5,
            "count": 0
           },
           {
            "bin_end": 0.7000000000000001,
            "bin_start": 0.6000000000000001,
            "count": 0
           },
           {
            "bin_end": 0.8,
            "bin_start": 0.7000000000000001,
            "count": 0
           },
           {
            "bin_end": 0.9,
            "bin_start": 0.8,
            "count": 0
           },
           {
            "bin_end": 1,
            "bin_start": 0.9,
            "count": 28
           }
          ],
          "max": "1",
          "min": "0",
          "nan_count": 0,
          "unique_count": 2
         }
        },
        {
         "dtype": "uint8",
         "name": "S",
         "stats": {
          "histogram": [
           {
            "bin_end": 0.1,
            "bin_start": 0,
            "count": 158
           },
           {
            "bin_end": 0.2,
            "bin_start": 0.1,
            "count": 0
           },
           {
            "bin_end": 0.30000000000000004,
            "bin_start": 0.2,
            "count": 0
           },
           {
            "bin_end": 0.4,
            "bin_start": 0.30000000000000004,
            "count": 0
           },
           {
            "bin_end": 0.5,
            "bin_start": 0.4,
            "count": 0
           },
           {
            "bin_end": 0.6000000000000001,
            "bin_start": 0.5,
            "count": 0
           },
           {
            "bin_end": 0.7000000000000001,
            "bin_start": 0.6000000000000001,
            "count": 0
           },
           {
            "bin_end": 0.8,
            "bin_start": 0.7000000000000001,
            "count": 0
           },
           {
            "bin_end": 0.9,
            "bin_start": 0.8,
            "count": 0
           },
           {
            "bin_end": 1,
            "bin_start": 0.9,
            "count": 554
           }
          ],
          "max": "1",
          "min": "0",
          "nan_count": 0,
          "unique_count": 2
         }
        },
        {
         "dtype": "int64",
         "name": "_deepnote_index_column"
        }
       ],
       "row_count": 712,
       "rows": [
        {
         "C": "0",
         "Q": "0",
         "S": "1",
         "_deepnote_index_column": "0"
        },
        {
         "C": "1",
         "Q": "0",
         "S": "0",
         "_deepnote_index_column": "1"
        },
        {
         "C": "0",
         "Q": "0",
         "S": "1",
         "_deepnote_index_column": "2"
        },
        {
         "C": "0",
         "Q": "0",
         "S": "1",
         "_deepnote_index_column": "3"
        },
        {
         "C": "0",
         "Q": "0",
         "S": "1",
         "_deepnote_index_column": "4"
        },
        {
         "C": "0",
         "Q": "0",
         "S": "1",
         "_deepnote_index_column": "5"
        },
        {
         "C": "0",
         "Q": "0",
         "S": "1",
         "_deepnote_index_column": "6"
        },
        {
         "C": "0",
         "Q": "0",
         "S": "1",
         "_deepnote_index_column": "7"
        },
        {
         "C": "1",
         "Q": "0",
         "S": "0",
         "_deepnote_index_column": "8"
        },
        {
         "C": "0",
         "Q": "0",
         "S": "1",
         "_deepnote_index_column": "9"
        }
       ]
      },
      "text/html": [
       "<div>\n",
       "<style scoped>\n",
       "    .dataframe tbody tr th:only-of-type {\n",
       "        vertical-align: middle;\n",
       "    }\n",
       "\n",
       "    .dataframe tbody tr th {\n",
       "        vertical-align: top;\n",
       "    }\n",
       "\n",
       "    .dataframe thead th {\n",
       "        text-align: right;\n",
       "    }\n",
       "</style>\n",
       "<table border=\"1\" class=\"dataframe\">\n",
       "  <thead>\n",
       "    <tr style=\"text-align: right;\">\n",
       "      <th></th>\n",
       "      <th>C</th>\n",
       "      <th>Q</th>\n",
       "      <th>S</th>\n",
       "    </tr>\n",
       "  </thead>\n",
       "  <tbody>\n",
       "    <tr>\n",
       "      <th>0</th>\n",
       "      <td>0</td>\n",
       "      <td>0</td>\n",
       "      <td>1</td>\n",
       "    </tr>\n",
       "    <tr>\n",
       "      <th>1</th>\n",
       "      <td>1</td>\n",
       "      <td>0</td>\n",
       "      <td>0</td>\n",
       "    </tr>\n",
       "    <tr>\n",
       "      <th>2</th>\n",
       "      <td>0</td>\n",
       "      <td>0</td>\n",
       "      <td>1</td>\n",
       "    </tr>\n",
       "    <tr>\n",
       "      <th>3</th>\n",
       "      <td>0</td>\n",
       "      <td>0</td>\n",
       "      <td>1</td>\n",
       "    </tr>\n",
       "    <tr>\n",
       "      <th>4</th>\n",
       "      <td>0</td>\n",
       "      <td>0</td>\n",
       "      <td>1</td>\n",
       "    </tr>\n",
       "    <tr>\n",
       "      <th>...</th>\n",
       "      <td>...</td>\n",
       "      <td>...</td>\n",
       "      <td>...</td>\n",
       "    </tr>\n",
       "    <tr>\n",
       "      <th>707</th>\n",
       "      <td>0</td>\n",
       "      <td>1</td>\n",
       "      <td>0</td>\n",
       "    </tr>\n",
       "    <tr>\n",
       "      <th>708</th>\n",
       "      <td>0</td>\n",
       "      <td>0</td>\n",
       "      <td>1</td>\n",
       "    </tr>\n",
       "    <tr>\n",
       "      <th>709</th>\n",
       "      <td>0</td>\n",
       "      <td>0</td>\n",
       "      <td>1</td>\n",
       "    </tr>\n",
       "    <tr>\n",
       "      <th>710</th>\n",
       "      <td>1</td>\n",
       "      <td>0</td>\n",
       "      <td>0</td>\n",
       "    </tr>\n",
       "    <tr>\n",
       "      <th>711</th>\n",
       "      <td>0</td>\n",
       "      <td>1</td>\n",
       "      <td>0</td>\n",
       "    </tr>\n",
       "  </tbody>\n",
       "</table>\n",
       "<p>712 rows × 3 columns</p>\n",
       "</div>"
      ],
      "text/plain": [
       "     C  Q  S\n",
       "0    0  0  1\n",
       "1    1  0  0\n",
       "2    0  0  1\n",
       "3    0  0  1\n",
       "4    0  0  1\n",
       "..  .. .. ..\n",
       "707  0  1  0\n",
       "708  0  0  1\n",
       "709  0  0  1\n",
       "710  1  0  0\n",
       "711  0  1  0\n",
       "\n",
       "[712 rows x 3 columns]"
      ]
     },
     "execution_count": 8,
     "metadata": {},
     "output_type": "execute_result"
    }
   ],
   "source": [
    "pd.get_dummies(df['Embarked'])"
   ]
  },
  {
   "cell_type": "code",
   "execution_count": 9,
   "metadata": {
    "cell_id": "741e5259654f42309a3e8bd091aea9f7",
    "colab": {
     "base_uri": "https://localhost:8080/",
     "height": 447
    },
    "deepnote_cell_type": "code",
    "deepnote_to_be_reexecuted": false,
    "executionInfo": {
     "elapsed": 143,
     "status": "ok",
     "timestamp": 1635806663940,
     "user": {
      "displayName": "Shasha Liao",
      "photoUrl": "https://lh3.googleusercontent.com/a-/AOh14Ghf5Tj0GAz5by2x9KRBgR3ka1GNpPK67XG2GpESnA=s64",
      "userId": "03341420781931408968"
     },
     "user_tz": 240
    },
    "execution_millis": 69,
    "execution_start": 1667592062609,
    "id": "dpr8gcyVyvPc",
    "outputId": "4c850795-b512-4144-f27f-13d39b6c68d0",
    "source_hash": "d62b9528"
   },
   "outputs": [
    {
     "data": {
      "application/vnd.deepnote.dataframe.v3+json": {
       "column_count": 11,
       "columns": [
        {
         "dtype": "int64",
         "name": "Survived",
         "stats": {
          "histogram": [
           {
            "bin_end": 0.1,
            "bin_start": 0,
            "count": 424
           },
           {
            "bin_end": 0.2,
            "bin_start": 0.1,
            "count": 0
           },
           {
            "bin_end": 0.30000000000000004,
            "bin_start": 0.2,
            "count": 0
           },
           {
            "bin_end": 0.4,
            "bin_start": 0.30000000000000004,
            "count": 0
           },
           {
            "bin_end": 0.5,
            "bin_start": 0.4,
            "count": 0
           },
           {
            "bin_end": 0.6000000000000001,
            "bin_start": 0.5,
            "count": 0
           },
           {
            "bin_end": 0.7000000000000001,
            "bin_start": 0.6000000000000001,
            "count": 0
           },
           {
            "bin_end": 0.8,
            "bin_start": 0.7000000000000001,
            "count": 0
           },
           {
            "bin_end": 0.9,
            "bin_start": 0.8,
            "count": 0
           },
           {
            "bin_end": 1,
            "bin_start": 0.9,
            "count": 288
           }
          ],
          "max": "1",
          "min": "0",
          "nan_count": 0,
          "unique_count": 2
         }
        },
        {
         "dtype": "int64",
         "name": "Pclass",
         "stats": {
          "histogram": [
           {
            "bin_end": 1.2,
            "bin_start": 1,
            "count": 184
           },
           {
            "bin_end": 1.4,
            "bin_start": 1.2,
            "count": 0
           },
           {
            "bin_end": 1.6,
            "bin_start": 1.4,
            "count": 0
           },
           {
            "bin_end": 1.8,
            "bin_start": 1.6,
            "count": 0
           },
           {
            "bin_end": 2,
            "bin_start": 1.8,
            "count": 0
           },
           {
            "bin_end": 2.2,
            "bin_start": 2,
            "count": 173
           },
           {
            "bin_end": 2.4000000000000004,
            "bin_start": 2.2,
            "count": 0
           },
           {
            "bin_end": 2.6,
            "bin_start": 2.4000000000000004,
            "count": 0
           },
           {
            "bin_end": 2.8,
            "bin_start": 2.6,
            "count": 0
           },
           {
            "bin_end": 3,
            "bin_start": 2.8,
            "count": 355
           }
          ],
          "max": "3",
          "min": "1",
          "nan_count": 0,
          "unique_count": 3
         }
        },
        {
         "dtype": "float64",
         "name": "Age",
         "stats": {
          "histogram": [
           {
            "bin_end": 8.378,
            "bin_start": 0.42,
            "count": 54
           },
           {
            "bin_end": 16.336000000000002,
            "bin_start": 8.378,
            "count": 46
           },
           {
            "bin_end": 24.294000000000004,
            "bin_start": 16.336000000000002,
            "count": 177
           },
           {
            "bin_end": 32.252,
            "bin_start": 24.294000000000004,
            "count": 169
           },
           {
            "bin_end": 40.21,
            "bin_start": 32.252,
            "count": 117
           },
           {
            "bin_end": 48.168000000000006,
            "bin_start": 40.21,
            "count": 70
           },
           {
            "bin_end": 56.126000000000005,
            "bin_start": 48.168000000000006,
            "count": 45
           },
           {
            "bin_end": 64.084,
            "bin_start": 56.126000000000005,
            "count": 23
           },
           {
            "bin_end": 72.042,
            "bin_start": 64.084,
            "count": 9
           },
           {
            "bin_end": 80,
            "bin_start": 72.042,
            "count": 2
           }
          ],
          "max": "80.0",
          "min": "0.42",
          "nan_count": 0,
          "unique_count": 88
         }
        },
        {
         "dtype": "int64",
         "name": "SibSp",
         "stats": {
          "histogram": [
           {
            "bin_end": 0.5,
            "bin_start": 0,
            "count": 469
           },
           {
            "bin_end": 1,
            "bin_start": 0.5,
            "count": 0
           },
           {
            "bin_end": 1.5,
            "bin_start": 1,
            "count": 183
           },
           {
            "bin_end": 2,
            "bin_start": 1.5,
            "count": 0
           },
           {
            "bin_end": 2.5,
            "bin_start": 2,
            "count": 25
           },
           {
            "bin_end": 3,
            "bin_start": 2.5,
            "count": 0
           },
           {
            "bin_end": 3.5,
            "bin_start": 3,
            "count": 12
           },
           {
            "bin_end": 4,
            "bin_start": 3.5,
            "count": 0
           },
           {
            "bin_end": 4.5,
            "bin_start": 4,
            "count": 18
           },
           {
            "bin_end": 5,
            "bin_start": 4.5,
            "count": 5
           }
          ],
          "max": "5",
          "min": "0",
          "nan_count": 0,
          "unique_count": 6
         }
        },
        {
         "dtype": "int64",
         "name": "Parch",
         "stats": {
          "histogram": [
           {
            "bin_end": 0.6,
            "bin_start": 0,
            "count": 519
           },
           {
            "bin_end": 1.2,
            "bin_start": 0.6,
            "count": 110
           },
           {
            "bin_end": 1.7999999999999998,
            "bin_start": 1.2,
            "count": 0
           },
           {
            "bin_end": 2.4,
            "bin_start": 1.7999999999999998,
            "count": 68
           },
           {
            "bin_end": 3,
            "bin_start": 2.4,
            "count": 0
           },
           {
            "bin_end": 3.5999999999999996,
            "bin_start": 3,
            "count": 5
           },
           {
            "bin_end": 4.2,
            "bin_start": 3.5999999999999996,
            "count": 4
           },
           {
            "bin_end": 4.8,
            "bin_start": 4.2,
            "count": 0
           },
           {
            "bin_end": 5.3999999999999995,
            "bin_start": 4.8,
            "count": 5
           },
           {
            "bin_end": 6,
            "bin_start": 5.3999999999999995,
            "count": 1
           }
          ],
          "max": "6",
          "min": "0",
          "nan_count": 0,
          "unique_count": 7
         }
        },
        {
         "dtype": "float64",
         "name": "Fare",
         "stats": {
          "histogram": [
           {
            "bin_end": 51.23292,
            "bin_start": 0,
            "count": 577
           },
           {
            "bin_end": 102.46584,
            "bin_start": 51.23292,
            "count": 87
           },
           {
            "bin_end": 153.69876,
            "bin_start": 102.46584,
            "count": 28
           },
           {
            "bin_end": 204.93168,
            "bin_start": 153.69876,
            "count": 2
           },
           {
            "bin_end": 256.1646,
            "bin_start": 204.93168,
            "count": 9
           },
           {
            "bin_end": 307.39752,
            "bin_start": 256.1646,
            "count": 6
           },
           {
            "bin_end": 358.63044,
            "bin_start": 307.39752,
            "count": 0
           },
           {
            "bin_end": 409.86336,
            "bin_start": 358.63044,
            "count": 0
           },
           {
            "bin_end": 461.09628,
            "bin_start": 409.86336,
            "count": 0
           },
           {
            "bin_end": 512.3292,
            "bin_start": 461.09628,
            "count": 3
           }
          ],
          "max": "512.3292",
          "min": "0.0",
          "nan_count": 0,
          "unique_count": 219
         }
        },
        {
         "dtype": "uint8",
         "name": "female",
         "stats": {
          "histogram": [
           {
            "bin_end": 0.1,
            "bin_start": 0,
            "count": 453
           },
           {
            "bin_end": 0.2,
            "bin_start": 0.1,
            "count": 0
           },
           {
            "bin_end": 0.30000000000000004,
            "bin_start": 0.2,
            "count": 0
           },
           {
            "bin_end": 0.4,
            "bin_start": 0.30000000000000004,
            "count": 0
           },
           {
            "bin_end": 0.5,
            "bin_start": 0.4,
            "count": 0
           },
           {
            "bin_end": 0.6000000000000001,
            "bin_start": 0.5,
            "count": 0
           },
           {
            "bin_end": 0.7000000000000001,
            "bin_start": 0.6000000000000001,
            "count": 0
           },
           {
            "bin_end": 0.8,
            "bin_start": 0.7000000000000001,
            "count": 0
           },
           {
            "bin_end": 0.9,
            "bin_start": 0.8,
            "count": 0
           },
           {
            "bin_end": 1,
            "bin_start": 0.9,
            "count": 259
           }
          ],
          "max": "1",
          "min": "0",
          "nan_count": 0,
          "unique_count": 2
         }
        },
        {
         "dtype": "uint8",
         "name": "male",
         "stats": {
          "histogram": [
           {
            "bin_end": 0.1,
            "bin_start": 0,
            "count": 259
           },
           {
            "bin_end": 0.2,
            "bin_start": 0.1,
            "count": 0
           },
           {
            "bin_end": 0.30000000000000004,
            "bin_start": 0.2,
            "count": 0
           },
           {
            "bin_end": 0.4,
            "bin_start": 0.30000000000000004,
            "count": 0
           },
           {
            "bin_end": 0.5,
            "bin_start": 0.4,
            "count": 0
           },
           {
            "bin_end": 0.6000000000000001,
            "bin_start": 0.5,
            "count": 0
           },
           {
            "bin_end": 0.7000000000000001,
            "bin_start": 0.6000000000000001,
            "count": 0
           },
           {
            "bin_end": 0.8,
            "bin_start": 0.7000000000000001,
            "count": 0
           },
           {
            "bin_end": 0.9,
            "bin_start": 0.8,
            "count": 0
           },
           {
            "bin_end": 1,
            "bin_start": 0.9,
            "count": 453
           }
          ],
          "max": "1",
          "min": "0",
          "nan_count": 0,
          "unique_count": 2
         }
        },
        {
         "dtype": "uint8",
         "name": "C",
         "stats": {
          "histogram": [
           {
            "bin_end": 0.1,
            "bin_start": 0,
            "count": 582
           },
           {
            "bin_end": 0.2,
            "bin_start": 0.1,
            "count": 0
           },
           {
            "bin_end": 0.30000000000000004,
            "bin_start": 0.2,
            "count": 0
           },
           {
            "bin_end": 0.4,
            "bin_start": 0.30000000000000004,
            "count": 0
           },
           {
            "bin_end": 0.5,
            "bin_start": 0.4,
            "count": 0
           },
           {
            "bin_end": 0.6000000000000001,
            "bin_start": 0.5,
            "count": 0
           },
           {
            "bin_end": 0.7000000000000001,
            "bin_start": 0.6000000000000001,
            "count": 0
           },
           {
            "bin_end": 0.8,
            "bin_start": 0.7000000000000001,
            "count": 0
           },
           {
            "bin_end": 0.9,
            "bin_start": 0.8,
            "count": 0
           },
           {
            "bin_end": 1,
            "bin_start": 0.9,
            "count": 130
           }
          ],
          "max": "1",
          "min": "0",
          "nan_count": 0,
          "unique_count": 2
         }
        },
        {
         "dtype": "uint8",
         "name": "Q",
         "stats": {
          "histogram": [
           {
            "bin_end": 0.1,
            "bin_start": 0,
            "count": 684
           },
           {
            "bin_end": 0.2,
            "bin_start": 0.1,
            "count": 0
           },
           {
            "bin_end": 0.30000000000000004,
            "bin_start": 0.2,
            "count": 0
           },
           {
            "bin_end": 0.4,
            "bin_start": 0.30000000000000004,
            "count": 0
           },
           {
            "bin_end": 0.5,
            "bin_start": 0.4,
            "count": 0
           },
           {
            "bin_end": 0.6000000000000001,
            "bin_start": 0.5,
            "count": 0
           },
           {
            "bin_end": 0.7000000000000001,
            "bin_start": 0.6000000000000001,
            "count": 0
           },
           {
            "bin_end": 0.8,
            "bin_start": 0.7000000000000001,
            "count": 0
           },
           {
            "bin_end": 0.9,
            "bin_start": 0.8,
            "count": 0
           },
           {
            "bin_end": 1,
            "bin_start": 0.9,
            "count": 28
           }
          ],
          "max": "1",
          "min": "0",
          "nan_count": 0,
          "unique_count": 2
         }
        },
        {
         "dtype": "uint8",
         "name": "S",
         "stats": {
          "histogram": [
           {
            "bin_end": 0.1,
            "bin_start": 0,
            "count": 158
           },
           {
            "bin_end": 0.2,
            "bin_start": 0.1,
            "count": 0
           },
           {
            "bin_end": 0.30000000000000004,
            "bin_start": 0.2,
            "count": 0
           },
           {
            "bin_end": 0.4,
            "bin_start": 0.30000000000000004,
            "count": 0
           },
           {
            "bin_end": 0.5,
            "bin_start": 0.4,
            "count": 0
           },
           {
            "bin_end": 0.6000000000000001,
            "bin_start": 0.5,
            "count": 0
           },
           {
            "bin_end": 0.7000000000000001,
            "bin_start": 0.6000000000000001,
            "count": 0
           },
           {
            "bin_end": 0.8,
            "bin_start": 0.7000000000000001,
            "count": 0
           },
           {
            "bin_end": 0.9,
            "bin_start": 0.8,
            "count": 0
           },
           {
            "bin_end": 1,
            "bin_start": 0.9,
            "count": 554
           }
          ],
          "max": "1",
          "min": "0",
          "nan_count": 0,
          "unique_count": 2
         }
        },
        {
         "dtype": "int64",
         "name": "_deepnote_index_column"
        }
       ],
       "row_count": 712,
       "rows": [
        {
         "Age": "22.0",
         "C": "0",
         "Fare": "7.25",
         "Parch": "0",
         "Pclass": "3",
         "Q": "0",
         "S": "1",
         "SibSp": "1",
         "Survived": "0",
         "_deepnote_index_column": "0",
         "female": "0",
         "male": "1"
        },
        {
         "Age": "38.0",
         "C": "1",
         "Fare": "71.2833",
         "Parch": "0",
         "Pclass": "1",
         "Q": "0",
         "S": "0",
         "SibSp": "1",
         "Survived": "1",
         "_deepnote_index_column": "1",
         "female": "1",
         "male": "0"
        },
        {
         "Age": "26.0",
         "C": "0",
         "Fare": "7.925",
         "Parch": "0",
         "Pclass": "3",
         "Q": "0",
         "S": "1",
         "SibSp": "0",
         "Survived": "1",
         "_deepnote_index_column": "2",
         "female": "1",
         "male": "0"
        },
        {
         "Age": "35.0",
         "C": "0",
         "Fare": "53.1",
         "Parch": "0",
         "Pclass": "1",
         "Q": "0",
         "S": "1",
         "SibSp": "1",
         "Survived": "1",
         "_deepnote_index_column": "3",
         "female": "1",
         "male": "0"
        },
        {
         "Age": "35.0",
         "C": "0",
         "Fare": "8.05",
         "Parch": "0",
         "Pclass": "3",
         "Q": "0",
         "S": "1",
         "SibSp": "0",
         "Survived": "0",
         "_deepnote_index_column": "4",
         "female": "0",
         "male": "1"
        },
        {
         "Age": "54.0",
         "C": "0",
         "Fare": "51.8625",
         "Parch": "0",
         "Pclass": "1",
         "Q": "0",
         "S": "1",
         "SibSp": "0",
         "Survived": "0",
         "_deepnote_index_column": "5",
         "female": "0",
         "male": "1"
        },
        {
         "Age": "2.0",
         "C": "0",
         "Fare": "21.075",
         "Parch": "1",
         "Pclass": "3",
         "Q": "0",
         "S": "1",
         "SibSp": "3",
         "Survived": "0",
         "_deepnote_index_column": "6",
         "female": "0",
         "male": "1"
        },
        {
         "Age": "27.0",
         "C": "0",
         "Fare": "11.1333",
         "Parch": "2",
         "Pclass": "3",
         "Q": "0",
         "S": "1",
         "SibSp": "0",
         "Survived": "1",
         "_deepnote_index_column": "7",
         "female": "1",
         "male": "0"
        },
        {
         "Age": "14.0",
         "C": "1",
         "Fare": "30.0708",
         "Parch": "0",
         "Pclass": "2",
         "Q": "0",
         "S": "0",
         "SibSp": "1",
         "Survived": "1",
         "_deepnote_index_column": "8",
         "female": "1",
         "male": "0"
        },
        {
         "Age": "4.0",
         "C": "0",
         "Fare": "16.7",
         "Parch": "1",
         "Pclass": "3",
         "Q": "0",
         "S": "1",
         "SibSp": "1",
         "Survived": "1",
         "_deepnote_index_column": "9",
         "female": "1",
         "male": "0"
        }
       ]
      },
      "text/html": [
       "<div>\n",
       "<style scoped>\n",
       "    .dataframe tbody tr th:only-of-type {\n",
       "        vertical-align: middle;\n",
       "    }\n",
       "\n",
       "    .dataframe tbody tr th {\n",
       "        vertical-align: top;\n",
       "    }\n",
       "\n",
       "    .dataframe thead th {\n",
       "        text-align: right;\n",
       "    }\n",
       "</style>\n",
       "<table border=\"1\" class=\"dataframe\">\n",
       "  <thead>\n",
       "    <tr style=\"text-align: right;\">\n",
       "      <th></th>\n",
       "      <th>Survived</th>\n",
       "      <th>Pclass</th>\n",
       "      <th>Age</th>\n",
       "      <th>SibSp</th>\n",
       "      <th>Parch</th>\n",
       "      <th>Fare</th>\n",
       "      <th>female</th>\n",
       "      <th>male</th>\n",
       "      <th>C</th>\n",
       "      <th>Q</th>\n",
       "      <th>S</th>\n",
       "    </tr>\n",
       "  </thead>\n",
       "  <tbody>\n",
       "    <tr>\n",
       "      <th>0</th>\n",
       "      <td>0</td>\n",
       "      <td>3</td>\n",
       "      <td>22.0</td>\n",
       "      <td>1</td>\n",
       "      <td>0</td>\n",
       "      <td>7.2500</td>\n",
       "      <td>0</td>\n",
       "      <td>1</td>\n",
       "      <td>0</td>\n",
       "      <td>0</td>\n",
       "      <td>1</td>\n",
       "    </tr>\n",
       "    <tr>\n",
       "      <th>1</th>\n",
       "      <td>1</td>\n",
       "      <td>1</td>\n",
       "      <td>38.0</td>\n",
       "      <td>1</td>\n",
       "      <td>0</td>\n",
       "      <td>71.2833</td>\n",
       "      <td>1</td>\n",
       "      <td>0</td>\n",
       "      <td>1</td>\n",
       "      <td>0</td>\n",
       "      <td>0</td>\n",
       "    </tr>\n",
       "    <tr>\n",
       "      <th>2</th>\n",
       "      <td>1</td>\n",
       "      <td>3</td>\n",
       "      <td>26.0</td>\n",
       "      <td>0</td>\n",
       "      <td>0</td>\n",
       "      <td>7.9250</td>\n",
       "      <td>1</td>\n",
       "      <td>0</td>\n",
       "      <td>0</td>\n",
       "      <td>0</td>\n",
       "      <td>1</td>\n",
       "    </tr>\n",
       "    <tr>\n",
       "      <th>3</th>\n",
       "      <td>1</td>\n",
       "      <td>1</td>\n",
       "      <td>35.0</td>\n",
       "      <td>1</td>\n",
       "      <td>0</td>\n",
       "      <td>53.1000</td>\n",
       "      <td>1</td>\n",
       "      <td>0</td>\n",
       "      <td>0</td>\n",
       "      <td>0</td>\n",
       "      <td>1</td>\n",
       "    </tr>\n",
       "    <tr>\n",
       "      <th>4</th>\n",
       "      <td>0</td>\n",
       "      <td>3</td>\n",
       "      <td>35.0</td>\n",
       "      <td>0</td>\n",
       "      <td>0</td>\n",
       "      <td>8.0500</td>\n",
       "      <td>0</td>\n",
       "      <td>1</td>\n",
       "      <td>0</td>\n",
       "      <td>0</td>\n",
       "      <td>1</td>\n",
       "    </tr>\n",
       "    <tr>\n",
       "      <th>...</th>\n",
       "      <td>...</td>\n",
       "      <td>...</td>\n",
       "      <td>...</td>\n",
       "      <td>...</td>\n",
       "      <td>...</td>\n",
       "      <td>...</td>\n",
       "      <td>...</td>\n",
       "      <td>...</td>\n",
       "      <td>...</td>\n",
       "      <td>...</td>\n",
       "      <td>...</td>\n",
       "    </tr>\n",
       "    <tr>\n",
       "      <th>707</th>\n",
       "      <td>0</td>\n",
       "      <td>3</td>\n",
       "      <td>39.0</td>\n",
       "      <td>0</td>\n",
       "      <td>5</td>\n",
       "      <td>29.1250</td>\n",
       "      <td>1</td>\n",
       "      <td>0</td>\n",
       "      <td>0</td>\n",
       "      <td>1</td>\n",
       "      <td>0</td>\n",
       "    </tr>\n",
       "    <tr>\n",
       "      <th>708</th>\n",
       "      <td>0</td>\n",
       "      <td>2</td>\n",
       "      <td>27.0</td>\n",
       "      <td>0</td>\n",
       "      <td>0</td>\n",
       "      <td>13.0000</td>\n",
       "      <td>0</td>\n",
       "      <td>1</td>\n",
       "      <td>0</td>\n",
       "      <td>0</td>\n",
       "      <td>1</td>\n",
       "    </tr>\n",
       "    <tr>\n",
       "      <th>709</th>\n",
       "      <td>1</td>\n",
       "      <td>1</td>\n",
       "      <td>19.0</td>\n",
       "      <td>0</td>\n",
       "      <td>0</td>\n",
       "      <td>30.0000</td>\n",
       "      <td>1</td>\n",
       "      <td>0</td>\n",
       "      <td>0</td>\n",
       "      <td>0</td>\n",
       "      <td>1</td>\n",
       "    </tr>\n",
       "    <tr>\n",
       "      <th>710</th>\n",
       "      <td>1</td>\n",
       "      <td>1</td>\n",
       "      <td>26.0</td>\n",
       "      <td>0</td>\n",
       "      <td>0</td>\n",
       "      <td>30.0000</td>\n",
       "      <td>0</td>\n",
       "      <td>1</td>\n",
       "      <td>1</td>\n",
       "      <td>0</td>\n",
       "      <td>0</td>\n",
       "    </tr>\n",
       "    <tr>\n",
       "      <th>711</th>\n",
       "      <td>0</td>\n",
       "      <td>3</td>\n",
       "      <td>32.0</td>\n",
       "      <td>0</td>\n",
       "      <td>0</td>\n",
       "      <td>7.7500</td>\n",
       "      <td>0</td>\n",
       "      <td>1</td>\n",
       "      <td>0</td>\n",
       "      <td>1</td>\n",
       "      <td>0</td>\n",
       "    </tr>\n",
       "  </tbody>\n",
       "</table>\n",
       "<p>712 rows × 11 columns</p>\n",
       "</div>"
      ],
      "text/plain": [
       "     Survived  Pclass   Age  SibSp  Parch     Fare  female  male  C  Q  S\n",
       "0           0       3  22.0      1      0   7.2500       0     1  0  0  1\n",
       "1           1       1  38.0      1      0  71.2833       1     0  1  0  0\n",
       "2           1       3  26.0      0      0   7.9250       1     0  0  0  1\n",
       "3           1       1  35.0      1      0  53.1000       1     0  0  0  1\n",
       "4           0       3  35.0      0      0   8.0500       0     1  0  0  1\n",
       "..        ...     ...   ...    ...    ...      ...     ...   ... .. .. ..\n",
       "707         0       3  39.0      0      5  29.1250       1     0  0  1  0\n",
       "708         0       2  27.0      0      0  13.0000       0     1  0  0  1\n",
       "709         1       1  19.0      0      0  30.0000       1     0  0  0  1\n",
       "710         1       1  26.0      0      0  30.0000       0     1  1  0  0\n",
       "711         0       3  32.0      0      0   7.7500       0     1  0  1  0\n",
       "\n",
       "[712 rows x 11 columns]"
      ]
     },
     "execution_count": 9,
     "metadata": {},
     "output_type": "execute_result"
    }
   ],
   "source": [
    "df = pd.concat([df, pd.get_dummies(df['Embarked'])], axis = 1).drop(columns = ['Embarked'])\n",
    "df"
   ]
  },
  {
   "cell_type": "markdown",
   "metadata": {
    "cell_id": "29ff39530e564ca68adcfec184db1412",
    "deepnote_cell_height": 192.59375,
    "deepnote_cell_type": "markdown",
    "id": "j7KQjTn2yT4W"
   },
   "source": [
    "## Train Test Splitting\n",
    "- All the data is splitted into two parts, **training set** and **testing set**. \n",
    "- One works as the learning material for us to train the model, and the other works as the final exam for us to test how good our model is after the training.\n",
    "\n",
    "**Question:** How should we split the data into training set and testing set?"
   ]
  },
  {
   "cell_type": "code",
   "execution_count": 10,
   "metadata": {
    "cell_id": "669a7a41c3004149a28a3a211707c3e6",
    "colab": {
     "base_uri": "https://localhost:8080/"
    },
    "deepnote_cell_type": "code",
    "deepnote_to_be_reexecuted": false,
    "executionInfo": {
     "elapsed": 318,
     "status": "ok",
     "timestamp": 1635806715872,
     "user": {
      "displayName": "Shasha Liao",
      "photoUrl": "https://lh3.googleusercontent.com/a-/AOh14Ghf5Tj0GAz5by2x9KRBgR3ka1GNpPK67XG2GpESnA=s64",
      "userId": "03341420781931408968"
     },
     "user_tz": 240
    },
    "execution_millis": 220,
    "execution_start": 1667592062680,
    "id": "UocXTbdQu_y7",
    "outputId": "ef99f0da-ae1b-47e5-cd69-58b952ff33eb",
    "source_hash": "c6c574d7"
   },
   "outputs": [
    {
     "name": "stdout",
     "output_type": "stream",
     "text": [
      "Training set shape:  (569, 10)\n",
      "Testing set shape:  (143, 10)\n"
     ]
    }
   ],
   "source": [
    "from sklearn.model_selection import train_test_split\n",
    "X = df.drop(columns = ['Survived'])\n",
    "y = df['Survived']\n",
    "\n",
    "# train test splitting\n",
    "X_train, X_test, y_train, y_test = train_test_split(X, y, test_size=0.2, shuffle = True)\n",
    "\n",
    "print('Training set shape: ', X_train.shape)\n",
    "print('Testing set shape: ', X_test.shape)"
   ]
  },
  {
   "cell_type": "code",
   "execution_count": 11,
   "metadata": {
    "cell_id": "cad6b97061aa4877aa9198d8ed814c6e",
    "colab": {
     "base_uri": "https://localhost:8080/"
    },
    "deepnote_cell_type": "code",
    "deepnote_to_be_reexecuted": false,
    "executionInfo": {
     "elapsed": 7,
     "status": "ok",
     "timestamp": 1635525597684,
     "user": {
      "displayName": "Shasha Liao",
      "photoUrl": "https://lh3.googleusercontent.com/a-/AOh14Ghf5Tj0GAz5by2x9KRBgR3ka1GNpPK67XG2GpESnA=s64",
      "userId": "03341420781931408968"
     },
     "user_tz": 240
    },
    "execution_millis": 6,
    "execution_start": 1667592062945,
    "id": "j72a0FYEX_JE",
    "outputId": "68d02735-c5d1-4f3d-dc99-fc8eeeb86d2d",
    "source_hash": "ed857f47"
   },
   "outputs": [
    {
     "data": {
      "text/plain": [
       "143    0\n",
       "600    1\n",
       "98     1\n",
       "631    0\n",
       "540    0\n",
       "      ..\n",
       "390    0\n",
       "311    1\n",
       "152    1\n",
       "89     0\n",
       "151    0\n",
       "Name: Survived, Length: 569, dtype: int64"
      ]
     },
     "execution_count": 11,
     "metadata": {},
     "output_type": "execute_result"
    }
   ],
   "source": [
    "y_train"
   ]
  },
  {
   "cell_type": "code",
   "execution_count": 12,
   "metadata": {
    "cell_id": "fd0dbf51b5804103a7107bbd4c4e399c",
    "deepnote_cell_type": "code",
    "deepnote_to_be_reexecuted": false,
    "execution_millis": 29,
    "execution_start": 1667592062946,
    "id": "qZeNYt2a5N-f",
    "source_hash": "8f752c32"
   },
   "outputs": [],
   "source": [
    "# Standard Scale the data such that each column has mean 0 and variance 1\n",
    "from sklearn.preprocessing import StandardScaler  \n",
    "scaler = StandardScaler()  \n",
    "\n",
    "# Don't cheat - fit only on training data\n",
    "scaler.fit(X_train)  \n",
    "X_train = scaler.transform(X_train)  \n",
    "\n",
    "# apply same transformation to test data\n",
    "X_test = scaler.transform(X_test)"
   ]
  },
  {
   "cell_type": "code",
   "execution_count": 13,
   "metadata": {
    "cell_id": "3e0b913f7cea47a7864736218708aab2",
    "colab": {
     "base_uri": "https://localhost:8080/"
    },
    "deepnote_cell_type": "code",
    "deepnote_to_be_reexecuted": false,
    "executionInfo": {
     "elapsed": 223,
     "status": "ok",
     "timestamp": 1635525602949,
     "user": {
      "displayName": "Shasha Liao",
      "photoUrl": "https://lh3.googleusercontent.com/a-/AOh14Ghf5Tj0GAz5by2x9KRBgR3ka1GNpPK67XG2GpESnA=s64",
      "userId": "03341420781931408968"
     },
     "user_tz": 240
    },
    "execution_millis": 3,
    "execution_start": 1667592062975,
    "id": "daF6PvnADVlJ",
    "outputId": "ae76e2f3-0db3-402a-905a-3b3239b28d3c",
    "source_hash": "b98e27fa"
   },
   "outputs": [
    {
     "data": {
      "text/plain": [
       "array([[ 0.91237159,  0.42086544, -0.55711037, ..., -0.46734935,\n",
       "        -0.19575793,  0.52515212],\n",
       "       [-0.28934006,  1.24875451,  0.60404641, ..., -0.46734935,\n",
       "        -0.19575793,  0.52515212],\n",
       "       [ 0.91237159, -1.23491271,  0.60404641, ...,  2.13972694,\n",
       "        -0.19575793, -1.90421014],\n",
       "       ...,\n",
       "       [ 0.91237159, -0.75197742,  0.60404641, ..., -0.46734935,\n",
       "        -0.19575793,  0.52515212],\n",
       "       [ 0.91237159, -0.6139959 , -0.55711037, ..., -0.46734935,\n",
       "        -0.19575793,  0.52515212],\n",
       "       [-0.28934006, -0.75197742, -0.55711037, ..., -0.46734935,\n",
       "        -0.19575793,  0.52515212]])"
      ]
     },
     "execution_count": 13,
     "metadata": {},
     "output_type": "execute_result"
    }
   ],
   "source": [
    "X_train"
   ]
  },
  {
   "cell_type": "code",
   "execution_count": 14,
   "metadata": {
    "cell_id": "2362b14798b045b2b9f56739688f14ab",
    "colab": {
     "base_uri": "https://localhost:8080/"
    },
    "deepnote_cell_type": "code",
    "deepnote_to_be_reexecuted": false,
    "executionInfo": {
     "elapsed": 209,
     "status": "ok",
     "timestamp": 1635525604625,
     "user": {
      "displayName": "Shasha Liao",
      "photoUrl": "https://lh3.googleusercontent.com/a-/AOh14Ghf5Tj0GAz5by2x9KRBgR3ka1GNpPK67XG2GpESnA=s64",
      "userId": "03341420781931408968"
     },
     "user_tz": 240
    },
    "execution_millis": 2,
    "execution_start": 1667592062976,
    "id": "VJQApDKnDk5w",
    "outputId": "6d313ef1-e737-426c-e575-10b8f7483956",
    "source_hash": "38f368cd"
   },
   "outputs": [
    {
     "data": {
      "text/plain": [
       "(569, 10)"
      ]
     },
     "execution_count": 14,
     "metadata": {},
     "output_type": "execute_result"
    }
   ],
   "source": [
    "X_train.shape"
   ]
  },
  {
   "cell_type": "markdown",
   "metadata": {
    "cell_id": "425615b019ef43f7857dd5328a060f9b",
    "deepnote_cell_height": 426.1875,
    "deepnote_cell_type": "markdown",
    "id": "TswPPf4tFkyw"
   },
   "source": [
    "## Dimension Reduction: projecting data to a 2D plane\n",
    "\n",
    "**Question**: Why do you think dimension reduction is important?\n",
    "\n",
    "**PCA**: a statistical method to project data in a higher dimensional space into a lower dimensional space by maximizing the variance of each dimension.\n",
    "\n",
    "<img src=\"https://miro.medium.com/max/231/0*Jo1VWpTi6u6llQW9\"  height='400'>"
   ]
  },
  {
   "cell_type": "code",
   "execution_count": 15,
   "metadata": {
    "cell_id": "d5151b249e2e4efda9d65516aea63dad",
    "colab": {
     "base_uri": "https://localhost:8080/"
    },
    "deepnote_cell_type": "code",
    "deepnote_to_be_reexecuted": false,
    "executionInfo": {
     "elapsed": 215,
     "status": "ok",
     "timestamp": 1635525606823,
     "user": {
      "displayName": "Shasha Liao",
      "photoUrl": "https://lh3.googleusercontent.com/a-/AOh14Ghf5Tj0GAz5by2x9KRBgR3ka1GNpPK67XG2GpESnA=s64",
      "userId": "03341420781931408968"
     },
     "user_tz": 240
    },
    "execution_millis": 3,
    "execution_start": 1667592062979,
    "id": "j4xwyZqkDUiN",
    "outputId": "db3a63eb-762b-4949-c6e7-13fb4e7cdec6",
    "source_hash": "ed857f47"
   },
   "outputs": [
    {
     "data": {
      "text/plain": [
       "143    0\n",
       "600    1\n",
       "98     1\n",
       "631    0\n",
       "540    0\n",
       "      ..\n",
       "390    0\n",
       "311    1\n",
       "152    1\n",
       "89     0\n",
       "151    0\n",
       "Name: Survived, Length: 569, dtype: int64"
      ]
     },
     "execution_count": 15,
     "metadata": {},
     "output_type": "execute_result"
    }
   ],
   "source": [
    "y_train"
   ]
  },
  {
   "cell_type": "code",
   "execution_count": 16,
   "metadata": {
    "cell_id": "a1a25724fd5146cc94bcf49348f29a67",
    "colab": {
     "base_uri": "https://localhost:8080/",
     "height": 356
    },
    "deepnote_cell_type": "code",
    "deepnote_to_be_reexecuted": false,
    "executionInfo": {
     "elapsed": 816,
     "status": "ok",
     "timestamp": 1635525608733,
     "user": {
      "displayName": "Shasha Liao",
      "photoUrl": "https://lh3.googleusercontent.com/a-/AOh14Ghf5Tj0GAz5by2x9KRBgR3ka1GNpPK67XG2GpESnA=s64",
      "userId": "03341420781931408968"
     },
     "user_tz": 240
    },
    "execution_millis": 828,
    "execution_start": 1667592062983,
    "id": "6ggmSaTRCcJC",
    "outputId": "ac50f078-708a-4845-d3e7-11957acdaf96",
    "source_hash": "7a0cbc09"
   },
   "outputs": [
    {
     "data": {
      "image/png": "[encoded data removed]",
      "text/plain": [
       "<Figure size 1000x500 with 2 Axes>"
      ]
     },
     "metadata": {
      "image/png": {
       "height": 451,
       "width": 825
      }
     },
     "output_type": "display_data"
    }
   ],
   "source": [
    "from sklearn.decomposition import PCA\n",
    "\n",
    "pca = PCA(n_components = 2)\n",
    "pca.fit(X_train)\n",
    "X_train2D = pca.transform(X_train)\n",
    "X_test2D = pca.transform(X_test)\n",
    "\n",
    "f, axarr = plt.subplots(1, 2, sharex='col', sharey='row', figsize=(10, 5))\n",
    "for i in range(2):\n",
    "      axarr[0].scatter(X_train2D[y_train == i, 0], X_train2D[y_train == i, 1], label = str(i))\n",
    "                                    \n",
    "      axarr[0].legend()\n",
    "      axarr[0].set_title('Training data')\n",
    "\n",
    "      axarr[1].scatter(X_test2D[y_test == i, 0], X_test2D[y_test == i, 1], label = str(i))\n",
    "                                    \n",
    "      axarr[1].legend()\n",
    "      axarr[1].set_title('Testing data')"
   ]
  },
  {
   "cell_type": "markdown",
   "metadata": {
    "cell_id": "016e5ea45c11413891401de0c3b2df63",
    "deepnote_cell_height": 52.390625,
    "deepnote_cell_type": "markdown",
    "id": "4AyQGtHfNUqo"
   },
   "source": [
    "**Question:** what do you think is the best way to classify the training data?"
   ]
  },
  {
   "cell_type": "markdown",
   "metadata": {
    "cell_id": "05f0db41751441b8be77ed4245ddd257",
    "deepnote_cell_height": 130.796875,
    "deepnote_cell_type": "markdown",
    "id": "V7sqf-cJnQKG"
   },
   "source": [
    "## What is a Machine Learning Model?\n",
    "A matchine learning model can be a mathematical representation of a real-world process. To generate a machine learning model you will need to provide training data to a machine learning algorithm to learn from."
   ]
  },
  {
   "cell_type": "markdown",
   "metadata": {
    "cell_id": "70d4ab9411aa4c469e6f6d694692c01f",
    "deepnote_cell_height": 606.59375,
    "deepnote_cell_type": "markdown",
    "id": "VihHSKjNryWw"
   },
   "source": [
    "## Classification vs. Regression\n",
    "- **Classification algorithms** are used to predict/Classify the discrete values such as Male or Female, True or False, Spam or Not Spam, etc.\n",
    "  - Logistic Regression\n",
    "  - Decision Tree Classification\n",
    "  - Random Forest Classification\n",
    "  - Support Vector Machines\n",
    "  - Kernel SVM\n",
    "  - K-Nearest Neighbours\n",
    "  - Naïve Bayes\n",
    "  - Neural Network Classification\n",
    "\n",
    "- **Regression algorithms** are used to predict the continuous values such as price, salary, age, etc.\n",
    "  - Simple Linear Regression\n",
    "  - Multiple Linear Regression\n",
    "  - Polynomial Regression\n",
    "  - Support Vector Regression\n",
    "  - Decision Tree Regression\n",
    "  - Random Forest Regression\n",
    "  - Neural Network Regression\n",
    "\n",
    "**Question**: which kind of algorithms should we use to predict if a person survided or not?"
   ]
  },
  {
   "cell_type": "markdown",
   "metadata": {
    "cell_id": "ee7b5688df414890992f4c8f874fc328",
    "deepnote_cell_height": 70,
    "deepnote_cell_type": "markdown",
    "id": "BQFkzFLjr6Bn"
   },
   "source": [
    "## Survey of models"
   ]
  },
  {
   "cell_type": "markdown",
   "metadata": {
    "cell_id": "6c37dfa7f4c34294bd76c12af2fd9b10",
    "deepnote_cell_height": 122.796875,
    "deepnote_cell_type": "markdown",
    "id": "VlXo0lm6sVEk"
   },
   "source": [
    "### Decision Tree/Random Forest\n",
    "\n",
    "A tree like model that optimizes probable outcomes based off existing statistics. The node that goes to the left from the previous node abides to the set condition where as the one going to the right is negative.\n",
    "\n",
    "\n",
    "\n"
   ]
  },
  {
   "cell_type": "markdown",
   "metadata": {
    "cell_id": "67f2ae5f318e4021bba60c7003846bda",
    "deepnote_cell_type": "markdown",
    "id": "YIRYmJIcnCMr"
   },
   "source": [
    "#### Gini Impurtiy/ Calculating Gini Impurity\n",
    "\n",
    "A very important concept to understand is Gini Impurity. Gini impurity is the probability of incorrectly labeling something. The metric helps us determine which node would be most suitable.\n",
    "\n",
    "If a set has one class of points the **purity is high** and the **gini number is small**. If a set has equal data from two classes the **purity is low** and the **gini number is high**. In a decision tree we are trying to **minimize the gini number**.\n",
    "\n",
    "--> How to calculate: P<sub>yes</sub> * (1 - P<sub>yes</sub>) + P<sub>no</sub> * (1 - P<sub>no</sub>) = P<sub>yes</sub> - P<sub>yes</sub><sup>2</sup> + P<sub>no</sub> - P<sub>no</sub><sup>2</sup> \n",
    "\n",
    "**1 - (P<sub>yes</sub>)<sup>2</sup> - (P<sub>no</sub>)<sup>2</sup>**\n",
    "\n",
    "(The value must then be properly weighted)\n",
    "\n",
    "\n",
    "EXAMPLE:\n",
    "\n",
    "--> let's use strictly gender to find Gini impurity. Our metric for our first node will be whether or not the passenger is a woman\n",
    "\n",
    "Out of 259 women, 195 survive and 64 die.\n",
    "\n",
    "Out of 453 men, 93 survive and 360 die.\n",
    "\n",
    "Looking at women passengers, 1 - (195 / 259)<sup>2</sup> - (64 / 259)<sup>2</sup> = .372\n",
    "\n",
    "Looking at male passengers, 1 - (93 / 453)<sup>2</sup> - (360 / 453)<sup>2</sup> = .326\n",
    "\n",
    "We end up with values of .372 and .334. However, we are not done as .372 accounts for a smaller portion of the population than .334 does (women to men). Therefore, we now must weight these properly\n",
    "\n",
    "women gini: .372 * (259 / 712) = .135 *(0.135 chance of misclassifying a female)*\n",
    "\n",
    "men gini: .326 * (453 / 712) = .207 *(0.207 chance of misclassifying a male)*\n",
    "\n",
    "These gini numbers indicate that knowing if our passenger is a woman, we have a higher probability of predicting her survival"
   ]
  },
  {
   "cell_type": "markdown",
   "metadata": {
    "cell_id": "3963be0608864ec4b72f8c8e83f6b851",
    "deepnote_cell_height": 285.1875,
    "deepnote_cell_type": "markdown",
    "id": "CsH1qK5MqJni"
   },
   "source": [
    "### How to Further Use Gini Impurity\n",
    "\n",
    "Let's say we look at the node produced by the node of passengers who are women. We can now decide whether or not we want to add a node or not, but how do we decide whether or not to add more?\n",
    "\n",
    "We have already used gender as our first condition. We can now look at any other factor (i.e. priority class or fare price or age). Since fare price and age do not have distinct groups, we must give them their own groups ie ages between 25 through 50 as a group.\n",
    "\n",
    "Let's start with priority class since this already has groups. We have priority classes of 1, 2 and 3. We calculate the gini impurity for each of those classes, for women in priority classes of 1, 2, 3. If any of those gini impurities are lower than the current one, we will keep the node. If not, we remove the node as that would only hurt predictability since a lower gini indicidates higher accuracy."
   ]
  },
  {
   "cell_type": "code",
   "execution_count": 17,
   "metadata": {
    "cell_id": "ca14897822084ae9801b0a46304ccd34",
    "colab": {
     "base_uri": "https://localhost:8080/",
     "height": 703
    },
    "deepnote_cell_type": "code",
    "deepnote_to_be_reexecuted": false,
    "executionInfo": {
     "elapsed": 1105,
     "status": "ok",
     "timestamp": 1635525616858,
     "user": {
      "displayName": "Shasha Liao",
      "photoUrl": "https://lh3.googleusercontent.com/a-/AOh14Ghf5Tj0GAz5by2x9KRBgR3ka1GNpPK67XG2GpESnA=s64",
      "userId": "03341420781931408968"
     },
     "user_tz": 240
    },
    "execution_millis": 1067,
    "execution_start": 1667592063812,
    "id": "Ii6uSlaL3d4b",
    "outputId": "c0307643-c648-48c2-bf03-e96eaf3a84d7",
    "source_hash": "a3beca39"
   },
   "outputs": [
    {
     "data": {
      "image/png": "[encoded data removed]",
      "text/plain": [
       "<Figure size 2000x1200 with 1 Axes>"
      ]
     },
     "metadata": {
      "image/png": {
       "height": 944,
       "width": 1570
      }
     },
     "output_type": "display_data"
    }
   ],
   "source": [
    "from sklearn import tree\n",
    "\n",
    "# decision tree classifier\n",
    "clf_tree = tree.DecisionTreeClassifier(max_leaf_nodes = 8) #limits amount of leafs nodes\n",
    "clf_tree.fit(X, y)  #fitting to the data\n",
    "#clf_tree.fit(X_train, y_train) \n",
    "\n",
    "plt.figure(figsize = (20, 12))\n",
    "tree.plot_tree(clf_tree,filled = True,fontsize=10,feature_names = ['Pclass', 'Age', 'SibSp', 'Parch', 'Fare', 'female', 'male', 'C', 'Q', 'S'])\n",
    "plt.show()"
   ]
  },
  {
   "cell_type": "markdown",
   "metadata": {
    "cell_id": "bb8ed73db25640fa9db8f82a218747aa",
    "deepnote_cell_height": 254.390625,
    "deepnote_cell_type": "markdown",
    "id": "YC72yMIYsYd1"
   },
   "source": [
    "### Logistic Regression\n",
    "\n",
    "Let's first recap a linear regression model. \n",
    "\n",
    "Linear approach to modeling relationship between a dependent variable and multiple or a single input variable, ie using height to predict weight or using height and shoe size to predict weight.\n",
    "\n",
    "Logistic regression follows the same concept except uses discrete values ie yes and no rather than continuous values.\n",
    "\n",
    "Linear regression would be using height to predict weight, and logistic regression would be using height to predict whether or not someone is above 150 pounds based on their height.\n",
    "\n",
    "\n",
    "\n"
   ]
  },
  {
   "cell_type": "code",
   "execution_count": 18,
   "metadata": {
    "cell_id": "799b0fcb7e79419f8de7bf729e1341bd",
    "deepnote_cell_type": "code",
    "deepnote_to_be_reexecuted": false,
    "execution_millis": 13295368,
    "execution_start": 1667592064679,
    "id": "1H7WfKWu2kr-",
    "source_hash": "b8e2552b"
   },
   "outputs": [],
   "source": [
    "from sklearn.linear_model import LogisticRegression\n"
   ]
  },
  {
   "cell_type": "code",
   "execution_count": 19,
   "metadata": {
    "cell_id": "ee4dc2825d1c445daa0451925ed742ed",
    "colab": {
     "base_uri": "https://localhost:8080/"
    },
    "deepnote_cell_type": "code",
    "deepnote_to_be_reexecuted": false,
    "executionInfo": {
     "elapsed": 183,
     "status": "ok",
     "timestamp": 1635807580082,
     "user": {
      "displayName": "Shasha Liao",
      "photoUrl": "https://lh3.googleusercontent.com/a-/AOh14Ghf5Tj0GAz5by2x9KRBgR3ka1GNpPK67XG2GpESnA=s64",
      "userId": "03341420781931408968"
     },
     "user_tz": 240
    },
    "execution_millis": 200,
    "execution_start": 1667592064681,
    "id": "7PB5-zoe53Mb",
    "outputId": "be61fbc6-793e-46bd-84e4-240508d692ed",
    "source_hash": "f5004b7d"
   },
   "outputs": [
    {
     "data": {
      "text/html": [
       "<style>#sk-container-id-1 {color: black;background-color: white;}#sk-container-id-1 pre{padding: 0;}#sk-container-id-1 div.sk-toggleable {background-color: white;}#sk-container-id-1 label.sk-toggleable__label {cursor: pointer;display: block;width: 100%;margin-bottom: 0;padding: 0.3em;box-sizing: border-box;text-align: center;}#sk-container-id-1 label.sk-toggleable__label-arrow:before {content: \"▸\";float: left;margin-right: 0.25em;color: #696969;}#sk-container-id-1 label.sk-toggleable__label-arrow:hover:before {color: black;}#sk-container-id-1 div.sk-estimator:hover label.sk-toggleable__label-arrow:before {color: black;}#sk-container-id-1 div.sk-toggleable__content {max-height: 0;max-width: 0;overflow: hidden;text-align: left;background-color: #f0f8ff;}#sk-container-id-1 div.sk-toggleable__content pre {margin: 0.2em;color: black;border-radius: 0.25em;background-color: #f0f8ff;}#sk-container-id-1 input.sk-toggleable__control:checked~div.sk-toggleable__content {max-height: 200px;max-width: 100%;overflow: auto;}#sk-container-id-1 input.sk-toggleable__control:checked~label.sk-toggleable__label-arrow:before {content: \"▾\";}#sk-container-id-1 div.sk-estimator input.sk-toggleable__control:checked~label.sk-toggleable__label {background-color: #d4ebff;}#sk-container-id-1 div.sk-label input.sk-toggleable__control:checked~label.sk-toggleable__label {background-color: #d4ebff;}#sk-container-id-1 input.sk-hidden--visually {border: 0;clip: rect(1px 1px 1px 1px);clip: rect(1px, 1px, 1px, 1px);height: 1px;margin: -1px;overflow: hidden;padding: 0;position: absolute;width: 1px;}#sk-container-id-1 div.sk-estimator {font-family: monospace;background-color: #f0f8ff;border: 1px dotted black;border-radius: 0.25em;box-sizing: border-box;margin-bottom: 0.5em;}#sk-container-id-1 div.sk-estimator:hover {background-color: #d4ebff;}#sk-container-id-1 div.sk-parallel-item::after {content: \"\";width: 100%;border-bottom: 1px solid gray;flex-grow: 1;}#sk-container-id-1 div.sk-label:hover label.sk-toggleable__label {background-color: #d4ebff;}#sk-container-id-1 div.sk-serial::before {content: \"\";position: absolute;border-left: 1px solid gray;box-sizing: border-box;top: 0;bottom: 0;left: 50%;z-index: 0;}#sk-container-id-1 div.sk-serial {display: flex;flex-direction: column;align-items: center;background-color: white;padding-right: 0.2em;padding-left: 0.2em;position: relative;}#sk-container-id-1 div.sk-item {position: relative;z-index: 1;}#sk-container-id-1 div.sk-parallel {display: flex;align-items: stretch;justify-content: center;background-color: white;position: relative;}#sk-container-id-1 div.sk-item::before, #sk-container-id-1 div.sk-parallel-item::before {content: \"\";position: absolute;border-left: 1px solid gray;box-sizing: border-box;top: 0;bottom: 0;left: 50%;z-index: -1;}#sk-container-id-1 div.sk-parallel-item {display: flex;flex-direction: column;z-index: 1;position: relative;background-color: white;}#sk-container-id-1 div.sk-parallel-item:first-child::after {align-self: flex-end;width: 50%;}#sk-container-id-1 div.sk-parallel-item:last-child::after {align-self: flex-start;width: 50%;}#sk-container-id-1 div.sk-parallel-item:only-child::after {width: 0;}#sk-container-id-1 div.sk-dashed-wrapped {border: 1px dashed gray;margin: 0 0.4em 0.5em 0.4em;box-sizing: border-box;padding-bottom: 0.4em;background-color: white;}#sk-container-id-1 div.sk-label label {font-family: monospace;font-weight: bold;display: inline-block;line-height: 1.2em;}#sk-container-id-1 div.sk-label-container {text-align: center;}#sk-container-id-1 div.sk-container {/* jupyter's `normalize.less` sets `[hidden] { display: none; }` but bootstrap.min.css set `[hidden] { display: none !important; }` so we also need the `!important` here to be able to override the default hidden behavior on the sphinx rendered scikit-learn.org. See: https://github.com/scikit-learn/scikit-learn/issues/21755 */display: inline-block !important;position: relative;}#sk-container-id-1 div.sk-text-repr-fallback {display: none;}</style><div id=\"sk-container-id-1\" class=\"sk-top-container\"><div class=\"sk-text-repr-fallback\"><pre>LogisticRegression()</pre><b>In a Jupyter environment, please rerun this cell to show the HTML representation or trust the notebook. <br />On GitHub, the HTML representation is unable to render, please try loading this page with nbviewer.org.</b></div><div class=\"sk-container\" hidden><div class=\"sk-item\"><div class=\"sk-estimator sk-toggleable\"><input class=\"sk-toggleable__control sk-hidden--visually\" id=\"sk-estimator-id-1\" type=\"checkbox\" checked><label for=\"sk-estimator-id-1\" class=\"sk-toggleable__label sk-toggleable__label-arrow\">LogisticRegression</label><div class=\"sk-toggleable__content\"><pre>LogisticRegression()</pre></div></div></div></div></div>"
      ],
      "text/plain": [
       "LogisticRegression()"
      ]
     },
     "execution_count": 19,
     "metadata": {},
     "output_type": "execute_result"
    }
   ],
   "source": [
    "#fit the model\n",
    "logmodel = LogisticRegression()\n",
    "logmodel.fit(X_train,y_train)"
   ]
  },
  {
   "cell_type": "code",
   "execution_count": 20,
   "metadata": {
    "cell_id": "b9a829dc1e30463baa8a9d7e5a2d66ea",
    "deepnote_cell_type": "code",
    "deepnote_to_be_reexecuted": false,
    "execution_millis": 0,
    "execution_start": 1667592064691,
    "id": "RXGAP5u57HCJ",
    "source_hash": "11aa90c1"
   },
   "outputs": [],
   "source": [
    "predictions = logmodel.predict(X_test)"
   ]
  },
  {
   "cell_type": "code",
   "execution_count": 21,
   "metadata": {
    "cell_id": "a34d2e925abb4be188fd8e1e834907c6",
    "colab": {
     "base_uri": "https://localhost:8080/"
    },
    "deepnote_cell_type": "code",
    "deepnote_to_be_reexecuted": false,
    "executionInfo": {
     "elapsed": 202,
     "status": "ok",
     "timestamp": 1635807604210,
     "user": {
      "displayName": "Shasha Liao",
      "photoUrl": "https://lh3.googleusercontent.com/a-/AOh14Ghf5Tj0GAz5by2x9KRBgR3ka1GNpPK67XG2GpESnA=s64",
      "userId": "03341420781931408968"
     },
     "user_tz": 240
    },
    "execution_millis": 188,
    "execution_start": 1667592064694,
    "id": "zIAmwXgNc4R4",
    "outputId": "1177d5cd-8de5-493b-c124-e4fe62c8aaac",
    "source_hash": "463ff82d"
   },
   "outputs": [
    {
     "data": {
      "text/plain": [
       "array([0, 0, 0, 0, 0, 0, 0, 1, 1, 0, 1, 1, 1, 1, 0, 0, 0, 0, 0, 1, 0, 0,\n",
       "       1, 1, 1, 0, 0, 0, 0, 1, 0, 1, 0, 1, 0, 0, 1, 0, 0, 0, 0, 1, 1, 0,\n",
       "       0, 0, 0, 0, 0, 0, 0, 0, 1, 0, 1, 1, 1, 0, 0, 1, 0, 1, 0, 0, 0, 0,\n",
       "       1, 1, 1, 1, 1, 1, 0, 0, 1, 0, 1, 1, 1, 0, 0, 1, 0, 0, 1, 1, 1, 1,\n",
       "       0, 0, 1, 0, 0, 1, 0, 0, 1, 1, 0, 1, 0, 1, 0, 1, 1, 0, 1, 1, 0, 0,\n",
       "       1, 1, 0, 1, 1, 1, 0, 0, 0, 1, 0, 1, 0, 0, 0, 1, 0, 1, 0, 1, 0, 0,\n",
       "       0, 0, 1, 0, 1, 1, 0, 0, 0, 0, 0])"
      ]
     },
     "execution_count": 21,
     "metadata": {},
     "output_type": "execute_result"
    }
   ],
   "source": [
    "predictions"
   ]
  },
  {
   "cell_type": "markdown",
   "metadata": {
    "cell_id": "59500fa0435a48b3a374510f04b2b21c",
    "deepnote_cell_height": 162.1875,
    "deepnote_cell_type": "markdown",
    "id": "qtHrWOFvsa2J"
   },
   "source": [
    "### Neural Networks\n",
    "- Can learn any function and build super complicated models from a large amount of data\n",
    "- Playground: https://developers.google.com/machine-learning/crash-course/introduction-to-neural-networks/playground-exercises\n"
   ]
  },
  {
   "cell_type": "code",
   "execution_count": 22,
   "metadata": {
    "cell_id": "8f4de3e2ab8d4c469f4bfd79b04066e9",
    "colab": {
     "base_uri": "https://localhost:8080/"
    },
    "deepnote_cell_type": "code",
    "deepnote_to_be_reexecuted": false,
    "executionInfo": {
     "elapsed": 311,
     "status": "ok",
     "timestamp": 1635808204353,
     "user": {
      "displayName": "Shasha Liao",
      "photoUrl": "https://lh3.googleusercontent.com/a-/AOh14Ghf5Tj0GAz5by2x9KRBgR3ka1GNpPK67XG2GpESnA=s64",
      "userId": "03341420781931408968"
     },
     "user_tz": 240
    },
    "execution_millis": 142,
    "execution_start": 1667592064741,
    "id": "_hQFJTj334DK",
    "outputId": "628aa66d-ec59-44f6-8af1-2f9349c9a341",
    "source_hash": "51bdf737"
   },
   "outputs": [
    {
     "name": "stdout",
     "output_type": "stream",
     "text": [
      "Training accuracy:  0.8383128295254832\n",
      "Testing accuracy:  0.7552447552447552\n"
     ]
    }
   ],
   "source": [
    "from sklearn.neural_network import MLPClassifier\n",
    "\n",
    "nn = MLPClassifier(solver='lbfgs', alpha=1e-5,\n",
    "                    hidden_layer_sizes=(3, 5), random_state=5)\n",
    "\n",
    "nn.fit(X_train, y_train)\n",
    "\n",
    "print('Training accuracy: ', nn.score(X_train, y_train))\n",
    "print('Testing accuracy: ', nn.score(X_test, y_test))"
   ]
  },
  {
   "cell_type": "markdown",
   "metadata": {
    "cell_id": "567fe062f8b249b38e8292fe0247f647",
    "deepnote_cell_height": 74.796875,
    "deepnote_cell_type": "markdown",
    "id": "OTAE9CqDC_TK"
   },
   "source": [
    "**Question:** Here we used 3 hidden layers and each layer with 3 neurons. If we add more hidden layers or more neurons, will the model become simpler or more complicated? Is this always true?"
   ]
  },
  {
   "cell_type": "markdown",
   "metadata": {
    "cell_id": "dbeed55c73834537b312aa1d85f0478f",
    "deepnote_cell_height": 139.796875,
    "deepnote_cell_type": "markdown",
    "id": "D2SdQLJpsde2"
   },
   "source": [
    "### Linear SVM (Support Vector Machine) vs. Kernel SVM\n",
    "\n",
    "\n",
    "\n",
    "\n",
    "\n",
    "- **Linear SVM**: linear decision boundary\n",
    "\n",
    "- **Kernel SVM**: nonlinear decision boundary"
   ]
  },
  {
   "cell_type": "markdown",
   "metadata": {
    "cell_id": "a7603e56257f409eb037a8471a43ff82",
    "deepnote_cell_height": 1320.5625,
    "deepnote_cell_type": "markdown",
    "id": "2toYh0g6pf_g"
   },
   "source": [
    "An linear SVM classifier has a linear decision boundary with the maximum margin if the classes are linearly separable. \n",
    "\n",
    "\n",
    "<img src=\"https://upload.wikimedia.org/wikipedia/commons/thumb/b/b5/Svm_separating_hyperplanes_%28SVG%29.svg/1280px-Svm_separating_hyperplanes_%28SVG%29.svg.png\"  height='400'>\n",
    "\n",
    "A kernel SVM uses a nonlinear function, which is called **kernel function**, to find a nonlinear decision boundary with the maximum margin.\n",
    "\n",
    "<img src = \"https://upload.wikimedia.org/wikipedia/commons/thumb/f/fe/Kernel_Machine.svg/2560px-Kernel_Machine.svg.png\">"
   ]
  },
  {
   "cell_type": "markdown",
   "metadata": {
    "cell_id": "dffdc39bb2dd459387930aa5ac7dbe62",
    "deepnote_cell_height": 52.390625,
    "deepnote_cell_type": "markdown",
    "id": "1tF9Fa9gEStG"
   },
   "source": [
    "**Question**: which model will have a better performance on our data set?"
   ]
  },
  {
   "cell_type": "code",
   "execution_count": 23,
   "metadata": {
    "cell_id": "beba1eeb501f4a91abeb738d613a0153",
    "colab": {
     "base_uri": "https://localhost:8080/"
    },
    "deepnote_cell_type": "code",
    "deepnote_to_be_reexecuted": false,
    "executionInfo": {
     "elapsed": 234,
     "status": "ok",
     "timestamp": 1635808598116,
     "user": {
      "displayName": "Shasha Liao",
      "photoUrl": "https://lh3.googleusercontent.com/a-/AOh14Ghf5Tj0GAz5by2x9KRBgR3ka1GNpPK67XG2GpESnA=s64",
      "userId": "03341420781931408968"
     },
     "user_tz": 240
    },
    "execution_millis": 25,
    "execution_start": 1667592064858,
    "id": "d9GhCkt3CHOm",
    "outputId": "287217a2-8faf-4890-f05f-6550acd912fc",
    "source_hash": "fbce5fbb"
   },
   "outputs": [
    {
     "name": "stdout",
     "output_type": "stream",
     "text": [
      "Training accuracy of SVM:  0.7908611599297012\n",
      "Testing accuracy of SVM:  0.7342657342657343\n"
     ]
    }
   ],
   "source": [
    "from sklearn.svm import SVC\n",
    "\n",
    "SVM=SVC(kernel = 'linear')\n",
    "SVM.fit(X_train,y_train)\n",
    "\n",
    "print('Training accuracy of SVM: ', SVM.score(X_train, y_train))\n",
    "print('Testing accuracy of SVM: ', SVM.score(X_test, y_test))"
   ]
  },
  {
   "cell_type": "code",
   "execution_count": 24,
   "metadata": {
    "cell_id": "14eb9b479b7446c39d38e4769f3cc749",
    "colab": {
     "base_uri": "https://localhost:8080/"
    },
    "deepnote_cell_type": "code",
    "deepnote_to_be_reexecuted": false,
    "executionInfo": {
     "elapsed": 164,
     "status": "ok",
     "timestamp": 1635808616893,
     "user": {
      "displayName": "Shasha Liao",
      "photoUrl": "https://lh3.googleusercontent.com/a-/AOh14Ghf5Tj0GAz5by2x9KRBgR3ka1GNpPK67XG2GpESnA=s64",
      "userId": "03341420781931408968"
     },
     "user_tz": 240
    },
    "execution_millis": 66,
    "execution_start": 1667592064925,
    "id": "bbkHgAd935C4",
    "outputId": "347f058e-fd54-421c-991d-073593736202",
    "source_hash": "3da5ee52"
   },
   "outputs": [
    {
     "name": "stdout",
     "output_type": "stream",
     "text": [
      "Training accuracy of Kernel SVM:  0.8506151142355008\n",
      "Testing accuracy of Kernel SVM:  0.8041958041958042\n"
     ]
    }
   ],
   "source": [
    "SVC_rbf=SVC(kernel=\"rbf\")\n",
    "SVC_rbf.fit(X_train,y_train)\n",
    "\n",
    "print('Training accuracy of Kernel SVM: ', SVC_rbf.score(X_train, y_train))\n",
    "print('Testing accuracy of Kernel SVM: ', SVC_rbf.score(X_test, y_test))"
   ]
  },
  {
   "cell_type": "code",
   "execution_count": 25,
   "metadata": {
    "cell_id": "690fe87c52394064a56fa6361c64d517",
    "colab": {
     "base_uri": "https://localhost:8080/"
    },
    "deepnote_cell_type": "code",
    "deepnote_to_be_reexecuted": false,
    "executionInfo": {
     "elapsed": 171,
     "status": "ok",
     "timestamp": 1635808627558,
     "user": {
      "displayName": "Shasha Liao",
      "photoUrl": "https://lh3.googleusercontent.com/a-/AOh14Ghf5Tj0GAz5by2x9KRBgR3ka1GNpPK67XG2GpESnA=s64",
      "userId": "03341420781931408968"
     },
     "user_tz": 240
    },
    "execution_millis": 292,
    "execution_start": 1667592064980,
    "id": "jeh3NkdAOfCC",
    "outputId": "b479c7a7-c2a0-4572-8501-5813ff8ed608",
    "source_hash": "6e625715"
   },
   "outputs": [
    {
     "data": {
      "text/plain": [
       "array([0, 0, 0, 1, 0, 0, 0, 1, 0, 0, 1, 1, 1, 1, 0, 0, 0, 0, 0, 1, 0, 0,\n",
       "       0, 1, 1, 0, 0, 0, 0, 1, 0, 1, 0, 1, 0, 0, 0, 0, 0, 0, 0, 1, 1, 1,\n",
       "       0, 0, 0, 0, 0, 0, 0, 0, 1, 0, 1, 1, 1, 0, 0, 1, 0, 1, 0, 0, 0, 0,\n",
       "       1, 1, 0, 1, 1, 1, 0, 0, 1, 0, 1, 1, 1, 0, 0, 1, 0, 0, 0, 1, 1, 1,\n",
       "       0, 0, 1, 0, 0, 1, 0, 0, 1, 1, 0, 1, 0, 1, 0, 1, 1, 0, 1, 1, 0, 0,\n",
       "       1, 1, 0, 1, 1, 1, 0, 0, 0, 0, 1, 1, 0, 0, 0, 1, 0, 1, 0, 1, 0, 0,\n",
       "       0, 0, 1, 0, 1, 1, 0, 0, 0, 0, 0])"
      ]
     },
     "execution_count": 25,
     "metadata": {},
     "output_type": "execute_result"
    }
   ],
   "source": [
    "SVM.predict(X_test)"
   ]
  },
  {
   "cell_type": "markdown",
   "metadata": {
    "cell_id": "9f9b5c72ba67488ebc7612f87251a00b",
    "deepnote_cell_height": 70,
    "deepnote_cell_type": "markdown",
    "id": "5y3DMLAHElPq"
   },
   "source": [
    "## Results visualization"
   ]
  },
  {
   "cell_type": "code",
   "execution_count": 26,
   "metadata": {
    "cell_id": "78a6a2b3c4354275b2903800e9b5fbed",
    "deepnote_cell_type": "code",
    "deepnote_to_be_reexecuted": false,
    "execution_millis": 0,
    "execution_start": 1667592065073,
    "id": "jI4emnT56JFi",
    "source_hash": "4d46dc18"
   },
   "outputs": [],
   "source": [
    "#@title\n",
    "def plot_boundary(X, y):\n",
    "    x_min, x_max = X[:, 0].min() - 1, X[:, 0].max() + 1\n",
    "    y_min, y_max = X[:, 1].min() - 1, X[:, 1].max() + 1\n",
    "    xx, yy = np.meshgrid(np.arange(x_min, x_max, 0.1),\n",
    "                     np.arange(y_min, y_max, 0.1))\n",
    "    f, axarr = plt.subplots(1, 5, sharex='col', sharey='row', figsize=(25, 5))\n",
    "\n",
    "    for idx, clf, tt in zip([0, 1, 2, 3, 4], list(models.values()), list(models.keys())):\n",
    "        # print(idx)\n",
    "        clf.fit(X,y)\n",
    "        Z = clf.predict(np.c_[xx.ravel(), yy.ravel()])\n",
    "        Z = Z.reshape(xx.shape)\n",
    "\n",
    "        axarr[idx].contourf(xx, yy, Z, alpha=0.4)\n",
    "        for i in range(2):\n",
    "            axarr[idx].scatter(X[y == i, 0], X[y== i, 1], label = str(i))\n",
    "                                      \n",
    "        axarr[idx].legend()\n",
    "        axarr[idx].set_title(tt)\n",
    "    \n",
    "    plt.show()"
   ]
  },
  {
   "cell_type": "code",
   "execution_count": 27,
   "metadata": {
    "cell_id": "f0930e82b4034f05aa8cb6424d606c72",
    "deepnote_cell_type": "code",
    "deepnote_to_be_reexecuted": false,
    "execution_millis": 43,
    "execution_start": 1667592065074,
    "id": "7QPidu4s6nZG",
    "source_hash": "eb26184e"
   },
   "outputs": [],
   "source": [
    "#@title\n",
    "models = {'Decision Tree': clf_tree, 'Logistic Regression': logmodel, 'Neural Network': nn, 'SVM': SVM, 'Kernel SVM': SVC_rbf}"
   ]
  },
  {
   "cell_type": "code",
   "execution_count": 28,
   "metadata": {
    "cell_id": "6b14358c5c51410bb37bb4af1f68a0a1",
    "colab": {
     "base_uri": "https://localhost:8080/",
     "height": 356
    },
    "deepnote_cell_type": "code",
    "deepnote_to_be_reexecuted": false,
    "executionInfo": {
     "elapsed": 1660,
     "status": "ok",
     "timestamp": 1635525635784,
     "user": {
      "displayName": "Shasha Liao",
      "photoUrl": "https://lh3.googleusercontent.com/a-/AOh14Ghf5Tj0GAz5by2x9KRBgR3ka1GNpPK67XG2GpESnA=s64",
      "userId": "03341420781931408968"
     },
     "user_tz": 240
    },
    "execution_millis": 1469,
    "execution_start": 1667592065117,
    "id": "3L4-6RjA6WGB",
    "outputId": "11f67115-50eb-49c3-e8bf-00fdd1aeb97e",
    "source_hash": "c77e4b22"
   },
   "outputs": [
    {
     "data": {
      "image/png": "[encoded data removed]",
      "text/plain": [
       "<Figure size 2500x500 with 5 Axes>"
      ]
     },
     "metadata": {
      "image/png": {
       "height": 451,
       "width": 1987
      }
     },
     "output_type": "display_data"
    }
   ],
   "source": [
    "plot_boundary(X_train2D, y_train)"
   ]
  },
  {
   "cell_type": "markdown",
   "metadata": {
    "cell_id": "1d5df9ea46d84c819ad10f58a937300c",
    "deepnote_cell_height": 52.390625,
    "deepnote_cell_type": "markdown",
    "id": "bd_Ro91jDHme"
   },
   "source": [
    "**Question:** which model do you think work the best for our dataset?"
   ]
  },
  {
   "cell_type": "markdown",
   "metadata": {
    "cell_id": "bf2cbb274bb5412685a8ff072f93001d",
    "deepnote_cell_height": 515.796875,
    "deepnote_cell_type": "markdown",
    "id": "y7reAL9WsrAx"
   },
   "source": [
    "## Evaluate performance of Machine Learning models\n",
    "### Metrics:\n",
    "- For regression:\n",
    "  - mean squared error\n",
    "  - R squared\n",
    "\n",
    "- For classification:\n",
    "  - accuracy\n",
    "  - precision\n",
    "  - recall\n",
    "  - confusion matrix\n",
    "\n",
    "Accuracy is **not** a good metric when we have **imbalanced dataset** where the classes are not represented equally. \n",
    "\n",
    "**Questions**: \n",
    "- From the plots below, is our dataset imbalanced?\n",
    "- Why is accuracy not a good metric for imbalanced datasets?"
   ]
  },
  {
   "cell_type": "markdown",
   "metadata": {
    "cell_id": "fbc31c44ea894e009669092c39d24e28",
    "deepnote_cell_height": 62,
    "deepnote_cell_type": "markdown",
    "id": "PDqJm5WpIPua"
   },
   "source": [
    "### Imbalanced Dataset Example"
   ]
  },
  {
   "cell_type": "code",
   "execution_count": 29,
   "metadata": {
    "cell_id": "6912ba2d60b048399b8c0664c875266b",
    "colab": {
     "base_uri": "https://localhost:8080/",
     "height": 316
    },
    "deepnote_cell_type": "code",
    "deepnote_to_be_reexecuted": false,
    "executionInfo": {
     "elapsed": 389,
     "status": "ok",
     "timestamp": 1635809053210,
     "user": {
      "displayName": "Shasha Liao",
      "photoUrl": "https://lh3.googleusercontent.com/a-/AOh14Ghf5Tj0GAz5by2x9KRBgR3ka1GNpPK67XG2GpESnA=s64",
      "userId": "03341420781931408968"
     },
     "user_tz": 240
    },
    "execution_millis": 187,
    "execution_start": 1667592066587,
    "id": "m84hs_qfFawu",
    "outputId": "179e7cf1-b28f-4592-dec4-e3fd20f2d4c1",
    "source_hash": "f92fe8cd"
   },
   "outputs": [
    {
     "data": {
      "text/plain": [
       "<AxesSubplot: xlabel='imbalanced', ylabel='count'>"
      ]
     },
     "execution_count": 29,
     "metadata": {},
     "output_type": "execute_result"
    },
    {
     "data": {
      "image/png": "[encoded data removed]",
      "text/plain": [
       "<Figure size 640x480 with 1 Axes>"
      ]
     },
     "metadata": {
      "image/png": {
       "height": 432,
       "width": 562
      }
     },
     "output_type": "display_data"
    }
   ],
   "source": [
    "# 90 percent are labeled as 0\n",
    "# 10 percent are labeled as 1\n",
    "y_imbalanced = pd.DataFrame(np.array([1]*10 + [0]*90),columns = ['imbalanced'])\n",
    "\n",
    "sns.countplot(x = 'imbalanced', data = y_imbalanced)"
   ]
  },
  {
   "cell_type": "markdown",
   "metadata": {
    "cell_id": "f1cf847336c1419e9630db9b96acfd4e",
    "deepnote_cell_height": 128.1875,
    "deepnote_cell_type": "markdown",
    "id": "2ZIbFWMnKDRX"
   },
   "source": [
    "**Questions:** \n",
    "- Can we have this kind of imbalanced data in reality? If yes, provide an example.\n",
    "\n",
    "- Can you come up with a simple model that will have a very high accuracy?"
   ]
  },
  {
   "cell_type": "code",
   "execution_count": 30,
   "metadata": {
    "cell_id": "3f947d52ad274e7b906403ba70b7e212",
    "colab": {
     "base_uri": "https://localhost:8080/"
    },
    "deepnote_cell_type": "code",
    "deepnote_to_be_reexecuted": false,
    "executionInfo": {
     "elapsed": 215,
     "status": "ok",
     "timestamp": 1635525644037,
     "user": {
      "displayName": "Shasha Liao",
      "photoUrl": "https://lh3.googleusercontent.com/a-/AOh14Ghf5Tj0GAz5by2x9KRBgR3ka1GNpPK67XG2GpESnA=s64",
      "userId": "03341420781931408968"
     },
     "user_tz": 240
    },
    "execution_millis": 6,
    "execution_start": 1667592066776,
    "id": "K6gUq5LcIiiV",
    "outputId": "d8eb40e2-408c-4191-eff5-7c7dc9360a28",
    "source_hash": "52721bf"
   },
   "outputs": [
    {
     "name": "stdout",
     "output_type": "stream",
     "text": [
      "              precision    recall  f1-score   support\n",
      "\n",
      "           0       0.90      1.00      0.95        90\n",
      "           1       0.00      0.00      0.00        10\n",
      "\n",
      "    accuracy                           0.90       100\n",
      "   macro avg       0.45      0.50      0.47       100\n",
      "weighted avg       0.81      0.90      0.85       100\n",
      "\n"
     ]
    }
   ],
   "source": [
    "# simply predict 0 for all the data\n",
    "y_pred = np.array([0]*100)\n",
    "\n",
    "from sklearn.metrics import classification_report, plot_confusion_matrix\n",
    "print(classification_report(y_imbalanced, y_pred))"
   ]
  },
  {
   "cell_type": "markdown",
   "metadata": {
    "cell_id": "c5dc2f16954b4755926f561f9d63b4fe",
    "deepnote_cell_height": 52.390625,
    "deepnote_cell_type": "markdown",
    "id": "cjwETamwJH0R"
   },
   "source": [
    "**Question:** Does the evaluation table above tell us that simply making 0 predictions for all data is not good? How did you find it?"
   ]
  },
  {
   "cell_type": "markdown",
   "metadata": {
    "cell_id": "5938cf23e4e940aa9445db26f253babc",
    "deepnote_cell_height": 62,
    "deepnote_cell_type": "markdown",
    "id": "jSnhI1kPRKxu"
   },
   "source": [
    "### Titanic Dataset"
   ]
  },
  {
   "cell_type": "code",
   "execution_count": 31,
   "metadata": {
    "cell_id": "ebc0093c2e86484d86d72116205cbe08",
    "colab": {
     "base_uri": "https://localhost:8080/",
     "height": 551
    },
    "deepnote_cell_type": "code",
    "deepnote_to_be_reexecuted": false,
    "executionInfo": {
     "elapsed": 315,
     "status": "ok",
     "timestamp": 1635525646069,
     "user": {
      "displayName": "Shasha Liao",
      "photoUrl": "https://lh3.googleusercontent.com/a-/AOh14Ghf5Tj0GAz5by2x9KRBgR3ka1GNpPK67XG2GpESnA=s64",
      "userId": "03341420781931408968"
     },
     "user_tz": 240
    },
    "execution_millis": 370,
    "execution_start": 1667592066784,
    "id": "lKFBi-EfRsJ3",
    "outputId": "6bcd03db-7e71-480d-924c-5cbb95bab2fc",
    "source_hash": "1dcc6d03"
   },
   "outputs": [
    {
     "data": {
      "text/plain": [
       "Text(0.5, 1.0, 'Survived')"
      ]
     },
     "execution_count": 31,
     "metadata": {},
     "output_type": "execute_result"
    },
    {
     "data": {
      "image/png": "[encoded data removed]",
      "text/plain": [
       "<Figure size 1800x800 with 2 Axes>"
      ]
     },
     "metadata": {
      "image/png": {
       "height": 701,
       "width": 1430
      }
     },
     "output_type": "display_data"
    }
   ],
   "source": [
    "f, ax = plt.subplots(1,2,figsize = (18,8))\n",
    "df['Survived'].value_counts().plot.pie(explode = [0,0.1], autopct = '%1.1f%%', ax = ax[0], shadow = True)\n",
    "ax[0].set_title('Survived')\n",
    "\n",
    "sns.countplot(x = 'Survived', data = df, ax = ax[1])\n",
    "ax[1].set_title('Survived')"
   ]
  },
  {
   "cell_type": "code",
   "execution_count": 32,
   "metadata": {
    "cell_id": "a5fc9773486c4ac2b176f3f3e48209c0",
    "colab": {
     "base_uri": "https://localhost:8080/",
     "height": 332
    },
    "deepnote_cell_type": "code",
    "deepnote_to_be_reexecuted": false,
    "executionInfo": {
     "elapsed": 449,
     "status": "ok",
     "timestamp": 1635525648011,
     "user": {
      "displayName": "Shasha Liao",
      "photoUrl": "https://lh3.googleusercontent.com/a-/AOh14Ghf5Tj0GAz5by2x9KRBgR3ka1GNpPK67XG2GpESnA=s64",
      "userId": "03341420781931408968"
     },
     "user_tz": 240
    },
    "execution_millis": 735,
    "execution_start": 1667592067111,
    "id": "l4hT3eNWftwD",
    "outputId": "82cf953e-20c3-4d15-b425-8973dda9ad01",
    "source_hash": "90df43d"
   },
   "outputs": [
    {
     "data": {
      "text/plain": [
       "Text(0.5, 1.0, 'Neural Network confusion matrix')"
      ]
     },
     "execution_count": 32,
     "metadata": {},
     "output_type": "execute_result"
    },
    {
     "data": {
      "image/png": "[encoded data removed]",
      "text/plain": [
       "<Figure size 640x480 with 2 Axes>"
      ]
     },
     "metadata": {
      "image/png": {
       "height": 455,
       "width": 498
      }
     },
     "output_type": "display_data"
    }
   ],
   "source": [
    "nn.fit(X_train, y_train) # fit our nueral network model using the traning data\n",
    "plot_confusion_matrix(nn, X_test, y_test)\n",
    "plt.title('Neural Network confusion matrix')"
   ]
  },
  {
   "cell_type": "markdown",
   "metadata": {
    "cell_id": "3a0a0bfdd9c74dd493e3e22d8a0966db",
    "deepnote_cell_height": 553.1875,
    "deepnote_cell_type": "markdown",
    "id": "T_u5UTnKfX-s"
   },
   "source": [
    "**Exercise:** use the confusion matrix above to find the accuracy, precision, and recall for our neural network model.\n",
    "\n",
    "TP: True Positive\n",
    "\n",
    "TN: True Negative\n",
    "\n",
    "FP: False Positive\n",
    "\n",
    "FN: False Negative\n",
    "\n",
    "- **Accuracy**: what proportion of labels are correctly predicted? (Correctly predicted out of total)\n",
    "\n",
    "        Formula = (TP + TN) / (TP + TN + FP + FN)\n",
    "\n",
    "- **Precision**: what proportion of labels that are predicted as 1 are actually labeled as 1? (Correctly predicted positives out of total predicted positives)\n",
    "\n",
    "        Formula = TP / (TP + FP)\n",
    "\n",
    "  (Useful when cost of FP is high)\n",
    "\n",
    "\n",
    "- **Recall**: what proportion of labels that are actually labeled as 1 are correctly predicted as 1? (Correctly predicted positives out of total positives)\n",
    "\n",
    "        Formula = TP / (TP + FN)\n",
    "\n",
    "  (Useful when cost of FN is high)\n",
    "\n"
   ]
  },
  {
   "cell_type": "code",
   "execution_count": 33,
   "metadata": {
    "cell_id": "241692124aa84945adfd24e4990ba635",
    "deepnote_cell_type": "code",
    "deepnote_to_be_reexecuted": false,
    "execution_millis": 0,
    "execution_start": 1667592067474,
    "id": "rmupy1pPK5s4",
    "source_hash": "c5c40ee4"
   },
   "outputs": [],
   "source": [
    "#print(classification_report(y_test, nn.predict(X_test)))"
   ]
  },
  {
   "cell_type": "markdown",
   "metadata": {
    "cell_id": "18191fc3c4614a6cac07db899234d6e6",
    "deepnote_cell_height": 70,
    "deepnote_cell_type": "markdown",
    "id": "qKmXPK8DLjzR"
   },
   "source": [
    "## Evaluation of our Classifers on Titanic Dataset"
   ]
  },
  {
   "cell_type": "code",
   "execution_count": 34,
   "metadata": {
    "cell_id": "b0c37d169d9542b18bfc3e82d848f77e",
    "colab": {
     "base_uri": "https://localhost:8080/",
     "height": 1000
    },
    "deepnote_cell_type": "code",
    "deepnote_to_be_reexecuted": false,
    "executionInfo": {
     "elapsed": 1559,
     "status": "ok",
     "timestamp": 1635525651707,
     "user": {
      "displayName": "Shasha Liao",
      "photoUrl": "https://lh3.googleusercontent.com/a-/AOh14Ghf5Tj0GAz5by2x9KRBgR3ka1GNpPK67XG2GpESnA=s64",
      "userId": "03341420781931408968"
     },
     "user_tz": 240
    },
    "execution_millis": 1294,
    "execution_start": 1667592067478,
    "id": "dpYMAmSUOIjP",
    "outputId": "29e52561-7d5f-4b56-e917-97a9ffd3ebf2",
    "source_hash": "8f6c1a69"
   },
   "outputs": [
    {
     "name": "stdout",
     "output_type": "stream",
     "text": [
      "Decision Tree:\n",
      "              precision    recall  f1-score   support\n",
      "\n",
      "           0       0.79      0.86      0.82        84\n",
      "           1       0.77      0.68      0.72        59\n",
      "\n",
      "    accuracy                           0.78       143\n",
      "   macro avg       0.78      0.77      0.77       143\n",
      "weighted avg       0.78      0.78      0.78       143\n",
      "\n",
      "*****************************************************\n",
      "Logistic Regression:\n",
      "              precision    recall  f1-score   support\n",
      "\n",
      "           0       0.81      0.80      0.80        84\n",
      "           1       0.72      0.73      0.72        59\n",
      "\n",
      "    accuracy                           0.77       143\n",
      "   macro avg       0.76      0.76      0.76       143\n",
      "weighted avg       0.77      0.77      0.77       143\n",
      "\n",
      "*****************************************************\n",
      "Neural Network:\n",
      "              precision    recall  f1-score   support\n",
      "\n",
      "           0       0.75      0.87      0.81        84\n",
      "           1       0.76      0.59      0.67        59\n",
      "\n",
      "    accuracy                           0.76       143\n",
      "   macro avg       0.76      0.73      0.74       143\n",
      "weighted avg       0.76      0.76      0.75       143\n",
      "\n",
      "*****************************************************\n",
      "SVM:\n",
      "              precision    recall  f1-score   support\n",
      "\n",
      "           0       0.77      0.79      0.78        84\n",
      "           1       0.68      0.66      0.67        59\n",
      "\n",
      "    accuracy                           0.73       143\n",
      "   macro avg       0.73      0.72      0.72       143\n",
      "weighted avg       0.73      0.73      0.73       143\n",
      "\n",
      "*****************************************************\n",
      "Kernel SVM:\n",
      "              precision    recall  f1-score   support\n",
      "\n",
      "           0       0.79      0.90      0.84        84\n",
      "           1       0.83      0.66      0.74        59\n",
      "\n",
      "    accuracy                           0.80       143\n",
      "   macro avg       0.81      0.78      0.79       143\n",
      "weighted avg       0.81      0.80      0.80       143\n",
      "\n",
      "*****************************************************\n"
     ]
    },
    {
     "data": {
      "image/png": "[encoded data removed]",
      "text/plain": [
       "<Figure size 640x480 with 2 Axes>"
      ]
     },
     "metadata": {
      "image/png": {
       "height": 455,
       "width": 498
      }
     },
     "output_type": "display_data"
    },
    {
     "data": {
      "image/png": "[encoded data removed]",
      "text/plain": [
       "<Figure size 640x480 with 2 Axes>"
      ]
     },
     "metadata": {
      "image/png": {
       "height": 455,
       "width": 498
      }
     },
     "output_type": "display_data"
    },
    {
     "data": {
      "image/png": "[encoded data removed]",
      "text/plain": [
       "<Figure size 640x480 with 2 Axes>"
      ]
     },
     "metadata": {
      "image/png": {
       "height": 455,
       "width": 498
      }
     },
     "output_type": "display_data"
    },
    {
     "data": {
      "image/png": "[encoded data removed]",
      "text/plain": [
       "<Figure size 640x480 with 2 Axes>"
      ]
     },
     "metadata": {
      "image/png": {
       "height": 455,
       "width": 498
      }
     },
     "output_type": "display_data"
    },
    {
     "data": {
      "image/png": "[encoded data removed]",
      "text/plain": [
       "<Figure size 640x480 with 2 Axes>"
      ]
     },
     "metadata": {
      "image/png": {
       "height": 455,
       "width": 498
      }
     },
     "output_type": "display_data"
    }
   ],
   "source": [
    "from sklearn.metrics import classification_report,confusion_matrix\n",
    "# from plot_confusion_matrix import plot_confusion_matrix\n",
    "from sklearn.metrics import plot_confusion_matrix\n",
    "predicts = {}\n",
    "for model_name in models:\n",
    "    # print(model_name)\n",
    "    model = models[model_name]\n",
    "    model.fit(X_train, y_train)\n",
    "    y_pred = model.predict(X_test)\n",
    "    predicts[model_name] = y_pred\n",
    "    print(model_name + ':')\n",
    "    print(classification_report(y_test, y_pred))\n",
    "    # print('confusion matrix: ')\n",
    "    # print(confusion_matrix(y_test,y_pred))\n",
    "    print('*****************************************************')\n",
    "    plot_confusion_matrix(model, X_test, y_test)\n",
    "    plt.title(model_name)"
   ]
  },
  {
   "cell_type": "markdown",
   "metadata": {
    "cell_id": "a89103c3afca49fdaa025922e1ad9cd7",
    "deepnote_cell_height": 263.1875,
    "deepnote_cell_type": "markdown",
    "id": "8vuLpRudEdDq",
    "owner_user_id": "62793d04-d528-4115-8ac3-ef1aa25c3727"
   },
   "source": [
    "Recap:\n",
    "\n",
    "- 1) What Machine Learning classifers have we discussed today?\n",
    "\n",
    "- 2) What metrics did we use to evaluate the ML classifers?"
   ]
  },
  {
   "cell_type": "markdown",
   "metadata": {
    "cell_id": "04e3b43dd5ea49d1b2517cc2c1899c6c",
    "deepnote_cell_height": 46,
    "deepnote_cell_type": "markdown",
    "id": "d638b5IZEhcg"
   },
   "source": [
    "\n",
    "\n",
    "\n"
   ]
  },
  {
   "cell_type": "code",
   "execution_count": 34,
   "metadata": {
    "cell_id": "c920654cc44b42d9ab1927fb0bd39f96",
    "deepnote_cell_type": "code",
    "deepnote_to_be_reexecuted": false,
    "execution_millis": 1,
    "execution_start": 1667592068774,
    "id": "2MkmxSbw1i9I",
    "source_hash": "b623e53d"
   },
   "outputs": [],
   "source": []
  },
  {
   "cell_type": "markdown",
   "metadata": {
    "created_in_deepnote_cell": true,
    "deepnote_cell_type": "markdown"
   },
   "source": [
    "<a style='text-decoration:none;line-height:16px;display:flex;color:#5B5B62;padding:10px;justify-content:end;' href='https://deepnote.com?utm_source=created-in-deepnote-cell&projectId=0a3de591-578d-4c87-932a-8ff030c19cf7' target=\"_blank\">\n",
    "<img alt='Created in deepnote.com' style='display:inline;max-height:16px;margin:0px;margin-right:7.5px;' src='data:image/svg+xml;base64,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' > </img>\n",
    "Created in <span style='font-weight:600;margin-left:4px;'>Deepnote</span></a>"
   ]
  }
 ],
 "metadata": {
  "deepnote_execution_queue": [],
  "deepnote_notebook_id": "ef04a4ba91b342bcaecba51dbeb5667e",
  "deepnote_persisted_session": {
   "createdAt": "2022-11-04T20:31:48.210Z"
  },
  "kernelspec": {
   "display_name": "Python 3 (ipykernel)",
   "language": "python",
   "name": "python3"
  },
  "language_info": {
   "codemirror_mode": {
    "name": "ipython",
    "version": 3
   },
   "file_extension": ".py",
   "mimetype": "text/x-python",
   "name": "python",
   "nbconvert_exporter": "python",
   "pygments_lexer": "ipython3",
   "version": "3.11.5"
  }
 },
 "nbformat": 4,
 "nbformat_minor": 4
}
