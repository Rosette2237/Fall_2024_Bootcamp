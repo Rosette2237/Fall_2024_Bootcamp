{
 "cells": [
  {
   "cell_type": "markdown",
   "metadata": {
    "cell_id": "ad6a03d49ec143b1b624029bcb0fb5b6",
    "deepnote_cell_height": 156.78125,
    "deepnote_cell_type": "markdown",
    "tags": []
   },
   "source": [
    "# Workshop 5 Drill\n",
    "This drill aims to give you an opportunity to practice deep learning on an interesting problem. \n",
    "\n",
    "For this drill, we will use PyTorch to build our deep learning architecture"
   ]
  },
  {
   "cell_type": "markdown",
   "metadata": {
    "cell_id": "dbe79475c1084a3a8c8812c392f67696",
    "deepnote_cell_height": 181.1875,
    "deepnote_cell_type": "markdown",
    "tags": []
   },
   "source": [
    "## What are we solving today?\n",
    "For this drill, we will be using the Fashion MNIST dataset to classify fashion images. \n",
    "\n",
    "Link for more information: https://github.com/zalandoresearch/fashion-mnist\n",
    "\n",
    "This dataset is a classic dataset that is used to benchmark deep architectures. "
   ]
  },
  {
   "cell_type": "code",
   "execution_count": null,
   "metadata": {
    "cell_id": "f401c72fde6f461c911211e49110a457",
    "deepnote_cell_type": "code",
    "deepnote_to_be_reexecuted": false,
    "execution_millis": 1653,
    "execution_start": 1658284349460,
    "source_hash": null,
    "tags": []
   },
   "outputs": [
    {
     "name": "stderr",
     "output_type": "stream",
     "text": [
      "/shared-libs/python3.9/py/lib/python3.9/site-packages/tqdm/auto.py:22: TqdmWarning: IProgress not found. Please update jupyter and ipywidgets. See https://ipywidgets.readthedocs.io/en/stable/user_install.html\n",
      "  from .autonotebook import tqdm as notebook_tqdm\n"
     ]
    }
   ],
   "source": [
    "#imports \n",
    "from torchvision import datasets, transforms\n",
    "\n",
    "\n",
    "import torch\n",
    "import numpy as np\n",
    "import torch.nn as nn\n",
    "import torch.nn.functional as F\n",
    "import torch.optim as optim\n",
    "import matplotlib.pyplot as plt\n"
   ]
  },
  {
   "cell_type": "code",
   "execution_count": null,
   "metadata": {
    "cell_id": "2a8ef4c4d9f94471b428ffe71f88ccaf",
    "deepnote_cell_type": "code",
    "deepnote_to_be_reexecuted": false,
    "execution_millis": 5,
    "execution_start": 1658284351119,
    "source_hash": null,
    "tags": []
   },
   "outputs": [],
   "source": [
    "# your python files imported\n",
    "import load_dataset \n",
    "import trainer\n",
    "import model"
   ]
  },
  {
   "cell_type": "markdown",
   "metadata": {
    "cell_id": "fd0346dc1c834547886544e4e518ce6f",
    "deepnote_cell_height": 70,
    "deepnote_cell_type": "markdown",
    "tags": []
   },
   "source": [
    "## Step 1: Load in the dataset"
   ]
  },
  {
   "cell_type": "markdown",
   "metadata": {
    "cell_id": "47be3b270e374757b81549719bc38355",
    "deepnote_cell_height": 97.1875,
    "deepnote_cell_type": "markdown",
    "tags": []
   },
   "source": [
    "Before we can do anything, we need to be able to load in the Fashion MNIST dataset. Luckily, the `datasets` library within the `torchvision` package contains the Fashion MNIST dataset. Load in both the train and test datasets. You also are able to specify the transformation to apply to both the train and test sets. Fill out the `load_dataset.py` file. "
   ]
  },
  {
   "cell_type": "code",
   "execution_count": null,
   "metadata": {
    "cell_id": "f3b9c0d9613a4097aca12de02bf6da06",
    "deepnote_cell_type": "code",
    "deepnote_to_be_reexecuted": false,
    "execution_millis": 8,
    "execution_start": 1658691667566,
    "owner_user_id": "c4ff6b27-0006-4cbe-ae70-75fa43507858",
    "source_hash": null,
    "tags": []
   },
   "outputs": [
    {
     "ename": "NameError",
     "evalue": "name 'load_dataset' is not defined",
     "output_type": "error",
     "traceback": [
      "\u001b[0;31m---------------------------------------------------------------------------\u001b[0m",
      "\u001b[0;31mNameError\u001b[0m                                 Traceback (most recent call last)",
      "\u001b[0;32m<ipython-input-2-76ad2b995c7c>\u001b[0m in \u001b[0;36m<cell line: 2>\u001b[0;34m()\u001b[0m\n\u001b[1;32m      1\u001b[0m \u001b[0;31m# Test that your implementation from load_dataset.py works\u001b[0m\u001b[0;34m\u001b[0m\u001b[0;34m\u001b[0m\u001b[0m\n\u001b[0;32m----> 2\u001b[0;31m \u001b[0mtrainloader\u001b[0m\u001b[0;34m,\u001b[0m \u001b[0mtestloader\u001b[0m \u001b[0;34m=\u001b[0m \u001b[0mload_dataset\u001b[0m\u001b[0;34m.\u001b[0m\u001b[0mload_fashion_mnist\u001b[0m\u001b[0;34m(\u001b[0m\u001b[0;34m)\u001b[0m\u001b[0;34m\u001b[0m\u001b[0;34m\u001b[0m\u001b[0m\n\u001b[0m\u001b[1;32m      3\u001b[0m \u001b[0;34m\u001b[0m\u001b[0m\n\u001b[1;32m      4\u001b[0m \u001b[0;31m# Examine a sample\u001b[0m\u001b[0;34m\u001b[0m\u001b[0;34m\u001b[0m\u001b[0m\n\u001b[1;32m      5\u001b[0m \u001b[0mdataiter\u001b[0m \u001b[0;34m=\u001b[0m \u001b[0miter\u001b[0m\u001b[0;34m(\u001b[0m\u001b[0mtrainloader\u001b[0m\u001b[0;34m)\u001b[0m\u001b[0;34m\u001b[0m\u001b[0;34m\u001b[0m\u001b[0m\n",
      "\u001b[0;31mNameError\u001b[0m: name 'load_dataset' is not defined"
     ]
    }
   ],
   "source": [
    "# Test that your implementation from load_dataset.py works\n",
    "trainloader, testloader = load_dataset.load_fashion_mnist()\n",
    "\n",
    "# Examine a sample\n",
    "dataiter = iter(trainloader)\n",
    "images, labels = dataiter.next()\n",
    "print(type(images))\n",
    "print(images.shape)\n",
    "print(labels.shape)"
   ]
  },
  {
   "cell_type": "code",
   "execution_count": null,
   "metadata": {
    "cell_id": "9e993793cab84b3085720eccbfb0d68e",
    "deepnote_cell_type": "code",
    "deepnote_to_be_reexecuted": false,
    "execution_millis": 208,
    "execution_start": 1658284351216,
    "source_hash": null,
    "tags": []
   },
   "outputs": [
    {
     "data": {
      "text/plain": [
       "<matplotlib.image.AxesImage at 0x7f9d97987b80>"
      ]
     },
     "execution_count": 4,
     "metadata": {},
     "output_type": "execute_result"
    },
    {
     "data": {
      "image/png": "[encoded data removed]",
      "text/plain": [
       "<Figure size 432x288 with 1 Axes>"
      ]
     },
     "metadata": {
      "image/png": {
       "height": 248,
       "width": 251
      },
      "needs_background": "light"
     },
     "output_type": "display_data"
    }
   ],
   "source": [
    "plt.imshow(images[1].numpy().squeeze(), cmap = 'Greys_r')"
   ]
  },
  {
   "cell_type": "markdown",
   "metadata": {
    "cell_id": "e3521fa72ce54873af9eb32dcde5df27",
    "deepnote_cell_height": 585.96875,
    "deepnote_cell_type": "markdown",
    "tags": []
   },
   "source": [
    "## Step 2: Build the Model\n",
    "Now that we are able to load in the Fashion MNIST as torch Dataloaders, we get to the fun part!\n",
    "\n",
    "We can now construct a deep learning model that can be used to classify images of fashion objects. \n",
    "\n",
    "In `model.py`, you will build the architecture shown below (in the `MyBasicModel` class). Convolutional Neural Networks are very popular for image classification \n",
    "![Fashion MNIST Image](dl_arch.PNG) (Credit: https://towardsdatascience.com/build-a-fashion-mnist-cnn-pytorch-style-efb297e22582)\n",
    "\n"
   ]
  },
  {
   "cell_type": "markdown",
   "metadata": {
    "cell_id": "0fa1d881ee4342c490e6501a0cbd4144",
    "deepnote_cell_height": 52.390625,
    "deepnote_cell_type": "markdown",
    "tags": []
   },
   "source": [
    "Hint: Linear layers might be helpful for you to build the architecture"
   ]
  },
  {
   "cell_type": "code",
   "execution_count": null,
   "metadata": {
    "cell_id": "5c00661732b0489aa75ffddae05899af",
    "deepnote_cell_type": "code",
    "deepnote_to_be_reexecuted": false,
    "execution_millis": 5,
    "execution_start": 1658284351426,
    "source_hash": null,
    "tags": []
   },
   "outputs": [
    {
     "name": "stdout",
     "output_type": "stream",
     "text": [
      "MyBasicModel(\n",
      "  (conv1): Conv2d(1, 6, kernel_size=(5, 5), stride=(1, 1))\n",
      "  (conv2): Conv2d(6, 12, kernel_size=(5, 5), stride=(1, 1))\n",
      "  (fc1): Linear(in_features=192, out_features=120, bias=True)\n",
      "  (fc2): Linear(in_features=120, out_features=60, bias=True)\n",
      "  (out): Linear(in_features=60, out_features=10, bias=True)\n",
      ")\n"
     ]
    }
   ],
   "source": [
    "# Test Basic model\n",
    "basic_model = model.MyBasicModel()\n",
    "print(repr(basic_model)) #check that your architecture matches up to the diagram"
   ]
  },
  {
   "cell_type": "markdown",
   "metadata": {
    "cell_id": "d6b9d7ea53764718bd99c9554fd60979",
    "deepnote_cell_height": 46,
    "deepnote_cell_type": "markdown",
    "tags": []
   },
   "source": []
  },
  {
   "cell_type": "markdown",
   "metadata": {
    "cell_id": "799536c703934c9a8c9f3b2034974cf7",
    "deepnote_cell_height": 209.578125,
    "deepnote_cell_type": "markdown",
    "tags": []
   },
   "source": [
    "## Step 3: Train the model\n",
    "Use `trainer.py` to fill in the function to train your deep learning model. You will need to configure the following:\n",
    "\n",
    "* Loss Function: CELoss\n",
    "* Optimizer: Adam\n",
    "* Epoch count: 30\n"
   ]
  },
  {
   "cell_type": "code",
   "execution_count": null,
   "metadata": {
    "cell_id": "658c172a59fc4344a39e6eceed93945d",
    "deepnote_cell_type": "code",
    "deepnote_to_be_reexecuted": false,
    "execution_millis": 2,
    "execution_start": 1658284351432,
    "source_hash": null,
    "tags": []
   },
   "outputs": [],
   "source": [
    "# Use Pytorch to configure the loss function, optimizer, epoch count\n",
    "\n",
    "loss_function = __________________\n",
    "optimizer = __________________\n",
    "epochs = __________________"
   ]
  },
  {
   "cell_type": "code",
   "execution_count": null,
   "metadata": {
    "cell_id": "d403be17bb0f4af8a65aaead85764da5",
    "deepnote_cell_type": "code",
    "deepnote_to_be_reexecuted": false,
    "execution_millis": 214083,
    "execution_start": 1658284351478,
    "source_hash": null,
    "tags": []
   },
   "outputs": [
    {
     "name": "stdout",
     "output_type": "stream",
     "text": [
      "Epoch: 0\n",
      "Train loss: 3703.12158203125\n",
      "Test loss: 586.3130493164062\n",
      "Train Accuracy: 76.47666666666667\n",
      "Test Accuracy: 78.16\n",
      "Epoch: 1\n",
      "Train loss: 3212.3173828125\n",
      "Test loss: 651.6744384765625\n",
      "Train Accuracy: 80.46\n",
      "Test Accuracy: 78.52\n",
      "Epoch: 2\n",
      "Train loss: 3113.3837890625\n",
      "Test loss: 504.39794921875\n",
      "Train Accuracy: 81.565\n",
      "Test Accuracy: 82.1\n",
      "Epoch: 3\n",
      "Train loss: 3020.9892578125\n",
      "Test loss: 607.5935668945312\n",
      "Train Accuracy: 82.26833333333333\n",
      "Test Accuracy: 81.36\n",
      "Epoch: 4\n",
      "Train loss: 3093.33349609375\n",
      "Test loss: 576.538818359375\n",
      "Train Accuracy: 82.06166666666667\n",
      "Test Accuracy: 81.15\n",
      "Epoch: 5\n",
      "Train loss: 3020.01123046875\n",
      "Test loss: 559.7905883789062\n",
      "Train Accuracy: 82.38666666666667\n",
      "Test Accuracy: 80.74\n"
     ]
    },
    {
     "data": {
      "application/vnd.deepnote.dataframe.v3+json": {
       "column_count": 5,
       "columns": [
        {
         "dtype": "int64",
         "name": "Epoch",
         "stats": {
          "histogram": [
           {
            "bin_end": 1.5,
            "bin_start": 1,
            "count": 1
           },
           {
            "bin_end": 2,
            "bin_start": 1.5,
            "count": 0
           },
           {
            "bin_end": 2.5,
            "bin_start": 2,
            "count": 1
           },
           {
            "bin_end": 3,
            "bin_start": 2.5,
            "count": 0
           },
           {
            "bin_end": 3.5,
            "bin_start": 3,
            "count": 1
           },
           {
            "bin_end": 4,
            "bin_start": 3.5,
            "count": 0
           },
           {
            "bin_end": 4.5,
            "bin_start": 4,
            "count": 1
           },
           {
            "bin_end": 5,
            "bin_start": 4.5,
            "count": 0
           },
           {
            "bin_end": 5.5,
            "bin_start": 5,
            "count": 1
           },
           {
            "bin_end": 6,
            "bin_start": 5.5,
            "count": 1
           }
          ],
          "max": "6",
          "min": "1",
          "nan_count": 0,
          "unique_count": 6
         }
        },
        {
         "dtype": "object",
         "name": "Train Loss",
         "stats": {
          "categories": [
           {
            "count": 1,
            "name": "3703.1216"
           },
           {
            "count": 1,
            "name": "3212.3174"
           },
           {
            "count": 4,
            "name": "4 others"
           }
          ],
          "nan_count": 0,
          "unique_count": 6
         }
        },
        {
         "dtype": "object",
         "name": "Test Loss",
         "stats": {
          "categories": [
           {
            "count": 1,
            "name": "586.31305"
           },
           {
            "count": 1,
            "name": "651.67444"
           },
           {
            "count": 4,
            "name": "4 others"
           }
          ],
          "nan_count": 0,
          "unique_count": 6
         }
        },
        {
         "dtype": "float64",
         "name": "Train Accuracy",
         "stats": {
          "histogram": [
           {
            "bin_end": 77.06766666666667,
            "bin_start": 76.47666666666667,
            "count": 1
           },
           {
            "bin_end": 77.65866666666668,
            "bin_start": 77.06766666666667,
            "count": 0
           },
           {
            "bin_end": 78.24966666666667,
            "bin_start": 77.65866666666668,
            "count": 0
           },
           {
            "bin_end": 78.84066666666668,
            "bin_start": 78.24966666666667,
            "count": 0
           },
           {
            "bin_end": 79.43166666666667,
            "bin_start": 78.84066666666668,
            "count": 0
           },
           {
            "bin_end": 80.02266666666667,
            "bin_start": 79.43166666666667,
            "count": 0
           },
           {
            "bin_end": 80.61366666666667,
            "bin_start": 80.02266666666667,
            "count": 1
           },
           {
            "bin_end": 81.20466666666667,
            "bin_start": 80.61366666666667,
            "count": 0
           },
           {
            "bin_end": 81.79566666666668,
            "bin_start": 81.20466666666667,
            "count": 1
           },
           {
            "bin_end": 82.38666666666667,
            "bin_start": 81.79566666666668,
            "count": 3
           }
          ],
          "max": "82.38666666666667",
          "min": "76.47666666666667",
          "nan_count": 0,
          "unique_count": 6
         }
        },
        {
         "dtype": "float64",
         "name": "Test Accuracy",
         "stats": {
          "histogram": [
           {
            "bin_end": 78.554,
            "bin_start": 78.16,
            "count": 2
           },
           {
            "bin_end": 78.948,
            "bin_start": 78.554,
            "count": 0
           },
           {
            "bin_end": 79.342,
            "bin_start": 78.948,
            "count": 0
           },
           {
            "bin_end": 79.73599999999999,
            "bin_start": 79.342,
            "count": 0
           },
           {
            "bin_end": 80.13,
            "bin_start": 79.73599999999999,
            "count": 0
           },
           {
            "bin_end": 80.524,
            "bin_start": 80.13,
            "count": 0
           },
           {
            "bin_end": 80.91799999999999,
            "bin_start": 80.524,
            "count": 1
           },
           {
            "bin_end": 81.312,
            "bin_start": 80.91799999999999,
            "count": 1
           },
           {
            "bin_end": 81.70599999999999,
            "bin_start": 81.312,
            "count": 1
           },
           {
            "bin_end": 82.1,
            "bin_start": 81.70599999999999,
            "count": 1
           }
          ],
          "max": "82.1",
          "min": "78.16",
          "nan_count": 0,
          "unique_count": 6
         }
        },
        {
         "dtype": "int64",
         "name": "_deepnote_index_column"
        }
       ],
       "row_count": 6,
       "rows": [
        {
         "Epoch": 1,
         "Test Accuracy": 78.16,
         "Test Loss": "586.31305",
         "Train Accuracy": 76.47666666666667,
         "Train Loss": "3703.1216",
         "_deepnote_index_column": 0
        },
        {
         "Epoch": 2,
         "Test Accuracy": 78.52,
         "Test Loss": "651.67444",
         "Train Accuracy": 80.46,
         "Train Loss": "3212.3174",
         "_deepnote_index_column": 1
        },
        {
         "Epoch": 3,
         "Test Accuracy": 82.1,
         "Test Loss": "504.39795",
         "Train Accuracy": 81.565,
         "Train Loss": "3113.3838",
         "_deepnote_index_column": 2
        },
        {
         "Epoch": 4,
         "Test Accuracy": 81.36,
         "Test Loss": "607.59357",
         "Train Accuracy": 82.26833333333333,
         "Train Loss": "3020.9893",
         "_deepnote_index_column": 3
        },
        {
         "Epoch": 5,
         "Test Accuracy": 81.15,
         "Test Loss": "576.5388",
         "Train Accuracy": 82.06166666666667,
         "Train Loss": "3093.3335",
         "_deepnote_index_column": 4
        },
        {
         "Epoch": 6,
         "Test Accuracy": 80.74,
         "Test Loss": "559.7906",
         "Train Accuracy": 82.38666666666667,
         "Train Loss": "3020.0112",
         "_deepnote_index_column": 5
        }
       ]
      },
      "text/html": [
       "<div>\n",
       "<style scoped>\n",
       "    .dataframe tbody tr th:only-of-type {\n",
       "        vertical-align: middle;\n",
       "    }\n",
       "\n",
       "    .dataframe tbody tr th {\n",
       "        vertical-align: top;\n",
       "    }\n",
       "\n",
       "    .dataframe thead th {\n",
       "        text-align: right;\n",
       "    }\n",
       "</style>\n",
       "<table border=\"1\" class=\"dataframe\">\n",
       "  <thead>\n",
       "    <tr style=\"text-align: right;\">\n",
       "      <th></th>\n",
       "      <th>Epoch</th>\n",
       "      <th>Train Loss</th>\n",
       "      <th>Test Loss</th>\n",
       "      <th>Train Accuracy</th>\n",
       "      <th>Test Accuracy</th>\n",
       "    </tr>\n",
       "  </thead>\n",
       "  <tbody>\n",
       "    <tr>\n",
       "      <th>0</th>\n",
       "      <td>1</td>\n",
       "      <td>3703.1216</td>\n",
       "      <td>586.31305</td>\n",
       "      <td>76.476667</td>\n",
       "      <td>78.16</td>\n",
       "    </tr>\n",
       "    <tr>\n",
       "      <th>1</th>\n",
       "      <td>2</td>\n",
       "      <td>3212.3174</td>\n",
       "      <td>651.67444</td>\n",
       "      <td>80.460000</td>\n",
       "      <td>78.52</td>\n",
       "    </tr>\n",
       "    <tr>\n",
       "      <th>2</th>\n",
       "      <td>3</td>\n",
       "      <td>3113.3838</td>\n",
       "      <td>504.39795</td>\n",
       "      <td>81.565000</td>\n",
       "      <td>82.10</td>\n",
       "    </tr>\n",
       "    <tr>\n",
       "      <th>3</th>\n",
       "      <td>4</td>\n",
       "      <td>3020.9893</td>\n",
       "      <td>607.59357</td>\n",
       "      <td>82.268333</td>\n",
       "      <td>81.36</td>\n",
       "    </tr>\n",
       "    <tr>\n",
       "      <th>4</th>\n",
       "      <td>5</td>\n",
       "      <td>3093.3335</td>\n",
       "      <td>576.5388</td>\n",
       "      <td>82.061667</td>\n",
       "      <td>81.15</td>\n",
       "    </tr>\n",
       "    <tr>\n",
       "      <th>5</th>\n",
       "      <td>6</td>\n",
       "      <td>3020.0112</td>\n",
       "      <td>559.7906</td>\n",
       "      <td>82.386667</td>\n",
       "      <td>80.74</td>\n",
       "    </tr>\n",
       "  </tbody>\n",
       "</table>\n",
       "</div>"
      ],
      "text/plain": [
       "   Epoch Train Loss  Test Loss  Train Accuracy  Test Accuracy\n",
       "0      1  3703.1216  586.31305       76.476667          78.16\n",
       "1      2  3212.3174  651.67444       80.460000          78.52\n",
       "2      3  3113.3838  504.39795       81.565000          82.10\n",
       "3      4  3020.9893  607.59357       82.268333          81.36\n",
       "4      5  3093.3335   576.5388       82.061667          81.15\n",
       "5      6  3020.0112   559.7906       82.386667          80.74"
      ]
     },
     "execution_count": 7,
     "metadata": {},
     "output_type": "execute_result"
    }
   ],
   "source": [
    "results = trainer.run_dl_model(trainloader, testloader, basic_model, optimizer,loss_function, epochs)\n",
    "results"
   ]
  },
  {
   "cell_type": "markdown",
   "metadata": {
    "cell_id": "ca24fa5910b1482880db1884e6b90a5a",
    "deepnote_cell_height": 571.09375,
    "deepnote_cell_type": "markdown",
    "tags": []
   },
   "source": [
    "## Step 4: Having even more fun!\n",
    "So, I gave you one of many possible CNN architectures to train your Fashion MNIST classifier. Another architecture you can try is a pretrained DL architecture called ResNet (Residual Neural Network). The key building block in ResNet is what's called a Basic Block. Below is an comparison of ResNet architecturse (which is what you will use in this exercise):\n",
    "![Resnet](resnet.png)\n"
   ]
  },
  {
   "cell_type": "markdown",
   "metadata": {
    "cell_id": "dc1527ae786748afbae67acf5c9b8817",
    "deepnote_cell_height": 290.5625,
    "deepnote_cell_type": "markdown",
    "tags": []
   },
   "source": [
    "For this part of the exercise, you will be using Resnet 50 architecture. However, you don't have to build it from scratch. Pytorch allows you to import a pretrained version of the architecture for your use. \n",
    "\n",
    "Check out: https://pytorch.org/vision/main/models/generated/torchvision.models.resnet50.html#torchvision.models.resnet50\n",
    "\n",
    "We can't just import resnet 50 and we're good. We have to tweak ResNet a bit for Fashion MNIST. Below are the fixes you should make:\n",
    "\n",
    "* The Fashion MNIST uses gray-scale images, so you should take the `conv1` layer in resnet-50 and set `in_channels=1`\n",
    "\n",
    "* The last layer in Resnet-50 is a fully connected layer (ie: `Linear` layer). We want to fix the last `Linear` layer in ResNet such that the output is a `1x10` vector (so you need to worry about `out_features` for the last `Linear` layer). \n",
    "\n",
    "Implement Resnet-50 for Fashion MNIST in `model.py` under the `FashionResNet50` class"
   ]
  },
  {
   "cell_type": "markdown",
   "metadata": {
    "cell_id": "b611c195d2584319b9a99e800f452f6f",
    "deepnote_cell_height": 46,
    "deepnote_cell_type": "markdown",
    "tags": []
   },
   "source": []
  },
  {
   "cell_type": "code",
   "execution_count": null,
   "metadata": {
    "cell_id": "ce36183ddb1844909e721627f2f38c69",
    "deepnote_cell_type": "code",
    "deepnote_to_be_reexecuted": false,
    "execution_millis": 224,
    "execution_start": 1658691655767,
    "source_hash": null,
    "tags": []
   },
   "outputs": [
    {
     "ename": "NameError",
     "evalue": "name 'model' is not defined",
     "output_type": "error",
     "traceback": [
      "\u001b[0;31m---------------------------------------------------------------------------\u001b[0m",
      "\u001b[0;31mNameError\u001b[0m                                 Traceback (most recent call last)",
      "\u001b[0;32m<ipython-input-1-790e25ee0e11>\u001b[0m in \u001b[0;36m<cell line: 2>\u001b[0;34m()\u001b[0m\n\u001b[1;32m      1\u001b[0m \u001b[0;31m#check your resnet architecture\u001b[0m\u001b[0;34m\u001b[0m\u001b[0;34m\u001b[0m\u001b[0m\n\u001b[0;32m----> 2\u001b[0;31m \u001b[0mresnet_model\u001b[0m \u001b[0;34m=\u001b[0m \u001b[0mmodel\u001b[0m\u001b[0;34m.\u001b[0m\u001b[0mFashionResNet50\u001b[0m\u001b[0;34m(\u001b[0m\u001b[0;34m)\u001b[0m\u001b[0;34m\u001b[0m\u001b[0;34m\u001b[0m\u001b[0m\n\u001b[0m\u001b[1;32m      3\u001b[0m \u001b[0mprint\u001b[0m\u001b[0;34m(\u001b[0m\u001b[0mresnet_model\u001b[0m\u001b[0;34m)\u001b[0m\u001b[0;34m\u001b[0m\u001b[0;34m\u001b[0m\u001b[0m\n",
      "\u001b[0;31mNameError\u001b[0m: name 'model' is not defined"
     ]
    }
   ],
   "source": [
    "#check your resnet architecture\n",
    "resnet_model = model.FashionResNet50()\n",
    "print(resnet_model)"
   ]
  },
  {
   "cell_type": "code",
   "execution_count": null,
   "metadata": {
    "cell_id": "2094e07baf2f48238340e378ec830280",
    "deepnote_cell_type": "code",
    "deepnote_to_be_reexecuted": false,
    "execution_millis": 2,
    "execution_start": 1658285001130,
    "source_hash": null,
    "tags": []
   },
   "outputs": [],
   "source": [
    "#Enter optimizer, loss function, epochs for resnet\n",
    "resnet_optimizer = __________________\n",
    "resnet_loss_function = __________________\n",
    "resnet_epochs = __________________"
   ]
  },
  {
   "cell_type": "code",
   "execution_count": null,
   "metadata": {
    "cell_id": "bd15be58630b4dd68305b88de6ef6e97",
    "deepnote_cell_type": "code",
    "deepnote_to_be_reexecuted": false,
    "execution_millis": 640981,
    "execution_start": 1658285003239,
    "source_hash": null,
    "tags": []
   },
   "outputs": [
    {
     "ename": "KeyboardInterrupt",
     "evalue": "",
     "output_type": "error",
     "traceback": [
      "\u001b[0;31m---------------------------------------------------------------------------\u001b[0m",
      "\u001b[0;31mKeyboardInterrupt\u001b[0m                         Traceback (most recent call last)",
      "\u001b[0;32m<ipython-input-12-ed75432fca26>\u001b[0m in \u001b[0;36m<cell line: 2>\u001b[0;34m()\u001b[0m\n\u001b[1;32m      1\u001b[0m \u001b[0;31m#train resnet model\u001b[0m\u001b[0;34m\u001b[0m\u001b[0;34m\u001b[0m\u001b[0m\n\u001b[0;32m----> 2\u001b[0;31m \u001b[0mresults\u001b[0m \u001b[0;34m=\u001b[0m \u001b[0mtrainer\u001b[0m\u001b[0;34m.\u001b[0m\u001b[0mrun_dl_model\u001b[0m\u001b[0;34m(\u001b[0m\u001b[0mtrainloader\u001b[0m\u001b[0;34m,\u001b[0m \u001b[0mtestloader\u001b[0m\u001b[0;34m,\u001b[0m \u001b[0mresnet_model\u001b[0m\u001b[0;34m,\u001b[0m \u001b[0mresnet_optimizer\u001b[0m\u001b[0;34m,\u001b[0m \u001b[0mresnet_loss_function\u001b[0m\u001b[0;34m,\u001b[0m \u001b[0mresnet_epochs\u001b[0m\u001b[0;34m)\u001b[0m\u001b[0;34m\u001b[0m\u001b[0;34m\u001b[0m\u001b[0m\n\u001b[0m\u001b[1;32m      3\u001b[0m \u001b[0mresults\u001b[0m\u001b[0;34m\u001b[0m\u001b[0;34m\u001b[0m\u001b[0m\n",
      "\u001b[0;32m~/work/trainer.py\u001b[0m in \u001b[0;36mrun_dl_model\u001b[0;34m(train_loader, test_loader, model, optimizer, loss_fn, epochs)\u001b[0m\n\u001b[1;32m     45\u001b[0m \u001b[0;34m\u001b[0m\u001b[0m\n\u001b[1;32m     46\u001b[0m             \u001b[0;31m# Adjust learning weights\u001b[0m\u001b[0;34m\u001b[0m\u001b[0;34m\u001b[0m\u001b[0m\n\u001b[0;32m---> 47\u001b[0;31m             \u001b[0moptimizer\u001b[0m\u001b[0;34m.\u001b[0m\u001b[0mstep\u001b[0m\u001b[0;34m(\u001b[0m\u001b[0;34m)\u001b[0m\u001b[0;34m\u001b[0m\u001b[0;34m\u001b[0m\u001b[0m\n\u001b[0m\u001b[1;32m     48\u001b[0m \u001b[0;34m\u001b[0m\u001b[0m\n\u001b[1;32m     49\u001b[0m             \u001b[0;31m# accuracy\u001b[0m\u001b[0;34m\u001b[0m\u001b[0;34m\u001b[0m\u001b[0m\n",
      "\u001b[0;32m/shared-libs/python3.9/py/lib/python3.9/site-packages/torch/optim/optimizer.py\u001b[0m in \u001b[0;36mwrapper\u001b[0;34m(*args, **kwargs)\u001b[0m\n\u001b[1;32m     86\u001b[0m                 \u001b[0mprofile_name\u001b[0m \u001b[0;34m=\u001b[0m \u001b[0;34m\"Optimizer.step#{}.step\"\u001b[0m\u001b[0;34m.\u001b[0m\u001b[0mformat\u001b[0m\u001b[0;34m(\u001b[0m\u001b[0mobj\u001b[0m\u001b[0;34m.\u001b[0m\u001b[0m__class__\u001b[0m\u001b[0;34m.\u001b[0m\u001b[0m__name__\u001b[0m\u001b[0;34m)\u001b[0m\u001b[0;34m\u001b[0m\u001b[0;34m\u001b[0m\u001b[0m\n\u001b[1;32m     87\u001b[0m                 \u001b[0;32mwith\u001b[0m \u001b[0mtorch\u001b[0m\u001b[0;34m.\u001b[0m\u001b[0mautograd\u001b[0m\u001b[0;34m.\u001b[0m\u001b[0mprofiler\u001b[0m\u001b[0;34m.\u001b[0m\u001b[0mrecord_function\u001b[0m\u001b[0;34m(\u001b[0m\u001b[0mprofile_name\u001b[0m\u001b[0;34m)\u001b[0m\u001b[0;34m:\u001b[0m\u001b[0;34m\u001b[0m\u001b[0;34m\u001b[0m\u001b[0m\n\u001b[0;32m---> 88\u001b[0;31m                     \u001b[0;32mreturn\u001b[0m \u001b[0mfunc\u001b[0m\u001b[0;34m(\u001b[0m\u001b[0;34m*\u001b[0m\u001b[0margs\u001b[0m\u001b[0;34m,\u001b[0m \u001b[0;34m**\u001b[0m\u001b[0mkwargs\u001b[0m\u001b[0;34m)\u001b[0m\u001b[0;34m\u001b[0m\u001b[0;34m\u001b[0m\u001b[0m\n\u001b[0m\u001b[1;32m     89\u001b[0m             \u001b[0;32mreturn\u001b[0m \u001b[0mwrapper\u001b[0m\u001b[0;34m\u001b[0m\u001b[0;34m\u001b[0m\u001b[0m\n\u001b[1;32m     90\u001b[0m \u001b[0;34m\u001b[0m\u001b[0m\n",
      "\u001b[0;32m/shared-libs/python3.9/py/lib/python3.9/site-packages/torch/autograd/grad_mode.py\u001b[0m in \u001b[0;36mdecorate_context\u001b[0;34m(*args, **kwargs)\u001b[0m\n\u001b[1;32m     25\u001b[0m         \u001b[0;32mdef\u001b[0m \u001b[0mdecorate_context\u001b[0m\u001b[0;34m(\u001b[0m\u001b[0;34m*\u001b[0m\u001b[0margs\u001b[0m\u001b[0;34m,\u001b[0m \u001b[0;34m**\u001b[0m\u001b[0mkwargs\u001b[0m\u001b[0;34m)\u001b[0m\u001b[0;34m:\u001b[0m\u001b[0;34m\u001b[0m\u001b[0;34m\u001b[0m\u001b[0m\n\u001b[1;32m     26\u001b[0m             \u001b[0;32mwith\u001b[0m \u001b[0mself\u001b[0m\u001b[0;34m.\u001b[0m\u001b[0mclone\u001b[0m\u001b[0;34m(\u001b[0m\u001b[0;34m)\u001b[0m\u001b[0;34m:\u001b[0m\u001b[0;34m\u001b[0m\u001b[0;34m\u001b[0m\u001b[0m\n\u001b[0;32m---> 27\u001b[0;31m                 \u001b[0;32mreturn\u001b[0m \u001b[0mfunc\u001b[0m\u001b[0;34m(\u001b[0m\u001b[0;34m*\u001b[0m\u001b[0margs\u001b[0m\u001b[0;34m,\u001b[0m \u001b[0;34m**\u001b[0m\u001b[0mkwargs\u001b[0m\u001b[0;34m)\u001b[0m\u001b[0;34m\u001b[0m\u001b[0;34m\u001b[0m\u001b[0m\n\u001b[0m\u001b[1;32m     28\u001b[0m         \u001b[0;32mreturn\u001b[0m \u001b[0mcast\u001b[0m\u001b[0;34m(\u001b[0m\u001b[0mF\u001b[0m\u001b[0;34m,\u001b[0m \u001b[0mdecorate_context\u001b[0m\u001b[0;34m)\u001b[0m\u001b[0;34m\u001b[0m\u001b[0;34m\u001b[0m\u001b[0m\n\u001b[1;32m     29\u001b[0m \u001b[0;34m\u001b[0m\u001b[0m\n",
      "\u001b[0;32m/shared-libs/python3.9/py/lib/python3.9/site-packages/torch/optim/adam.py\u001b[0m in \u001b[0;36mstep\u001b[0;34m(self, closure)\u001b[0m\n\u001b[1;32m    139\u001b[0m                     \u001b[0mstate_steps\u001b[0m\u001b[0;34m.\u001b[0m\u001b[0mappend\u001b[0m\u001b[0;34m(\u001b[0m\u001b[0mstate\u001b[0m\u001b[0;34m[\u001b[0m\u001b[0;34m'step'\u001b[0m\u001b[0;34m]\u001b[0m\u001b[0;34m)\u001b[0m\u001b[0;34m\u001b[0m\u001b[0;34m\u001b[0m\u001b[0m\n\u001b[1;32m    140\u001b[0m \u001b[0;34m\u001b[0m\u001b[0m\n\u001b[0;32m--> 141\u001b[0;31m             F.adam(params_with_grad,\n\u001b[0m\u001b[1;32m    142\u001b[0m                    \u001b[0mgrads\u001b[0m\u001b[0;34m,\u001b[0m\u001b[0;34m\u001b[0m\u001b[0;34m\u001b[0m\u001b[0m\n\u001b[1;32m    143\u001b[0m                    \u001b[0mexp_avgs\u001b[0m\u001b[0;34m,\u001b[0m\u001b[0;34m\u001b[0m\u001b[0;34m\u001b[0m\u001b[0m\n",
      "\u001b[0;32m/shared-libs/python3.9/py/lib/python3.9/site-packages/torch/optim/_functional.py\u001b[0m in \u001b[0;36madam\u001b[0;34m(params, grads, exp_avgs, exp_avg_sqs, max_exp_avg_sqs, state_steps, amsgrad, beta1, beta2, lr, weight_decay, eps, maximize)\u001b[0m\n\u001b[1;32m    108\u001b[0m \u001b[0;34m\u001b[0m\u001b[0m\n\u001b[1;32m    109\u001b[0m         \u001b[0mstep_size\u001b[0m \u001b[0;34m=\u001b[0m \u001b[0mlr\u001b[0m \u001b[0;34m/\u001b[0m \u001b[0mbias_correction1\u001b[0m\u001b[0;34m\u001b[0m\u001b[0;34m\u001b[0m\u001b[0m\n\u001b[0;32m--> 110\u001b[0;31m         \u001b[0mparam\u001b[0m\u001b[0;34m.\u001b[0m\u001b[0maddcdiv_\u001b[0m\u001b[0;34m(\u001b[0m\u001b[0mexp_avg\u001b[0m\u001b[0;34m,\u001b[0m \u001b[0mdenom\u001b[0m\u001b[0;34m,\u001b[0m \u001b[0mvalue\u001b[0m\u001b[0;34m=\u001b[0m\u001b[0;34m-\u001b[0m\u001b[0mstep_size\u001b[0m\u001b[0;34m)\u001b[0m\u001b[0;34m\u001b[0m\u001b[0;34m\u001b[0m\u001b[0m\n\u001b[0m\u001b[1;32m    111\u001b[0m \u001b[0;34m\u001b[0m\u001b[0m\n\u001b[1;32m    112\u001b[0m def adamw(params: List[Tensor],\n",
      "\u001b[0;31mKeyboardInterrupt\u001b[0m: "
     ]
    }
   ],
   "source": [
    "#train resnet model (this part can take a while, so run this trainer using CUDA (torch.cuda())!)\n",
    "results = trainer.run_dl_model(trainloader, testloader, resnet_model, resnet_optimizer, resnet_loss_function, resnet_epochs)\n",
    "results"
   ]
  },
  {
   "cell_type": "markdown",
   "metadata": {
    "cell_id": "5b984926316d402ca5cc522131f70e2b",
    "deepnote_cell_height": 74.78125,
    "deepnote_cell_type": "markdown",
    "owner_user_id": "62793d04-d528-4115-8ac3-ef1aa25c3727",
    "tags": []
   },
   "source": [
    "Feel free to play around with parameters for optimizer, loss function, epochs for resnet and basic CNN model. For basic CNN model, you can play around with the layer parameters and architecture. "
   ]
  },
  {
   "cell_type": "markdown",
   "metadata": {
    "created_in_deepnote_cell": true,
    "deepnote_cell_type": "markdown"
   },
   "source": [
    "<a style='text-decoration:none;line-height:16px;display:flex;color:#5B5B62;padding:10px;justify-content:end;' href='https://deepnote.com?utm_source=created-in-deepnote-cell&projectId=8488eaf2-ff92-4a43-b350-fdb8e01ce644' target=\"_blank\">\n",
    "<img alt='Created in deepnote.com' style='display:inline;max-height:16px;margin:0px;margin-right:7.5px;' src='data:image/svg+xml;base64,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' > </img>\n",
    "Created in <span style='font-weight:600;margin-left:4px;'>Deepnote</span></a>"
   ]
  }
 ],
 "metadata": {
  "deepnote_execution_queue": [],
  "deepnote_notebook_id": "d853a93e3911421692c2afc5b062ba42",
  "kernelspec": {
   "display_name": "Python 3 (ipykernel)",
   "language": "python",
   "name": "python3"
  },
  "language_info": {
   "codemirror_mode": {
    "name": "ipython",
    "version": 3
   },
   "file_extension": ".py",
   "mimetype": "text/x-python",
   "name": "python",
   "nbconvert_exporter": "python",
   "pygments_lexer": "ipython3",
   "version": "3.8.0"
  }
 },
 "nbformat": 4,
 "nbformat_minor": 4
}
