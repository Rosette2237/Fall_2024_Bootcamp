{
 "cells": [
  {
   "cell_type": "markdown",
   "metadata": {
    "cell_id": "6a4eded8070740f68b900c11ccd61047",
    "deepnote_cell_height": 70,
    "deepnote_cell_type": "markdown",
    "id": "kMCpFfLkRgWM"
   },
   "source": [
    "<img src=\"https://drive.google.com/uc?id=1E_GYlzeV8zomWYNBpQk0i00XcZjhoy3S\" width=\"100\"/>"
   ]
  },
  {
   "cell_type": "markdown",
   "metadata": {
    "cell_id": "31906e543924486ea0066d7e8d291427",
    "deepnote_cell_height": 196.1875,
    "deepnote_cell_type": "markdown",
    "id": "8frvpY7yQeeR",
    "tags": []
   },
   "source": [
    "# Workshop 1 Drill\n",
    "\n",
    "## Learning Objectives\n",
    "\n",
    "1. Practice using JupyterNotebooks to get acclimated to writing Python code\n",
    "\n",
    "2. Create your team's Github Repository for the bootcamp project\n"
   ]
  },
  {
   "cell_type": "markdown",
   "metadata": {
    "cell_id": "e6369654e2354d7681f1536d3929b03b",
    "deepnote_cell_height": 279.59375,
    "deepnote_cell_type": "markdown",
    "id": "vEu-JEqzRvFC"
   },
   "source": [
    "From the workshop, we talked about why Python is heavily used in the field of data science. To recap, these reasons include:\n",
    "\n",
    "- Easy to read and understand\n",
    "- Lots of libraries for data science\n",
    "- One of the most popular languages for data science (besides R)\n",
    "\n",
    "**Before starting this drill, please make a COPY of this notebook and put in your folder that you created during Bootcamp. Refer to the Workshop 1 Fall 2021 Notebook for instructions on doing this.**\n",
    "\n",
    "To get acclimated with Python, the best way is to use it/apply it to a problem of interest. For each of the function headers, fill in the parts with \"YOUR CODE HERE\" keeping in mind the instructions provided to you in the comments. Test cases are provided to ensure that your functions work properly."
   ]
  },
  {
   "cell_type": "markdown",
   "metadata": {
    "cell_id": "ac3786b8847b46129686aa875c81d055",
    "deepnote_cell_height": 70,
    "deepnote_cell_type": "markdown",
    "id": "NG2HUWDEoA5x"
   },
   "source": [
    "## Problem 1: Cubing a Number"
   ]
  },
  {
   "cell_type": "code",
   "execution_count": 1,
   "metadata": {
    "cell_id": "710f7ae7fa8742cf93b50666712280a4",
    "deepnote_cell_type": "code",
    "deepnote_to_be_reexecuted": false,
    "execution_millis": 2,
    "execution_start": 1661837796978,
    "id": "rX3s5eCRQb-r",
    "owner_user_id": "62793d04-d528-4115-8ac3-ef1aa25c3727",
    "source_hash": null
   },
   "outputs": [],
   "source": [
    "def cube(n):\n",
    "  \"\"\"\n",
    "  This function should take in a number and return the cube of it. For example, cube(4) = 64\n",
    "  \"\"\"\n",
    "  #YOUR CODE HERE\n",
    "  return n*n*n\n"
   ]
  },
  {
   "cell_type": "code",
   "execution_count": 2,
   "metadata": {
    "cell_id": "07c78000f2984b4c96a3350948d9558b",
    "colab": {
     "base_uri": "https://localhost:8080/"
    },
    "deepnote_cell_type": "code",
    "deepnote_to_be_reexecuted": false,
    "executionInfo": {
     "elapsed": 180,
     "status": "ok",
     "timestamp": 1644279915097,
     "user": {
      "displayName": "Rishi Machanpalli",
      "photoUrl": "https://lh3.googleusercontent.com/a/default-user=s64",
      "userId": "09495016322255724885"
     },
     "user_tz": 300
    },
    "execution_millis": 6,
    "execution_start": 1658202056364,
    "id": "RX94e2sPSejw",
    "outputId": "0462069a-e4bc-46f9-ced0-e48dbbc24bf5",
    "source_hash": null
   },
   "outputs": [
    {
     "name": "stderr",
     "output_type": "stream",
     "text": [
      "....\n",
      "----------------------------------------------------------------------\n",
      "Ran 4 tests in 0.002s\n",
      "\n",
      "OK\n"
     ]
    }
   ],
   "source": [
    "#Below are some test cases to ensure that the \"cube\" function works as intended. PLEASE DO NOT MODIFY THIS CELL OR HARDCODE THE SOLUTION!!!!!!!!!!!!!!\n",
    "import unittest\n",
    "\n",
    "class TestCube(unittest.TestCase):\n",
    "  def test_cube_integer(self):\n",
    "    self.assertEqual(cube(2), 8)\n",
    "    self.assertEqual(cube(5), 125)\n",
    "    self.assertEqual(cube(9), 729)\n",
    "  def test_cube_zero(self):\n",
    "    self.assertEqual(cube(0), 0)\n",
    "  def test_cube_negative_integer(self):\n",
    "    self.assertEqual(cube(-1), -1)\n",
    "    self.assertEqual(cube(-10), -1000)\n",
    "    self.assertEqual(cube(-7), -343)\n",
    "    self.assertEqual(cube(-3), -27)\n",
    "  def test_cube_floating_point_numbers(self):\n",
    "    self.assertAlmostEqual(cube(1.1), 1.331)\n",
    "    self.assertAlmostEqual(cube(0.9), 0.729)\n",
    "    self.assertAlmostEqual(cube(-0.06), -0.000216)\n",
    "    self.assertAlmostEqual(cube(5.65), 180.362125)\n",
    "  \n",
    "if __name__ == '__main__':\n",
    "    unittest.main(argv=['first-arg-is-ignored'], exit=False)\n"
   ]
  },
  {
   "cell_type": "markdown",
   "metadata": {
    "cell_id": "696b0b22a2b1441f98f3992ffa4673b8",
    "deepnote_cell_height": 70,
    "deepnote_cell_type": "markdown",
    "id": "-aGMAneioFNd"
   },
   "source": [
    "## Problem 2: Taking the Factorial of a number"
   ]
  },
  {
   "cell_type": "code",
   "execution_count": 3,
   "metadata": {
    "cell_id": "14a7e97c6599443482cd39d57a1da36d",
    "deepnote_cell_type": "code",
    "deepnote_to_be_reexecuted": false,
    "execution_millis": 1,
    "execution_start": 1658202056388,
    "id": "b0efZkisVIIH",
    "source_hash": null
   },
   "outputs": [],
   "source": [
    "def factorial(n):\n",
    "  \"\"\"\n",
    "  This function takes in an integer n and outputs n!. Recall that n! = n*(n-1)*(n-2)*.... * 1. 0! = 1. If the number is not an integer, you must throw a ValueError. \n",
    "  If an integer is an invalid input to the function, you must throw a ValueError as well. Please include an informative message about why the ValueError was thrown (eg: ValueError(\"Input is not an integer\")) \n",
    "  \"\"\"\n",
    "\n",
    "  #YOUR CODE HERE\n",
    "  if (int(n) != n):\n",
    "    raise ValueError(\"You can take factorial of integers only\")\n",
    "  if (n < 0):\n",
    "    raise ValueError(\"You can't take factorial of negative integers\")\n",
    "  result = 1\n",
    "  for i in range(1, n+1):\n",
    "    result = result*i\n",
    "  return result\n",
    "\n",
    "  \n"
   ]
  },
  {
   "cell_type": "code",
   "execution_count": 4,
   "metadata": {
    "cell_id": "4a89a271a8fa47e7bd53115455942c72",
    "colab": {
     "base_uri": "https://localhost:8080/"
    },
    "deepnote_cell_type": "code",
    "deepnote_to_be_reexecuted": false,
    "executionInfo": {
     "elapsed": 174,
     "status": "ok",
     "timestamp": 1644279924805,
     "user": {
      "displayName": "Rishi Machanpalli",
      "photoUrl": "https://lh3.googleusercontent.com/a/default-user=s64",
      "userId": "09495016322255724885"
     },
     "user_tz": 300
    },
    "execution_millis": 15,
    "execution_start": 1658202056389,
    "id": "6J1q6L2wV44P",
    "outputId": "44f7083b-8bf0-4c63-9cd5-31c121925433",
    "source_hash": null
   },
   "outputs": [
    {
     "name": "stderr",
     "output_type": "stream",
     "text": [
      ".......\n",
      "----------------------------------------------------------------------\n",
      "Ran 7 tests in 0.006s\n",
      "\n",
      "OK\n"
     ]
    }
   ],
   "source": [
    "#Below are some test cases to ensure that the \"factorial\" function works as intended. PLEASE DO NOT MODIFY THIS CELL OR HARDCODE THE SOLUTION!!!!!!!!!!!!!!\n",
    "import unittest\n",
    "\n",
    "class TestFactorial(unittest.TestCase):\n",
    "  def test_factorial_normal(self):\n",
    "    self.assertEqual(factorial(2), 2)\n",
    "    self.assertEqual(factorial(3), 6)\n",
    "    self.assertEqual(factorial(5), 120)\n",
    "  def test_zero_factorial(self):\n",
    "    self.assertEqual(factorial(0), 1)\n",
    "  def factorial_negative_integer(self):\n",
    "    with self.assertRaises(ValueError):\n",
    "      factorial(-1)\n",
    "      factorial(-200)\n",
    "      factorial(-150)\n",
    "      factorial(-7)\n",
    "  def test_factorial_floating_point_numbers(self):\n",
    "    with self.assertRaises(ValueError):\n",
    "      factorial(1.2)\n",
    "      factorial(200.345345)\n",
    "      factorial(150.12123)\n",
    "      factorial(-7.9)\n",
    "    \n",
    "  \n",
    "if __name__ == '__main__':\n",
    "    unittest.main(argv=['first-arg-is-ignored'], exit=False)\n"
   ]
  },
  {
   "cell_type": "markdown",
   "metadata": {
    "cell_id": "8ad2903ea73f414ebc5026ef43b09f0b",
    "deepnote_cell_height": 70,
    "deepnote_cell_type": "markdown",
    "id": "KCSnHkaeoJrq"
   },
   "source": [
    "## Problem 3: Counting the digits in a number"
   ]
  },
  {
   "cell_type": "code",
   "execution_count": 9,
   "metadata": {
    "cell_id": "3f45f5c6dec4436ca9a15cadd6b5d97e",
    "deepnote_cell_type": "code",
    "deepnote_to_be_reexecuted": false,
    "execution_millis": 0,
    "execution_start": 1658202056406,
    "id": "rwtXxtzrkIMu",
    "source_hash": null
   },
   "outputs": [],
   "source": [
    "def count_digits(number):\n",
    "  \"\"\"\n",
    "  For a given number, count the number of digits. For example, count_digits(123) = 3 because there are 3 digits in the number\n",
    "\n",
    "  The number will always be greater than or equal to zero and it is guaranteed that number is an integer\n",
    "  \"\"\"\n",
    "  ctr = 0\n",
    "  if (number == 0):\n",
    "    return 1\n",
    "  while (number != 0):\n",
    "    ctr += 1\n",
    "    number = number // 10\n",
    "  return ctr"
   ]
  },
  {
   "cell_type": "code",
   "execution_count": 10,
   "metadata": {
    "cell_id": "435c1723a97742e589d623498f6ac202",
    "colab": {
     "base_uri": "https://localhost:8080/"
    },
    "deepnote_cell_type": "code",
    "deepnote_to_be_reexecuted": false,
    "executionInfo": {
     "elapsed": 183,
     "status": "ok",
     "timestamp": 1626664655870,
     "user": {
      "displayName": "karkir subu",
      "photoUrl": "",
      "userId": "16772208711887863110"
     },
     "user_tz": 420
    },
    "execution_millis": 53,
    "execution_start": 1658202056410,
    "id": "r_5jPo5wkYjT",
    "outputId": "e255d861-e5df-4157-d0e9-c1c9135a8970",
    "source_hash": null
   },
   "outputs": [
    {
     "name": "stderr",
     "output_type": "stream",
     "text": [
      "........\n",
      "----------------------------------------------------------------------\n",
      "Ran 8 tests in 0.005s\n",
      "\n",
      "OK\n"
     ]
    }
   ],
   "source": [
    "#Below are some test cases to ensure that the \"factorial\" function works as intended. PLEASE DO NOT MODIFY THIS CELL OR HARDCODE THE SOLUTION!!!!!!!!!!!!!!\n",
    "import unittest\n",
    "\n",
    "class TestCountDigits(unittest.TestCase):\n",
    "  def test_count_digits(self):\n",
    "    self.assertEqual(count_digits(2), 1)\n",
    "    self.assertEqual(count_digits(3), 1)\n",
    "    self.assertEqual(count_digits(5), 1)\n",
    "    self.assertEqual(count_digits(29), 2)\n",
    "    self.assertEqual(count_digits(99), 2)\n",
    "    self.assertEqual(count_digits(101), 3)\n",
    "    self.assertEqual(count_digits(5045), 4)\n",
    "    self.assertEqual(count_digits(0), 1)\n",
    "    self.assertEqual(count_digits(123234234), 9)\n",
    "    \n",
    "    \n",
    "  \n",
    "if __name__ == '__main__':\n",
    "    unittest.main(argv=['first-arg-is-ignored'], exit=False)"
   ]
  },
  {
   "cell_type": "markdown",
   "metadata": {
    "cell_id": "ba773063b2e94324a5689dea0f46712c",
    "deepnote_cell_type": "markdown",
    "id": "wiQEidLIoMPQ"
   },
   "source": [
    "## Problem 4: Attaining a target average grade"
   ]
  },
  {
   "cell_type": "code",
   "execution_count": 11,
   "metadata": {
    "cell_id": "d4584a07689545d4a67bcf03c312bdcb",
    "deepnote_cell_type": "code",
    "deepnote_to_be_reexecuted": false,
    "execution_millis": 0,
    "execution_start": 1658202056487,
    "id": "3am8iGgok4HP",
    "source_hash": null
   },
   "outputs": [],
   "source": [
    "def average_grade(scores, targetGrade):\n",
    "    \"\"\"\n",
    "      Given a set of exam scores as such: {\"Exam 1\": 43, \"Exam 2\": 59, \"Exam 3\": 60, \"Exam 4\": 90}\n",
    "  \n",
    "      Find how much the student will need to score on the final exam to acheive the target grade. Assume that all exams (including the final exam) are weighted equally\n",
    "      for the sake of simplicity.\n",
    "\n",
    "      In the above example, if the student wants to have a target grade of 70, the student will need to score a 98 on the final (70* 5 exams = 43+59+60+90 + X. Solve the equation for X)\n",
    "\n",
    "      Assume that scores will always be a nonempty dictionary\n",
    "    \"\"\"\n",
    "    #YOUR CODE HERE\n",
    "    targetTotal = targetGrade*(len(scores.keys()) + 1)\n",
    "    currSum = 0\n",
    "    for k in scores.keys():\n",
    "        currSum += scores[k]\n",
    "    return targetTotal - currSum"
   ]
  },
  {
   "cell_type": "code",
   "execution_count": 12,
   "metadata": {
    "cell_id": "9a1e2209745e4088b94392ccd234f1ba",
    "colab": {
     "base_uri": "https://localhost:8080/"
    },
    "deepnote_cell_type": "code",
    "deepnote_to_be_reexecuted": false,
    "executionInfo": {
     "elapsed": 17,
     "status": "ok",
     "timestamp": 1626664655872,
     "user": {
      "displayName": "karkir subu",
      "photoUrl": "",
      "userId": "16772208711887863110"
     },
     "user_tz": 420
    },
    "execution_millis": 25,
    "execution_start": 1658202056488,
    "id": "KnvoHzI9lzWK",
    "outputId": "c26ddb24-c5b4-43d3-94fb-2f2ca1c1c70c",
    "source_hash": null
   },
   "outputs": [
    {
     "name": "stderr",
     "output_type": "stream",
     "text": [
      "...........\n",
      "----------------------------------------------------------------------\n",
      "Ran 11 tests in 0.012s\n",
      "\n",
      "OK\n"
     ]
    }
   ],
   "source": [
    "#Below are some test cases to ensure that the \"average_grade\" function works as intended. PLEASE DO NOT MODIFY THIS CELL OR HARDCODE THE SOLUTION!!!!!!!!!!!!!!\n",
    "class TestAverageGrade(unittest.TestCase):\n",
    "  def test_avg_grade_normal(self):\n",
    "    self.assertEqual(average_grade({\"Exam 1\": 43, \"Exam 2\": 59, \"Exam 3\": 60, \"Exam 4\": 90}, 70), 98)\n",
    "    self.assertEqual(average_grade({\"E1\": 90, \"E2\": 95}, 97), 106)\n",
    "    self.assertEqual(average_grade({\"E1\": 88, \"E2\": 90, \"E3\": 94}, 91), 92)\n",
    "  def test_zeros_on_exams(self):\n",
    "    self.assertEqual(average_grade({\"E1\": 0, \"E2\": 0, \"E3\": 0, \"E4\": 0}, 100), 500)\n",
    "    self.assertEqual(average_grade({\"E1\": 0}, 0), 0)\n",
    "    self.assertEqual(average_grade({\"E1\": 0, \"E2\": 0}, 30), 90)\n",
    "  def test_exam_acer(self):\n",
    "    self.assertEqual(average_grade({\"E1\": 100, \"E2\": 100, \"E3\": 100, \"E4\": 100}, 100), 100)\n",
    "    self.assertEqual(average_grade({\"E1\": 100, \"E2\": 100}, 90), 70)\n",
    "  \n",
    "if __name__ == '__main__':\n",
    "    unittest.main(argv=['first-arg-is-ignored'], exit=False)"
   ]
  },
  {
   "cell_type": "markdown",
   "metadata": {
    "cell_id": "b39ffeef3dee41488b99a6e64dcbab18",
    "deepnote_cell_type": "markdown",
    "id": "GIJLvDZVoSSf"
   },
   "source": [
    "## Problem 5: Taking the product of a subset of elements in a list"
   ]
  },
  {
   "cell_type": "code",
   "execution_count": 13,
   "metadata": {
    "cell_id": "aee824c4023a4c6f8f6d3007599fee13",
    "deepnote_cell_type": "code",
    "deepnote_to_be_reexecuted": false,
    "execution_millis": 2,
    "execution_start": 1658202056516,
    "id": "Nyt9rIliY-Qx",
    "source_hash": null
   },
   "outputs": [],
   "source": [
    "def slice_product(numList, start_pos, end_pos):\n",
    "    \"\"\"\n",
    "    Given a list of numbers, a start index, and end index, find the product of the entries in the given slice. Below is an example\n",
    "\n",
    "    Suppose that the list is [1,2,3,4,5], start_pos = 1, end_pos = 3, then slice_product should return 24 (lists are zero-indexed in the sense that the first element in the list is at index 0, so 2*3*4 = 24)\n",
    "\n",
    "    If the start_pos is a negative number, raise/throw a ValueError with an informative reason. If the end_pos is an integer that is at least the length of the list, raise/throw a ValueError (eg: in the above array, if end_pos >= 5, raise a ValueError.)\n",
    "\n",
    "    If the end_pos is smaller than the start_pos, raise/throw a ValueError as well. The start_pos and end_pos are guaranteed to be integers.\n",
    "    \"\"\"\n",
    "    #YOUR CODE HERE\n",
    "    if (start_pos < 0):\n",
    "        raise ValueError(\"Start position can't be negative\")\n",
    "    elif (end_pos >= len(numList)):\n",
    "        raise ValueError(\"End position is at least the length of the list\")\n",
    "    elif (end_pos < start_pos):\n",
    "        raise ValueError(\"End position must be larger than the start position\")\n",
    "    product = 1\n",
    "    for i in range(start_pos, end_pos + 1):\n",
    "        product = product*numList[i]\n",
    "    return product"
   ]
  },
  {
   "cell_type": "code",
   "execution_count": 14,
   "metadata": {
    "cell_id": "ddaa110daba649189afa313b48d1705e",
    "colab": {
     "base_uri": "https://localhost:8080/"
    },
    "deepnote_cell_type": "code",
    "deepnote_to_be_reexecuted": false,
    "executionInfo": {
     "elapsed": 170,
     "status": "ok",
     "timestamp": 1626664656036,
     "user": {
      "displayName": "karkir subu",
      "photoUrl": "",
      "userId": "16772208711887863110"
     },
     "user_tz": 420
    },
    "execution_millis": 37,
    "execution_start": 1658202056582,
    "id": "SV4u7UIVarny",
    "outputId": "e5539c0c-2ed1-40f5-e906-41c8f0e65355",
    "source_hash": null
   },
   "outputs": [
    {
     "name": "stderr",
     "output_type": "stream",
     "text": [
      "................\n",
      "----------------------------------------------------------------------\n",
      "Ran 16 tests in 0.010s\n",
      "\n",
      "OK\n"
     ]
    }
   ],
   "source": [
    "#Below are some test cases to ensure that the \"slice_product\" function works as intended. PLEASE DO NOT MODIFY THIS CELL OR HARDCODE THE SOLUTION!!!!!!!!!!!!!!\n",
    "import unittest\n",
    "\n",
    "class TestSliceProduct(unittest.TestCase):\n",
    "  def test_slice_product_normal(self):\n",
    "    self.assertEqual(slice_product([1,2,3,4,5], 1, 3), 24)\n",
    "    self.assertEqual(slice_product([2,6,7,8,9,3,0,1,4,132,23], 0, 5), 18144)\n",
    "    self.assertEqual(slice_product([7,6,14,10,11,9,12,8,15,5,13], 2,8), 19958400)\n",
    "  def test_slice_product_empty(self):\n",
    "    with self.assertRaises(ValueError):\n",
    "      slice_product([], 0,1)\n",
    "  \n",
    "  def test_slice_product_invalid_start_pos(self):\n",
    "    with self.assertRaises(ValueError):\n",
    "      slice_product([1,23423,3736465,2412342,65868,234123,957,7856,856,78,67,856,785,67,856,78,34,52,3434,23,412,3,214], -9,1)\n",
    "      slice_product([235,23,646,456,74,787,86,97,89,5476,34,24,1215,45,6,48,5,689,678,956,4,345,325,66,4,7868,79,979,87,654], -8,1)\n",
    "      slice_product([124,1.2,34.12,34.234,52.34,5.234,34.5,2.34,52,3452,34,523,46,34,5654,6,47,67,764,57,54,6,74,56,754], -1,1)\n",
    "      slice_product([134,6456,123,0,7,45,3,1,3,4,6,7,8,9,0,6,32,2,4,46], -2,1)\n",
    "  def test_slice_product_invalid_end_pos(self):\n",
    "    with self.assertRaises(ValueError):\n",
    "      slice_product([1,23423,3736465,2412342,65868,234123,957,7856,856,78,67,856,785,67,856,78,34,52,3434,23,412,3,214], 1,12341234123)\n",
    "      slice_product([235,23,646,456,74,787,86,97,89,5476,34,24,1215,45,6,48,5,689,678,956,4,345,325,66,4,7868,79,979,87,654], 5,3555)\n",
    "      slice_product([124,1.2,34.12,34.234,52.34,5.234,34.5,2.34,52,3452,34,523,46,34,5654,6,47,67,764,57,54,6,74,56,754], 2,5000)\n",
    "      slice_product([134,6456,123,0,7,45,3,1,3,4,6,7,8,9,0,6,32,2,4,46], -2,20)\n",
    "  def test_slice_product_hidden_zero(self):\n",
    "    self.assertEqual(slice_product([1,2,3,0,4,5], 1, 3), 0)\n",
    "    self.assertEqual(slice_product([124,1.2,34.12,34.234,0, 52.34,5.234,0, 34.5,2.34,52,3452,34,523,46,34,5654,6,47,67,764,57,54,6,74,56,754], 3,6), 0)\n",
    "    self.assertEqual(slice_product([7,6,14,10,11,9,12,8,15,5,0,13], 2,8), 19958400)\n",
    "    \n",
    "  \n",
    "if __name__ == '__main__':\n",
    "    unittest.main(argv=['first-arg-is-ignored'], exit=False)"
   ]
  },
  {
   "cell_type": "markdown",
   "metadata": {
    "cell_id": "3386c82f2e4f411198c72e02c0b1d020",
    "deepnote_cell_type": "markdown",
    "id": "oxwsAehooWWm"
   },
   "source": [
    "## Problem 6: Caesar Cipher Encryption"
   ]
  },
  {
   "cell_type": "code",
   "execution_count": 15,
   "metadata": {
    "cell_id": "4f7bbe6379154360a0523714e3ce380a",
    "deepnote_cell_type": "code",
    "deepnote_to_be_reexecuted": false,
    "execution_millis": 0,
    "execution_start": 1658202056621,
    "id": "bTtM-jMEdrD4",
    "source_hash": null
   },
   "outputs": [],
   "source": [
    "def encrypt(message, shift):\n",
    "    \"\"\"\n",
    "    This function is responsible for encrypting a message using Caesar Cipher. The Caesar Cipher is basically shifting the alphabet. For example, if the shift is 2, then a becomes c, b becomes d and so on.\n",
    "    If the shift is 1, then a becomes b, b becomes c and so on.\n",
    "\n",
    "    Helpful Link to understand Caesar Cipher: https://medium.com/blockgeeks-blog/cryptography-for-dummies-part-2-the-caesar-cipher-665106afac78\n",
    "\n",
    "    If the shift value is negative, you will need to perform a manipulation to find an equivalent shift value (for example if shift was -27, the equivalent shift value that's positive is 25)\n",
    "\n",
    "    (Hint: For the shift value case, think mathematically how the Cipher works)\n",
    "\n",
    "    Caesar Cipher is case insensitive!!! (\"J\" shifted by 3 should be treated the same as \"j\" shifted by 3 for example). How can you use this property to simplify your solution?\n",
    "    \"\"\"\n",
    "    #YOUR CODE HERE\n",
    "    cipher = ''\n",
    "    for char in message:\n",
    "        if char == ' ':\n",
    "            cipher = cipher + char\n",
    "        elif  char.isupper():\n",
    "            cipher = cipher + chr((ord(char) + shift - 65) % 26 + 65)\n",
    "        else:\n",
    "            cipher = cipher + chr((ord(char) + shift - 97) % 26 + 97)\n",
    "    return cipher"
   ]
  },
  {
   "cell_type": "code",
   "execution_count": 16,
   "metadata": {
    "cell_id": "09b9077f149748b2a792fc9b03043b6b",
    "colab": {
     "base_uri": "https://localhost:8080/"
    },
    "deepnote_cell_type": "code",
    "deepnote_to_be_reexecuted": false,
    "executionInfo": {
     "elapsed": 158,
     "status": "ok",
     "timestamp": 1626664656193,
     "user": {
      "displayName": "karkir subu",
      "photoUrl": "",
      "userId": "16772208711887863110"
     },
     "user_tz": 420
    },
    "execution_millis": 614,
    "execution_start": 1658202056668,
    "id": "K-244XUseb-a",
    "outputId": "734aea90-9220-4b54-e650-841f77281343",
    "source_hash": null
   },
   "outputs": [
    {
     "name": "stderr",
     "output_type": "stream",
     "text": [
      "....................\n",
      "----------------------------------------------------------------------\n",
      "Ran 20 tests in 0.014s\n",
      "\n",
      "OK\n"
     ]
    }
   ],
   "source": [
    "#Below are some test cases to ensure that the \"encrypt\" function works as intended. PLEASE DO NOT MODIFY THIS CELL OR HARDCODE THE SOLUTION!!!!!!!!!!!!!!\n",
    "import unittest\n",
    "\n",
    "class TestEncryption(unittest.TestCase):\n",
    "  def test_encryption_normal(self):\n",
    "    self.assertEqual(encrypt(\"Julius Caesar\", 3).lower(), \"Mxolxv Fdhvdu\".lower())\n",
    "    self.assertEqual(encrypt(\"Hello Data Science\", 7).lower(), \"Olssv Khah Zjplujl\".lower())\n",
    "    self.assertEqual(encrypt(\"Can Bob get me a soda\", 30).lower(), \"Ger Fsf kix qi e wshe\".lower())\n",
    "  def test_encrypt_empty(self):\n",
    "    self.assertEqual(encrypt(\"\", 123).lower(), \"\".lower())\n",
    "    self.assertEqual(encrypt(\"\", 5).lower(), \"\".lower())\n",
    "    self.assertEqual(encrypt(\"\", 4).lower(), \"\".lower())\n",
    "  \n",
    "  def test_encryption_no_shift(self):\n",
    "    self.assertEqual(encrypt(\"Julius Caesar\", 0).lower(), \"Julius Caesar\".lower())\n",
    "    self.assertEqual(encrypt(\"Hello Data Science\", 0).lower(), \"Hello Data Science\".lower())\n",
    "    self.assertEqual(encrypt(\"Can Bob get me a soda\", 0).lower(), \"Can Bob get me a soda\".lower())\n",
    "    self.assertEqual(encrypt(\"asdfkjasldfjalrkgjoeirghslkdfgjlkadjflkamjf\", 0).lower(), \"asdfkjasldfjalrkgjoeirghslkdfgjlkadjflkamjf\".lower())\n",
    "\n",
    "  def test_encryption_negative_shift(self):\n",
    "    self.assertEqual(encrypt(\"It is the bottom of the ninth\", -27).lower(), \"Hs hr sgd anssnl ne sgd mhmsg\".lower())\n",
    "    self.assertEqual(encrypt(\"Data science is cool\", -300).lower(), \"Pmfm eouqzoq ue oaax\".lower())\n",
    "    self.assertEqual(encrypt(\"Summertime fun\", -2).lower(), \"Qskkcprgkc dsl\".lower())\n",
    "\n",
    "    \n",
    "  \n",
    "if __name__ == '__main__':\n",
    "    unittest.main(argv=['first-arg-is-ignored'], exit=False)"
   ]
  },
  {
   "cell_type": "markdown",
   "metadata": {
    "cell_id": "9b565fa1c60c44c9a3b73b5c74c53e80",
    "deepnote_cell_type": "markdown",
    "id": "nVM2ah94oZRY"
   },
   "source": [
    "## Problem 7: Caesar Cipher Decryption"
   ]
  },
  {
   "cell_type": "code",
   "execution_count": 17,
   "metadata": {
    "cell_id": "5ed35eced45c4f71a7ffd2da51aa9165",
    "deepnote_cell_type": "code",
    "deepnote_to_be_reexecuted": false,
    "execution_millis": 19886,
    "execution_start": 1658202056756,
    "id": "FQK0m24qiTmQ",
    "source_hash": null
   },
   "outputs": [],
   "source": [
    "def decrypt(message, shift):\n",
    "    \"\"\"\n",
    "    Same rules as encrypt, but decrypt the message\n",
    "    \"\"\"\n",
    "    #YOUR CODE HERE\n",
    "    result = \"\"\n",
    "    s = 26 - shift\n",
    "    # traverse text\n",
    "    for i in range(len(message)):\n",
    "        char = message[i]\n",
    "        if (char == ' '):\n",
    "            result += char\n",
    "            continue\n",
    "        # Encrypt uppercase characters\n",
    "        if (char.isupper()):\n",
    "            result += chr((ord(char) + s-65) % 26 + 65)\n",
    " \n",
    "        # Encrypt lowercase characters\n",
    "        else:\n",
    "            result += chr((ord(char) + s - 97) % 26 + 97)\n",
    " \n",
    "    return result"
   ]
  },
  {
   "cell_type": "code",
   "execution_count": 18,
   "metadata": {
    "cell_id": "4fe1fbd997054331a00495e132e8a387",
    "colab": {
     "base_uri": "https://localhost:8080/"
    },
    "deepnote_cell_type": "code",
    "deepnote_to_be_reexecuted": false,
    "executionInfo": {
     "elapsed": 317,
     "status": "ok",
     "timestamp": 1626664656508,
     "user": {
      "displayName": "karkir subu",
      "photoUrl": "",
      "userId": "16772208711887863110"
     },
     "user_tz": 420
    },
    "execution_millis": 756,
    "execution_start": 1658202056756,
    "id": "5N2qINGZirh7",
    "outputId": "7696da72-9580-4882-f6b3-2f403c01ea5a",
    "source_hash": null
   },
   "outputs": [
    {
     "name": "stderr",
     "output_type": "stream",
     "text": [
      "........................\n",
      "----------------------------------------------------------------------\n",
      "Ran 24 tests in 0.016s\n",
      "\n",
      "OK\n"
     ]
    }
   ],
   "source": [
    "#Below are some test cases to ensure that the \"decrypt\" function works as intended. PLEASE DO NOT MODIFY THIS CELL OR HARDCODE THE SOLUTION!!!!!!!!!!!!!!\n",
    "import unittest\n",
    "\n",
    "class TestDecryption(unittest.TestCase):\n",
    "  def test_decryption_normal(self):\n",
    "    self.assertEqual(decrypt(\"Mxolxv Fdhvdu\", 3).lower(), \"Julius Caesar\".lower())\n",
    "    self.assertEqual(decrypt(\"Olssv Khah Zjplujl\", 7).lower(), \"Hello Data Science\".lower())\n",
    "    self.assertEqual(decrypt(\"Ger Fsf kix qi e wshe\", 30).lower(), \"Can Bob get me a soda\".lower())\n",
    "  def test_decrypt_empty(self):\n",
    "    self.assertEqual(decrypt(\"\", 123).lower(), \"\".lower())\n",
    "    self.assertEqual(decrypt(\"\", 5).lower(), \"\".lower())\n",
    "    self.assertEqual(decrypt(\"\", 4).lower(), \"\".lower())\n",
    "  \n",
    "  def test_decryption_no_shift(self):\n",
    "    self.assertEqual(decrypt(\"asdfasdfasdfadsf\", 0).lower(), \"asdfasdfasdfadsf\".lower())\n",
    "    self.assertEqual(decrypt(\"HelsdfgsdfgsdfgsdlodsfgsdfgsdhdScfhjtyjtyjhfjdfience\", 0).lower(), \"HelsdfgsdfgsdfgsdlodsfgsdfgsdhdScfhjtyjtyjhfjdfience\".lower())\n",
    "    self.assertEqual(decrypt(\"CawthrtnmtukyunBosdgsdfgbgdfghdfghetsdgfsdfgsdfgmeasdfgsdfgsodsdfgsdfga\", 0).lower(), \"CawthrtnmtukyunBosdgsdfgbgdfghdfghetsdgfsdfgsdfgmeasdfgsdfgsodsdfgsdfga\".lower())\n",
    "    self.assertEqual(decrypt(\"asdfkjasldfjalrkgjoeirghslkdfgsdfgadjlkadjflkamjf\", 0).lower(), \"asdfkjasldfjalrkgjoeirghslkdfgsdfgadjlkadjflkamjf\".lower())\n",
    "\n",
    "  def test_decryption_negative_shift(self):\n",
    "    self.assertEqual(decrypt(\"Hs hr sgd anssnl ne sgd mhmsg\", -27).lower(), \"It is the bottom of the ninth\".lower())\n",
    "    self.assertEqual(decrypt(\"Pmfm eouqzoq ue oaax\", -300).lower(), \"Data science is cool\".lower())\n",
    "    self.assertEqual(decrypt(\"Qskkcprgkc dsl\", -2).lower(), \"Summertime fun\".lower())\n",
    "\n",
    "    \n",
    "  \n",
    "if __name__ == '__main__':\n",
    "    unittest.main(argv=['first-arg-is-ignored'], exit=False)"
   ]
  },
  {
   "cell_type": "markdown",
   "metadata": {
    "created_in_deepnote_cell": true,
    "deepnote_cell_type": "markdown"
   },
   "source": [
    "<a style='text-decoration:none;line-height:16px;display:flex;color:#5B5B62;padding:10px;justify-content:end;' href='https://deepnote.com?utm_source=created-in-deepnote-cell&projectId=be4904a2-b77a-44ff-849a-8c0ca5910ec7' target=\"_blank\">\n",
    "<img alt='Created in deepnote.com' style='display:inline;max-height:16px;margin:0px;margin-right:7.5px;' src='data:image/svg+xml;base64,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' > </img>\n",
    "Created in <span style='font-weight:600;margin-left:4px;'>Deepnote</span></a>"
   ]
  }
 ],
 "metadata": {
  "deepnote_execution_queue": [],
  "deepnote_notebook_id": "14c2d02c5dff41d085ea2190817f662e",
  "kernelspec": {
   "display_name": "base",
   "language": "python",
   "name": "python3"
  },
  "language_info": {
   "codemirror_mode": {
    "name": "ipython",
    "version": 3
   },
   "file_extension": ".py",
   "mimetype": "text/x-python",
   "name": "python",
   "nbconvert_exporter": "python",
   "pygments_lexer": "ipython3",
   "version": "3.12.4"
  },
  "toc-autonumbering": false,
  "toc-showcode": false
 },
 "nbformat": 4,
 "nbformat_minor": 4
}
