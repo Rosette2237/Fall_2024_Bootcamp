{
 "cells": [
  {
   "cell_type": "markdown",
   "metadata": {
    "cell_id": "abaecc08e24d4bfb9b6c1e6c1def06b3",
    "deepnote_cell_type": "markdown",
    "id": "m_Ekzp2LB_My"
   },
   "source": [
    "<img src=\"https://drive.google.com/uc?id=1E_GYlzeV8zomWYNBpQk0i00XcZjhoy3S\" width=\"100\"/>"
   ]
  },
  {
   "cell_type": "markdown",
   "metadata": {
    "cell_id": "be968b1cd1fe4564a77c74aeb3a13651",
    "deepnote_cell_type": "markdown",
    "id": "scUIAtlS9tOe"
   },
   "source": [
    "# DSGT Bootcamp Week 2: Exploratory Data Analysis"
   ]
  },
  {
   "cell_type": "markdown",
   "metadata": {
    "cell_id": "a52c3e643cf6428391defdd2c3ee8279",
    "deepnote_cell_type": "markdown",
    "id": "r1PUWn43964v"
   },
   "source": [
    "# Learning Objectives\n",
    "\n",
    "1. Learn Pandas (data manipulation library)\n",
    "2. Filter data using Pandas\n",
    "3. Understand how to initially view a dataset\n",
    "4. Introduction to statistical analysis and data visualization\n",
    "\n",
    "\n",
    "\n"
   ]
  },
  {
   "cell_type": "markdown",
   "metadata": {
    "cell_id": "c03cabcd19c34d74996cc9c2ace1ff21",
    "deepnote_cell_type": "markdown",
    "id": "nm7y9iLZyryD"
   },
   "source": [
    "# Accessing the Titanic Dataset\n",
    "\n",
    "The `titanic_train.csv` file is already provided in this notebook, so you should be able to read the csv in easily exactly like Workshop 1"
   ]
  },
  {
   "cell_type": "markdown",
   "metadata": {
    "cell_id": "3b8027d5acec42458e44e79ef9e22642",
    "deepnote_cell_type": "markdown",
    "id": "1ufT2uwx_OEQ"
   },
   "source": [
    "# Introduction to Pandas\n",
    "\n",
    "Pandas is a data manipulation library. Let's import it so we can use its predefined functions and go through some basic commands\n"
   ]
  },
  {
   "cell_type": "code",
   "execution_count": 1,
   "metadata": {
    "cell_id": "3ad2b02c880f49e5b9d4ff1e443b8097",
    "colab": {
     "base_uri": "https://localhost:8080/"
    },
    "deepnote_cell_type": "code",
    "deepnote_to_be_reexecuted": false,
    "executionInfo": {
     "elapsed": 7,
     "status": "ok",
     "timestamp": 1645421316483,
     "user": {
      "displayName": "Shreiyas Saraf",
      "photoUrl": "https://lh3.googleusercontent.com/a/default-user=s64",
      "userId": "12080015000945623859"
     },
     "user_tz": 300
    },
    "execution_millis": 44,
    "execution_start": 1708728097532,
    "id": "bFLiMmrv-fs7",
    "outputId": "213fd3fa-1b4f-461c-8b67-b181de1b505e",
    "source_hash": null,
    "tags": []
   },
   "outputs": [
    {
     "name": "stdout",
     "output_type": "stream",
     "text": [
      "2.2.2\n"
     ]
    }
   ],
   "source": [
    "import pandas as pd #this imports pandas as pd to shorten function calls\n",
    "print(pd.__version__)"
   ]
  },
  {
   "cell_type": "code",
   "execution_count": 2,
   "metadata": {
    "cell_id": "9afed22217e640a980915333085442ba",
    "colab": {
     "base_uri": "https://localhost:8080/"
    },
    "deepnote_cell_type": "code",
    "deepnote_to_be_reexecuted": false,
    "executionInfo": {
     "elapsed": 319,
     "status": "ok",
     "timestamp": 1645421344000,
     "user": {
      "displayName": "Shreiyas Saraf",
      "photoUrl": "https://lh3.googleusercontent.com/a/default-user=s64",
      "userId": "12080015000945623859"
     },
     "user_tz": 300
    },
    "execution_millis": 396,
    "execution_start": 1708728097533,
    "id": "HNPgxinrM4Uf",
    "outputId": "ab776a52-c8ed-49da-8c55-646f20cca9c2",
    "source_hash": null
   },
   "outputs": [
    {
     "name": "stdout",
     "output_type": "stream",
     "text": [
      "'Workshop 2 Drill Spring 2022.ipynb'   titanic_train.csv\n",
      "'Workshop 2 Spring 2022.ipynb'\n"
     ]
    }
   ],
   "source": [
    "%ls"
   ]
  },
  {
   "cell_type": "code",
   "execution_count": 3,
   "metadata": {
    "cell_id": "7f748420dfe24b06b3dfd875ad9bb683",
    "colab": {
     "base_uri": "https://localhost:8080/",
     "height": 35
    },
    "deepnote_cell_type": "code",
    "deepnote_to_be_reexecuted": false,
    "executionInfo": {
     "elapsed": 166,
     "status": "ok",
     "timestamp": 1645421346085,
     "user": {
      "displayName": "Shreiyas Saraf",
      "photoUrl": "https://lh3.googleusercontent.com/a/default-user=s64",
      "userId": "12080015000945623859"
     },
     "user_tz": 300
    },
    "execution_millis": 81,
    "execution_start": 1708728097937,
    "id": "iSw0Yix5PLsl",
    "outputId": "d8fc292d-e85c-4004-d222-08315c3bdf14",
    "source_hash": null
   },
   "outputs": [
    {
     "data": {
      "text/plain": [
       "'/home/u0ffb3364e89b0a170bc2fe23407f010/In_Person/Workshop Two'"
      ]
     },
     "execution_count": 3,
     "metadata": {},
     "output_type": "execute_result"
    }
   ],
   "source": [
    "%pwd"
   ]
  },
  {
   "cell_type": "markdown",
   "metadata": {
    "cell_id": "10d9287e503d43b7908d0fd9bb69e3ae",
    "deepnote_cell_type": "markdown",
    "id": "ALnBbIHrAh3Q"
   },
   "source": [
    "# Introduction to Dataframes\n",
    "Pandas' core element is a dataframe -- effectively a faster version of a spreadsheet stored in memory.\n",
    "\n",
    "Using dataframes, we can explore data rapidly and effectively with prebuilt functions.\n",
    "\n",
    "Let's start by loading in a dataframe from the CSV file `titanic_train.csv` in the folder we moved to.\n",
    "\n",
    "A CSV (comma-separated values) file is exactly what it sounds like. The Pandas dataframe lets us see what they look like in an appealing format.\n",
    "\n"
   ]
  },
  {
   "cell_type": "code",
   "execution_count": 4,
   "metadata": {
    "cell_id": "19c51645baae4f97b00002c7059ceff7",
    "deepnote_cell_type": "code",
    "deepnote_to_be_reexecuted": false,
    "execution_millis": 111,
    "execution_start": 1708728097944,
    "id": "_Omu5tlrBTJ0",
    "source_hash": null
   },
   "outputs": [],
   "source": [
    "df = pd.read_csv('titanic_train.csv')"
   ]
  },
  {
   "cell_type": "markdown",
   "metadata": {
    "cell_id": "908b8196f3bd4921b4df2e14e454e30a",
    "deepnote_cell_type": "markdown",
    "id": "Ab7rXz8WBXuc"
   },
   "source": [
    "So what is this dataframe df? "
   ]
  },
  {
   "cell_type": "code",
   "execution_count": 5,
   "metadata": {
    "cell_id": "29beb420a1ee401eb4f031a9d756fd76",
    "colab": {
     "base_uri": "https://localhost:8080/",
     "height": 424
    },
    "deepnote_cell_type": "code",
    "deepnote_to_be_reexecuted": false,
    "executionInfo": {
     "elapsed": 129,
     "status": "ok",
     "timestamp": 1645421368726,
     "user": {
      "displayName": "Shreiyas Saraf",
      "photoUrl": "https://lh3.googleusercontent.com/a/default-user=s64",
      "userId": "12080015000945623859"
     },
     "user_tz": 300
    },
    "execution_millis": 285,
    "execution_start": 1708728098059,
    "id": "NnYQunAmBl8_",
    "outputId": "b384beae-688d-4044-9bec-99134eb6d297",
    "source_hash": null
   },
   "outputs": [
    {
     "name": "stderr",
     "output_type": "stream",
     "text": [
      "/opt/intel/oneapi/intelpython/envs/pytorch-gpu/lib/python3.9/site-packages/pandas/io/formats/format.py:1458: RuntimeWarning: invalid value encountered in greater\n",
      "  has_large_values = (abs_vals > 1e6).any()\n",
      "/opt/intel/oneapi/intelpython/envs/pytorch-gpu/lib/python3.9/site-packages/pandas/io/formats/format.py:1459: RuntimeWarning: invalid value encountered in less\n",
      "  has_small_values = ((abs_vals < 10 ** (-self.digits)) & (abs_vals > 0)).any()\n",
      "/opt/intel/oneapi/intelpython/envs/pytorch-gpu/lib/python3.9/site-packages/pandas/io/formats/format.py:1459: RuntimeWarning: invalid value encountered in greater\n",
      "  has_small_values = ((abs_vals < 10 ** (-self.digits)) & (abs_vals > 0)).any()\n"
     ]
    },
    {
     "data": {
      "text/html": [
       "<div>\n",
       "<style scoped>\n",
       "    .dataframe tbody tr th:only-of-type {\n",
       "        vertical-align: middle;\n",
       "    }\n",
       "\n",
       "    .dataframe tbody tr th {\n",
       "        vertical-align: top;\n",
       "    }\n",
       "\n",
       "    .dataframe thead th {\n",
       "        text-align: right;\n",
       "    }\n",
       "</style>\n",
       "<table border=\"1\" class=\"dataframe\">\n",
       "  <thead>\n",
       "    <tr style=\"text-align: right;\">\n",
       "      <th></th>\n",
       "      <th>PassengerId</th>\n",
       "      <th>Survived</th>\n",
       "      <th>Pclass</th>\n",
       "      <th>Name</th>\n",
       "      <th>Sex</th>\n",
       "      <th>Age</th>\n",
       "      <th>SibSp</th>\n",
       "      <th>Parch</th>\n",
       "      <th>Ticket</th>\n",
       "      <th>Fare</th>\n",
       "      <th>Cabin</th>\n",
       "      <th>Embarked</th>\n",
       "    </tr>\n",
       "  </thead>\n",
       "  <tbody>\n",
       "    <tr>\n",
       "      <th>0</th>\n",
       "      <td>1</td>\n",
       "      <td>0</td>\n",
       "      <td>3</td>\n",
       "      <td>Braund, Mr. Owen Harris</td>\n",
       "      <td>male</td>\n",
       "      <td>22.0</td>\n",
       "      <td>1</td>\n",
       "      <td>0</td>\n",
       "      <td>A/5 21171</td>\n",
       "      <td>7.2500</td>\n",
       "      <td>NaN</td>\n",
       "      <td>S</td>\n",
       "    </tr>\n",
       "    <tr>\n",
       "      <th>1</th>\n",
       "      <td>2</td>\n",
       "      <td>1</td>\n",
       "      <td>1</td>\n",
       "      <td>Cumings, Mrs. John Bradley (Florence Briggs Th...</td>\n",
       "      <td>female</td>\n",
       "      <td>38.0</td>\n",
       "      <td>1</td>\n",
       "      <td>0</td>\n",
       "      <td>PC 17599</td>\n",
       "      <td>71.2833</td>\n",
       "      <td>C85</td>\n",
       "      <td>C</td>\n",
       "    </tr>\n",
       "    <tr>\n",
       "      <th>2</th>\n",
       "      <td>3</td>\n",
       "      <td>1</td>\n",
       "      <td>3</td>\n",
       "      <td>Heikkinen, Miss. Laina</td>\n",
       "      <td>female</td>\n",
       "      <td>26.0</td>\n",
       "      <td>0</td>\n",
       "      <td>0</td>\n",
       "      <td>STON/O2. 3101282</td>\n",
       "      <td>7.9250</td>\n",
       "      <td>NaN</td>\n",
       "      <td>S</td>\n",
       "    </tr>\n",
       "    <tr>\n",
       "      <th>3</th>\n",
       "      <td>4</td>\n",
       "      <td>1</td>\n",
       "      <td>1</td>\n",
       "      <td>Futrelle, Mrs. Jacques Heath (Lily May Peel)</td>\n",
       "      <td>female</td>\n",
       "      <td>35.0</td>\n",
       "      <td>1</td>\n",
       "      <td>0</td>\n",
       "      <td>113803</td>\n",
       "      <td>53.1000</td>\n",
       "      <td>C123</td>\n",
       "      <td>S</td>\n",
       "    </tr>\n",
       "    <tr>\n",
       "      <th>4</th>\n",
       "      <td>5</td>\n",
       "      <td>0</td>\n",
       "      <td>3</td>\n",
       "      <td>Allen, Mr. William Henry</td>\n",
       "      <td>male</td>\n",
       "      <td>35.0</td>\n",
       "      <td>0</td>\n",
       "      <td>0</td>\n",
       "      <td>373450</td>\n",
       "      <td>8.0500</td>\n",
       "      <td>NaN</td>\n",
       "      <td>S</td>\n",
       "    </tr>\n",
       "    <tr>\n",
       "      <th>...</th>\n",
       "      <td>...</td>\n",
       "      <td>...</td>\n",
       "      <td>...</td>\n",
       "      <td>...</td>\n",
       "      <td>...</td>\n",
       "      <td>...</td>\n",
       "      <td>...</td>\n",
       "      <td>...</td>\n",
       "      <td>...</td>\n",
       "      <td>...</td>\n",
       "      <td>...</td>\n",
       "      <td>...</td>\n",
       "    </tr>\n",
       "    <tr>\n",
       "      <th>886</th>\n",
       "      <td>887</td>\n",
       "      <td>0</td>\n",
       "      <td>2</td>\n",
       "      <td>Montvila, Rev. Juozas</td>\n",
       "      <td>male</td>\n",
       "      <td>27.0</td>\n",
       "      <td>0</td>\n",
       "      <td>0</td>\n",
       "      <td>211536</td>\n",
       "      <td>13.0000</td>\n",
       "      <td>NaN</td>\n",
       "      <td>S</td>\n",
       "    </tr>\n",
       "    <tr>\n",
       "      <th>887</th>\n",
       "      <td>888</td>\n",
       "      <td>1</td>\n",
       "      <td>1</td>\n",
       "      <td>Graham, Miss. Margaret Edith</td>\n",
       "      <td>female</td>\n",
       "      <td>19.0</td>\n",
       "      <td>0</td>\n",
       "      <td>0</td>\n",
       "      <td>112053</td>\n",
       "      <td>30.0000</td>\n",
       "      <td>B42</td>\n",
       "      <td>S</td>\n",
       "    </tr>\n",
       "    <tr>\n",
       "      <th>888</th>\n",
       "      <td>889</td>\n",
       "      <td>0</td>\n",
       "      <td>3</td>\n",
       "      <td>Johnston, Miss. Catherine Helen \"Carrie\"</td>\n",
       "      <td>female</td>\n",
       "      <td>NaN</td>\n",
       "      <td>1</td>\n",
       "      <td>2</td>\n",
       "      <td>W./C. 6607</td>\n",
       "      <td>23.4500</td>\n",
       "      <td>NaN</td>\n",
       "      <td>S</td>\n",
       "    </tr>\n",
       "    <tr>\n",
       "      <th>889</th>\n",
       "      <td>890</td>\n",
       "      <td>1</td>\n",
       "      <td>1</td>\n",
       "      <td>Behr, Mr. Karl Howell</td>\n",
       "      <td>male</td>\n",
       "      <td>26.0</td>\n",
       "      <td>0</td>\n",
       "      <td>0</td>\n",
       "      <td>111369</td>\n",
       "      <td>30.0000</td>\n",
       "      <td>C148</td>\n",
       "      <td>C</td>\n",
       "    </tr>\n",
       "    <tr>\n",
       "      <th>890</th>\n",
       "      <td>891</td>\n",
       "      <td>0</td>\n",
       "      <td>3</td>\n",
       "      <td>Dooley, Mr. Patrick</td>\n",
       "      <td>male</td>\n",
       "      <td>32.0</td>\n",
       "      <td>0</td>\n",
       "      <td>0</td>\n",
       "      <td>370376</td>\n",
       "      <td>7.7500</td>\n",
       "      <td>NaN</td>\n",
       "      <td>Q</td>\n",
       "    </tr>\n",
       "  </tbody>\n",
       "</table>\n",
       "<p>891 rows × 12 columns</p>\n",
       "</div>"
      ],
      "text/plain": [
       "     PassengerId  Survived  Pclass  \\\n",
       "0              1         0       3   \n",
       "1              2         1       1   \n",
       "2              3         1       3   \n",
       "3              4         1       1   \n",
       "4              5         0       3   \n",
       "..           ...       ...     ...   \n",
       "886          887         0       2   \n",
       "887          888         1       1   \n",
       "888          889         0       3   \n",
       "889          890         1       1   \n",
       "890          891         0       3   \n",
       "\n",
       "                                                  Name     Sex   Age  SibSp  \\\n",
       "0                              Braund, Mr. Owen Harris    male  22.0      1   \n",
       "1    Cumings, Mrs. John Bradley (Florence Briggs Th...  female  38.0      1   \n",
       "2                               Heikkinen, Miss. Laina  female  26.0      0   \n",
       "3         Futrelle, Mrs. Jacques Heath (Lily May Peel)  female  35.0      1   \n",
       "4                             Allen, Mr. William Henry    male  35.0      0   \n",
       "..                                                 ...     ...   ...    ...   \n",
       "886                              Montvila, Rev. Juozas    male  27.0      0   \n",
       "887                       Graham, Miss. Margaret Edith  female  19.0      0   \n",
       "888           Johnston, Miss. Catherine Helen \"Carrie\"  female   NaN      1   \n",
       "889                              Behr, Mr. Karl Howell    male  26.0      0   \n",
       "890                                Dooley, Mr. Patrick    male  32.0      0   \n",
       "\n",
       "     Parch            Ticket     Fare Cabin Embarked  \n",
       "0        0         A/5 21171   7.2500   NaN        S  \n",
       "1        0          PC 17599  71.2833   C85        C  \n",
       "2        0  STON/O2. 3101282   7.9250   NaN        S  \n",
       "3        0            113803  53.1000  C123        S  \n",
       "4        0            373450   8.0500   NaN        S  \n",
       "..     ...               ...      ...   ...      ...  \n",
       "886      0            211536  13.0000   NaN        S  \n",
       "887      0            112053  30.0000   B42        S  \n",
       "888      2        W./C. 6607  23.4500   NaN        S  \n",
       "889      0            111369  30.0000  C148        C  \n",
       "890      0            370376   7.7500   NaN        Q  \n",
       "\n",
       "[891 rows x 12 columns]"
      ]
     },
     "execution_count": 5,
     "metadata": {},
     "output_type": "execute_result"
    }
   ],
   "source": [
    "df"
   ]
  },
  {
   "cell_type": "markdown",
   "metadata": {
    "cell_id": "7875cc3a69044128b94bf6de15faa5cb",
    "deepnote_cell_type": "markdown",
    "id": "p1wmtI46Bn83"
   },
   "source": [
    "As shown above, there are 891 rows or data points and 12 columns or features that describe the data.\n",
    "\n",
    "A feature is just an attribute of the data. It can be categorical/qualitative (ex: sex) or quantitative (ex: age).\n",
    "\n"
   ]
  },
  {
   "cell_type": "markdown",
   "metadata": {
    "cell_id": "1fa7e89793934623b06ac7a8ae24f71f",
    "deepnote_cell_type": "markdown",
    "id": "a_HxOnfOJLws"
   },
   "source": [
    "# Data Preprocessing\n",
    "\n",
    "Why do we need data preprocessing? Well, your data will rarely be perfecly usable right away. \n",
    "\n",
    "Potential issues include:\n",
    "\n",
    "1) Flaws in the data itself (missing values, poor formatting, etc.)\n",
    "\n",
    "2) Some data may be irrelevant or redundant\n",
    "\n",
    "3) You may want to add multiple data sets together"
   ]
  },
  {
   "cell_type": "code",
   "execution_count": 6,
   "metadata": {
    "cell_id": "1fcc9374222d4dc7af8b93efe3488275",
    "colab": {
     "base_uri": "https://localhost:8080/",
     "height": 291
    },
    "deepnote_cell_type": "code",
    "deepnote_to_be_reexecuted": false,
    "executionInfo": {
     "elapsed": 159,
     "status": "ok",
     "timestamp": 1632877338699,
     "user": {
      "displayName": "Shasha Liao",
      "photoUrl": "https://lh3.googleusercontent.com/a-/AOh14Ghf5Tj0GAz5by2x9KRBgR3ka1GNpPK67XG2GpESnA=s64",
      "userId": "03341420781931408968"
     },
     "user_tz": 240
    },
    "execution_millis": 631,
    "execution_start": 1708728098114,
    "id": "iXK9TEoAKkWB",
    "outputId": "4da09575-df4f-4c7a-81f9-4c65b89bfbd8",
    "source_hash": null
   },
   "outputs": [
    {
     "name": "stderr",
     "output_type": "stream",
     "text": [
      "/opt/intel/oneapi/intelpython/envs/pytorch-gpu/lib/python3.9/site-packages/pandas/io/formats/format.py:1458: RuntimeWarning: invalid value encountered in greater\n",
      "  has_large_values = (abs_vals > 1e6).any()\n",
      "/opt/intel/oneapi/intelpython/envs/pytorch-gpu/lib/python3.9/site-packages/pandas/io/formats/format.py:1459: RuntimeWarning: invalid value encountered in less\n",
      "  has_small_values = ((abs_vals < 10 ** (-self.digits)) & (abs_vals > 0)).any()\n",
      "/opt/intel/oneapi/intelpython/envs/pytorch-gpu/lib/python3.9/site-packages/pandas/io/formats/format.py:1459: RuntimeWarning: invalid value encountered in greater\n",
      "  has_small_values = ((abs_vals < 10 ** (-self.digits)) & (abs_vals > 0)).any()\n"
     ]
    },
    {
     "data": {
      "text/html": [
       "<div>\n",
       "<style scoped>\n",
       "    .dataframe tbody tr th:only-of-type {\n",
       "        vertical-align: middle;\n",
       "    }\n",
       "\n",
       "    .dataframe tbody tr th {\n",
       "        vertical-align: top;\n",
       "    }\n",
       "\n",
       "    .dataframe thead th {\n",
       "        text-align: right;\n",
       "    }\n",
       "</style>\n",
       "<table border=\"1\" class=\"dataframe\">\n",
       "  <thead>\n",
       "    <tr style=\"text-align: right;\">\n",
       "      <th></th>\n",
       "      <th>PassengerId</th>\n",
       "      <th>Sex</th>\n",
       "      <th>Age</th>\n",
       "      <th>SibSp</th>\n",
       "      <th>Parch</th>\n",
       "    </tr>\n",
       "  </thead>\n",
       "  <tbody>\n",
       "    <tr>\n",
       "      <th>0</th>\n",
       "      <td>1</td>\n",
       "      <td>male</td>\n",
       "      <td>22.0</td>\n",
       "      <td>1</td>\n",
       "      <td>0</td>\n",
       "    </tr>\n",
       "    <tr>\n",
       "      <th>1</th>\n",
       "      <td>2</td>\n",
       "      <td>female</td>\n",
       "      <td>38.0</td>\n",
       "      <td>1</td>\n",
       "      <td>0</td>\n",
       "    </tr>\n",
       "    <tr>\n",
       "      <th>2</th>\n",
       "      <td>3</td>\n",
       "      <td>female</td>\n",
       "      <td>26.0</td>\n",
       "      <td>0</td>\n",
       "      <td>0</td>\n",
       "    </tr>\n",
       "    <tr>\n",
       "      <th>3</th>\n",
       "      <td>4</td>\n",
       "      <td>female</td>\n",
       "      <td>35.0</td>\n",
       "      <td>1</td>\n",
       "      <td>0</td>\n",
       "    </tr>\n",
       "    <tr>\n",
       "      <th>4</th>\n",
       "      <td>5</td>\n",
       "      <td>male</td>\n",
       "      <td>35.0</td>\n",
       "      <td>0</td>\n",
       "      <td>0</td>\n",
       "    </tr>\n",
       "    <tr>\n",
       "      <th>5</th>\n",
       "      <td>6</td>\n",
       "      <td>male</td>\n",
       "      <td>NaN</td>\n",
       "      <td>0</td>\n",
       "      <td>0</td>\n",
       "    </tr>\n",
       "    <tr>\n",
       "      <th>6</th>\n",
       "      <td>7</td>\n",
       "      <td>male</td>\n",
       "      <td>54.0</td>\n",
       "      <td>0</td>\n",
       "      <td>0</td>\n",
       "    </tr>\n",
       "  </tbody>\n",
       "</table>\n",
       "</div>"
      ],
      "text/plain": [
       "   PassengerId     Sex   Age  SibSp  Parch\n",
       "0            1    male  22.0      1      0\n",
       "1            2  female  38.0      1      0\n",
       "2            3  female  26.0      0      0\n",
       "3            4  female  35.0      1      0\n",
       "4            5    male  35.0      0      0\n",
       "5            6    male   NaN      0      0\n",
       "6            7    male  54.0      0      0"
      ]
     },
     "execution_count": 6,
     "metadata": {},
     "output_type": "execute_result"
    }
   ],
   "source": [
    "minidf = df[['PassengerId','Sex', 'Age', 'SibSp', 'Parch']] #Isolate these features in the df\n",
    "minidf = minidf[0:7] #look at the first seven rows for these features\n",
    "minidf"
   ]
  },
  {
   "cell_type": "markdown",
   "metadata": {
    "cell_id": "3dfe063e876a4ab3b54b7c63779c572b",
    "deepnote_cell_type": "markdown",
    "id": "b9MtuBmJLMoY"
   },
   "source": [
    "Now, we have a smaller dataframe that is much easier to read, though with less data to analyze. This can be used to concentrate on certain features or locations within the set to potentially identify trends. "
   ]
  },
  {
   "cell_type": "markdown",
   "metadata": {
    "cell_id": "bc30dc05e41743b9bc9e5be6868f26e8",
    "deepnote_cell_type": "markdown",
    "id": "d5jcB8qcKXwp"
   },
   "source": [
    "## Data Filtering"
   ]
  },
  {
   "cell_type": "markdown",
   "metadata": {
    "cell_id": "6ab4b3f5c7a74d5aac38b1742c24a7ca",
    "deepnote_cell_type": "markdown",
    "id": "l3KH1isrLQvF"
   },
   "source": [
    "We can isolate certain rows or columns by value using a few different techniques such as .where(), .loc, .iloc, and basic conditionals as can be seen in the snippet below"
   ]
  },
  {
   "cell_type": "code",
   "execution_count": 7,
   "metadata": {
    "cell_id": "bfb8313e15744955aa0d41eb3fdcd283",
    "deepnote_cell_type": "code",
    "deepnote_to_be_reexecuted": false,
    "execution_millis": 616,
    "execution_start": 1708728098129,
    "source_hash": null,
    "tags": []
   },
   "outputs": [
    {
     "name": "stderr",
     "output_type": "stream",
     "text": [
      "/opt/intel/oneapi/intelpython/envs/pytorch-gpu/lib/python3.9/site-packages/pandas/io/formats/format.py:1458: RuntimeWarning: invalid value encountered in greater\n",
      "  has_large_values = (abs_vals > 1e6).any()\n",
      "/opt/intel/oneapi/intelpython/envs/pytorch-gpu/lib/python3.9/site-packages/pandas/io/formats/format.py:1459: RuntimeWarning: invalid value encountered in less\n",
      "  has_small_values = ((abs_vals < 10 ** (-self.digits)) & (abs_vals > 0)).any()\n",
      "/opt/intel/oneapi/intelpython/envs/pytorch-gpu/lib/python3.9/site-packages/pandas/io/formats/format.py:1459: RuntimeWarning: invalid value encountered in greater\n",
      "  has_small_values = ((abs_vals < 10 ** (-self.digits)) & (abs_vals > 0)).any()\n"
     ]
    },
    {
     "data": {
      "text/html": [
       "<div>\n",
       "<style scoped>\n",
       "    .dataframe tbody tr th:only-of-type {\n",
       "        vertical-align: middle;\n",
       "    }\n",
       "\n",
       "    .dataframe tbody tr th {\n",
       "        vertical-align: top;\n",
       "    }\n",
       "\n",
       "    .dataframe thead th {\n",
       "        text-align: right;\n",
       "    }\n",
       "</style>\n",
       "<table border=\"1\" class=\"dataframe\">\n",
       "  <thead>\n",
       "    <tr style=\"text-align: right;\">\n",
       "      <th></th>\n",
       "      <th>PassengerId</th>\n",
       "      <th>Survived</th>\n",
       "      <th>Pclass</th>\n",
       "      <th>Name</th>\n",
       "      <th>Sex</th>\n",
       "      <th>Age</th>\n",
       "      <th>SibSp</th>\n",
       "      <th>Parch</th>\n",
       "      <th>Ticket</th>\n",
       "      <th>Fare</th>\n",
       "      <th>Cabin</th>\n",
       "      <th>Embarked</th>\n",
       "    </tr>\n",
       "  </thead>\n",
       "  <tbody>\n",
       "    <tr>\n",
       "      <th>0</th>\n",
       "      <td>1</td>\n",
       "      <td>0</td>\n",
       "      <td>3</td>\n",
       "      <td>Braund, Mr. Owen Harris</td>\n",
       "      <td>male</td>\n",
       "      <td>22.0</td>\n",
       "      <td>1</td>\n",
       "      <td>0</td>\n",
       "      <td>A/5 21171</td>\n",
       "      <td>7.2500</td>\n",
       "      <td>NaN</td>\n",
       "      <td>S</td>\n",
       "    </tr>\n",
       "    <tr>\n",
       "      <th>4</th>\n",
       "      <td>5</td>\n",
       "      <td>0</td>\n",
       "      <td>3</td>\n",
       "      <td>Allen, Mr. William Henry</td>\n",
       "      <td>male</td>\n",
       "      <td>35.0</td>\n",
       "      <td>0</td>\n",
       "      <td>0</td>\n",
       "      <td>373450</td>\n",
       "      <td>8.0500</td>\n",
       "      <td>NaN</td>\n",
       "      <td>S</td>\n",
       "    </tr>\n",
       "    <tr>\n",
       "      <th>5</th>\n",
       "      <td>6</td>\n",
       "      <td>0</td>\n",
       "      <td>3</td>\n",
       "      <td>Moran, Mr. James</td>\n",
       "      <td>male</td>\n",
       "      <td>NaN</td>\n",
       "      <td>0</td>\n",
       "      <td>0</td>\n",
       "      <td>330877</td>\n",
       "      <td>8.4583</td>\n",
       "      <td>NaN</td>\n",
       "      <td>Q</td>\n",
       "    </tr>\n",
       "    <tr>\n",
       "      <th>6</th>\n",
       "      <td>7</td>\n",
       "      <td>0</td>\n",
       "      <td>1</td>\n",
       "      <td>McCarthy, Mr. Timothy J</td>\n",
       "      <td>male</td>\n",
       "      <td>54.0</td>\n",
       "      <td>0</td>\n",
       "      <td>0</td>\n",
       "      <td>17463</td>\n",
       "      <td>51.8625</td>\n",
       "      <td>E46</td>\n",
       "      <td>S</td>\n",
       "    </tr>\n",
       "    <tr>\n",
       "      <th>7</th>\n",
       "      <td>8</td>\n",
       "      <td>0</td>\n",
       "      <td>3</td>\n",
       "      <td>Palsson, Master. Gosta Leonard</td>\n",
       "      <td>male</td>\n",
       "      <td>2.0</td>\n",
       "      <td>3</td>\n",
       "      <td>1</td>\n",
       "      <td>349909</td>\n",
       "      <td>21.0750</td>\n",
       "      <td>NaN</td>\n",
       "      <td>S</td>\n",
       "    </tr>\n",
       "    <tr>\n",
       "      <th>...</th>\n",
       "      <td>...</td>\n",
       "      <td>...</td>\n",
       "      <td>...</td>\n",
       "      <td>...</td>\n",
       "      <td>...</td>\n",
       "      <td>...</td>\n",
       "      <td>...</td>\n",
       "      <td>...</td>\n",
       "      <td>...</td>\n",
       "      <td>...</td>\n",
       "      <td>...</td>\n",
       "      <td>...</td>\n",
       "    </tr>\n",
       "    <tr>\n",
       "      <th>883</th>\n",
       "      <td>884</td>\n",
       "      <td>0</td>\n",
       "      <td>2</td>\n",
       "      <td>Banfield, Mr. Frederick James</td>\n",
       "      <td>male</td>\n",
       "      <td>28.0</td>\n",
       "      <td>0</td>\n",
       "      <td>0</td>\n",
       "      <td>C.A./SOTON 34068</td>\n",
       "      <td>10.5000</td>\n",
       "      <td>NaN</td>\n",
       "      <td>S</td>\n",
       "    </tr>\n",
       "    <tr>\n",
       "      <th>884</th>\n",
       "      <td>885</td>\n",
       "      <td>0</td>\n",
       "      <td>3</td>\n",
       "      <td>Sutehall, Mr. Henry Jr</td>\n",
       "      <td>male</td>\n",
       "      <td>25.0</td>\n",
       "      <td>0</td>\n",
       "      <td>0</td>\n",
       "      <td>SOTON/OQ 392076</td>\n",
       "      <td>7.0500</td>\n",
       "      <td>NaN</td>\n",
       "      <td>S</td>\n",
       "    </tr>\n",
       "    <tr>\n",
       "      <th>886</th>\n",
       "      <td>887</td>\n",
       "      <td>0</td>\n",
       "      <td>2</td>\n",
       "      <td>Montvila, Rev. Juozas</td>\n",
       "      <td>male</td>\n",
       "      <td>27.0</td>\n",
       "      <td>0</td>\n",
       "      <td>0</td>\n",
       "      <td>211536</td>\n",
       "      <td>13.0000</td>\n",
       "      <td>NaN</td>\n",
       "      <td>S</td>\n",
       "    </tr>\n",
       "    <tr>\n",
       "      <th>889</th>\n",
       "      <td>890</td>\n",
       "      <td>1</td>\n",
       "      <td>1</td>\n",
       "      <td>Behr, Mr. Karl Howell</td>\n",
       "      <td>male</td>\n",
       "      <td>26.0</td>\n",
       "      <td>0</td>\n",
       "      <td>0</td>\n",
       "      <td>111369</td>\n",
       "      <td>30.0000</td>\n",
       "      <td>C148</td>\n",
       "      <td>C</td>\n",
       "    </tr>\n",
       "    <tr>\n",
       "      <th>890</th>\n",
       "      <td>891</td>\n",
       "      <td>0</td>\n",
       "      <td>3</td>\n",
       "      <td>Dooley, Mr. Patrick</td>\n",
       "      <td>male</td>\n",
       "      <td>32.0</td>\n",
       "      <td>0</td>\n",
       "      <td>0</td>\n",
       "      <td>370376</td>\n",
       "      <td>7.7500</td>\n",
       "      <td>NaN</td>\n",
       "      <td>Q</td>\n",
       "    </tr>\n",
       "  </tbody>\n",
       "</table>\n",
       "<p>577 rows × 12 columns</p>\n",
       "</div>"
      ],
      "text/plain": [
       "     PassengerId  Survived  Pclass                            Name   Sex  \\\n",
       "0              1         0       3         Braund, Mr. Owen Harris  male   \n",
       "4              5         0       3        Allen, Mr. William Henry  male   \n",
       "5              6         0       3                Moran, Mr. James  male   \n",
       "6              7         0       1         McCarthy, Mr. Timothy J  male   \n",
       "7              8         0       3  Palsson, Master. Gosta Leonard  male   \n",
       "..           ...       ...     ...                             ...   ...   \n",
       "883          884         0       2   Banfield, Mr. Frederick James  male   \n",
       "884          885         0       3          Sutehall, Mr. Henry Jr  male   \n",
       "886          887         0       2           Montvila, Rev. Juozas  male   \n",
       "889          890         1       1           Behr, Mr. Karl Howell  male   \n",
       "890          891         0       3             Dooley, Mr. Patrick  male   \n",
       "\n",
       "      Age  SibSp  Parch            Ticket     Fare Cabin Embarked  \n",
       "0    22.0      1      0         A/5 21171   7.2500   NaN        S  \n",
       "4    35.0      0      0            373450   8.0500   NaN        S  \n",
       "5     NaN      0      0            330877   8.4583   NaN        Q  \n",
       "6    54.0      0      0             17463  51.8625   E46        S  \n",
       "7     2.0      3      1            349909  21.0750   NaN        S  \n",
       "..    ...    ...    ...               ...      ...   ...      ...  \n",
       "883  28.0      0      0  C.A./SOTON 34068  10.5000   NaN        S  \n",
       "884  25.0      0      0   SOTON/OQ 392076   7.0500   NaN        S  \n",
       "886  27.0      0      0            211536  13.0000   NaN        S  \n",
       "889  26.0      0      0            111369  30.0000  C148        C  \n",
       "890  32.0      0      0            370376   7.7500   NaN        Q  \n",
       "\n",
       "[577 rows x 12 columns]"
      ]
     },
     "execution_count": 7,
     "metadata": {},
     "output_type": "execute_result"
    }
   ],
   "source": [
    "#Get all passengers that are male\n",
    "males = df[df['Sex'] == 'male']\n",
    "males"
   ]
  },
  {
   "cell_type": "code",
   "execution_count": null,
   "metadata": {
    "cell_id": "44af197fa7184651ace226c4c04b6f29",
    "deepnote_cell_type": "code",
    "deepnote_to_be_reexecuted": false,
    "execution_millis": 597,
    "execution_start": 1708728098148,
    "owner_user_id": "62793d04-d528-4115-8ac3-ef1aa25c3727",
    "source_hash": null,
    "tags": []
   },
   "outputs": [
    {
     "data": {
      "application/vnd.deepnote.dataframe.v3+json": {
       "column_count": 12,
       "columns": [
        {
         "dtype": "int64",
         "name": "PassengerId",
         "stats": {
          "histogram": [
           {
            "bin_end": 90,
            "bin_start": 1,
            "count": 50
           },
           {
            "bin_end": 179,
            "bin_start": 90,
            "count": 69
           },
           {
            "bin_end": 268,
            "bin_start": 179,
            "count": 56
           },
           {
            "bin_end": 357,
            "bin_start": 268,
            "count": 44
           },
           {
            "bin_end": 446,
            "bin_start": 357,
            "count": 52
           },
           {
            "bin_end": 535,
            "bin_start": 446,
            "count": 56
           },
           {
            "bin_end": 624,
            "bin_start": 535,
            "count": 50
           },
           {
            "bin_end": 713,
            "bin_start": 624,
            "count": 57
           },
           {
            "bin_end": 802,
            "bin_start": 713,
            "count": 59
           },
           {
            "bin_end": 891,
            "bin_start": 802,
            "count": 56
           }
          ],
          "max": "891",
          "min": "1",
          "nan_count": 0,
          "unique_count": 549
         }
        },
        {
         "dtype": "int64",
         "name": "Survived",
         "stats": {
          "histogram": [
           {
            "bin_end": -0.4,
            "bin_start": -0.5,
            "count": 0
           },
           {
            "bin_end": -0.3,
            "bin_start": -0.4,
            "count": 0
           },
           {
            "bin_end": -0.19999999999999996,
            "bin_start": -0.3,
            "count": 0
           },
           {
            "bin_end": -0.09999999999999998,
            "bin_start": -0.19999999999999996,
            "count": 0
           },
           {
            "bin_end": 0,
            "bin_start": -0.09999999999999998,
            "count": 0
           },
           {
            "bin_end": 0.10000000000000009,
            "bin_start": 0,
            "count": 549
           },
           {
            "bin_end": 0.20000000000000007,
            "bin_start": 0.10000000000000009,
            "count": 0
           },
           {
            "bin_end": 0.30000000000000004,
            "bin_start": 0.20000000000000007,
            "count": 0
           },
           {
            "bin_end": 0.4,
            "bin_start": 0.30000000000000004,
            "count": 0
           },
           {
            "bin_end": 0.5,
            "bin_start": 0.4,
            "count": 0
           }
          ],
          "max": "0",
          "min": "0",
          "nan_count": 0,
          "unique_count": 1
         }
        },
        {
         "dtype": "int64",
         "name": "Pclass",
         "stats": {
          "histogram": [
           {
            "bin_end": 1.2,
            "bin_start": 1,
            "count": 80
           },
           {
            "bin_end": 1.4,
            "bin_start": 1.2,
            "count": 0
           },
           {
            "bin_end": 1.6,
            "bin_start": 1.4,
            "count": 0
           },
           {
            "bin_end": 1.8,
            "bin_start": 1.6,
            "count": 0
           },
           {
            "bin_end": 2,
            "bin_start": 1.8,
            "count": 0
           },
           {
            "bin_end": 2.2,
            "bin_start": 2,
            "count": 97
           },
           {
            "bin_end": 2.4000000000000004,
            "bin_start": 2.2,
            "count": 0
           },
           {
            "bin_end": 2.6,
            "bin_start": 2.4000000000000004,
            "count": 0
           },
           {
            "bin_end": 2.8,
            "bin_start": 2.6,
            "count": 0
           },
           {
            "bin_end": 3,
            "bin_start": 2.8,
            "count": 372
           }
          ],
          "max": "3",
          "min": "1",
          "nan_count": 0,
          "unique_count": 3
         }
        },
        {
         "dtype": "object",
         "name": "Name",
         "stats": {
          "categories": [
           {
            "count": 1,
            "name": "Braund, Mr. Owen Harris"
           },
           {
            "count": 1,
            "name": "Allen, Mr. William Henry"
           },
           {
            "count": 547,
            "name": "547 others"
           }
          ],
          "nan_count": 0,
          "unique_count": 549
         }
        },
        {
         "dtype": "object",
         "name": "Sex",
         "stats": {
          "categories": [
           {
            "count": 468,
            "name": "male"
           },
           {
            "count": 81,
            "name": "female"
           }
          ],
          "nan_count": 0,
          "unique_count": 2
         }
        },
        {
         "dtype": "float64",
         "name": "Age",
         "stats": {
          "histogram": [
           {
            "bin_end": 8.3,
            "bin_start": 1,
            "count": 18
           },
           {
            "bin_end": 15.6,
            "bin_start": 8.3,
            "count": 16
           },
           {
            "bin_end": 22.9,
            "bin_start": 15.6,
            "count": 99
           },
           {
            "bin_end": 30.2,
            "bin_start": 22.9,
            "count": 110
           },
           {
            "bin_end": 37.5,
            "bin_start": 30.2,
            "count": 64
           },
           {
            "bin_end": 44.8,
            "bin_start": 37.5,
            "count": 45
           },
           {
            "bin_end": 52.1,
            "bin_start": 44.8,
            "count": 38
           },
           {
            "bin_end": 59.4,
            "bin_start": 52.1,
            "count": 15
           },
           {
            "bin_end": 66.7,
            "bin_start": 59.4,
            "count": 13
           },
           {
            "bin_end": 74,
            "bin_start": 66.7,
            "count": 6
           }
          ],
          "max": "74.0",
          "min": "1.0",
          "nan_count": 125,
          "unique_count": 77
         }
        },
        {
         "dtype": "int64",
         "name": "SibSp",
         "stats": {
          "histogram": [
           {
            "bin_end": 0.8,
            "bin_start": 0,
            "count": 398
           },
           {
            "bin_end": 1.6,
            "bin_start": 0.8,
            "count": 97
           },
           {
            "bin_end": 2.4000000000000004,
            "bin_start": 1.6,
            "count": 15
           },
           {
            "bin_end": 3.2,
            "bin_start": 2.4000000000000004,
            "count": 12
           },
           {
            "bin_end": 4,
            "bin_start": 3.2,
            "count": 0
           },
           {
            "bin_end": 4.800000000000001,
            "bin_start": 4,
            "count": 15
           },
           {
            "bin_end": 5.6000000000000005,
            "bin_start": 4.800000000000001,
            "count": 5
           },
           {
            "bin_end": 6.4,
            "bin_start": 5.6000000000000005,
            "count": 0
           },
           {
            "bin_end": 7.2,
            "bin_start": 6.4,
            "count": 0
           },
           {
            "bin_end": 8,
            "bin_start": 7.2,
            "count": 7
           }
          ],
          "max": "8",
          "min": "0",
          "nan_count": 0,
          "unique_count": 7
         }
        },
        {
         "dtype": "int64",
         "name": "Parch",
         "stats": {
          "histogram": [
           {
            "bin_end": 0.6,
            "bin_start": 0,
            "count": 445
           },
           {
            "bin_end": 1.2,
            "bin_start": 0.6,
            "count": 53
           },
           {
            "bin_end": 1.7999999999999998,
            "bin_start": 1.2,
            "count": 0
           },
           {
            "bin_end": 2.4,
            "bin_start": 1.7999999999999998,
            "count": 40
           },
           {
            "bin_end": 3,
            "bin_start": 2.4,
            "count": 0
           },
           {
            "bin_end": 3.5999999999999996,
            "bin_start": 3,
            "count": 2
           },
           {
            "bin_end": 4.2,
            "bin_start": 3.5999999999999996,
            "count": 4
           },
           {
            "bin_end": 4.8,
            "bin_start": 4.2,
            "count": 0
           },
           {
            "bin_end": 5.3999999999999995,
            "bin_start": 4.8,
            "count": 4
           },
           {
            "bin_end": 6,
            "bin_start": 5.3999999999999995,
            "count": 1
           }
          ],
          "max": "6",
          "min": "0",
          "nan_count": 0,
          "unique_count": 7
         }
        },
        {
         "dtype": "object",
         "name": "Ticket",
         "stats": {
          "categories": [
           {
            "count": 7,
            "name": "347082"
           },
           {
            "count": 7,
            "name": "CA. 2343"
           },
           {
            "count": 535,
            "name": "468 others"
           }
          ],
          "nan_count": 0,
          "unique_count": 470
         }
        },
        {
         "dtype": "float64",
         "name": "Fare",
         "stats": {
          "histogram": [
           {
            "bin_end": 26.3,
            "bin_start": 0,
            "count": 421
           },
           {
            "bin_end": 52.6,
            "bin_start": 26.3,
            "count": 83
           },
           {
            "bin_end": 78.9,
            "bin_start": 52.6,
            "count": 25
           },
           {
            "bin_end": 105.2,
            "bin_start": 78.9,
            "count": 6
           },
           {
            "bin_end": 131.5,
            "bin_start": 105.2,
            "count": 4
           },
           {
            "bin_end": 157.8,
            "bin_start": 131.5,
            "count": 4
           },
           {
            "bin_end": 184.1,
            "bin_start": 157.8,
            "count": 0
           },
           {
            "bin_end": 210.4,
            "bin_start": 184.1,
            "count": 0
           },
           {
            "bin_end": 236.70000000000002,
            "bin_start": 210.4,
            "count": 3
           },
           {
            "bin_end": 263,
            "bin_start": 236.70000000000002,
            "count": 3
           }
          ],
          "max": "263.0",
          "min": "0.0",
          "nan_count": 0,
          "unique_count": 177
         }
        },
        {
         "dtype": "object",
         "name": "Cabin",
         "stats": {
          "categories": [
           {
            "count": 2,
            "name": "C23 C25 C27"
           },
           {
            "count": 66,
            "name": "61 others"
           },
           {
            "count": 481,
            "name": "Missing"
           }
          ],
          "nan_count": 481,
          "unique_count": 62
         }
        },
        {
         "dtype": "object",
         "name": "Embarked",
         "stats": {
          "categories": [
           {
            "count": 427,
            "name": "S"
           },
           {
            "count": 75,
            "name": "C"
           },
           {
            "count": 47,
            "name": "Q"
           }
          ],
          "nan_count": 0,
          "unique_count": 3
         }
        },
        {
         "dtype": "int64",
         "name": "_deepnote_index_column"
        }
       ],
       "row_count": 549,
       "rows": [
        {
         "Age": 22,
         "Cabin": "nan",
         "Embarked": "S",
         "Fare": 7.25,
         "Name": "Braund, Mr. Owen Harris",
         "Parch": 0,
         "PassengerId": 1,
         "Pclass": 3,
         "Sex": "male",
         "SibSp": 1,
         "Survived": 0,
         "Ticket": "A/5 21171",
         "_deepnote_index_column": 0
        },
        {
         "Age": 35,
         "Cabin": "nan",
         "Embarked": "S",
         "Fare": 8.05,
         "Name": "Allen, Mr. William Henry",
         "Parch": 0,
         "PassengerId": 5,
         "Pclass": 3,
         "Sex": "male",
         "SibSp": 0,
         "Survived": 0,
         "Ticket": "373450",
         "_deepnote_index_column": 4
        },
        {
         "Age": "nan",
         "Cabin": "nan",
         "Embarked": "Q",
         "Fare": 8.4583,
         "Name": "Moran, Mr. James",
         "Parch": 0,
         "PassengerId": 6,
         "Pclass": 3,
         "Sex": "male",
         "SibSp": 0,
         "Survived": 0,
         "Ticket": "330877",
         "_deepnote_index_column": 5
        },
        {
         "Age": 54,
         "Cabin": "E46",
         "Embarked": "S",
         "Fare": 51.8625,
         "Name": "McCarthy, Mr. Timothy J",
         "Parch": 0,
         "PassengerId": 7,
         "Pclass": 1,
         "Sex": "male",
         "SibSp": 0,
         "Survived": 0,
         "Ticket": "17463",
         "_deepnote_index_column": 6
        },
        {
         "Age": 2,
         "Cabin": "nan",
         "Embarked": "S",
         "Fare": 21.075,
         "Name": "Palsson, Master. Gosta Leonard",
         "Parch": 1,
         "PassengerId": 8,
         "Pclass": 3,
         "Sex": "male",
         "SibSp": 3,
         "Survived": 0,
         "Ticket": "349909",
         "_deepnote_index_column": 7
        },
        {
         "Age": 20,
         "Cabin": "nan",
         "Embarked": "S",
         "Fare": 8.05,
         "Name": "Saundercock, Mr. William Henry",
         "Parch": 0,
         "PassengerId": 13,
         "Pclass": 3,
         "Sex": "male",
         "SibSp": 0,
         "Survived": 0,
         "Ticket": "A/5. 2151",
         "_deepnote_index_column": 12
        },
        {
         "Age": 39,
         "Cabin": "nan",
         "Embarked": "S",
         "Fare": 31.275,
         "Name": "Andersson, Mr. Anders Johan",
         "Parch": 5,
         "PassengerId": 14,
         "Pclass": 3,
         "Sex": "male",
         "SibSp": 1,
         "Survived": 0,
         "Ticket": "347082",
         "_deepnote_index_column": 13
        },
        {
         "Age": 14,
         "Cabin": "nan",
         "Embarked": "S",
         "Fare": 7.8542,
         "Name": "Vestrom, Miss. Hulda Amanda Adolfina",
         "Parch": 0,
         "PassengerId": 15,
         "Pclass": 3,
         "Sex": "female",
         "SibSp": 0,
         "Survived": 0,
         "Ticket": "350406",
         "_deepnote_index_column": 14
        },
        {
         "Age": 2,
         "Cabin": "nan",
         "Embarked": "Q",
         "Fare": 29.125,
         "Name": "Rice, Master. Eugene",
         "Parch": 1,
         "PassengerId": 17,
         "Pclass": 3,
         "Sex": "male",
         "SibSp": 4,
         "Survived": 0,
         "Ticket": "382652",
         "_deepnote_index_column": 16
        },
        {
         "Age": 31,
         "Cabin": "nan",
         "Embarked": "S",
         "Fare": 18,
         "Name": "Vander Planke, Mrs. Julius (Emelia Maria Vandemoortele)",
         "Parch": 0,
         "PassengerId": 19,
         "Pclass": 3,
         "Sex": "female",
         "SibSp": 1,
         "Survived": 0,
         "Ticket": "345763",
         "_deepnote_index_column": 18
        }
       ]
      },
      "text/html": [
       "<div>\n",
       "<style scoped>\n",
       "    .dataframe tbody tr th:only-of-type {\n",
       "        vertical-align: middle;\n",
       "    }\n",
       "\n",
       "    .dataframe tbody tr th {\n",
       "        vertical-align: top;\n",
       "    }\n",
       "\n",
       "    .dataframe thead th {\n",
       "        text-align: right;\n",
       "    }\n",
       "</style>\n",
       "<table border=\"1\" class=\"dataframe\">\n",
       "  <thead>\n",
       "    <tr style=\"text-align: right;\">\n",
       "      <th></th>\n",
       "      <th>PassengerId</th>\n",
       "      <th>Survived</th>\n",
       "      <th>Pclass</th>\n",
       "      <th>Name</th>\n",
       "      <th>Sex</th>\n",
       "      <th>Age</th>\n",
       "      <th>SibSp</th>\n",
       "      <th>Parch</th>\n",
       "      <th>Ticket</th>\n",
       "      <th>Fare</th>\n",
       "      <th>Cabin</th>\n",
       "      <th>Embarked</th>\n",
       "    </tr>\n",
       "  </thead>\n",
       "  <tbody>\n",
       "    <tr>\n",
       "      <th>0</th>\n",
       "      <td>1</td>\n",
       "      <td>0</td>\n",
       "      <td>3</td>\n",
       "      <td>Braund, Mr. Owen Harris</td>\n",
       "      <td>male</td>\n",
       "      <td>22.0</td>\n",
       "      <td>1</td>\n",
       "      <td>0</td>\n",
       "      <td>A/5 21171</td>\n",
       "      <td>7.2500</td>\n",
       "      <td>NaN</td>\n",
       "      <td>S</td>\n",
       "    </tr>\n",
       "    <tr>\n",
       "      <th>4</th>\n",
       "      <td>5</td>\n",
       "      <td>0</td>\n",
       "      <td>3</td>\n",
       "      <td>Allen, Mr. William Henry</td>\n",
       "      <td>male</td>\n",
       "      <td>35.0</td>\n",
       "      <td>0</td>\n",
       "      <td>0</td>\n",
       "      <td>373450</td>\n",
       "      <td>8.0500</td>\n",
       "      <td>NaN</td>\n",
       "      <td>S</td>\n",
       "    </tr>\n",
       "    <tr>\n",
       "      <th>5</th>\n",
       "      <td>6</td>\n",
       "      <td>0</td>\n",
       "      <td>3</td>\n",
       "      <td>Moran, Mr. James</td>\n",
       "      <td>male</td>\n",
       "      <td>NaN</td>\n",
       "      <td>0</td>\n",
       "      <td>0</td>\n",
       "      <td>330877</td>\n",
       "      <td>8.4583</td>\n",
       "      <td>NaN</td>\n",
       "      <td>Q</td>\n",
       "    </tr>\n",
       "    <tr>\n",
       "      <th>6</th>\n",
       "      <td>7</td>\n",
       "      <td>0</td>\n",
       "      <td>1</td>\n",
       "      <td>McCarthy, Mr. Timothy J</td>\n",
       "      <td>male</td>\n",
       "      <td>54.0</td>\n",
       "      <td>0</td>\n",
       "      <td>0</td>\n",
       "      <td>17463</td>\n",
       "      <td>51.8625</td>\n",
       "      <td>E46</td>\n",
       "      <td>S</td>\n",
       "    </tr>\n",
       "    <tr>\n",
       "      <th>7</th>\n",
       "      <td>8</td>\n",
       "      <td>0</td>\n",
       "      <td>3</td>\n",
       "      <td>Palsson, Master. Gosta Leonard</td>\n",
       "      <td>male</td>\n",
       "      <td>2.0</td>\n",
       "      <td>3</td>\n",
       "      <td>1</td>\n",
       "      <td>349909</td>\n",
       "      <td>21.0750</td>\n",
       "      <td>NaN</td>\n",
       "      <td>S</td>\n",
       "    </tr>\n",
       "    <tr>\n",
       "      <th>...</th>\n",
       "      <td>...</td>\n",
       "      <td>...</td>\n",
       "      <td>...</td>\n",
       "      <td>...</td>\n",
       "      <td>...</td>\n",
       "      <td>...</td>\n",
       "      <td>...</td>\n",
       "      <td>...</td>\n",
       "      <td>...</td>\n",
       "      <td>...</td>\n",
       "      <td>...</td>\n",
       "      <td>...</td>\n",
       "    </tr>\n",
       "    <tr>\n",
       "      <th>884</th>\n",
       "      <td>885</td>\n",
       "      <td>0</td>\n",
       "      <td>3</td>\n",
       "      <td>Sutehall, Mr. Henry Jr</td>\n",
       "      <td>male</td>\n",
       "      <td>25.0</td>\n",
       "      <td>0</td>\n",
       "      <td>0</td>\n",
       "      <td>SOTON/OQ 392076</td>\n",
       "      <td>7.0500</td>\n",
       "      <td>NaN</td>\n",
       "      <td>S</td>\n",
       "    </tr>\n",
       "    <tr>\n",
       "      <th>885</th>\n",
       "      <td>886</td>\n",
       "      <td>0</td>\n",
       "      <td>3</td>\n",
       "      <td>Rice, Mrs. William (Margaret Norton)</td>\n",
       "      <td>female</td>\n",
       "      <td>39.0</td>\n",
       "      <td>0</td>\n",
       "      <td>5</td>\n",
       "      <td>382652</td>\n",
       "      <td>29.1250</td>\n",
       "      <td>NaN</td>\n",
       "      <td>Q</td>\n",
       "    </tr>\n",
       "    <tr>\n",
       "      <th>886</th>\n",
       "      <td>887</td>\n",
       "      <td>0</td>\n",
       "      <td>2</td>\n",
       "      <td>Montvila, Rev. Juozas</td>\n",
       "      <td>male</td>\n",
       "      <td>27.0</td>\n",
       "      <td>0</td>\n",
       "      <td>0</td>\n",
       "      <td>211536</td>\n",
       "      <td>13.0000</td>\n",
       "      <td>NaN</td>\n",
       "      <td>S</td>\n",
       "    </tr>\n",
       "    <tr>\n",
       "      <th>888</th>\n",
       "      <td>889</td>\n",
       "      <td>0</td>\n",
       "      <td>3</td>\n",
       "      <td>Johnston, Miss. Catherine Helen \"Carrie\"</td>\n",
       "      <td>female</td>\n",
       "      <td>NaN</td>\n",
       "      <td>1</td>\n",
       "      <td>2</td>\n",
       "      <td>W./C. 6607</td>\n",
       "      <td>23.4500</td>\n",
       "      <td>NaN</td>\n",
       "      <td>S</td>\n",
       "    </tr>\n",
       "    <tr>\n",
       "      <th>890</th>\n",
       "      <td>891</td>\n",
       "      <td>0</td>\n",
       "      <td>3</td>\n",
       "      <td>Dooley, Mr. Patrick</td>\n",
       "      <td>male</td>\n",
       "      <td>32.0</td>\n",
       "      <td>0</td>\n",
       "      <td>0</td>\n",
       "      <td>370376</td>\n",
       "      <td>7.7500</td>\n",
       "      <td>NaN</td>\n",
       "      <td>Q</td>\n",
       "    </tr>\n",
       "  </tbody>\n",
       "</table>\n",
       "<p>549 rows × 12 columns</p>\n",
       "</div>"
      ],
      "text/plain": [
       "     PassengerId  Survived  Pclass                                      Name  \\\n",
       "0              1         0       3                   Braund, Mr. Owen Harris   \n",
       "4              5         0       3                  Allen, Mr. William Henry   \n",
       "5              6         0       3                          Moran, Mr. James   \n",
       "6              7         0       1                   McCarthy, Mr. Timothy J   \n",
       "7              8         0       3            Palsson, Master. Gosta Leonard   \n",
       "..           ...       ...     ...                                       ...   \n",
       "884          885         0       3                    Sutehall, Mr. Henry Jr   \n",
       "885          886         0       3      Rice, Mrs. William (Margaret Norton)   \n",
       "886          887         0       2                     Montvila, Rev. Juozas   \n",
       "888          889         0       3  Johnston, Miss. Catherine Helen \"Carrie\"   \n",
       "890          891         0       3                       Dooley, Mr. Patrick   \n",
       "\n",
       "        Sex   Age  SibSp  Parch           Ticket     Fare Cabin Embarked  \n",
       "0      male  22.0      1      0        A/5 21171   7.2500   NaN        S  \n",
       "4      male  35.0      0      0           373450   8.0500   NaN        S  \n",
       "5      male   NaN      0      0           330877   8.4583   NaN        Q  \n",
       "6      male  54.0      0      0            17463  51.8625   E46        S  \n",
       "7      male   2.0      3      1           349909  21.0750   NaN        S  \n",
       "..      ...   ...    ...    ...              ...      ...   ...      ...  \n",
       "884    male  25.0      0      0  SOTON/OQ 392076   7.0500   NaN        S  \n",
       "885  female  39.0      0      5           382652  29.1250   NaN        Q  \n",
       "886    male  27.0      0      0           211536  13.0000   NaN        S  \n",
       "888  female   NaN      1      2       W./C. 6607  23.4500   NaN        S  \n",
       "890    male  32.0      0      0           370376   7.7500   NaN        Q  \n",
       "\n",
       "[549 rows x 12 columns]"
      ]
     },
     "execution_count": 8,
     "metadata": {},
     "output_type": "execute_result"
    }
   ],
   "source": [
    "# What if I wanted everyone that did not survive? I think you should be able to figure it out\n",
    "twenty_and_above = df[df['Survived'] == 0]\n",
    "twenty_and_above"
   ]
  },
  {
   "cell_type": "markdown",
   "metadata": {
    "cell_id": "e891ed7db557471cad81a6c62923b63f",
    "deepnote_cell_type": "markdown",
    "id": "RUlik5l_LSFm"
   },
   "source": [
    "## Removing rows/columns"
   ]
  },
  {
   "cell_type": "markdown",
   "metadata": {
    "cell_id": "9a564690b91b4bf7bd8cee2f1f9582a7",
    "deepnote_cell_type": "markdown",
    "id": "Pxf1DxTKw8R9"
   },
   "source": [
    "Let's check if we are missing any values in our dataset with the `isnull().sum()` method. Note that Deepnote already provides this info when we load in the dataframe, but it is useful to know what is happening programmatically for your team project"
   ]
  },
  {
   "cell_type": "code",
   "execution_count": null,
   "metadata": {
    "cell_id": "4542239bb0dc4c4b9aa9a3e5f5ab326e",
    "colab": {
     "base_uri": "https://localhost:8080/",
     "height": 165
    },
    "deepnote_cell_type": "code",
    "deepnote_to_be_reexecuted": false,
    "executionInfo": {
     "elapsed": 281,
     "status": "error",
     "timestamp": 1645487001270,
     "user": {
      "displayName": "Krishi Manek",
      "photoUrl": "https://lh3.googleusercontent.com/a-/AOh14GiYJokrMYHU9c695tZ40LviN0my4KKvqir-Hx0U3A=s64",
      "userId": "14724554969319134678"
     },
     "user_tz": 300
    },
    "execution_millis": 562,
    "execution_start": 1708728098183,
    "id": "KNcbe3cXLVmg",
    "outputId": "e12202d4-31b3-4f51-cd8d-39ee982a8883",
    "source_hash": null
   },
   "outputs": [
    {
     "data": {
      "text/plain": [
       "PassengerId      0\n",
       "Survived         0\n",
       "Pclass           0\n",
       "Name             0\n",
       "Sex              0\n",
       "Age            177\n",
       "SibSp            0\n",
       "Parch            0\n",
       "Ticket           0\n",
       "Fare             0\n",
       "Cabin          687\n",
       "Embarked         2\n",
       "dtype: int64"
      ]
     },
     "execution_count": 9,
     "metadata": {},
     "output_type": "execute_result"
    }
   ],
   "source": [
    "df.isnull().sum() #For every column, find the number of empty data points \n"
   ]
  },
  {
   "cell_type": "markdown",
   "metadata": {
    "cell_id": "495ed035d6124d5da88ba5bda38fa787",
    "deepnote_cell_type": "markdown",
    "id": "a6HDR0QZLj5H"
   },
   "source": [
    "We can see that the majority of our missing data is in the age and cabin columns, so let's drop those columns along with other features we don't care about."
   ]
  },
  {
   "cell_type": "code",
   "execution_count": null,
   "metadata": {
    "cell_id": "39bb2505270c42ccb06cc760b45ea148",
    "colab": {
     "base_uri": "https://localhost:8080/",
     "height": 447
    },
    "deepnote_cell_type": "code",
    "deepnote_to_be_reexecuted": false,
    "executionInfo": {
     "elapsed": 247,
     "status": "ok",
     "timestamp": 1632877517094,
     "user": {
      "displayName": "Shasha Liao",
      "photoUrl": "https://lh3.googleusercontent.com/a-/AOh14Ghf5Tj0GAz5by2x9KRBgR3ka1GNpPK67XG2GpESnA=s64",
      "userId": "03341420781931408968"
     },
     "user_tz": 240
    },
    "execution_millis": 517,
    "execution_start": 1708728098229,
    "id": "VHgHewJ7Lqo9",
    "outputId": "087b856f-d3ea-484b-c301-a0d0883dc856",
    "source_hash": null
   },
   "outputs": [
    {
     "data": {
      "application/vnd.deepnote.dataframe.v3+json": {
       "column_count": 8,
       "columns": [
        {
         "dtype": "int64",
         "name": "Survived",
         "stats": {
          "histogram": [
           {
            "bin_end": 0.1,
            "bin_start": 0,
            "count": 549
           },
           {
            "bin_end": 0.2,
            "bin_start": 0.1,
            "count": 0
           },
           {
            "bin_end": 0.30000000000000004,
            "bin_start": 0.2,
            "count": 0
           },
           {
            "bin_end": 0.4,
            "bin_start": 0.30000000000000004,
            "count": 0
           },
           {
            "bin_end": 0.5,
            "bin_start": 0.4,
            "count": 0
           },
           {
            "bin_end": 0.6000000000000001,
            "bin_start": 0.5,
            "count": 0
           },
           {
            "bin_end": 0.7000000000000001,
            "bin_start": 0.6000000000000001,
            "count": 0
           },
           {
            "bin_end": 0.8,
            "bin_start": 0.7000000000000001,
            "count": 0
           },
           {
            "bin_end": 0.9,
            "bin_start": 0.8,
            "count": 0
           },
           {
            "bin_end": 1,
            "bin_start": 0.9,
            "count": 342
           }
          ],
          "max": "1",
          "min": "0",
          "nan_count": 0,
          "unique_count": 2
         }
        },
        {
         "dtype": "int64",
         "name": "Pclass",
         "stats": {
          "histogram": [
           {
            "bin_end": 1.2,
            "bin_start": 1,
            "count": 216
           },
           {
            "bin_end": 1.4,
            "bin_start": 1.2,
            "count": 0
           },
           {
            "bin_end": 1.6,
            "bin_start": 1.4,
            "count": 0
           },
           {
            "bin_end": 1.8,
            "bin_start": 1.6,
            "count": 0
           },
           {
            "bin_end": 2,
            "bin_start": 1.8,
            "count": 0
           },
           {
            "bin_end": 2.2,
            "bin_start": 2,
            "count": 184
           },
           {
            "bin_end": 2.4000000000000004,
            "bin_start": 2.2,
            "count": 0
           },
           {
            "bin_end": 2.6,
            "bin_start": 2.4000000000000004,
            "count": 0
           },
           {
            "bin_end": 2.8,
            "bin_start": 2.6,
            "count": 0
           },
           {
            "bin_end": 3,
            "bin_start": 2.8,
            "count": 491
           }
          ],
          "max": "3",
          "min": "1",
          "nan_count": 0,
          "unique_count": 3
         }
        },
        {
         "dtype": "object",
         "name": "Name",
         "stats": {
          "categories": [
           {
            "count": 1,
            "name": "Braund, Mr. Owen Harris"
           },
           {
            "count": 1,
            "name": "Cumings, Mrs. John Bradley (Florence Briggs Thayer)"
           },
           {
            "count": 889,
            "name": "889 others"
           }
          ],
          "nan_count": 0,
          "unique_count": 891
         }
        },
        {
         "dtype": "object",
         "name": "Sex",
         "stats": {
          "categories": [
           {
            "count": 577,
            "name": "male"
           },
           {
            "count": 314,
            "name": "female"
           }
          ],
          "nan_count": 0,
          "unique_count": 2
         }
        },
        {
         "dtype": "int64",
         "name": "SibSp",
         "stats": {
          "histogram": [
           {
            "bin_end": 0.8,
            "bin_start": 0,
            "count": 608
           },
           {
            "bin_end": 1.6,
            "bin_start": 0.8,
            "count": 209
           },
           {
            "bin_end": 2.4000000000000004,
            "bin_start": 1.6,
            "count": 28
           },
           {
            "bin_end": 3.2,
            "bin_start": 2.4000000000000004,
            "count": 16
           },
           {
            "bin_end": 4,
            "bin_start": 3.2,
            "count": 0
           },
           {
            "bin_end": 4.800000000000001,
            "bin_start": 4,
            "count": 18
           },
           {
            "bin_end": 5.6000000000000005,
            "bin_start": 4.800000000000001,
            "count": 5
           },
           {
            "bin_end": 6.4,
            "bin_start": 5.6000000000000005,
            "count": 0
           },
           {
            "bin_end": 7.2,
            "bin_start": 6.4,
            "count": 0
           },
           {
            "bin_end": 8,
            "bin_start": 7.2,
            "count": 7
           }
          ],
          "max": "8",
          "min": "0",
          "nan_count": 0,
          "unique_count": 7
         }
        },
        {
         "dtype": "int64",
         "name": "Parch",
         "stats": {
          "histogram": [
           {
            "bin_end": 0.6,
            "bin_start": 0,
            "count": 678
           },
           {
            "bin_end": 1.2,
            "bin_start": 0.6,
            "count": 118
           },
           {
            "bin_end": 1.7999999999999998,
            "bin_start": 1.2,
            "count": 0
           },
           {
            "bin_end": 2.4,
            "bin_start": 1.7999999999999998,
            "count": 80
           },
           {
            "bin_end": 3,
            "bin_start": 2.4,
            "count": 0
           },
           {
            "bin_end": 3.5999999999999996,
            "bin_start": 3,
            "count": 5
           },
           {
            "bin_end": 4.2,
            "bin_start": 3.5999999999999996,
            "count": 4
           },
           {
            "bin_end": 4.8,
            "bin_start": 4.2,
            "count": 0
           },
           {
            "bin_end": 5.3999999999999995,
            "bin_start": 4.8,
            "count": 5
           },
           {
            "bin_end": 6,
            "bin_start": 5.3999999999999995,
            "count": 1
           }
          ],
          "max": "6",
          "min": "0",
          "nan_count": 0,
          "unique_count": 7
         }
        },
        {
         "dtype": "float64",
         "name": "Fare",
         "stats": {
          "histogram": [
           {
            "bin_end": 51.23292,
            "bin_start": 0,
            "count": 732
           },
           {
            "bin_end": 102.46584,
            "bin_start": 51.23292,
            "count": 106
           },
           {
            "bin_end": 153.69876,
            "bin_start": 102.46584,
            "count": 31
           },
           {
            "bin_end": 204.93168,
            "bin_start": 153.69876,
            "count": 2
           },
           {
            "bin_end": 256.1646,
            "bin_start": 204.93168,
            "count": 11
           },
           {
            "bin_end": 307.39752,
            "bin_start": 256.1646,
            "count": 6
           },
           {
            "bin_end": 358.63044,
            "bin_start": 307.39752,
            "count": 0
           },
           {
            "bin_end": 409.86336,
            "bin_start": 358.63044,
            "count": 0
           },
           {
            "bin_end": 461.09628,
            "bin_start": 409.86336,
            "count": 0
           },
           {
            "bin_end": 512.3292,
            "bin_start": 461.09628,
            "count": 3
           }
          ],
          "max": "512.3292",
          "min": "0.0",
          "nan_count": 0,
          "unique_count": 248
         }
        },
        {
         "dtype": "object",
         "name": "Embarked",
         "stats": {
          "categories": [
           {
            "count": 644,
            "name": "S"
           },
           {
            "count": 245,
            "name": "2 others"
           },
           {
            "count": 2,
            "name": "Missing"
           }
          ],
          "nan_count": 2,
          "unique_count": 3
         }
        },
        {
         "dtype": "int64",
         "name": "_deepnote_index_column"
        }
       ],
       "row_count": 891,
       "rows": [
        {
         "Embarked": "S",
         "Fare": 7.25,
         "Name": "Braund, Mr. Owen Harris",
         "Parch": 0,
         "Pclass": 3,
         "Sex": "male",
         "SibSp": 1,
         "Survived": 0,
         "_deepnote_index_column": 0
        },
        {
         "Embarked": "C",
         "Fare": 71.2833,
         "Name": "Cumings, Mrs. John Bradley (Florence Briggs Thayer)",
         "Parch": 0,
         "Pclass": 1,
         "Sex": "female",
         "SibSp": 1,
         "Survived": 1,
         "_deepnote_index_column": 1
        },
        {
         "Embarked": "S",
         "Fare": 7.925,
         "Name": "Heikkinen, Miss. Laina",
         "Parch": 0,
         "Pclass": 3,
         "Sex": "female",
         "SibSp": 0,
         "Survived": 1,
         "_deepnote_index_column": 2
        },
        {
         "Embarked": "S",
         "Fare": 53.1,
         "Name": "Futrelle, Mrs. Jacques Heath (Lily May Peel)",
         "Parch": 0,
         "Pclass": 1,
         "Sex": "female",
         "SibSp": 1,
         "Survived": 1,
         "_deepnote_index_column": 3
        },
        {
         "Embarked": "S",
         "Fare": 8.05,
         "Name": "Allen, Mr. William Henry",
         "Parch": 0,
         "Pclass": 3,
         "Sex": "male",
         "SibSp": 0,
         "Survived": 0,
         "_deepnote_index_column": 4
        },
        {
         "Embarked": "Q",
         "Fare": 8.4583,
         "Name": "Moran, Mr. James",
         "Parch": 0,
         "Pclass": 3,
         "Sex": "male",
         "SibSp": 0,
         "Survived": 0,
         "_deepnote_index_column": 5
        },
        {
         "Embarked": "S",
         "Fare": 51.8625,
         "Name": "McCarthy, Mr. Timothy J",
         "Parch": 0,
         "Pclass": 1,
         "Sex": "male",
         "SibSp": 0,
         "Survived": 0,
         "_deepnote_index_column": 6
        },
        {
         "Embarked": "S",
         "Fare": 21.075,
         "Name": "Palsson, Master. Gosta Leonard",
         "Parch": 1,
         "Pclass": 3,
         "Sex": "male",
         "SibSp": 3,
         "Survived": 0,
         "_deepnote_index_column": 7
        },
        {
         "Embarked": "S",
         "Fare": 11.1333,
         "Name": "Johnson, Mrs. Oscar W (Elisabeth Vilhelmina Berg)",
         "Parch": 2,
         "Pclass": 3,
         "Sex": "female",
         "SibSp": 0,
         "Survived": 1,
         "_deepnote_index_column": 8
        },
        {
         "Embarked": "C",
         "Fare": 30.0708,
         "Name": "Nasser, Mrs. Nicholas (Adele Achem)",
         "Parch": 0,
         "Pclass": 2,
         "Sex": "female",
         "SibSp": 1,
         "Survived": 1,
         "_deepnote_index_column": 9
        }
       ]
      },
      "text/html": [
       "<div>\n",
       "<style scoped>\n",
       "    .dataframe tbody tr th:only-of-type {\n",
       "        vertical-align: middle;\n",
       "    }\n",
       "\n",
       "    .dataframe tbody tr th {\n",
       "        vertical-align: top;\n",
       "    }\n",
       "\n",
       "    .dataframe thead th {\n",
       "        text-align: right;\n",
       "    }\n",
       "</style>\n",
       "<table border=\"1\" class=\"dataframe\">\n",
       "  <thead>\n",
       "    <tr style=\"text-align: right;\">\n",
       "      <th></th>\n",
       "      <th>Survived</th>\n",
       "      <th>Pclass</th>\n",
       "      <th>Name</th>\n",
       "      <th>Sex</th>\n",
       "      <th>SibSp</th>\n",
       "      <th>Parch</th>\n",
       "      <th>Fare</th>\n",
       "      <th>Embarked</th>\n",
       "    </tr>\n",
       "  </thead>\n",
       "  <tbody>\n",
       "    <tr>\n",
       "      <th>0</th>\n",
       "      <td>0</td>\n",
       "      <td>3</td>\n",
       "      <td>Braund, Mr. Owen Harris</td>\n",
       "      <td>male</td>\n",
       "      <td>1</td>\n",
       "      <td>0</td>\n",
       "      <td>7.2500</td>\n",
       "      <td>S</td>\n",
       "    </tr>\n",
       "    <tr>\n",
       "      <th>1</th>\n",
       "      <td>1</td>\n",
       "      <td>1</td>\n",
       "      <td>Cumings, Mrs. John Bradley (Florence Briggs Th...</td>\n",
       "      <td>female</td>\n",
       "      <td>1</td>\n",
       "      <td>0</td>\n",
       "      <td>71.2833</td>\n",
       "      <td>C</td>\n",
       "    </tr>\n",
       "    <tr>\n",
       "      <th>2</th>\n",
       "      <td>1</td>\n",
       "      <td>3</td>\n",
       "      <td>Heikkinen, Miss. Laina</td>\n",
       "      <td>female</td>\n",
       "      <td>0</td>\n",
       "      <td>0</td>\n",
       "      <td>7.9250</td>\n",
       "      <td>S</td>\n",
       "    </tr>\n",
       "    <tr>\n",
       "      <th>3</th>\n",
       "      <td>1</td>\n",
       "      <td>1</td>\n",
       "      <td>Futrelle, Mrs. Jacques Heath (Lily May Peel)</td>\n",
       "      <td>female</td>\n",
       "      <td>1</td>\n",
       "      <td>0</td>\n",
       "      <td>53.1000</td>\n",
       "      <td>S</td>\n",
       "    </tr>\n",
       "    <tr>\n",
       "      <th>4</th>\n",
       "      <td>0</td>\n",
       "      <td>3</td>\n",
       "      <td>Allen, Mr. William Henry</td>\n",
       "      <td>male</td>\n",
       "      <td>0</td>\n",
       "      <td>0</td>\n",
       "      <td>8.0500</td>\n",
       "      <td>S</td>\n",
       "    </tr>\n",
       "    <tr>\n",
       "      <th>...</th>\n",
       "      <td>...</td>\n",
       "      <td>...</td>\n",
       "      <td>...</td>\n",
       "      <td>...</td>\n",
       "      <td>...</td>\n",
       "      <td>...</td>\n",
       "      <td>...</td>\n",
       "      <td>...</td>\n",
       "    </tr>\n",
       "    <tr>\n",
       "      <th>886</th>\n",
       "      <td>0</td>\n",
       "      <td>2</td>\n",
       "      <td>Montvila, Rev. Juozas</td>\n",
       "      <td>male</td>\n",
       "      <td>0</td>\n",
       "      <td>0</td>\n",
       "      <td>13.0000</td>\n",
       "      <td>S</td>\n",
       "    </tr>\n",
       "    <tr>\n",
       "      <th>887</th>\n",
       "      <td>1</td>\n",
       "      <td>1</td>\n",
       "      <td>Graham, Miss. Margaret Edith</td>\n",
       "      <td>female</td>\n",
       "      <td>0</td>\n",
       "      <td>0</td>\n",
       "      <td>30.0000</td>\n",
       "      <td>S</td>\n",
       "    </tr>\n",
       "    <tr>\n",
       "      <th>888</th>\n",
       "      <td>0</td>\n",
       "      <td>3</td>\n",
       "      <td>Johnston, Miss. Catherine Helen \"Carrie\"</td>\n",
       "      <td>female</td>\n",
       "      <td>1</td>\n",
       "      <td>2</td>\n",
       "      <td>23.4500</td>\n",
       "      <td>S</td>\n",
       "    </tr>\n",
       "    <tr>\n",
       "      <th>889</th>\n",
       "      <td>1</td>\n",
       "      <td>1</td>\n",
       "      <td>Behr, Mr. Karl Howell</td>\n",
       "      <td>male</td>\n",
       "      <td>0</td>\n",
       "      <td>0</td>\n",
       "      <td>30.0000</td>\n",
       "      <td>C</td>\n",
       "    </tr>\n",
       "    <tr>\n",
       "      <th>890</th>\n",
       "      <td>0</td>\n",
       "      <td>3</td>\n",
       "      <td>Dooley, Mr. Patrick</td>\n",
       "      <td>male</td>\n",
       "      <td>0</td>\n",
       "      <td>0</td>\n",
       "      <td>7.7500</td>\n",
       "      <td>Q</td>\n",
       "    </tr>\n",
       "  </tbody>\n",
       "</table>\n",
       "<p>891 rows × 8 columns</p>\n",
       "</div>"
      ],
      "text/plain": [
       "     Survived  Pclass                                               Name  \\\n",
       "0           0       3                            Braund, Mr. Owen Harris   \n",
       "1           1       1  Cumings, Mrs. John Bradley (Florence Briggs Th...   \n",
       "2           1       3                             Heikkinen, Miss. Laina   \n",
       "3           1       1       Futrelle, Mrs. Jacques Heath (Lily May Peel)   \n",
       "4           0       3                           Allen, Mr. William Henry   \n",
       "..        ...     ...                                                ...   \n",
       "886         0       2                              Montvila, Rev. Juozas   \n",
       "887         1       1                       Graham, Miss. Margaret Edith   \n",
       "888         0       3           Johnston, Miss. Catherine Helen \"Carrie\"   \n",
       "889         1       1                              Behr, Mr. Karl Howell   \n",
       "890         0       3                                Dooley, Mr. Patrick   \n",
       "\n",
       "        Sex  SibSp  Parch     Fare Embarked  \n",
       "0      male      1      0   7.2500        S  \n",
       "1    female      1      0  71.2833        C  \n",
       "2    female      0      0   7.9250        S  \n",
       "3    female      1      0  53.1000        S  \n",
       "4      male      0      0   8.0500        S  \n",
       "..      ...    ...    ...      ...      ...  \n",
       "886    male      0      0  13.0000        S  \n",
       "887  female      0      0  30.0000        S  \n",
       "888  female      1      2  23.4500        S  \n",
       "889    male      0      0  30.0000        C  \n",
       "890    male      0      0   7.7500        Q  \n",
       "\n",
       "[891 rows x 8 columns]"
      ]
     },
     "execution_count": 10,
     "metadata": {},
     "output_type": "execute_result"
    }
   ],
   "source": [
    "df = df.drop(['Cabin', 'Age', 'PassengerId', 'Ticket'], axis = 1)\n",
    "df"
   ]
  },
  {
   "cell_type": "markdown",
   "metadata": {
    "cell_id": "aab46f1410484cc4a82b4941ab5bef60",
    "deepnote_cell_type": "markdown",
    "id": "PomqSAEZLwDl"
   },
   "source": [
    "Notice that this dataset does not include age or cabin anymore."
   ]
  },
  {
   "cell_type": "markdown",
   "metadata": {
    "cell_id": "0e1ed06b8b3d4717a09f0a42207a2927",
    "deepnote_cell_type": "markdown",
    "id": "5m55IVD6L4EZ"
   },
   "source": [
    "## Filling Empty Values"
   ]
  },
  {
   "cell_type": "markdown",
   "metadata": {
    "cell_id": "ab6807f0f1a344da8575cb730ceefc3d",
    "deepnote_cell_type": "markdown",
    "id": "HMcCmFNiL-xc"
   },
   "source": [
    "Now another problem you may encounter is empty values in your data. In this data, there are two blank entries in the \"Embarked\" feature. There are a few ways to deal with blank and invalid(Nan) entries. One option for numerical data would be to insert the entire column average into the missing data. However, since this is a categorical feature, it would be best to remove the entire data point with the missing value."
   ]
  },
  {
   "cell_type": "code",
   "execution_count": null,
   "metadata": {
    "cell_id": "85c3fc9035cb4c07aaea2c8a147f97ed",
    "colab": {
     "base_uri": "https://localhost:8080/",
     "height": 447
    },
    "deepnote_cell_type": "code",
    "deepnote_to_be_reexecuted": false,
    "executionInfo": {
     "elapsed": 167,
     "status": "ok",
     "timestamp": 1632877568066,
     "user": {
      "displayName": "Shasha Liao",
      "photoUrl": "https://lh3.googleusercontent.com/a-/AOh14Ghf5Tj0GAz5by2x9KRBgR3ka1GNpPK67XG2GpESnA=s64",
      "userId": "03341420781931408968"
     },
     "user_tz": 240
    },
    "execution_millis": 489,
    "execution_start": 1708728098257,
    "id": "9ChjyscLMJ6d",
    "outputId": "203465b3-5985-40ae-f766-b0f363ca959f",
    "source_hash": null
   },
   "outputs": [
    {
     "data": {
      "application/vnd.deepnote.dataframe.v3+json": {
       "column_count": 8,
       "columns": [
        {
         "dtype": "int64",
         "name": "Survived",
         "stats": {
          "histogram": [
           {
            "bin_end": 0.1,
            "bin_start": 0,
            "count": 549
           },
           {
            "bin_end": 0.2,
            "bin_start": 0.1,
            "count": 0
           },
           {
            "bin_end": 0.30000000000000004,
            "bin_start": 0.2,
            "count": 0
           },
           {
            "bin_end": 0.4,
            "bin_start": 0.30000000000000004,
            "count": 0
           },
           {
            "bin_end": 0.5,
            "bin_start": 0.4,
            "count": 0
           },
           {
            "bin_end": 0.6000000000000001,
            "bin_start": 0.5,
            "count": 0
           },
           {
            "bin_end": 0.7000000000000001,
            "bin_start": 0.6000000000000001,
            "count": 0
           },
           {
            "bin_end": 0.8,
            "bin_start": 0.7000000000000001,
            "count": 0
           },
           {
            "bin_end": 0.9,
            "bin_start": 0.8,
            "count": 0
           },
           {
            "bin_end": 1,
            "bin_start": 0.9,
            "count": 340
           }
          ],
          "max": "1",
          "min": "0",
          "nan_count": 0,
          "unique_count": 2
         }
        },
        {
         "dtype": "int64",
         "name": "Pclass",
         "stats": {
          "histogram": [
           {
            "bin_end": 1.2,
            "bin_start": 1,
            "count": 214
           },
           {
            "bin_end": 1.4,
            "bin_start": 1.2,
            "count": 0
           },
           {
            "bin_end": 1.6,
            "bin_start": 1.4,
            "count": 0
           },
           {
            "bin_end": 1.8,
            "bin_start": 1.6,
            "count": 0
           },
           {
            "bin_end": 2,
            "bin_start": 1.8,
            "count": 0
           },
           {
            "bin_end": 2.2,
            "bin_start": 2,
            "count": 184
           },
           {
            "bin_end": 2.4000000000000004,
            "bin_start": 2.2,
            "count": 0
           },
           {
            "bin_end": 2.6,
            "bin_start": 2.4000000000000004,
            "count": 0
           },
           {
            "bin_end": 2.8,
            "bin_start": 2.6,
            "count": 0
           },
           {
            "bin_end": 3,
            "bin_start": 2.8,
            "count": 491
           }
          ],
          "max": "3",
          "min": "1",
          "nan_count": 0,
          "unique_count": 3
         }
        },
        {
         "dtype": "object",
         "name": "Name",
         "stats": {
          "categories": [
           {
            "count": 1,
            "name": "Braund, Mr. Owen Harris"
           },
           {
            "count": 1,
            "name": "Cumings, Mrs. John Bradley (Florence Briggs Thayer)"
           },
           {
            "count": 887,
            "name": "887 others"
           }
          ],
          "nan_count": 0,
          "unique_count": 889
         }
        },
        {
         "dtype": "object",
         "name": "Sex",
         "stats": {
          "categories": [
           {
            "count": 577,
            "name": "male"
           },
           {
            "count": 312,
            "name": "female"
           }
          ],
          "nan_count": 0,
          "unique_count": 2
         }
        },
        {
         "dtype": "int64",
         "name": "SibSp",
         "stats": {
          "histogram": [
           {
            "bin_end": 0.8,
            "bin_start": 0,
            "count": 606
           },
           {
            "bin_end": 1.6,
            "bin_start": 0.8,
            "count": 209
           },
           {
            "bin_end": 2.4000000000000004,
            "bin_start": 1.6,
            "count": 28
           },
           {
            "bin_end": 3.2,
            "bin_start": 2.4000000000000004,
            "count": 16
           },
           {
            "bin_end": 4,
            "bin_start": 3.2,
            "count": 0
           },
           {
            "bin_end": 4.800000000000001,
            "bin_start": 4,
            "count": 18
           },
           {
            "bin_end": 5.6000000000000005,
            "bin_start": 4.800000000000001,
            "count": 5
           },
           {
            "bin_end": 6.4,
            "bin_start": 5.6000000000000005,
            "count": 0
           },
           {
            "bin_end": 7.2,
            "bin_start": 6.4,
            "count": 0
           },
           {
            "bin_end": 8,
            "bin_start": 7.2,
            "count": 7
           }
          ],
          "max": "8",
          "min": "0",
          "nan_count": 0,
          "unique_count": 7
         }
        },
        {
         "dtype": "int64",
         "name": "Parch",
         "stats": {
          "histogram": [
           {
            "bin_end": 0.6,
            "bin_start": 0,
            "count": 676
           },
           {
            "bin_end": 1.2,
            "bin_start": 0.6,
            "count": 118
           },
           {
            "bin_end": 1.7999999999999998,
            "bin_start": 1.2,
            "count": 0
           },
           {
            "bin_end": 2.4,
            "bin_start": 1.7999999999999998,
            "count": 80
           },
           {
            "bin_end": 3,
            "bin_start": 2.4,
            "count": 0
           },
           {
            "bin_end": 3.5999999999999996,
            "bin_start": 3,
            "count": 5
           },
           {
            "bin_end": 4.2,
            "bin_start": 3.5999999999999996,
            "count": 4
           },
           {
            "bin_end": 4.8,
            "bin_start": 4.2,
            "count": 0
           },
           {
            "bin_end": 5.3999999999999995,
            "bin_start": 4.8,
            "count": 5
           },
           {
            "bin_end": 6,
            "bin_start": 5.3999999999999995,
            "count": 1
           }
          ],
          "max": "6",
          "min": "0",
          "nan_count": 0,
          "unique_count": 7
         }
        },
        {
         "dtype": "float64",
         "name": "Fare",
         "stats": {
          "histogram": [
           {
            "bin_end": 51.23292,
            "bin_start": 0,
            "count": 732
           },
           {
            "bin_end": 102.46584,
            "bin_start": 51.23292,
            "count": 104
           },
           {
            "bin_end": 153.69876,
            "bin_start": 102.46584,
            "count": 31
           },
           {
            "bin_end": 204.93168,
            "bin_start": 153.69876,
            "count": 2
           },
           {
            "bin_end": 256.1646,
            "bin_start": 204.93168,
            "count": 11
           },
           {
            "bin_end": 307.39752,
            "bin_start": 256.1646,
            "count": 6
           },
           {
            "bin_end": 358.63044,
            "bin_start": 307.39752,
            "count": 0
           },
           {
            "bin_end": 409.86336,
            "bin_start": 358.63044,
            "count": 0
           },
           {
            "bin_end": 461.09628,
            "bin_start": 409.86336,
            "count": 0
           },
           {
            "bin_end": 512.3292,
            "bin_start": 461.09628,
            "count": 3
           }
          ],
          "max": "512.3292",
          "min": "0.0",
          "nan_count": 0,
          "unique_count": 247
         }
        },
        {
         "dtype": "object",
         "name": "Embarked",
         "stats": {
          "categories": [
           {
            "count": 644,
            "name": "S"
           },
           {
            "count": 168,
            "name": "C"
           },
           {
            "count": 77,
            "name": "Q"
           }
          ],
          "nan_count": 0,
          "unique_count": 3
         }
        },
        {
         "dtype": "int64",
         "name": "_deepnote_index_column"
        }
       ],
       "row_count": 889,
       "rows": [
        {
         "Embarked": "S",
         "Fare": 7.25,
         "Name": "Braund, Mr. Owen Harris",
         "Parch": 0,
         "Pclass": 3,
         "Sex": "male",
         "SibSp": 1,
         "Survived": 0,
         "_deepnote_index_column": 0
        },
        {
         "Embarked": "C",
         "Fare": 71.2833,
         "Name": "Cumings, Mrs. John Bradley (Florence Briggs Thayer)",
         "Parch": 0,
         "Pclass": 1,
         "Sex": "female",
         "SibSp": 1,
         "Survived": 1,
         "_deepnote_index_column": 1
        },
        {
         "Embarked": "S",
         "Fare": 7.925,
         "Name": "Heikkinen, Miss. Laina",
         "Parch": 0,
         "Pclass": 3,
         "Sex": "female",
         "SibSp": 0,
         "Survived": 1,
         "_deepnote_index_column": 2
        },
        {
         "Embarked": "S",
         "Fare": 53.1,
         "Name": "Futrelle, Mrs. Jacques Heath (Lily May Peel)",
         "Parch": 0,
         "Pclass": 1,
         "Sex": "female",
         "SibSp": 1,
         "Survived": 1,
         "_deepnote_index_column": 3
        },
        {
         "Embarked": "S",
         "Fare": 8.05,
         "Name": "Allen, Mr. William Henry",
         "Parch": 0,
         "Pclass": 3,
         "Sex": "male",
         "SibSp": 0,
         "Survived": 0,
         "_deepnote_index_column": 4
        },
        {
         "Embarked": "Q",
         "Fare": 8.4583,
         "Name": "Moran, Mr. James",
         "Parch": 0,
         "Pclass": 3,
         "Sex": "male",
         "SibSp": 0,
         "Survived": 0,
         "_deepnote_index_column": 5
        },
        {
         "Embarked": "S",
         "Fare": 51.8625,
         "Name": "McCarthy, Mr. Timothy J",
         "Parch": 0,
         "Pclass": 1,
         "Sex": "male",
         "SibSp": 0,
         "Survived": 0,
         "_deepnote_index_column": 6
        },
        {
         "Embarked": "S",
         "Fare": 21.075,
         "Name": "Palsson, Master. Gosta Leonard",
         "Parch": 1,
         "Pclass": 3,
         "Sex": "male",
         "SibSp": 3,
         "Survived": 0,
         "_deepnote_index_column": 7
        },
        {
         "Embarked": "S",
         "Fare": 11.1333,
         "Name": "Johnson, Mrs. Oscar W (Elisabeth Vilhelmina Berg)",
         "Parch": 2,
         "Pclass": 3,
         "Sex": "female",
         "SibSp": 0,
         "Survived": 1,
         "_deepnote_index_column": 8
        },
        {
         "Embarked": "C",
         "Fare": 30.0708,
         "Name": "Nasser, Mrs. Nicholas (Adele Achem)",
         "Parch": 0,
         "Pclass": 2,
         "Sex": "female",
         "SibSp": 1,
         "Survived": 1,
         "_deepnote_index_column": 9
        }
       ]
      },
      "text/html": [
       "<div>\n",
       "<style scoped>\n",
       "    .dataframe tbody tr th:only-of-type {\n",
       "        vertical-align: middle;\n",
       "    }\n",
       "\n",
       "    .dataframe tbody tr th {\n",
       "        vertical-align: top;\n",
       "    }\n",
       "\n",
       "    .dataframe thead th {\n",
       "        text-align: right;\n",
       "    }\n",
       "</style>\n",
       "<table border=\"1\" class=\"dataframe\">\n",
       "  <thead>\n",
       "    <tr style=\"text-align: right;\">\n",
       "      <th></th>\n",
       "      <th>Survived</th>\n",
       "      <th>Pclass</th>\n",
       "      <th>Name</th>\n",
       "      <th>Sex</th>\n",
       "      <th>SibSp</th>\n",
       "      <th>Parch</th>\n",
       "      <th>Fare</th>\n",
       "      <th>Embarked</th>\n",
       "    </tr>\n",
       "  </thead>\n",
       "  <tbody>\n",
       "    <tr>\n",
       "      <th>0</th>\n",
       "      <td>0</td>\n",
       "      <td>3</td>\n",
       "      <td>Braund, Mr. Owen Harris</td>\n",
       "      <td>male</td>\n",
       "      <td>1</td>\n",
       "      <td>0</td>\n",
       "      <td>7.2500</td>\n",
       "      <td>S</td>\n",
       "    </tr>\n",
       "    <tr>\n",
       "      <th>1</th>\n",
       "      <td>1</td>\n",
       "      <td>1</td>\n",
       "      <td>Cumings, Mrs. John Bradley (Florence Briggs Th...</td>\n",
       "      <td>female</td>\n",
       "      <td>1</td>\n",
       "      <td>0</td>\n",
       "      <td>71.2833</td>\n",
       "      <td>C</td>\n",
       "    </tr>\n",
       "    <tr>\n",
       "      <th>2</th>\n",
       "      <td>1</td>\n",
       "      <td>3</td>\n",
       "      <td>Heikkinen, Miss. Laina</td>\n",
       "      <td>female</td>\n",
       "      <td>0</td>\n",
       "      <td>0</td>\n",
       "      <td>7.9250</td>\n",
       "      <td>S</td>\n",
       "    </tr>\n",
       "    <tr>\n",
       "      <th>3</th>\n",
       "      <td>1</td>\n",
       "      <td>1</td>\n",
       "      <td>Futrelle, Mrs. Jacques Heath (Lily May Peel)</td>\n",
       "      <td>female</td>\n",
       "      <td>1</td>\n",
       "      <td>0</td>\n",
       "      <td>53.1000</td>\n",
       "      <td>S</td>\n",
       "    </tr>\n",
       "    <tr>\n",
       "      <th>4</th>\n",
       "      <td>0</td>\n",
       "      <td>3</td>\n",
       "      <td>Allen, Mr. William Henry</td>\n",
       "      <td>male</td>\n",
       "      <td>0</td>\n",
       "      <td>0</td>\n",
       "      <td>8.0500</td>\n",
       "      <td>S</td>\n",
       "    </tr>\n",
       "    <tr>\n",
       "      <th>...</th>\n",
       "      <td>...</td>\n",
       "      <td>...</td>\n",
       "      <td>...</td>\n",
       "      <td>...</td>\n",
       "      <td>...</td>\n",
       "      <td>...</td>\n",
       "      <td>...</td>\n",
       "      <td>...</td>\n",
       "    </tr>\n",
       "    <tr>\n",
       "      <th>886</th>\n",
       "      <td>0</td>\n",
       "      <td>2</td>\n",
       "      <td>Montvila, Rev. Juozas</td>\n",
       "      <td>male</td>\n",
       "      <td>0</td>\n",
       "      <td>0</td>\n",
       "      <td>13.0000</td>\n",
       "      <td>S</td>\n",
       "    </tr>\n",
       "    <tr>\n",
       "      <th>887</th>\n",
       "      <td>1</td>\n",
       "      <td>1</td>\n",
       "      <td>Graham, Miss. Margaret Edith</td>\n",
       "      <td>female</td>\n",
       "      <td>0</td>\n",
       "      <td>0</td>\n",
       "      <td>30.0000</td>\n",
       "      <td>S</td>\n",
       "    </tr>\n",
       "    <tr>\n",
       "      <th>888</th>\n",
       "      <td>0</td>\n",
       "      <td>3</td>\n",
       "      <td>Johnston, Miss. Catherine Helen \"Carrie\"</td>\n",
       "      <td>female</td>\n",
       "      <td>1</td>\n",
       "      <td>2</td>\n",
       "      <td>23.4500</td>\n",
       "      <td>S</td>\n",
       "    </tr>\n",
       "    <tr>\n",
       "      <th>889</th>\n",
       "      <td>1</td>\n",
       "      <td>1</td>\n",
       "      <td>Behr, Mr. Karl Howell</td>\n",
       "      <td>male</td>\n",
       "      <td>0</td>\n",
       "      <td>0</td>\n",
       "      <td>30.0000</td>\n",
       "      <td>C</td>\n",
       "    </tr>\n",
       "    <tr>\n",
       "      <th>890</th>\n",
       "      <td>0</td>\n",
       "      <td>3</td>\n",
       "      <td>Dooley, Mr. Patrick</td>\n",
       "      <td>male</td>\n",
       "      <td>0</td>\n",
       "      <td>0</td>\n",
       "      <td>7.7500</td>\n",
       "      <td>Q</td>\n",
       "    </tr>\n",
       "  </tbody>\n",
       "</table>\n",
       "<p>889 rows × 8 columns</p>\n",
       "</div>"
      ],
      "text/plain": [
       "     Survived  Pclass                                               Name  \\\n",
       "0           0       3                            Braund, Mr. Owen Harris   \n",
       "1           1       1  Cumings, Mrs. John Bradley (Florence Briggs Th...   \n",
       "2           1       3                             Heikkinen, Miss. Laina   \n",
       "3           1       1       Futrelle, Mrs. Jacques Heath (Lily May Peel)   \n",
       "4           0       3                           Allen, Mr. William Henry   \n",
       "..        ...     ...                                                ...   \n",
       "886         0       2                              Montvila, Rev. Juozas   \n",
       "887         1       1                       Graham, Miss. Margaret Edith   \n",
       "888         0       3           Johnston, Miss. Catherine Helen \"Carrie\"   \n",
       "889         1       1                              Behr, Mr. Karl Howell   \n",
       "890         0       3                                Dooley, Mr. Patrick   \n",
       "\n",
       "        Sex  SibSp  Parch     Fare Embarked  \n",
       "0      male      1      0   7.2500        S  \n",
       "1    female      1      0  71.2833        C  \n",
       "2    female      0      0   7.9250        S  \n",
       "3    female      1      0  53.1000        S  \n",
       "4      male      0      0   8.0500        S  \n",
       "..      ...    ...    ...      ...      ...  \n",
       "886    male      0      0  13.0000        S  \n",
       "887  female      0      0  30.0000        S  \n",
       "888  female      1      2  23.4500        S  \n",
       "889    male      0      0  30.0000        C  \n",
       "890    male      0      0   7.7500        Q  \n",
       "\n",
       "[889 rows x 8 columns]"
      ]
     },
     "execution_count": 11,
     "metadata": {},
     "output_type": "execute_result"
    }
   ],
   "source": [
    "df = df.dropna(axis = 0, how = 'any') #try instead of any, all\n",
    "df\n",
    "#df.isnull().sum()"
   ]
  },
  {
   "cell_type": "markdown",
   "metadata": {
    "cell_id": "b7990c93dba340eea6ace4463eebef11",
    "deepnote_cell_type": "markdown",
    "id": "FuUXsW3oMxWz"
   },
   "source": [
    "There are a ton of other ways you can preprocess data! More advanced topics include data cleaning and transformation to remove outliers and standardize data and encoding categorical data into numerical values."
   ]
  },
  {
   "cell_type": "markdown",
   "metadata": {
    "cell_id": "f2b413d716e04239b9535ae94c78a282",
    "deepnote_cell_type": "markdown",
    "id": "FPTk5as4NrFe"
   },
   "source": [
    "## Exporting Cleaned Data\n",
    "\n",
    "Whenever you finish preprocessing your data, you need to export it as a new file so you can reference it later."
   ]
  },
  {
   "cell_type": "code",
   "execution_count": null,
   "metadata": {
    "cell_id": "9511154baa824d278a50c77cbd4c1448",
    "colab": {
     "base_uri": "https://localhost:8080/",
     "height": 60
    },
    "deepnote_cell_type": "code",
    "deepnote_to_be_reexecuted": false,
    "executionInfo": {
     "elapsed": 551,
     "status": "ok",
     "timestamp": 1632877630027,
     "user": {
      "displayName": "Shasha Liao",
      "photoUrl": "https://lh3.googleusercontent.com/a-/AOh14Ghf5Tj0GAz5by2x9KRBgR3ka1GNpPK67XG2GpESnA=s64",
      "userId": "03341420781931408968"
     },
     "user_tz": 240
    },
    "execution_millis": 482,
    "execution_start": 1708728098264,
    "id": "2319gWaQN3wt",
    "outputId": "9903000c-d879-4328-dc6f-6668a0d7482f",
    "source_hash": null
   },
   "outputs": [],
   "source": [
    "#import library needed for file export\n",
    "df.to_csv('cleanTitanic_train.csv')\n"
   ]
  },
  {
   "cell_type": "code",
   "execution_count": null,
   "metadata": {
    "cell_id": "cf2317bf7442465fb45b5ebee6b60378",
    "colab": {
     "base_uri": "https://localhost:8080/",
     "height": 447
    },
    "deepnote_cell_type": "code",
    "deepnote_to_be_reexecuted": false,
    "executionInfo": {
     "elapsed": 293,
     "status": "ok",
     "timestamp": 1632877653577,
     "user": {
      "displayName": "Shasha Liao",
      "photoUrl": "https://lh3.googleusercontent.com/a-/AOh14Ghf5Tj0GAz5by2x9KRBgR3ka1GNpPK67XG2GpESnA=s64",
      "userId": "03341420781931408968"
     },
     "user_tz": 240
    },
    "execution_millis": 623,
    "execution_start": 1708728098476,
    "id": "0i8GuEcOODsq",
    "outputId": "1484199a-1aae-442d-f13d-5b43b8d490fb",
    "source_hash": null
   },
   "outputs": [
    {
     "data": {
      "application/vnd.deepnote.dataframe.v3+json": {
       "column_count": 9,
       "columns": [
        {
         "dtype": "int64",
         "name": "Unnamed: 0",
         "stats": {
          "histogram": [
           {
            "bin_end": 89,
            "bin_start": 0,
            "count": 88
           },
           {
            "bin_end": 178,
            "bin_start": 89,
            "count": 89
           },
           {
            "bin_end": 267,
            "bin_start": 178,
            "count": 89
           },
           {
            "bin_end": 356,
            "bin_start": 267,
            "count": 89
           },
           {
            "bin_end": 445,
            "bin_start": 356,
            "count": 89
           },
           {
            "bin_end": 534,
            "bin_start": 445,
            "count": 89
           },
           {
            "bin_end": 623,
            "bin_start": 534,
            "count": 89
           },
           {
            "bin_end": 712,
            "bin_start": 623,
            "count": 89
           },
           {
            "bin_end": 801,
            "bin_start": 712,
            "count": 89
           },
           {
            "bin_end": 890,
            "bin_start": 801,
            "count": 89
           }
          ],
          "max": "890",
          "min": "0",
          "nan_count": 0,
          "unique_count": 889
         }
        },
        {
         "dtype": "int64",
         "name": "Survived",
         "stats": {
          "histogram": [
           {
            "bin_end": 0.1,
            "bin_start": 0,
            "count": 549
           },
           {
            "bin_end": 0.2,
            "bin_start": 0.1,
            "count": 0
           },
           {
            "bin_end": 0.30000000000000004,
            "bin_start": 0.2,
            "count": 0
           },
           {
            "bin_end": 0.4,
            "bin_start": 0.30000000000000004,
            "count": 0
           },
           {
            "bin_end": 0.5,
            "bin_start": 0.4,
            "count": 0
           },
           {
            "bin_end": 0.6000000000000001,
            "bin_start": 0.5,
            "count": 0
           },
           {
            "bin_end": 0.7000000000000001,
            "bin_start": 0.6000000000000001,
            "count": 0
           },
           {
            "bin_end": 0.8,
            "bin_start": 0.7000000000000001,
            "count": 0
           },
           {
            "bin_end": 0.9,
            "bin_start": 0.8,
            "count": 0
           },
           {
            "bin_end": 1,
            "bin_start": 0.9,
            "count": 340
           }
          ],
          "max": "1",
          "min": "0",
          "nan_count": 0,
          "unique_count": 2
         }
        },
        {
         "dtype": "int64",
         "name": "Pclass",
         "stats": {
          "histogram": [
           {
            "bin_end": 1.2,
            "bin_start": 1,
            "count": 214
           },
           {
            "bin_end": 1.4,
            "bin_start": 1.2,
            "count": 0
           },
           {
            "bin_end": 1.6,
            "bin_start": 1.4,
            "count": 0
           },
           {
            "bin_end": 1.8,
            "bin_start": 1.6,
            "count": 0
           },
           {
            "bin_end": 2,
            "bin_start": 1.8,
            "count": 0
           },
           {
            "bin_end": 2.2,
            "bin_start": 2,
            "count": 184
           },
           {
            "bin_end": 2.4000000000000004,
            "bin_start": 2.2,
            "count": 0
           },
           {
            "bin_end": 2.6,
            "bin_start": 2.4000000000000004,
            "count": 0
           },
           {
            "bin_end": 2.8,
            "bin_start": 2.6,
            "count": 0
           },
           {
            "bin_end": 3,
            "bin_start": 2.8,
            "count": 491
           }
          ],
          "max": "3",
          "min": "1",
          "nan_count": 0,
          "unique_count": 3
         }
        },
        {
         "dtype": "object",
         "name": "Name",
         "stats": {
          "categories": [
           {
            "count": 1,
            "name": "Braund, Mr. Owen Harris"
           },
           {
            "count": 1,
            "name": "Cumings, Mrs. John Bradley (Florence Briggs Thayer)"
           },
           {
            "count": 887,
            "name": "887 others"
           }
          ],
          "nan_count": 0,
          "unique_count": 889
         }
        },
        {
         "dtype": "object",
         "name": "Sex",
         "stats": {
          "categories": [
           {
            "count": 577,
            "name": "male"
           },
           {
            "count": 312,
            "name": "female"
           }
          ],
          "nan_count": 0,
          "unique_count": 2
         }
        },
        {
         "dtype": "int64",
         "name": "SibSp",
         "stats": {
          "histogram": [
           {
            "bin_end": 0.8,
            "bin_start": 0,
            "count": 606
           },
           {
            "bin_end": 1.6,
            "bin_start": 0.8,
            "count": 209
           },
           {
            "bin_end": 2.4000000000000004,
            "bin_start": 1.6,
            "count": 28
           },
           {
            "bin_end": 3.2,
            "bin_start": 2.4000000000000004,
            "count": 16
           },
           {
            "bin_end": 4,
            "bin_start": 3.2,
            "count": 0
           },
           {
            "bin_end": 4.800000000000001,
            "bin_start": 4,
            "count": 18
           },
           {
            "bin_end": 5.6000000000000005,
            "bin_start": 4.800000000000001,
            "count": 5
           },
           {
            "bin_end": 6.4,
            "bin_start": 5.6000000000000005,
            "count": 0
           },
           {
            "bin_end": 7.2,
            "bin_start": 6.4,
            "count": 0
           },
           {
            "bin_end": 8,
            "bin_start": 7.2,
            "count": 7
           }
          ],
          "max": "8",
          "min": "0",
          "nan_count": 0,
          "unique_count": 7
         }
        },
        {
         "dtype": "int64",
         "name": "Parch",
         "stats": {
          "histogram": [
           {
            "bin_end": 0.6,
            "bin_start": 0,
            "count": 676
           },
           {
            "bin_end": 1.2,
            "bin_start": 0.6,
            "count": 118
           },
           {
            "bin_end": 1.7999999999999998,
            "bin_start": 1.2,
            "count": 0
           },
           {
            "bin_end": 2.4,
            "bin_start": 1.7999999999999998,
            "count": 80
           },
           {
            "bin_end": 3,
            "bin_start": 2.4,
            "count": 0
           },
           {
            "bin_end": 3.5999999999999996,
            "bin_start": 3,
            "count": 5
           },
           {
            "bin_end": 4.2,
            "bin_start": 3.5999999999999996,
            "count": 4
           },
           {
            "bin_end": 4.8,
            "bin_start": 4.2,
            "count": 0
           },
           {
            "bin_end": 5.3999999999999995,
            "bin_start": 4.8,
            "count": 5
           },
           {
            "bin_end": 6,
            "bin_start": 5.3999999999999995,
            "count": 1
           }
          ],
          "max": "6",
          "min": "0",
          "nan_count": 0,
          "unique_count": 7
         }
        },
        {
         "dtype": "float64",
         "name": "Fare",
         "stats": {
          "histogram": [
           {
            "bin_end": 51.23292,
            "bin_start": 0,
            "count": 732
           },
           {
            "bin_end": 102.46584,
            "bin_start": 51.23292,
            "count": 104
           },
           {
            "bin_end": 153.69876,
            "bin_start": 102.46584,
            "count": 31
           },
           {
            "bin_end": 204.93168,
            "bin_start": 153.69876,
            "count": 2
           },
           {
            "bin_end": 256.1646,
            "bin_start": 204.93168,
            "count": 11
           },
           {
            "bin_end": 307.39752,
            "bin_start": 256.1646,
            "count": 6
           },
           {
            "bin_end": 358.63044,
            "bin_start": 307.39752,
            "count": 0
           },
           {
            "bin_end": 409.86336,
            "bin_start": 358.63044,
            "count": 0
           },
           {
            "bin_end": 461.09628,
            "bin_start": 409.86336,
            "count": 0
           },
           {
            "bin_end": 512.3292,
            "bin_start": 461.09628,
            "count": 3
           }
          ],
          "max": "512.3292",
          "min": "0.0",
          "nan_count": 0,
          "unique_count": 247
         }
        },
        {
         "dtype": "object",
         "name": "Embarked",
         "stats": {
          "categories": [
           {
            "count": 644,
            "name": "S"
           },
           {
            "count": 168,
            "name": "C"
           },
           {
            "count": 77,
            "name": "Q"
           }
          ],
          "nan_count": 0,
          "unique_count": 3
         }
        },
        {
         "dtype": "int64",
         "name": "_deepnote_index_column"
        }
       ],
       "row_count": 889,
       "rows": [
        {
         "Embarked": "S",
         "Fare": 7.25,
         "Name": "Braund, Mr. Owen Harris",
         "Parch": 0,
         "Pclass": 3,
         "Sex": "male",
         "SibSp": 1,
         "Survived": 0,
         "Unnamed: 0": 0,
         "_deepnote_index_column": 0
        },
        {
         "Embarked": "C",
         "Fare": 71.2833,
         "Name": "Cumings, Mrs. John Bradley (Florence Briggs Thayer)",
         "Parch": 0,
         "Pclass": 1,
         "Sex": "female",
         "SibSp": 1,
         "Survived": 1,
         "Unnamed: 0": 1,
         "_deepnote_index_column": 1
        },
        {
         "Embarked": "S",
         "Fare": 7.925,
         "Name": "Heikkinen, Miss. Laina",
         "Parch": 0,
         "Pclass": 3,
         "Sex": "female",
         "SibSp": 0,
         "Survived": 1,
         "Unnamed: 0": 2,
         "_deepnote_index_column": 2
        },
        {
         "Embarked": "S",
         "Fare": 53.1,
         "Name": "Futrelle, Mrs. Jacques Heath (Lily May Peel)",
         "Parch": 0,
         "Pclass": 1,
         "Sex": "female",
         "SibSp": 1,
         "Survived": 1,
         "Unnamed: 0": 3,
         "_deepnote_index_column": 3
        },
        {
         "Embarked": "S",
         "Fare": 8.05,
         "Name": "Allen, Mr. William Henry",
         "Parch": 0,
         "Pclass": 3,
         "Sex": "male",
         "SibSp": 0,
         "Survived": 0,
         "Unnamed: 0": 4,
         "_deepnote_index_column": 4
        },
        {
         "Embarked": "Q",
         "Fare": 8.4583,
         "Name": "Moran, Mr. James",
         "Parch": 0,
         "Pclass": 3,
         "Sex": "male",
         "SibSp": 0,
         "Survived": 0,
         "Unnamed: 0": 5,
         "_deepnote_index_column": 5
        },
        {
         "Embarked": "S",
         "Fare": 51.8625,
         "Name": "McCarthy, Mr. Timothy J",
         "Parch": 0,
         "Pclass": 1,
         "Sex": "male",
         "SibSp": 0,
         "Survived": 0,
         "Unnamed: 0": 6,
         "_deepnote_index_column": 6
        },
        {
         "Embarked": "S",
         "Fare": 21.075,
         "Name": "Palsson, Master. Gosta Leonard",
         "Parch": 1,
         "Pclass": 3,
         "Sex": "male",
         "SibSp": 3,
         "Survived": 0,
         "Unnamed: 0": 7,
         "_deepnote_index_column": 7
        },
        {
         "Embarked": "S",
         "Fare": 11.1333,
         "Name": "Johnson, Mrs. Oscar W (Elisabeth Vilhelmina Berg)",
         "Parch": 2,
         "Pclass": 3,
         "Sex": "female",
         "SibSp": 0,
         "Survived": 1,
         "Unnamed: 0": 8,
         "_deepnote_index_column": 8
        },
        {
         "Embarked": "C",
         "Fare": 30.0708,
         "Name": "Nasser, Mrs. Nicholas (Adele Achem)",
         "Parch": 0,
         "Pclass": 2,
         "Sex": "female",
         "SibSp": 1,
         "Survived": 1,
         "Unnamed: 0": 9,
         "_deepnote_index_column": 9
        }
       ]
      },
      "text/html": [
       "<div>\n",
       "<style scoped>\n",
       "    .dataframe tbody tr th:only-of-type {\n",
       "        vertical-align: middle;\n",
       "    }\n",
       "\n",
       "    .dataframe tbody tr th {\n",
       "        vertical-align: top;\n",
       "    }\n",
       "\n",
       "    .dataframe thead th {\n",
       "        text-align: right;\n",
       "    }\n",
       "</style>\n",
       "<table border=\"1\" class=\"dataframe\">\n",
       "  <thead>\n",
       "    <tr style=\"text-align: right;\">\n",
       "      <th></th>\n",
       "      <th>Unnamed: 0</th>\n",
       "      <th>Survived</th>\n",
       "      <th>Pclass</th>\n",
       "      <th>Name</th>\n",
       "      <th>Sex</th>\n",
       "      <th>SibSp</th>\n",
       "      <th>Parch</th>\n",
       "      <th>Fare</th>\n",
       "      <th>Embarked</th>\n",
       "    </tr>\n",
       "  </thead>\n",
       "  <tbody>\n",
       "    <tr>\n",
       "      <th>0</th>\n",
       "      <td>0</td>\n",
       "      <td>0</td>\n",
       "      <td>3</td>\n",
       "      <td>Braund, Mr. Owen Harris</td>\n",
       "      <td>male</td>\n",
       "      <td>1</td>\n",
       "      <td>0</td>\n",
       "      <td>7.2500</td>\n",
       "      <td>S</td>\n",
       "    </tr>\n",
       "    <tr>\n",
       "      <th>1</th>\n",
       "      <td>1</td>\n",
       "      <td>1</td>\n",
       "      <td>1</td>\n",
       "      <td>Cumings, Mrs. John Bradley (Florence Briggs Th...</td>\n",
       "      <td>female</td>\n",
       "      <td>1</td>\n",
       "      <td>0</td>\n",
       "      <td>71.2833</td>\n",
       "      <td>C</td>\n",
       "    </tr>\n",
       "    <tr>\n",
       "      <th>2</th>\n",
       "      <td>2</td>\n",
       "      <td>1</td>\n",
       "      <td>3</td>\n",
       "      <td>Heikkinen, Miss. Laina</td>\n",
       "      <td>female</td>\n",
       "      <td>0</td>\n",
       "      <td>0</td>\n",
       "      <td>7.9250</td>\n",
       "      <td>S</td>\n",
       "    </tr>\n",
       "    <tr>\n",
       "      <th>3</th>\n",
       "      <td>3</td>\n",
       "      <td>1</td>\n",
       "      <td>1</td>\n",
       "      <td>Futrelle, Mrs. Jacques Heath (Lily May Peel)</td>\n",
       "      <td>female</td>\n",
       "      <td>1</td>\n",
       "      <td>0</td>\n",
       "      <td>53.1000</td>\n",
       "      <td>S</td>\n",
       "    </tr>\n",
       "    <tr>\n",
       "      <th>4</th>\n",
       "      <td>4</td>\n",
       "      <td>0</td>\n",
       "      <td>3</td>\n",
       "      <td>Allen, Mr. William Henry</td>\n",
       "      <td>male</td>\n",
       "      <td>0</td>\n",
       "      <td>0</td>\n",
       "      <td>8.0500</td>\n",
       "      <td>S</td>\n",
       "    </tr>\n",
       "    <tr>\n",
       "      <th>...</th>\n",
       "      <td>...</td>\n",
       "      <td>...</td>\n",
       "      <td>...</td>\n",
       "      <td>...</td>\n",
       "      <td>...</td>\n",
       "      <td>...</td>\n",
       "      <td>...</td>\n",
       "      <td>...</td>\n",
       "      <td>...</td>\n",
       "    </tr>\n",
       "    <tr>\n",
       "      <th>884</th>\n",
       "      <td>886</td>\n",
       "      <td>0</td>\n",
       "      <td>2</td>\n",
       "      <td>Montvila, Rev. Juozas</td>\n",
       "      <td>male</td>\n",
       "      <td>0</td>\n",
       "      <td>0</td>\n",
       "      <td>13.0000</td>\n",
       "      <td>S</td>\n",
       "    </tr>\n",
       "    <tr>\n",
       "      <th>885</th>\n",
       "      <td>887</td>\n",
       "      <td>1</td>\n",
       "      <td>1</td>\n",
       "      <td>Graham, Miss. Margaret Edith</td>\n",
       "      <td>female</td>\n",
       "      <td>0</td>\n",
       "      <td>0</td>\n",
       "      <td>30.0000</td>\n",
       "      <td>S</td>\n",
       "    </tr>\n",
       "    <tr>\n",
       "      <th>886</th>\n",
       "      <td>888</td>\n",
       "      <td>0</td>\n",
       "      <td>3</td>\n",
       "      <td>Johnston, Miss. Catherine Helen \"Carrie\"</td>\n",
       "      <td>female</td>\n",
       "      <td>1</td>\n",
       "      <td>2</td>\n",
       "      <td>23.4500</td>\n",
       "      <td>S</td>\n",
       "    </tr>\n",
       "    <tr>\n",
       "      <th>887</th>\n",
       "      <td>889</td>\n",
       "      <td>1</td>\n",
       "      <td>1</td>\n",
       "      <td>Behr, Mr. Karl Howell</td>\n",
       "      <td>male</td>\n",
       "      <td>0</td>\n",
       "      <td>0</td>\n",
       "      <td>30.0000</td>\n",
       "      <td>C</td>\n",
       "    </tr>\n",
       "    <tr>\n",
       "      <th>888</th>\n",
       "      <td>890</td>\n",
       "      <td>0</td>\n",
       "      <td>3</td>\n",
       "      <td>Dooley, Mr. Patrick</td>\n",
       "      <td>male</td>\n",
       "      <td>0</td>\n",
       "      <td>0</td>\n",
       "      <td>7.7500</td>\n",
       "      <td>Q</td>\n",
       "    </tr>\n",
       "  </tbody>\n",
       "</table>\n",
       "<p>889 rows × 9 columns</p>\n",
       "</div>"
      ],
      "text/plain": [
       "     Unnamed: 0  Survived  Pclass  \\\n",
       "0             0         0       3   \n",
       "1             1         1       1   \n",
       "2             2         1       3   \n",
       "3             3         1       1   \n",
       "4             4         0       3   \n",
       "..          ...       ...     ...   \n",
       "884         886         0       2   \n",
       "885         887         1       1   \n",
       "886         888         0       3   \n",
       "887         889         1       1   \n",
       "888         890         0       3   \n",
       "\n",
       "                                                  Name     Sex  SibSp  Parch  \\\n",
       "0                              Braund, Mr. Owen Harris    male      1      0   \n",
       "1    Cumings, Mrs. John Bradley (Florence Briggs Th...  female      1      0   \n",
       "2                               Heikkinen, Miss. Laina  female      0      0   \n",
       "3         Futrelle, Mrs. Jacques Heath (Lily May Peel)  female      1      0   \n",
       "4                             Allen, Mr. William Henry    male      0      0   \n",
       "..                                                 ...     ...    ...    ...   \n",
       "884                              Montvila, Rev. Juozas    male      0      0   \n",
       "885                       Graham, Miss. Margaret Edith  female      0      0   \n",
       "886           Johnston, Miss. Catherine Helen \"Carrie\"  female      1      2   \n",
       "887                              Behr, Mr. Karl Howell    male      0      0   \n",
       "888                                Dooley, Mr. Patrick    male      0      0   \n",
       "\n",
       "        Fare Embarked  \n",
       "0     7.2500        S  \n",
       "1    71.2833        C  \n",
       "2     7.9250        S  \n",
       "3    53.1000        S  \n",
       "4     8.0500        S  \n",
       "..       ...      ...  \n",
       "884  13.0000        S  \n",
       "885  30.0000        S  \n",
       "886  23.4500        S  \n",
       "887  30.0000        C  \n",
       "888   7.7500        Q  \n",
       "\n",
       "[889 rows x 9 columns]"
      ]
     },
     "execution_count": 13,
     "metadata": {},
     "output_type": "execute_result"
    }
   ],
   "source": [
    "df = pd.read_csv('cleanTitanic_train.csv') #open the cleaned dataset to make sure it works\n",
    "df"
   ]
  },
  {
   "cell_type": "markdown",
   "metadata": {
    "cell_id": "3f0f71d46369410ca9ee3493aa833ad9",
    "deepnote_cell_type": "text-cell-h2",
    "formattedRanges": [],
    "is_collapsed": false,
    "tags": []
   },
   "source": [
    "## More Advanced Data Cleaning Tools"
   ]
  },
  {
   "cell_type": "markdown",
   "metadata": {
    "cell_id": "6bc2571a-9811-4fa7-99ed-8e0c6941e080",
    "deepnote_cell_type": "text-cell-bullet",
    "formattedRanges": [
     {
      "fromCodePoint": 0,
      "ranges": [],
      "toCodePoint": 11,
      "type": "link",
      "url": "https://www.youtube.com/watch?v=B70J_H_zAWM"
     },
     {
      "fromCodePoint": 11,
      "ranges": [],
      "toCodePoint": 11,
      "type": "link",
      "url": "https://www.youtube.com/watch?v=B70J_H_zAWM"
     }
    ],
    "is_collapsed": false,
    "tags": []
   },
   "source": [
    "- Open Refine"
   ]
  },
  {
   "cell_type": "markdown",
   "metadata": {
    "cell_id": "05957589-c195-4cbe-b1ec-06d33b99ab40",
    "deepnote_cell_type": "text-cell-bullet",
    "formattedRanges": [],
    "is_collapsed": false,
    "tags": []
   },
   "source": [
    "- Trifacta"
   ]
  },
  {
   "cell_type": "markdown",
   "metadata": {
    "cell_id": "90dae3eb-ff94-433a-ab40-837b4c92ba91",
    "deepnote_cell_type": "text-cell-bullet",
    "formattedRanges": [],
    "is_collapsed": false,
    "tags": []
   },
   "source": [
    "- R"
   ]
  },
  {
   "cell_type": "markdown",
   "metadata": {
    "cell_id": "d141d9de-dad7-4c3c-818c-67780efac616",
    "deepnote_cell_type": "text-cell-bullet",
    "formattedRanges": [],
    "is_collapsed": false,
    "tags": []
   },
   "source": [
    "- And obviously, Python"
   ]
  },
  {
   "cell_type": "markdown",
   "metadata": {
    "cell_id": "77b9b630ed2749a683b45d2e69cf8afb",
    "deepnote_cell_type": "markdown",
    "id": "B5tefdqcNyJD"
   },
   "source": [
    "# Imports\n"
   ]
  },
  {
   "cell_type": "code",
   "execution_count": 2,
   "metadata": {
    "cell_id": "eea7973d2aa14ac0b1d10fb6ec52c89f",
    "deepnote_cell_type": "code",
    "deepnote_to_be_reexecuted": false,
    "execution_millis": 627,
    "execution_start": 1708728098582,
    "id": "5RxgniB6N0-3",
    "source_hash": null
   },
   "outputs": [
    {
     "name": "stdout",
     "output_type": "stream",
     "text": [
      "Defaulting to user installation because normal site-packages is not writeable\n",
      "Collecting seaborn\n",
      "  Downloading seaborn-0.13.2-py3-none-any.whl.metadata (5.4 kB)\n",
      "Requirement already satisfied: numpy!=1.24.0,>=1.20 in /opt/intel/oneapi/intelpython/envs/pytorch-gpu/lib/python3.9/site-packages (from seaborn) (1.26.4)\n",
      "Requirement already satisfied: pandas>=1.2 in /opt/intel/oneapi/intelpython/envs/pytorch-gpu/lib/python3.9/site-packages (from seaborn) (2.2.2)\n",
      "Requirement already satisfied: matplotlib!=3.6.1,>=3.4 in /opt/intel/oneapi/intelpython/envs/pytorch-gpu/lib/python3.9/site-packages (from seaborn) (3.8.4)\n",
      "Requirement already satisfied: contourpy>=1.0.1 in /opt/intel/oneapi/intelpython/envs/pytorch-gpu/lib/python3.9/site-packages (from matplotlib!=3.6.1,>=3.4->seaborn) (1.2.1)\n",
      "Requirement already satisfied: cycler>=0.10 in /opt/intel/oneapi/intelpython/envs/pytorch-gpu/lib/python3.9/site-packages (from matplotlib!=3.6.1,>=3.4->seaborn) (0.12.1)\n",
      "Requirement already satisfied: fonttools>=4.22.0 in /opt/intel/oneapi/intelpython/envs/pytorch-gpu/lib/python3.9/site-packages (from matplotlib!=3.6.1,>=3.4->seaborn) (4.52.4)\n",
      "Requirement already satisfied: kiwisolver>=1.3.1 in /opt/intel/oneapi/intelpython/envs/pytorch-gpu/lib/python3.9/site-packages (from matplotlib!=3.6.1,>=3.4->seaborn) (1.4.5)\n",
      "Requirement already satisfied: packaging>=20.0 in /opt/intel/oneapi/intelpython/envs/pytorch-gpu/lib/python3.9/site-packages (from matplotlib!=3.6.1,>=3.4->seaborn) (24.0)\n",
      "Requirement already satisfied: pillow>=8 in /opt/intel/oneapi/intelpython/envs/pytorch-gpu/lib/python3.9/site-packages (from matplotlib!=3.6.1,>=3.4->seaborn) (10.3.0)\n",
      "Requirement already satisfied: pyparsing>=2.3.1 in /opt/intel/oneapi/intelpython/envs/pytorch-gpu/lib/python3.9/site-packages (from matplotlib!=3.6.1,>=3.4->seaborn) (3.1.2)\n",
      "Requirement already satisfied: python-dateutil>=2.7 in /opt/intel/oneapi/intelpython/envs/pytorch-gpu/lib/python3.9/site-packages (from matplotlib!=3.6.1,>=3.4->seaborn) (2.9.0)\n",
      "Requirement already satisfied: importlib-resources>=3.2.0 in /opt/intel/oneapi/intelpython/envs/pytorch-gpu/lib/python3.9/site-packages (from matplotlib!=3.6.1,>=3.4->seaborn) (6.4.0)\n",
      "Requirement already satisfied: pytz>=2020.1 in /opt/intel/oneapi/intelpython/envs/pytorch-gpu/lib/python3.9/site-packages (from pandas>=1.2->seaborn) (2024.1)\n",
      "Requirement already satisfied: tzdata>=2022.7 in /opt/intel/oneapi/intelpython/envs/pytorch-gpu/lib/python3.9/site-packages (from pandas>=1.2->seaborn) (2024.1)\n",
      "Requirement already satisfied: zipp>=3.1.0 in /opt/intel/oneapi/intelpython/envs/pytorch-gpu/lib/python3.9/site-packages (from importlib-resources>=3.2.0->matplotlib!=3.6.1,>=3.4->seaborn) (3.17.0)\n",
      "Requirement already satisfied: six>=1.5 in /opt/intel/oneapi/intelpython/envs/pytorch-gpu/lib/python3.9/site-packages (from python-dateutil>=2.7->matplotlib!=3.6.1,>=3.4->seaborn) (1.16.0)\n",
      "Downloading seaborn-0.13.2-py3-none-any.whl (294 kB)\n",
      "\u001b[2K   \u001b[90m━━━━━━━━━━━━━━━━━━━━━━━━━━━━━━━━━━━━━━━━\u001b[0m \u001b[32m294.9/294.9 kB\u001b[0m \u001b[31m10.5 MB/s\u001b[0m eta \u001b[36m0:00:00\u001b[0m\n",
      "\u001b[?25hInstalling collected packages: seaborn\n",
      "Successfully installed seaborn-0.13.2\n",
      "Note: you may need to restart the kernel to use updated packages.\n"
     ]
    }
   ],
   "source": [
    "%pip install seaborn\n",
    "\n",
    "import pandas as pd\n",
    "import matplotlib.pyplot as plt\n",
    "import seaborn as sns"
   ]
  },
  {
   "cell_type": "markdown",
   "metadata": {
    "cell_id": "75ae0d153f8443feaad7645f5908e1be",
    "deepnote_cell_type": "markdown",
    "id": "YBkL-ypiLkdo"
   },
   "source": [
    "# Understanding Data Distributions (Normal Distribution)\n"
   ]
  },
  {
   "cell_type": "markdown",
   "metadata": {
    "cell_id": "cb20c23ae1044ed08b5c98ba9470f0fd",
    "deepnote_cell_type": "markdown",
    "id": "5tzdBdAaQ4NR"
   },
   "source": [
    "Normal Distribution is by far the most important distribution when it comes to probability distribution in statistics because it mimics natural phenomena very well. Blood pressure, IQ, Height, Weight, etc. Normal Distribution is represented by a Gaussian curve which is shown in the graphic below. We usually want a dataset of at least thirty entries though the larger the better.\n",
    "\n",
    "The graphic entails the following (This is just an example, other normal distributions follow similar pattern, but not exact numbers).\n",
    "\n",
    "1.) If I have a value that is in between the mean +- one standard deviation, my value belongs in the group representing 68.27% of the population\n",
    "\n",
    "2.) If I have a value that is in between the mean +- two standard deviation, my value belongs in the group representing 95.45% of the population\n",
    "\n",
    "3.) If I have a value that is in between the mean +- three standard deviation, my value belongs in the group representing 99.73% of the population"
   ]
  },
  {
   "cell_type": "markdown",
   "metadata": {
    "cell_id": "ee408a0e1b5a4ad9b9b65dadc69939c7",
    "deepnote_cell_type": "markdown",
    "id": "hCyxLL7lDOTs"
   },
   "source": [
    "<img src=\"https://miro.medium.com/max/1400/1*IZ2II2HYKeoMrdLU5jW6Dw.png\" width=600px>"
   ]
  },
  {
   "cell_type": "markdown",
   "metadata": {
    "cell_id": "a20fc5db475b468196e87fc670ccc3f1",
    "deepnote_cell_type": "markdown",
    "id": "sOhVJqF9SvxJ"
   },
   "source": [
    "Now it's time to look at why this is important to us data scientists. As data scientists, we are to interpret the data given by our environment, so of course we want our data to be as unbiased as possible. We simply want to capture our environment and from there conduct our own analyses.\n",
    "\n",
    "The following theorem helps us to better understand capturing data.\n",
    "\n"
   ]
  },
  {
   "cell_type": "markdown",
   "metadata": {
    "cell_id": "8d24ce6f7ad9495ab12232a76d471824",
    "deepnote_cell_type": "markdown",
    "id": "U34equLxTth6"
   },
   "source": [
    "# Understanding Statistical Analysis (Central Limit Theorem)"
   ]
  },
  {
   "cell_type": "markdown",
   "metadata": {
    "cell_id": "7ccb0a9c3d3443b6ab8eaa6d6f4636f6",
    "deepnote_cell_type": "markdown",
    "id": "qrHd6Mm_T6nI"
   },
   "source": [
    "The theorem states that the sample sum/average will approach a normal distribution as the sample size becomes large. There are mathematics to prove this, but this is as far as you need to know conceptually.\n",
    "\n",
    "Example: This graphic depicts the probability distribution of rolling dice. As we roll more dices, we find the distribution of the sum to represent something closer to a normal distribution."
   ]
  },
  {
   "cell_type": "markdown",
   "metadata": {
    "cell_id": "b072b78f5e034c15bd9b6e74d5b8e2c2",
    "deepnote_cell_type": "markdown",
    "id": "mlCHpd4RUgrA"
   },
   "source": [
    "![image.png](https://prwatech.in/blog/wp-content/uploads/2019/06/CetralLimitThm-1024x512.png)"
   ]
  },
  {
   "cell_type": "markdown",
   "metadata": {
    "cell_id": "90e07598f947462a923d6058c26d76b6",
    "deepnote_cell_type": "markdown",
    "id": "itpQCp1hpC8X"
   },
   "source": [
    "# Demonstration"
   ]
  },
  {
   "cell_type": "markdown",
   "metadata": {
    "cell_id": "c5a1ec6205ab44f98faa257ac036b2ee",
    "deepnote_cell_type": "markdown",
    "id": "L8vPK82ZpFPh"
   },
   "source": [
    "It's time to take a look at this ourselves! We are going to be splitting up our data into smaller ascending groups and graphing each group out. As we begin to graph larger datasets, the graph distribution will mimic a normal distribution more."
   ]
  },
  {
   "cell_type": "code",
   "execution_count": null,
   "metadata": {
    "cell_id": "c3bf5df360dd473fa8661fbaaa21c9a3",
    "colab": {
     "base_uri": "https://localhost:8080/",
     "height": 447
    },
    "deepnote_cell_type": "code",
    "deepnote_to_be_reexecuted": false,
    "executionInfo": {
     "elapsed": 213,
     "status": "ok",
     "timestamp": 1632877905504,
     "user": {
      "displayName": "Shasha Liao",
      "photoUrl": "https://lh3.googleusercontent.com/a-/AOh14Ghf5Tj0GAz5by2x9KRBgR3ka1GNpPK67XG2GpESnA=s64",
      "userId": "03341420781931408968"
     },
     "user_tz": 240
    },
    "execution_millis": 224,
    "execution_start": 1708728099211,
    "id": "lEiznN-IpVKY",
    "outputId": "334a75ee-5099-4f91-dcf6-6cdd250036e9",
    "source_hash": null
   },
   "outputs": [
    {
     "data": {
      "application/vnd.deepnote.dataframe.v3+json": {
       "column_count": 12,
       "columns": [
        {
         "dtype": "int64",
         "name": "PassengerId",
         "stats": {
          "histogram": [
           {
            "bin_end": 90,
            "bin_start": 1,
            "count": 89
           },
           {
            "bin_end": 179,
            "bin_start": 90,
            "count": 89
           },
           {
            "bin_end": 268,
            "bin_start": 179,
            "count": 89
           },
           {
            "bin_end": 357,
            "bin_start": 268,
            "count": 89
           },
           {
            "bin_end": 446,
            "bin_start": 357,
            "count": 89
           },
           {
            "bin_end": 535,
            "bin_start": 446,
            "count": 89
           },
           {
            "bin_end": 624,
            "bin_start": 535,
            "count": 89
           },
           {
            "bin_end": 713,
            "bin_start": 624,
            "count": 89
           },
           {
            "bin_end": 802,
            "bin_start": 713,
            "count": 89
           },
           {
            "bin_end": 891,
            "bin_start": 802,
            "count": 90
           }
          ],
          "max": "891",
          "min": "1",
          "nan_count": 0,
          "unique_count": 891
         }
        },
        {
         "dtype": "int64",
         "name": "Survived",
         "stats": {
          "histogram": [
           {
            "bin_end": 0.1,
            "bin_start": 0,
            "count": 549
           },
           {
            "bin_end": 0.2,
            "bin_start": 0.1,
            "count": 0
           },
           {
            "bin_end": 0.30000000000000004,
            "bin_start": 0.2,
            "count": 0
           },
           {
            "bin_end": 0.4,
            "bin_start": 0.30000000000000004,
            "count": 0
           },
           {
            "bin_end": 0.5,
            "bin_start": 0.4,
            "count": 0
           },
           {
            "bin_end": 0.6000000000000001,
            "bin_start": 0.5,
            "count": 0
           },
           {
            "bin_end": 0.7000000000000001,
            "bin_start": 0.6000000000000001,
            "count": 0
           },
           {
            "bin_end": 0.8,
            "bin_start": 0.7000000000000001,
            "count": 0
           },
           {
            "bin_end": 0.9,
            "bin_start": 0.8,
            "count": 0
           },
           {
            "bin_end": 1,
            "bin_start": 0.9,
            "count": 342
           }
          ],
          "max": "1",
          "min": "0",
          "nan_count": 0,
          "unique_count": 2
         }
        },
        {
         "dtype": "int64",
         "name": "Pclass",
         "stats": {
          "histogram": [
           {
            "bin_end": 1.2,
            "bin_start": 1,
            "count": 216
           },
           {
            "bin_end": 1.4,
            "bin_start": 1.2,
            "count": 0
           },
           {
            "bin_end": 1.6,
            "bin_start": 1.4,
            "count": 0
           },
           {
            "bin_end": 1.8,
            "bin_start": 1.6,
            "count": 0
           },
           {
            "bin_end": 2,
            "bin_start": 1.8,
            "count": 0
           },
           {
            "bin_end": 2.2,
            "bin_start": 2,
            "count": 184
           },
           {
            "bin_end": 2.4000000000000004,
            "bin_start": 2.2,
            "count": 0
           },
           {
            "bin_end": 2.6,
            "bin_start": 2.4000000000000004,
            "count": 0
           },
           {
            "bin_end": 2.8,
            "bin_start": 2.6,
            "count": 0
           },
           {
            "bin_end": 3,
            "bin_start": 2.8,
            "count": 491
           }
          ],
          "max": "3",
          "min": "1",
          "nan_count": 0,
          "unique_count": 3
         }
        },
        {
         "dtype": "object",
         "name": "Name",
         "stats": {
          "categories": [
           {
            "count": 1,
            "name": "Braund, Mr. Owen Harris"
           },
           {
            "count": 1,
            "name": "Cumings, Mrs. John Bradley (Florence Briggs Thayer)"
           },
           {
            "count": 889,
            "name": "889 others"
           }
          ],
          "nan_count": 0,
          "unique_count": 891
         }
        },
        {
         "dtype": "object",
         "name": "Sex",
         "stats": {
          "categories": [
           {
            "count": 577,
            "name": "male"
           },
           {
            "count": 314,
            "name": "female"
           }
          ],
          "nan_count": 0,
          "unique_count": 2
         }
        },
        {
         "dtype": "float64",
         "name": "Age",
         "stats": {
          "histogram": [
           {
            "bin_end": 8.378,
            "bin_start": 0.42,
            "count": 54
           },
           {
            "bin_end": 16.336000000000002,
            "bin_start": 8.378,
            "count": 46
           },
           {
            "bin_end": 24.294000000000004,
            "bin_start": 16.336000000000002,
            "count": 177
           },
           {
            "bin_end": 32.252,
            "bin_start": 24.294000000000004,
            "count": 169
           },
           {
            "bin_end": 40.21,
            "bin_start": 32.252,
            "count": 118
           },
           {
            "bin_end": 48.168000000000006,
            "bin_start": 40.21,
            "count": 70
           },
           {
            "bin_end": 56.126000000000005,
            "bin_start": 48.168000000000006,
            "count": 45
           },
           {
            "bin_end": 64.084,
            "bin_start": 56.126000000000005,
            "count": 24
           },
           {
            "bin_end": 72.042,
            "bin_start": 64.084,
            "count": 9
           },
           {
            "bin_end": 80,
            "bin_start": 72.042,
            "count": 2
           }
          ],
          "max": "80.0",
          "min": "0.42",
          "nan_count": 177,
          "unique_count": 88
         }
        },
        {
         "dtype": "int64",
         "name": "SibSp",
         "stats": {
          "histogram": [
           {
            "bin_end": 0.8,
            "bin_start": 0,
            "count": 608
           },
           {
            "bin_end": 1.6,
            "bin_start": 0.8,
            "count": 209
           },
           {
            "bin_end": 2.4000000000000004,
            "bin_start": 1.6,
            "count": 28
           },
           {
            "bin_end": 3.2,
            "bin_start": 2.4000000000000004,
            "count": 16
           },
           {
            "bin_end": 4,
            "bin_start": 3.2,
            "count": 0
           },
           {
            "bin_end": 4.800000000000001,
            "bin_start": 4,
            "count": 18
           },
           {
            "bin_end": 5.6000000000000005,
            "bin_start": 4.800000000000001,
            "count": 5
           },
           {
            "bin_end": 6.4,
            "bin_start": 5.6000000000000005,
            "count": 0
           },
           {
            "bin_end": 7.2,
            "bin_start": 6.4,
            "count": 0
           },
           {
            "bin_end": 8,
            "bin_start": 7.2,
            "count": 7
           }
          ],
          "max": "8",
          "min": "0",
          "nan_count": 0,
          "unique_count": 7
         }
        },
        {
         "dtype": "int64",
         "name": "Parch",
         "stats": {
          "histogram": [
           {
            "bin_end": 0.6,
            "bin_start": 0,
            "count": 678
           },
           {
            "bin_end": 1.2,
            "bin_start": 0.6,
            "count": 118
           },
           {
            "bin_end": 1.7999999999999998,
            "bin_start": 1.2,
            "count": 0
           },
           {
            "bin_end": 2.4,
            "bin_start": 1.7999999999999998,
            "count": 80
           },
           {
            "bin_end": 3,
            "bin_start": 2.4,
            "count": 0
           },
           {
            "bin_end": 3.5999999999999996,
            "bin_start": 3,
            "count": 5
           },
           {
            "bin_end": 4.2,
            "bin_start": 3.5999999999999996,
            "count": 4
           },
           {
            "bin_end": 4.8,
            "bin_start": 4.2,
            "count": 0
           },
           {
            "bin_end": 5.3999999999999995,
            "bin_start": 4.8,
            "count": 5
           },
           {
            "bin_end": 6,
            "bin_start": 5.3999999999999995,
            "count": 1
           }
          ],
          "max": "6",
          "min": "0",
          "nan_count": 0,
          "unique_count": 7
         }
        },
        {
         "dtype": "object",
         "name": "Ticket",
         "stats": {
          "categories": [
           {
            "count": 7,
            "name": "347082"
           },
           {
            "count": 7,
            "name": "1601"
           },
           {
            "count": 877,
            "name": "679 others"
           }
          ],
          "nan_count": 0,
          "unique_count": 681
         }
        },
        {
         "dtype": "float64",
         "name": "Fare",
         "stats": {
          "histogram": [
           {
            "bin_end": 51.23292,
            "bin_start": 0,
            "count": 732
           },
           {
            "bin_end": 102.46584,
            "bin_start": 51.23292,
            "count": 106
           },
           {
            "bin_end": 153.69876,
            "bin_start": 102.46584,
            "count": 31
           },
           {
            "bin_end": 204.93168,
            "bin_start": 153.69876,
            "count": 2
           },
           {
            "bin_end": 256.1646,
            "bin_start": 204.93168,
            "count": 11
           },
           {
            "bin_end": 307.39752,
            "bin_start": 256.1646,
            "count": 6
           },
           {
            "bin_end": 358.63044,
            "bin_start": 307.39752,
            "count": 0
           },
           {
            "bin_end": 409.86336,
            "bin_start": 358.63044,
            "count": 0
           },
           {
            "bin_end": 461.09628,
            "bin_start": 409.86336,
            "count": 0
           },
           {
            "bin_end": 512.3292,
            "bin_start": 461.09628,
            "count": 3
           }
          ],
          "max": "512.3292",
          "min": "0.0",
          "nan_count": 0,
          "unique_count": 248
         }
        },
        {
         "dtype": "object",
         "name": "Cabin",
         "stats": {
          "categories": [
           {
            "count": 4,
            "name": "G6"
           },
           {
            "count": 200,
            "name": "146 others"
           },
           {
            "count": 687,
            "name": "Missing"
           }
          ],
          "nan_count": 687,
          "unique_count": 147
         }
        },
        {
         "dtype": "object",
         "name": "Embarked",
         "stats": {
          "categories": [
           {
            "count": 644,
            "name": "S"
           },
           {
            "count": 245,
            "name": "2 others"
           },
           {
            "count": 2,
            "name": "Missing"
           }
          ],
          "nan_count": 2,
          "unique_count": 3
         }
        },
        {
         "dtype": "int64",
         "name": "_deepnote_index_column"
        }
       ],
       "row_count": 891,
       "rows": [
        {
         "Age": 22,
         "Cabin": "nan",
         "Embarked": "S",
         "Fare": 7.25,
         "Name": "Braund, Mr. Owen Harris",
         "Parch": 0,
         "PassengerId": 1,
         "Pclass": 3,
         "Sex": "male",
         "SibSp": 1,
         "Survived": 0,
         "Ticket": "A/5 21171",
         "_deepnote_index_column": 0
        },
        {
         "Age": 38,
         "Cabin": "C85",
         "Embarked": "C",
         "Fare": 71.2833,
         "Name": "Cumings, Mrs. John Bradley (Florence Briggs Thayer)",
         "Parch": 0,
         "PassengerId": 2,
         "Pclass": 1,
         "Sex": "female",
         "SibSp": 1,
         "Survived": 1,
         "Ticket": "PC 17599",
         "_deepnote_index_column": 1
        },
        {
         "Age": 26,
         "Cabin": "nan",
         "Embarked": "S",
         "Fare": 7.925,
         "Name": "Heikkinen, Miss. Laina",
         "Parch": 0,
         "PassengerId": 3,
         "Pclass": 3,
         "Sex": "female",
         "SibSp": 0,
         "Survived": 1,
         "Ticket": "STON/O2. 3101282",
         "_deepnote_index_column": 2
        },
        {
         "Age": 35,
         "Cabin": "C123",
         "Embarked": "S",
         "Fare": 53.1,
         "Name": "Futrelle, Mrs. Jacques Heath (Lily May Peel)",
         "Parch": 0,
         "PassengerId": 4,
         "Pclass": 1,
         "Sex": "female",
         "SibSp": 1,
         "Survived": 1,
         "Ticket": "113803",
         "_deepnote_index_column": 3
        },
        {
         "Age": 35,
         "Cabin": "nan",
         "Embarked": "S",
         "Fare": 8.05,
         "Name": "Allen, Mr. William Henry",
         "Parch": 0,
         "PassengerId": 5,
         "Pclass": 3,
         "Sex": "male",
         "SibSp": 0,
         "Survived": 0,
         "Ticket": "373450",
         "_deepnote_index_column": 4
        },
        {
         "Age": "nan",
         "Cabin": "nan",
         "Embarked": "Q",
         "Fare": 8.4583,
         "Name": "Moran, Mr. James",
         "Parch": 0,
         "PassengerId": 6,
         "Pclass": 3,
         "Sex": "male",
         "SibSp": 0,
         "Survived": 0,
         "Ticket": "330877",
         "_deepnote_index_column": 5
        },
        {
         "Age": 54,
         "Cabin": "E46",
         "Embarked": "S",
         "Fare": 51.8625,
         "Name": "McCarthy, Mr. Timothy J",
         "Parch": 0,
         "PassengerId": 7,
         "Pclass": 1,
         "Sex": "male",
         "SibSp": 0,
         "Survived": 0,
         "Ticket": "17463",
         "_deepnote_index_column": 6
        },
        {
         "Age": 2,
         "Cabin": "nan",
         "Embarked": "S",
         "Fare": 21.075,
         "Name": "Palsson, Master. Gosta Leonard",
         "Parch": 1,
         "PassengerId": 8,
         "Pclass": 3,
         "Sex": "male",
         "SibSp": 3,
         "Survived": 0,
         "Ticket": "349909",
         "_deepnote_index_column": 7
        },
        {
         "Age": 27,
         "Cabin": "nan",
         "Embarked": "S",
         "Fare": 11.1333,
         "Name": "Johnson, Mrs. Oscar W (Elisabeth Vilhelmina Berg)",
         "Parch": 2,
         "PassengerId": 9,
         "Pclass": 3,
         "Sex": "female",
         "SibSp": 0,
         "Survived": 1,
         "Ticket": "347742",
         "_deepnote_index_column": 8
        },
        {
         "Age": 14,
         "Cabin": "nan",
         "Embarked": "C",
         "Fare": 30.0708,
         "Name": "Nasser, Mrs. Nicholas (Adele Achem)",
         "Parch": 0,
         "PassengerId": 10,
         "Pclass": 2,
         "Sex": "female",
         "SibSp": 1,
         "Survived": 1,
         "Ticket": "237736",
         "_deepnote_index_column": 9
        }
       ]
      },
      "text/html": [
       "<div>\n",
       "<style scoped>\n",
       "    .dataframe tbody tr th:only-of-type {\n",
       "        vertical-align: middle;\n",
       "    }\n",
       "\n",
       "    .dataframe tbody tr th {\n",
       "        vertical-align: top;\n",
       "    }\n",
       "\n",
       "    .dataframe thead th {\n",
       "        text-align: right;\n",
       "    }\n",
       "</style>\n",
       "<table border=\"1\" class=\"dataframe\">\n",
       "  <thead>\n",
       "    <tr style=\"text-align: right;\">\n",
       "      <th></th>\n",
       "      <th>PassengerId</th>\n",
       "      <th>Survived</th>\n",
       "      <th>Pclass</th>\n",
       "      <th>Name</th>\n",
       "      <th>Sex</th>\n",
       "      <th>Age</th>\n",
       "      <th>SibSp</th>\n",
       "      <th>Parch</th>\n",
       "      <th>Ticket</th>\n",
       "      <th>Fare</th>\n",
       "      <th>Cabin</th>\n",
       "      <th>Embarked</th>\n",
       "    </tr>\n",
       "  </thead>\n",
       "  <tbody>\n",
       "    <tr>\n",
       "      <th>0</th>\n",
       "      <td>1</td>\n",
       "      <td>0</td>\n",
       "      <td>3</td>\n",
       "      <td>Braund, Mr. Owen Harris</td>\n",
       "      <td>male</td>\n",
       "      <td>22.0</td>\n",
       "      <td>1</td>\n",
       "      <td>0</td>\n",
       "      <td>A/5 21171</td>\n",
       "      <td>7.2500</td>\n",
       "      <td>NaN</td>\n",
       "      <td>S</td>\n",
       "    </tr>\n",
       "    <tr>\n",
       "      <th>1</th>\n",
       "      <td>2</td>\n",
       "      <td>1</td>\n",
       "      <td>1</td>\n",
       "      <td>Cumings, Mrs. John Bradley (Florence Briggs Th...</td>\n",
       "      <td>female</td>\n",
       "      <td>38.0</td>\n",
       "      <td>1</td>\n",
       "      <td>0</td>\n",
       "      <td>PC 17599</td>\n",
       "      <td>71.2833</td>\n",
       "      <td>C85</td>\n",
       "      <td>C</td>\n",
       "    </tr>\n",
       "    <tr>\n",
       "      <th>2</th>\n",
       "      <td>3</td>\n",
       "      <td>1</td>\n",
       "      <td>3</td>\n",
       "      <td>Heikkinen, Miss. Laina</td>\n",
       "      <td>female</td>\n",
       "      <td>26.0</td>\n",
       "      <td>0</td>\n",
       "      <td>0</td>\n",
       "      <td>STON/O2. 3101282</td>\n",
       "      <td>7.9250</td>\n",
       "      <td>NaN</td>\n",
       "      <td>S</td>\n",
       "    </tr>\n",
       "    <tr>\n",
       "      <th>3</th>\n",
       "      <td>4</td>\n",
       "      <td>1</td>\n",
       "      <td>1</td>\n",
       "      <td>Futrelle, Mrs. Jacques Heath (Lily May Peel)</td>\n",
       "      <td>female</td>\n",
       "      <td>35.0</td>\n",
       "      <td>1</td>\n",
       "      <td>0</td>\n",
       "      <td>113803</td>\n",
       "      <td>53.1000</td>\n",
       "      <td>C123</td>\n",
       "      <td>S</td>\n",
       "    </tr>\n",
       "    <tr>\n",
       "      <th>4</th>\n",
       "      <td>5</td>\n",
       "      <td>0</td>\n",
       "      <td>3</td>\n",
       "      <td>Allen, Mr. William Henry</td>\n",
       "      <td>male</td>\n",
       "      <td>35.0</td>\n",
       "      <td>0</td>\n",
       "      <td>0</td>\n",
       "      <td>373450</td>\n",
       "      <td>8.0500</td>\n",
       "      <td>NaN</td>\n",
       "      <td>S</td>\n",
       "    </tr>\n",
       "    <tr>\n",
       "      <th>...</th>\n",
       "      <td>...</td>\n",
       "      <td>...</td>\n",
       "      <td>...</td>\n",
       "      <td>...</td>\n",
       "      <td>...</td>\n",
       "      <td>...</td>\n",
       "      <td>...</td>\n",
       "      <td>...</td>\n",
       "      <td>...</td>\n",
       "      <td>...</td>\n",
       "      <td>...</td>\n",
       "      <td>...</td>\n",
       "    </tr>\n",
       "    <tr>\n",
       "      <th>886</th>\n",
       "      <td>887</td>\n",
       "      <td>0</td>\n",
       "      <td>2</td>\n",
       "      <td>Montvila, Rev. Juozas</td>\n",
       "      <td>male</td>\n",
       "      <td>27.0</td>\n",
       "      <td>0</td>\n",
       "      <td>0</td>\n",
       "      <td>211536</td>\n",
       "      <td>13.0000</td>\n",
       "      <td>NaN</td>\n",
       "      <td>S</td>\n",
       "    </tr>\n",
       "    <tr>\n",
       "      <th>887</th>\n",
       "      <td>888</td>\n",
       "      <td>1</td>\n",
       "      <td>1</td>\n",
       "      <td>Graham, Miss. Margaret Edith</td>\n",
       "      <td>female</td>\n",
       "      <td>19.0</td>\n",
       "      <td>0</td>\n",
       "      <td>0</td>\n",
       "      <td>112053</td>\n",
       "      <td>30.0000</td>\n",
       "      <td>B42</td>\n",
       "      <td>S</td>\n",
       "    </tr>\n",
       "    <tr>\n",
       "      <th>888</th>\n",
       "      <td>889</td>\n",
       "      <td>0</td>\n",
       "      <td>3</td>\n",
       "      <td>Johnston, Miss. Catherine Helen \"Carrie\"</td>\n",
       "      <td>female</td>\n",
       "      <td>NaN</td>\n",
       "      <td>1</td>\n",
       "      <td>2</td>\n",
       "      <td>W./C. 6607</td>\n",
       "      <td>23.4500</td>\n",
       "      <td>NaN</td>\n",
       "      <td>S</td>\n",
       "    </tr>\n",
       "    <tr>\n",
       "      <th>889</th>\n",
       "      <td>890</td>\n",
       "      <td>1</td>\n",
       "      <td>1</td>\n",
       "      <td>Behr, Mr. Karl Howell</td>\n",
       "      <td>male</td>\n",
       "      <td>26.0</td>\n",
       "      <td>0</td>\n",
       "      <td>0</td>\n",
       "      <td>111369</td>\n",
       "      <td>30.0000</td>\n",
       "      <td>C148</td>\n",
       "      <td>C</td>\n",
       "    </tr>\n",
       "    <tr>\n",
       "      <th>890</th>\n",
       "      <td>891</td>\n",
       "      <td>0</td>\n",
       "      <td>3</td>\n",
       "      <td>Dooley, Mr. Patrick</td>\n",
       "      <td>male</td>\n",
       "      <td>32.0</td>\n",
       "      <td>0</td>\n",
       "      <td>0</td>\n",
       "      <td>370376</td>\n",
       "      <td>7.7500</td>\n",
       "      <td>NaN</td>\n",
       "      <td>Q</td>\n",
       "    </tr>\n",
       "  </tbody>\n",
       "</table>\n",
       "<p>891 rows × 12 columns</p>\n",
       "</div>"
      ],
      "text/plain": [
       "     PassengerId  Survived  Pclass  \\\n",
       "0              1         0       3   \n",
       "1              2         1       1   \n",
       "2              3         1       3   \n",
       "3              4         1       1   \n",
       "4              5         0       3   \n",
       "..           ...       ...     ...   \n",
       "886          887         0       2   \n",
       "887          888         1       1   \n",
       "888          889         0       3   \n",
       "889          890         1       1   \n",
       "890          891         0       3   \n",
       "\n",
       "                                                  Name     Sex   Age  SibSp  \\\n",
       "0                              Braund, Mr. Owen Harris    male  22.0      1   \n",
       "1    Cumings, Mrs. John Bradley (Florence Briggs Th...  female  38.0      1   \n",
       "2                               Heikkinen, Miss. Laina  female  26.0      0   \n",
       "3         Futrelle, Mrs. Jacques Heath (Lily May Peel)  female  35.0      1   \n",
       "4                             Allen, Mr. William Henry    male  35.0      0   \n",
       "..                                                 ...     ...   ...    ...   \n",
       "886                              Montvila, Rev. Juozas    male  27.0      0   \n",
       "887                       Graham, Miss. Margaret Edith  female  19.0      0   \n",
       "888           Johnston, Miss. Catherine Helen \"Carrie\"  female   NaN      1   \n",
       "889                              Behr, Mr. Karl Howell    male  26.0      0   \n",
       "890                                Dooley, Mr. Patrick    male  32.0      0   \n",
       "\n",
       "     Parch            Ticket     Fare Cabin Embarked  \n",
       "0        0         A/5 21171   7.2500   NaN        S  \n",
       "1        0          PC 17599  71.2833   C85        C  \n",
       "2        0  STON/O2. 3101282   7.9250   NaN        S  \n",
       "3        0            113803  53.1000  C123        S  \n",
       "4        0            373450   8.0500   NaN        S  \n",
       "..     ...               ...      ...   ...      ...  \n",
       "886      0            211536  13.0000   NaN        S  \n",
       "887      0            112053  30.0000   B42        S  \n",
       "888      2        W./C. 6607  23.4500   NaN        S  \n",
       "889      0            111369  30.0000  C148        C  \n",
       "890      0            370376   7.7500   NaN        Q  \n",
       "\n",
       "[891 rows x 12 columns]"
      ]
     },
     "execution_count": 15,
     "metadata": {},
     "output_type": "execute_result"
    }
   ],
   "source": [
    "df = pd.read_csv('titanic_train.csv')\n",
    "df"
   ]
  },
  {
   "cell_type": "markdown",
   "metadata": {
    "cell_id": "c35d7b3b5e724ecdb218df80ebf49bd6",
    "deepnote_cell_type": "markdown",
    "id": "8_Bm4XjUryaV"
   },
   "source": [
    "I want to analyze the distribution of the age column. "
   ]
  },
  {
   "cell_type": "code",
   "execution_count": null,
   "metadata": {
    "cell_id": "80d75730d1a741eeb0a90cbebf3c3ce2",
    "colab": {
     "base_uri": "https://localhost:8080/",
     "height": 356
    },
    "deepnote_cell_type": "code",
    "deepnote_to_be_reexecuted": false,
    "executionInfo": {
     "elapsed": 460,
     "status": "ok",
     "timestamp": 1632877954019,
     "user": {
      "displayName": "Shasha Liao",
      "photoUrl": "https://lh3.googleusercontent.com/a-/AOh14Ghf5Tj0GAz5by2x9KRBgR3ka1GNpPK67XG2GpESnA=s64",
      "userId": "03341420781931408968"
     },
     "user_tz": 240
    },
    "execution_millis": 293,
    "execution_start": 1708728099398,
    "id": "eziZmxF0cfHG",
    "outputId": "26acbf04-729b-4f5f-8ca1-5b784ae55858",
    "source_hash": null
   },
   "outputs": [
    {
     "data": {
      "text/plain": [
       "(array([ 54.,  46., 177., 169., 118.,  70.,  45.,  24.,   9.,   2.]),\n",
       " array([ 0.42 ,  8.378, 16.336, 24.294, 32.252, 40.21 , 48.168, 56.126,\n",
       "        64.084, 72.042, 80.   ]),\n",
       " <BarContainer object of 10 artists>)"
      ]
     },
     "execution_count": 16,
     "metadata": {},
     "output_type": "execute_result"
    },
    {
     "data": {
      "image/png": "[encoded data removed]",
      "text/plain": [
       "<Figure size 640x480 with 1 Axes>"
      ]
     },
     "metadata": {
      "image/png": {
       "height": 413,
       "width": 552
      }
     },
     "output_type": "display_data"
    }
   ],
   "source": [
    "plt.hist(df[\"Age\"], bins = 10)"
   ]
  },
  {
   "cell_type": "markdown",
   "metadata": {
    "cell_id": "49c6f175980744698d34d4d39139f631",
    "deepnote_cell_type": "markdown",
    "id": "YXcVFFU0d87d"
   },
   "source": [
    "As we can see, the age does not follow a perfect normal distribution. But if we randomly take 10 people and take their averaged age. Repeat this for 2000 times, we can see that the averaged age looks like a normal distribution."
   ]
  },
  {
   "cell_type": "code",
   "execution_count": null,
   "metadata": {
    "cell_id": "ab633c31a58743d9b38912cf721031c8",
    "colab": {
     "base_uri": "https://localhost:8080/",
     "height": 479
    },
    "deepnote_cell_type": "code",
    "deepnote_to_be_reexecuted": false,
    "executionInfo": {
     "elapsed": 1031,
     "status": "ok",
     "timestamp": 1632877994100,
     "user": {
      "displayName": "Shasha Liao",
      "photoUrl": "https://lh3.googleusercontent.com/a-/AOh14Ghf5Tj0GAz5by2x9KRBgR3ka1GNpPK67XG2GpESnA=s64",
      "userId": "03341420781931408968"
     },
     "user_tz": 240
    },
    "execution_millis": 290,
    "execution_start": 1708728099717,
    "id": "MUpIZ5mvc447",
    "outputId": "dbb68ff6-eebd-45ad-d84d-6f606a5353de",
    "source_hash": null
   },
   "outputs": [
    {
     "data": {
      "text/plain": [
       "(array([  3.,   4.,   7.,  10.,   7.,  16.,  35.,  40.,  70.,  83., 122.,\n",
       "        127., 140., 136., 145., 162., 171., 176., 131.,  86.,  93.,  62.,\n",
       "         57.,  42.,  19.,  21.,  17.,   6.,   8.,   4.]),\n",
       " array([ 6.5       ,  7.62666667,  8.75333333,  9.88      , 11.00666667,\n",
       "        12.13333333, 13.26      , 14.38666667, 15.51333333, 16.64      ,\n",
       "        17.76666667, 18.89333333, 20.02      , 21.14666667, 22.27333333,\n",
       "        23.4       , 24.52666667, 25.65333333, 26.78      , 27.90666667,\n",
       "        29.03333333, 30.16      , 31.28666667, 32.41333333, 33.54      ,\n",
       "        34.66666667, 35.79333333, 36.92      , 38.04666667, 39.17333333,\n",
       "        40.3       ]),\n",
       " <BarContainer object of 30 artists>)"
      ]
     },
     "execution_count": 17,
     "metadata": {},
     "output_type": "execute_result"
    },
    {
     "data": {
      "image/png": "[encoded data removed]",
      "text/plain": [
       "<Figure size 640x480 with 1 Axes>"
      ]
     },
     "metadata": {
      "image/png": {
       "height": 413,
       "width": 552
      }
     },
     "output_type": "display_data"
    }
   ],
   "source": [
    "average_ages = []\n",
    "for i in range(2000):\n",
    "  ave_age = df[\"Age\"].sample(10).sum() / 10\n",
    "  average_ages.append(ave_age)\n",
    "\n",
    "plt.hist(average_ages, bins = 30)"
   ]
  },
  {
   "cell_type": "markdown",
   "metadata": {
    "cell_id": "f03b10cafccd42739c145c9412483227",
    "deepnote_cell_type": "markdown",
    "id": "O4vrK2Wdsr4l"
   },
   "source": [
    "# Data Visualization\n",
    "## Tools:\n",
    "- Pandas DataFrame\n",
    "- Matplotlib (plt)\n",
    "- Seaborn (sns)"
   ]
  },
  {
   "cell_type": "markdown",
   "metadata": {
    "cell_id": "20e89307496b4418948d28b372cfb7eb",
    "deepnote_cell_type": "markdown",
    "id": "uqzhRaHqsupn"
   },
   "source": [
    "As they say, a picture is worth a thousand words! It's time to visualize our data. "
   ]
  },
  {
   "cell_type": "code",
   "execution_count": null,
   "metadata": {
    "cell_id": "a11485225bd346d9bbe17ac0dbf674ef",
    "colab": {
     "base_uri": "https://localhost:8080/",
     "height": 447
    },
    "deepnote_cell_type": "code",
    "deepnote_to_be_reexecuted": false,
    "executionInfo": {
     "elapsed": 260,
     "status": "ok",
     "timestamp": 1632878032254,
     "user": {
      "displayName": "Shasha Liao",
      "photoUrl": "https://lh3.googleusercontent.com/a-/AOh14Ghf5Tj0GAz5by2x9KRBgR3ka1GNpPK67XG2GpESnA=s64",
      "userId": "03341420781931408968"
     },
     "user_tz": 240
    },
    "execution_millis": 405,
    "execution_start": 1708728100156,
    "id": "sRgITW1Fquh2",
    "outputId": "1f77a473-d3ce-44ae-b197-67900cb28e04",
    "source_hash": null
   },
   "outputs": [
    {
     "data": {
      "application/vnd.deepnote.dataframe.v3+json": {
       "column_count": 12,
       "columns": [
        {
         "dtype": "int64",
         "name": "PassengerId",
         "stats": {
          "histogram": [
           {
            "bin_end": 90,
            "bin_start": 1,
            "count": 89
           },
           {
            "bin_end": 179,
            "bin_start": 90,
            "count": 89
           },
           {
            "bin_end": 268,
            "bin_start": 179,
            "count": 89
           },
           {
            "bin_end": 357,
            "bin_start": 268,
            "count": 89
           },
           {
            "bin_end": 446,
            "bin_start": 357,
            "count": 89
           },
           {
            "bin_end": 535,
            "bin_start": 446,
            "count": 89
           },
           {
            "bin_end": 624,
            "bin_start": 535,
            "count": 89
           },
           {
            "bin_end": 713,
            "bin_start": 624,
            "count": 89
           },
           {
            "bin_end": 802,
            "bin_start": 713,
            "count": 89
           },
           {
            "bin_end": 891,
            "bin_start": 802,
            "count": 90
           }
          ],
          "max": "891",
          "min": "1",
          "nan_count": 0,
          "unique_count": 891
         }
        },
        {
         "dtype": "int64",
         "name": "Survived",
         "stats": {
          "histogram": [
           {
            "bin_end": 0.1,
            "bin_start": 0,
            "count": 549
           },
           {
            "bin_end": 0.2,
            "bin_start": 0.1,
            "count": 0
           },
           {
            "bin_end": 0.30000000000000004,
            "bin_start": 0.2,
            "count": 0
           },
           {
            "bin_end": 0.4,
            "bin_start": 0.30000000000000004,
            "count": 0
           },
           {
            "bin_end": 0.5,
            "bin_start": 0.4,
            "count": 0
           },
           {
            "bin_end": 0.6000000000000001,
            "bin_start": 0.5,
            "count": 0
           },
           {
            "bin_end": 0.7000000000000001,
            "bin_start": 0.6000000000000001,
            "count": 0
           },
           {
            "bin_end": 0.8,
            "bin_start": 0.7000000000000001,
            "count": 0
           },
           {
            "bin_end": 0.9,
            "bin_start": 0.8,
            "count": 0
           },
           {
            "bin_end": 1,
            "bin_start": 0.9,
            "count": 342
           }
          ],
          "max": "1",
          "min": "0",
          "nan_count": 0,
          "unique_count": 2
         }
        },
        {
         "dtype": "int64",
         "name": "Pclass",
         "stats": {
          "histogram": [
           {
            "bin_end": 1.2,
            "bin_start": 1,
            "count": 216
           },
           {
            "bin_end": 1.4,
            "bin_start": 1.2,
            "count": 0
           },
           {
            "bin_end": 1.6,
            "bin_start": 1.4,
            "count": 0
           },
           {
            "bin_end": 1.8,
            "bin_start": 1.6,
            "count": 0
           },
           {
            "bin_end": 2,
            "bin_start": 1.8,
            "count": 0
           },
           {
            "bin_end": 2.2,
            "bin_start": 2,
            "count": 184
           },
           {
            "bin_end": 2.4000000000000004,
            "bin_start": 2.2,
            "count": 0
           },
           {
            "bin_end": 2.6,
            "bin_start": 2.4000000000000004,
            "count": 0
           },
           {
            "bin_end": 2.8,
            "bin_start": 2.6,
            "count": 0
           },
           {
            "bin_end": 3,
            "bin_start": 2.8,
            "count": 491
           }
          ],
          "max": "3",
          "min": "1",
          "nan_count": 0,
          "unique_count": 3
         }
        },
        {
         "dtype": "object",
         "name": "Name",
         "stats": {
          "categories": [
           {
            "count": 1,
            "name": "Braund, Mr. Owen Harris"
           },
           {
            "count": 1,
            "name": "Cumings, Mrs. John Bradley (Florence Briggs Thayer)"
           },
           {
            "count": 889,
            "name": "889 others"
           }
          ],
          "nan_count": 0,
          "unique_count": 891
         }
        },
        {
         "dtype": "object",
         "name": "Sex",
         "stats": {
          "categories": [
           {
            "count": 577,
            "name": "male"
           },
           {
            "count": 314,
            "name": "female"
           }
          ],
          "nan_count": 0,
          "unique_count": 2
         }
        },
        {
         "dtype": "float64",
         "name": "Age",
         "stats": {
          "histogram": [
           {
            "bin_end": 8.378,
            "bin_start": 0.42,
            "count": 54
           },
           {
            "bin_end": 16.336000000000002,
            "bin_start": 8.378,
            "count": 46
           },
           {
            "bin_end": 24.294000000000004,
            "bin_start": 16.336000000000002,
            "count": 177
           },
           {
            "bin_end": 32.252,
            "bin_start": 24.294000000000004,
            "count": 169
           },
           {
            "bin_end": 40.21,
            "bin_start": 32.252,
            "count": 118
           },
           {
            "bin_end": 48.168000000000006,
            "bin_start": 40.21,
            "count": 70
           },
           {
            "bin_end": 56.126000000000005,
            "bin_start": 48.168000000000006,
            "count": 45
           },
           {
            "bin_end": 64.084,
            "bin_start": 56.126000000000005,
            "count": 24
           },
           {
            "bin_end": 72.042,
            "bin_start": 64.084,
            "count": 9
           },
           {
            "bin_end": 80,
            "bin_start": 72.042,
            "count": 2
           }
          ],
          "max": "80.0",
          "min": "0.42",
          "nan_count": 177,
          "unique_count": 88
         }
        },
        {
         "dtype": "int64",
         "name": "SibSp",
         "stats": {
          "histogram": [
           {
            "bin_end": 0.8,
            "bin_start": 0,
            "count": 608
           },
           {
            "bin_end": 1.6,
            "bin_start": 0.8,
            "count": 209
           },
           {
            "bin_end": 2.4000000000000004,
            "bin_start": 1.6,
            "count": 28
           },
           {
            "bin_end": 3.2,
            "bin_start": 2.4000000000000004,
            "count": 16
           },
           {
            "bin_end": 4,
            "bin_start": 3.2,
            "count": 0
           },
           {
            "bin_end": 4.800000000000001,
            "bin_start": 4,
            "count": 18
           },
           {
            "bin_end": 5.6000000000000005,
            "bin_start": 4.800000000000001,
            "count": 5
           },
           {
            "bin_end": 6.4,
            "bin_start": 5.6000000000000005,
            "count": 0
           },
           {
            "bin_end": 7.2,
            "bin_start": 6.4,
            "count": 0
           },
           {
            "bin_end": 8,
            "bin_start": 7.2,
            "count": 7
           }
          ],
          "max": "8",
          "min": "0",
          "nan_count": 0,
          "unique_count": 7
         }
        },
        {
         "dtype": "int64",
         "name": "Parch",
         "stats": {
          "histogram": [
           {
            "bin_end": 0.6,
            "bin_start": 0,
            "count": 678
           },
           {
            "bin_end": 1.2,
            "bin_start": 0.6,
            "count": 118
           },
           {
            "bin_end": 1.7999999999999998,
            "bin_start": 1.2,
            "count": 0
           },
           {
            "bin_end": 2.4,
            "bin_start": 1.7999999999999998,
            "count": 80
           },
           {
            "bin_end": 3,
            "bin_start": 2.4,
            "count": 0
           },
           {
            "bin_end": 3.5999999999999996,
            "bin_start": 3,
            "count": 5
           },
           {
            "bin_end": 4.2,
            "bin_start": 3.5999999999999996,
            "count": 4
           },
           {
            "bin_end": 4.8,
            "bin_start": 4.2,
            "count": 0
           },
           {
            "bin_end": 5.3999999999999995,
            "bin_start": 4.8,
            "count": 5
           },
           {
            "bin_end": 6,
            "bin_start": 5.3999999999999995,
            "count": 1
           }
          ],
          "max": "6",
          "min": "0",
          "nan_count": 0,
          "unique_count": 7
         }
        },
        {
         "dtype": "object",
         "name": "Ticket",
         "stats": {
          "categories": [
           {
            "count": 7,
            "name": "347082"
           },
           {
            "count": 7,
            "name": "1601"
           },
           {
            "count": 877,
            "name": "679 others"
           }
          ],
          "nan_count": 0,
          "unique_count": 681
         }
        },
        {
         "dtype": "float64",
         "name": "Fare",
         "stats": {
          "histogram": [
           {
            "bin_end": 51.23292,
            "bin_start": 0,
            "count": 732
           },
           {
            "bin_end": 102.46584,
            "bin_start": 51.23292,
            "count": 106
           },
           {
            "bin_end": 153.69876,
            "bin_start": 102.46584,
            "count": 31
           },
           {
            "bin_end": 204.93168,
            "bin_start": 153.69876,
            "count": 2
           },
           {
            "bin_end": 256.1646,
            "bin_start": 204.93168,
            "count": 11
           },
           {
            "bin_end": 307.39752,
            "bin_start": 256.1646,
            "count": 6
           },
           {
            "bin_end": 358.63044,
            "bin_start": 307.39752,
            "count": 0
           },
           {
            "bin_end": 409.86336,
            "bin_start": 358.63044,
            "count": 0
           },
           {
            "bin_end": 461.09628,
            "bin_start": 409.86336,
            "count": 0
           },
           {
            "bin_end": 512.3292,
            "bin_start": 461.09628,
            "count": 3
           }
          ],
          "max": "512.3292",
          "min": "0.0",
          "nan_count": 0,
          "unique_count": 248
         }
        },
        {
         "dtype": "object",
         "name": "Cabin",
         "stats": {
          "categories": [
           {
            "count": 4,
            "name": "G6"
           },
           {
            "count": 200,
            "name": "146 others"
           },
           {
            "count": 687,
            "name": "Missing"
           }
          ],
          "nan_count": 687,
          "unique_count": 147
         }
        },
        {
         "dtype": "object",
         "name": "Embarked",
         "stats": {
          "categories": [
           {
            "count": 644,
            "name": "S"
           },
           {
            "count": 245,
            "name": "2 others"
           },
           {
            "count": 2,
            "name": "Missing"
           }
          ],
          "nan_count": 2,
          "unique_count": 3
         }
        },
        {
         "dtype": "int64",
         "name": "_deepnote_index_column"
        }
       ],
       "row_count": 891,
       "rows": [
        {
         "Age": 22,
         "Cabin": "nan",
         "Embarked": "S",
         "Fare": 7.25,
         "Name": "Braund, Mr. Owen Harris",
         "Parch": 0,
         "PassengerId": 1,
         "Pclass": 3,
         "Sex": "male",
         "SibSp": 1,
         "Survived": 0,
         "Ticket": "A/5 21171",
         "_deepnote_index_column": 0
        },
        {
         "Age": 38,
         "Cabin": "C85",
         "Embarked": "C",
         "Fare": 71.2833,
         "Name": "Cumings, Mrs. John Bradley (Florence Briggs Thayer)",
         "Parch": 0,
         "PassengerId": 2,
         "Pclass": 1,
         "Sex": "female",
         "SibSp": 1,
         "Survived": 1,
         "Ticket": "PC 17599",
         "_deepnote_index_column": 1
        },
        {
         "Age": 26,
         "Cabin": "nan",
         "Embarked": "S",
         "Fare": 7.925,
         "Name": "Heikkinen, Miss. Laina",
         "Parch": 0,
         "PassengerId": 3,
         "Pclass": 3,
         "Sex": "female",
         "SibSp": 0,
         "Survived": 1,
         "Ticket": "STON/O2. 3101282",
         "_deepnote_index_column": 2
        },
        {
         "Age": 35,
         "Cabin": "C123",
         "Embarked": "S",
         "Fare": 53.1,
         "Name": "Futrelle, Mrs. Jacques Heath (Lily May Peel)",
         "Parch": 0,
         "PassengerId": 4,
         "Pclass": 1,
         "Sex": "female",
         "SibSp": 1,
         "Survived": 1,
         "Ticket": "113803",
         "_deepnote_index_column": 3
        },
        {
         "Age": 35,
         "Cabin": "nan",
         "Embarked": "S",
         "Fare": 8.05,
         "Name": "Allen, Mr. William Henry",
         "Parch": 0,
         "PassengerId": 5,
         "Pclass": 3,
         "Sex": "male",
         "SibSp": 0,
         "Survived": 0,
         "Ticket": "373450",
         "_deepnote_index_column": 4
        },
        {
         "Age": "nan",
         "Cabin": "nan",
         "Embarked": "Q",
         "Fare": 8.4583,
         "Name": "Moran, Mr. James",
         "Parch": 0,
         "PassengerId": 6,
         "Pclass": 3,
         "Sex": "male",
         "SibSp": 0,
         "Survived": 0,
         "Ticket": "330877",
         "_deepnote_index_column": 5
        },
        {
         "Age": 54,
         "Cabin": "E46",
         "Embarked": "S",
         "Fare": 51.8625,
         "Name": "McCarthy, Mr. Timothy J",
         "Parch": 0,
         "PassengerId": 7,
         "Pclass": 1,
         "Sex": "male",
         "SibSp": 0,
         "Survived": 0,
         "Ticket": "17463",
         "_deepnote_index_column": 6
        },
        {
         "Age": 2,
         "Cabin": "nan",
         "Embarked": "S",
         "Fare": 21.075,
         "Name": "Palsson, Master. Gosta Leonard",
         "Parch": 1,
         "PassengerId": 8,
         "Pclass": 3,
         "Sex": "male",
         "SibSp": 3,
         "Survived": 0,
         "Ticket": "349909",
         "_deepnote_index_column": 7
        },
        {
         "Age": 27,
         "Cabin": "nan",
         "Embarked": "S",
         "Fare": 11.1333,
         "Name": "Johnson, Mrs. Oscar W (Elisabeth Vilhelmina Berg)",
         "Parch": 2,
         "PassengerId": 9,
         "Pclass": 3,
         "Sex": "female",
         "SibSp": 0,
         "Survived": 1,
         "Ticket": "347742",
         "_deepnote_index_column": 8
        },
        {
         "Age": 14,
         "Cabin": "nan",
         "Embarked": "C",
         "Fare": 30.0708,
         "Name": "Nasser, Mrs. Nicholas (Adele Achem)",
         "Parch": 0,
         "PassengerId": 10,
         "Pclass": 2,
         "Sex": "female",
         "SibSp": 1,
         "Survived": 1,
         "Ticket": "237736",
         "_deepnote_index_column": 9
        }
       ]
      },
      "text/html": [
       "<div>\n",
       "<style scoped>\n",
       "    .dataframe tbody tr th:only-of-type {\n",
       "        vertical-align: middle;\n",
       "    }\n",
       "\n",
       "    .dataframe tbody tr th {\n",
       "        vertical-align: top;\n",
       "    }\n",
       "\n",
       "    .dataframe thead th {\n",
       "        text-align: right;\n",
       "    }\n",
       "</style>\n",
       "<table border=\"1\" class=\"dataframe\">\n",
       "  <thead>\n",
       "    <tr style=\"text-align: right;\">\n",
       "      <th></th>\n",
       "      <th>PassengerId</th>\n",
       "      <th>Survived</th>\n",
       "      <th>Pclass</th>\n",
       "      <th>Name</th>\n",
       "      <th>Sex</th>\n",
       "      <th>Age</th>\n",
       "      <th>SibSp</th>\n",
       "      <th>Parch</th>\n",
       "      <th>Ticket</th>\n",
       "      <th>Fare</th>\n",
       "      <th>Cabin</th>\n",
       "      <th>Embarked</th>\n",
       "    </tr>\n",
       "  </thead>\n",
       "  <tbody>\n",
       "    <tr>\n",
       "      <th>0</th>\n",
       "      <td>1</td>\n",
       "      <td>0</td>\n",
       "      <td>3</td>\n",
       "      <td>Braund, Mr. Owen Harris</td>\n",
       "      <td>male</td>\n",
       "      <td>22.0</td>\n",
       "      <td>1</td>\n",
       "      <td>0</td>\n",
       "      <td>A/5 21171</td>\n",
       "      <td>7.2500</td>\n",
       "      <td>NaN</td>\n",
       "      <td>S</td>\n",
       "    </tr>\n",
       "    <tr>\n",
       "      <th>1</th>\n",
       "      <td>2</td>\n",
       "      <td>1</td>\n",
       "      <td>1</td>\n",
       "      <td>Cumings, Mrs. John Bradley (Florence Briggs Th...</td>\n",
       "      <td>female</td>\n",
       "      <td>38.0</td>\n",
       "      <td>1</td>\n",
       "      <td>0</td>\n",
       "      <td>PC 17599</td>\n",
       "      <td>71.2833</td>\n",
       "      <td>C85</td>\n",
       "      <td>C</td>\n",
       "    </tr>\n",
       "    <tr>\n",
       "      <th>2</th>\n",
       "      <td>3</td>\n",
       "      <td>1</td>\n",
       "      <td>3</td>\n",
       "      <td>Heikkinen, Miss. Laina</td>\n",
       "      <td>female</td>\n",
       "      <td>26.0</td>\n",
       "      <td>0</td>\n",
       "      <td>0</td>\n",
       "      <td>STON/O2. 3101282</td>\n",
       "      <td>7.9250</td>\n",
       "      <td>NaN</td>\n",
       "      <td>S</td>\n",
       "    </tr>\n",
       "    <tr>\n",
       "      <th>3</th>\n",
       "      <td>4</td>\n",
       "      <td>1</td>\n",
       "      <td>1</td>\n",
       "      <td>Futrelle, Mrs. Jacques Heath (Lily May Peel)</td>\n",
       "      <td>female</td>\n",
       "      <td>35.0</td>\n",
       "      <td>1</td>\n",
       "      <td>0</td>\n",
       "      <td>113803</td>\n",
       "      <td>53.1000</td>\n",
       "      <td>C123</td>\n",
       "      <td>S</td>\n",
       "    </tr>\n",
       "    <tr>\n",
       "      <th>4</th>\n",
       "      <td>5</td>\n",
       "      <td>0</td>\n",
       "      <td>3</td>\n",
       "      <td>Allen, Mr. William Henry</td>\n",
       "      <td>male</td>\n",
       "      <td>35.0</td>\n",
       "      <td>0</td>\n",
       "      <td>0</td>\n",
       "      <td>373450</td>\n",
       "      <td>8.0500</td>\n",
       "      <td>NaN</td>\n",
       "      <td>S</td>\n",
       "    </tr>\n",
       "    <tr>\n",
       "      <th>...</th>\n",
       "      <td>...</td>\n",
       "      <td>...</td>\n",
       "      <td>...</td>\n",
       "      <td>...</td>\n",
       "      <td>...</td>\n",
       "      <td>...</td>\n",
       "      <td>...</td>\n",
       "      <td>...</td>\n",
       "      <td>...</td>\n",
       "      <td>...</td>\n",
       "      <td>...</td>\n",
       "      <td>...</td>\n",
       "    </tr>\n",
       "    <tr>\n",
       "      <th>886</th>\n",
       "      <td>887</td>\n",
       "      <td>0</td>\n",
       "      <td>2</td>\n",
       "      <td>Montvila, Rev. Juozas</td>\n",
       "      <td>male</td>\n",
       "      <td>27.0</td>\n",
       "      <td>0</td>\n",
       "      <td>0</td>\n",
       "      <td>211536</td>\n",
       "      <td>13.0000</td>\n",
       "      <td>NaN</td>\n",
       "      <td>S</td>\n",
       "    </tr>\n",
       "    <tr>\n",
       "      <th>887</th>\n",
       "      <td>888</td>\n",
       "      <td>1</td>\n",
       "      <td>1</td>\n",
       "      <td>Graham, Miss. Margaret Edith</td>\n",
       "      <td>female</td>\n",
       "      <td>19.0</td>\n",
       "      <td>0</td>\n",
       "      <td>0</td>\n",
       "      <td>112053</td>\n",
       "      <td>30.0000</td>\n",
       "      <td>B42</td>\n",
       "      <td>S</td>\n",
       "    </tr>\n",
       "    <tr>\n",
       "      <th>888</th>\n",
       "      <td>889</td>\n",
       "      <td>0</td>\n",
       "      <td>3</td>\n",
       "      <td>Johnston, Miss. Catherine Helen \"Carrie\"</td>\n",
       "      <td>female</td>\n",
       "      <td>NaN</td>\n",
       "      <td>1</td>\n",
       "      <td>2</td>\n",
       "      <td>W./C. 6607</td>\n",
       "      <td>23.4500</td>\n",
       "      <td>NaN</td>\n",
       "      <td>S</td>\n",
       "    </tr>\n",
       "    <tr>\n",
       "      <th>889</th>\n",
       "      <td>890</td>\n",
       "      <td>1</td>\n",
       "      <td>1</td>\n",
       "      <td>Behr, Mr. Karl Howell</td>\n",
       "      <td>male</td>\n",
       "      <td>26.0</td>\n",
       "      <td>0</td>\n",
       "      <td>0</td>\n",
       "      <td>111369</td>\n",
       "      <td>30.0000</td>\n",
       "      <td>C148</td>\n",
       "      <td>C</td>\n",
       "    </tr>\n",
       "    <tr>\n",
       "      <th>890</th>\n",
       "      <td>891</td>\n",
       "      <td>0</td>\n",
       "      <td>3</td>\n",
       "      <td>Dooley, Mr. Patrick</td>\n",
       "      <td>male</td>\n",
       "      <td>32.0</td>\n",
       "      <td>0</td>\n",
       "      <td>0</td>\n",
       "      <td>370376</td>\n",
       "      <td>7.7500</td>\n",
       "      <td>NaN</td>\n",
       "      <td>Q</td>\n",
       "    </tr>\n",
       "  </tbody>\n",
       "</table>\n",
       "<p>891 rows × 12 columns</p>\n",
       "</div>"
      ],
      "text/plain": [
       "     PassengerId  Survived  Pclass  \\\n",
       "0              1         0       3   \n",
       "1              2         1       1   \n",
       "2              3         1       3   \n",
       "3              4         1       1   \n",
       "4              5         0       3   \n",
       "..           ...       ...     ...   \n",
       "886          887         0       2   \n",
       "887          888         1       1   \n",
       "888          889         0       3   \n",
       "889          890         1       1   \n",
       "890          891         0       3   \n",
       "\n",
       "                                                  Name     Sex   Age  SibSp  \\\n",
       "0                              Braund, Mr. Owen Harris    male  22.0      1   \n",
       "1    Cumings, Mrs. John Bradley (Florence Briggs Th...  female  38.0      1   \n",
       "2                               Heikkinen, Miss. Laina  female  26.0      0   \n",
       "3         Futrelle, Mrs. Jacques Heath (Lily May Peel)  female  35.0      1   \n",
       "4                             Allen, Mr. William Henry    male  35.0      0   \n",
       "..                                                 ...     ...   ...    ...   \n",
       "886                              Montvila, Rev. Juozas    male  27.0      0   \n",
       "887                       Graham, Miss. Margaret Edith  female  19.0      0   \n",
       "888           Johnston, Miss. Catherine Helen \"Carrie\"  female   NaN      1   \n",
       "889                              Behr, Mr. Karl Howell    male  26.0      0   \n",
       "890                                Dooley, Mr. Patrick    male  32.0      0   \n",
       "\n",
       "     Parch            Ticket     Fare Cabin Embarked  \n",
       "0        0         A/5 21171   7.2500   NaN        S  \n",
       "1        0          PC 17599  71.2833   C85        C  \n",
       "2        0  STON/O2. 3101282   7.9250   NaN        S  \n",
       "3        0            113803  53.1000  C123        S  \n",
       "4        0            373450   8.0500   NaN        S  \n",
       "..     ...               ...      ...   ...      ...  \n",
       "886      0            211536  13.0000   NaN        S  \n",
       "887      0            112053  30.0000   B42        S  \n",
       "888      2        W./C. 6607  23.4500   NaN        S  \n",
       "889      0            111369  30.0000  C148        C  \n",
       "890      0            370376   7.7500   NaN        Q  \n",
       "\n",
       "[891 rows x 12 columns]"
      ]
     },
     "execution_count": 18,
     "metadata": {},
     "output_type": "execute_result"
    }
   ],
   "source": [
    "df"
   ]
  },
  {
   "cell_type": "markdown",
   "metadata": {
    "cell_id": "f0121b73fcf2404083ce8c23302ea03c",
    "deepnote_cell_type": "markdown",
    "id": "4Q26KEQGs7v4"
   },
   "source": [
    "This is all about us, the data scientist! We are curious and wish to see this data through front and back. Right now, I want to see the distribution of the priority class of the passengers here. Let me graph out that\n",
    "\n",
    "**FYI:** You can also use Deepnote to visualize specific columns of your dataframe by clicking on the \"Visualize\" widget"
   ]
  },
  {
   "cell_type": "code",
   "execution_count": null,
   "metadata": {
    "cell_id": "ec274591a44443b68cccb693c4b48280",
    "colab": {
     "base_uri": "https://localhost:8080/",
     "height": 303
    },
    "deepnote_cell_type": "code",
    "deepnote_to_be_reexecuted": false,
    "executionInfo": {
     "elapsed": 603,
     "status": "ok",
     "timestamp": 1632878085754,
     "user": {
      "displayName": "Shasha Liao",
      "photoUrl": "https://lh3.googleusercontent.com/a-/AOh14Ghf5Tj0GAz5by2x9KRBgR3ka1GNpPK67XG2GpESnA=s64",
      "userId": "03341420781931408968"
     },
     "user_tz": 240
    },
    "execution_millis": 367,
    "execution_start": 1708728100194,
    "id": "WTMVC85sqvsG",
    "outputId": "e79251b4-f31a-4a2c-d29f-4d889dedcd98",
    "source_hash": null
   },
   "outputs": [
    {
     "data": {
      "text/plain": [
       "<AxesSubplot: ylabel='Frequency'>"
      ]
     },
     "execution_count": 19,
     "metadata": {},
     "output_type": "execute_result"
    },
    {
     "data": {
      "image/png": "[encoded data removed]",
      "text/plain": [
       "<Figure size 640x480 with 1 Axes>"
      ]
     },
     "metadata": {
      "image/png": {
       "height": 413,
       "width": 571
      }
     },
     "output_type": "display_data"
    }
   ],
   "source": [
    "df['Pclass'].plot(kind='hist')"
   ]
  },
  {
   "cell_type": "code",
   "execution_count": null,
   "metadata": {
    "cell_id": "8fc534c82d754bad85cebb945219a172",
    "colab": {
     "base_uri": "https://localhost:8080/",
     "height": 338
    },
    "deepnote_cell_type": "code",
    "deepnote_to_be_reexecuted": false,
    "executionInfo": {
     "elapsed": 335,
     "status": "ok",
     "timestamp": 1632878121737,
     "user": {
      "displayName": "Shasha Liao",
      "photoUrl": "https://lh3.googleusercontent.com/a-/AOh14Ghf5Tj0GAz5by2x9KRBgR3ka1GNpPK67XG2GpESnA=s64",
      "userId": "03341420781931408968"
     },
     "user_tz": 240
    },
    "execution_millis": 469,
    "execution_start": 1708728100397,
    "id": "Q--gnV9-tMgI",
    "outputId": "95107eba-ece9-4a26-9656-61eabacde948",
    "source_hash": null
   },
   "outputs": [
    {
     "data": {
      "text/plain": [
       "(array([216.,   0.,   0.,   0.,   0., 184.,   0.,   0.,   0., 491.]),\n",
       " array([1. , 1.2, 1.4, 1.6, 1.8, 2. , 2.2, 2.4, 2.6, 2.8, 3. ]),\n",
       " <BarContainer object of 10 artists>)"
      ]
     },
     "execution_count": 20,
     "metadata": {},
     "output_type": "execute_result"
    },
    {
     "data": {
      "image/png": "[encoded data removed]",
      "text/plain": [
       "<Figure size 640x480 with 1 Axes>"
      ]
     },
     "metadata": {
      "image/png": {
       "height": 413,
       "width": 552
      }
     },
     "output_type": "display_data"
    }
   ],
   "source": [
    "plt.hist(df['Pclass'])"
   ]
  },
  {
   "cell_type": "code",
   "execution_count": null,
   "metadata": {
    "cell_id": "2105994b37dc416e8e14831646d1b3e2",
    "colab": {
     "base_uri": "https://localhost:8080/",
     "height": 332
    },
    "deepnote_cell_type": "code",
    "deepnote_to_be_reexecuted": false,
    "executionInfo": {
     "elapsed": 608,
     "status": "ok",
     "timestamp": 1632878158331,
     "user": {
      "displayName": "Shasha Liao",
      "photoUrl": "https://lh3.googleusercontent.com/a-/AOh14Ghf5Tj0GAz5by2x9KRBgR3ka1GNpPK67XG2GpESnA=s64",
      "userId": "03341420781931408968"
     },
     "user_tz": 240
    },
    "execution_millis": 480,
    "execution_start": 1708728100603,
    "id": "1mrQlj4PtbBB",
    "outputId": "376b181c-8f60-46b3-c580-35c17ec87b41",
    "source_hash": null
   },
   "outputs": [
    {
     "data": {
      "text/plain": [
       "Text(0.5, 1.0, 'Histogram of Priority Class')"
      ]
     },
     "execution_count": 21,
     "metadata": {},
     "output_type": "execute_result"
    },
    {
     "data": {
      "image/png": "[encoded data removed]",
      "text/plain": [
       "<Figure size 640x480 with 1 Axes>"
      ]
     },
     "metadata": {
      "image/png": {
       "height": 455,
       "width": 571
      }
     },
     "output_type": "display_data"
    }
   ],
   "source": [
    "plt.hist(df['Pclass'])\n",
    "plt.xlabel(\"Class\")\n",
    "plt.ylabel(\"Number\")\n",
    "plt.title(\"Histogram of Priority Class\")"
   ]
  },
  {
   "cell_type": "code",
   "execution_count": null,
   "metadata": {
    "cell_id": "5b5a2cb705a843ac8c9c4a95e65ec344",
    "colab": {
     "base_uri": "https://localhost:8080/",
     "height": 316
    },
    "deepnote_cell_type": "code",
    "deepnote_to_be_reexecuted": false,
    "executionInfo": {
     "elapsed": 494,
     "status": "ok",
     "timestamp": 1632878179824,
     "user": {
      "displayName": "Shasha Liao",
      "photoUrl": "https://lh3.googleusercontent.com/a-/AOh14Ghf5Tj0GAz5by2x9KRBgR3ka1GNpPK67XG2GpESnA=s64",
      "userId": "03341420781931408968"
     },
     "user_tz": 240
    },
    "execution_millis": 1121,
    "execution_start": 1708728100805,
    "id": "w2LIfYwfqSXX",
    "outputId": "2cdf0c82-aed3-4938-aa10-044dd17d8682",
    "source_hash": null
   },
   "outputs": [
    {
     "ename": "OptionError",
     "evalue": "\"No such keys(s): 'mode.use_inf_as_null'\"",
     "output_type": "error",
     "traceback": [
      "\u001b[0;31m---------------------------------------------------------------------------\u001b[0m",
      "\u001b[0;31mOptionError\u001b[0m                               Traceback (most recent call last)",
      "Cell \u001b[0;32mIn [22], line 1\u001b[0m\n\u001b[0;32m----> 1\u001b[0m \u001b[43msns\u001b[49m\u001b[38;5;241;43m.\u001b[39;49m\u001b[43mhistplot\u001b[49m\u001b[43m(\u001b[49m\u001b[43mdf\u001b[49m\u001b[43m[\u001b[49m\u001b[38;5;124;43m'\u001b[39;49m\u001b[38;5;124;43mPclass\u001b[39;49m\u001b[38;5;124;43m'\u001b[39;49m\u001b[43m]\u001b[49m\u001b[43m)\u001b[49m\n",
      "File \u001b[0;32m/shared-libs/python3.9/py/lib/python3.9/site-packages/seaborn/distributions.py:1432\u001b[0m, in \u001b[0;36mhistplot\u001b[0;34m(data, x, y, hue, weights, stat, bins, binwidth, binrange, discrete, cumulative, common_bins, common_norm, multiple, element, fill, shrink, kde, kde_kws, line_kws, thresh, pthresh, pmax, cbar, cbar_ax, cbar_kws, palette, hue_order, hue_norm, color, log_scale, legend, ax, **kwargs)\u001b[0m\n\u001b[1;32m   1421\u001b[0m estimate_kws \u001b[38;5;241m=\u001b[39m \u001b[38;5;28mdict\u001b[39m(\n\u001b[1;32m   1422\u001b[0m     stat\u001b[38;5;241m=\u001b[39mstat,\n\u001b[1;32m   1423\u001b[0m     bins\u001b[38;5;241m=\u001b[39mbins,\n\u001b[0;32m   (...)\u001b[0m\n\u001b[1;32m   1427\u001b[0m     cumulative\u001b[38;5;241m=\u001b[39mcumulative,\n\u001b[1;32m   1428\u001b[0m )\n\u001b[1;32m   1430\u001b[0m \u001b[38;5;28;01mif\u001b[39;00m p\u001b[38;5;241m.\u001b[39munivariate:\n\u001b[0;32m-> 1432\u001b[0m     \u001b[43mp\u001b[49m\u001b[38;5;241;43m.\u001b[39;49m\u001b[43mplot_univariate_histogram\u001b[49m\u001b[43m(\u001b[49m\n\u001b[1;32m   1433\u001b[0m \u001b[43m        \u001b[49m\u001b[43mmultiple\u001b[49m\u001b[38;5;241;43m=\u001b[39;49m\u001b[43mmultiple\u001b[49m\u001b[43m,\u001b[49m\n\u001b[1;32m   1434\u001b[0m \u001b[43m        \u001b[49m\u001b[43melement\u001b[49m\u001b[38;5;241;43m=\u001b[39;49m\u001b[43melement\u001b[49m\u001b[43m,\u001b[49m\n\u001b[1;32m   1435\u001b[0m \u001b[43m        \u001b[49m\u001b[43mfill\u001b[49m\u001b[38;5;241;43m=\u001b[39;49m\u001b[43mfill\u001b[49m\u001b[43m,\u001b[49m\n\u001b[1;32m   1436\u001b[0m \u001b[43m        \u001b[49m\u001b[43mshrink\u001b[49m\u001b[38;5;241;43m=\u001b[39;49m\u001b[43mshrink\u001b[49m\u001b[43m,\u001b[49m\n\u001b[1;32m   1437\u001b[0m \u001b[43m        \u001b[49m\u001b[43mcommon_norm\u001b[49m\u001b[38;5;241;43m=\u001b[39;49m\u001b[43mcommon_norm\u001b[49m\u001b[43m,\u001b[49m\n\u001b[1;32m   1438\u001b[0m \u001b[43m        \u001b[49m\u001b[43mcommon_bins\u001b[49m\u001b[38;5;241;43m=\u001b[39;49m\u001b[43mcommon_bins\u001b[49m\u001b[43m,\u001b[49m\n\u001b[1;32m   1439\u001b[0m \u001b[43m        \u001b[49m\u001b[43mkde\u001b[49m\u001b[38;5;241;43m=\u001b[39;49m\u001b[43mkde\u001b[49m\u001b[43m,\u001b[49m\n\u001b[1;32m   1440\u001b[0m \u001b[43m        \u001b[49m\u001b[43mkde_kws\u001b[49m\u001b[38;5;241;43m=\u001b[39;49m\u001b[43mkde_kws\u001b[49m\u001b[43m,\u001b[49m\n\u001b[1;32m   1441\u001b[0m \u001b[43m        \u001b[49m\u001b[43mcolor\u001b[49m\u001b[38;5;241;43m=\u001b[39;49m\u001b[43mcolor\u001b[49m\u001b[43m,\u001b[49m\n\u001b[1;32m   1442\u001b[0m \u001b[43m        \u001b[49m\u001b[43mlegend\u001b[49m\u001b[38;5;241;43m=\u001b[39;49m\u001b[43mlegend\u001b[49m\u001b[43m,\u001b[49m\n\u001b[1;32m   1443\u001b[0m \u001b[43m        \u001b[49m\u001b[43mestimate_kws\u001b[49m\u001b[38;5;241;43m=\u001b[39;49m\u001b[43mestimate_kws\u001b[49m\u001b[43m,\u001b[49m\n\u001b[1;32m   1444\u001b[0m \u001b[43m        \u001b[49m\u001b[43mline_kws\u001b[49m\u001b[38;5;241;43m=\u001b[39;49m\u001b[43mline_kws\u001b[49m\u001b[43m,\u001b[49m\n\u001b[1;32m   1445\u001b[0m \u001b[43m        \u001b[49m\u001b[38;5;241;43m*\u001b[39;49m\u001b[38;5;241;43m*\u001b[39;49m\u001b[43mkwargs\u001b[49m\u001b[43m,\u001b[49m\n\u001b[1;32m   1446\u001b[0m \u001b[43m    \u001b[49m\u001b[43m)\u001b[49m\n\u001b[1;32m   1448\u001b[0m \u001b[38;5;28;01melse\u001b[39;00m:\n\u001b[1;32m   1450\u001b[0m     p\u001b[38;5;241m.\u001b[39mplot_bivariate_histogram(\n\u001b[1;32m   1451\u001b[0m         common_bins\u001b[38;5;241m=\u001b[39mcommon_bins,\n\u001b[1;32m   1452\u001b[0m         common_norm\u001b[38;5;241m=\u001b[39mcommon_norm,\n\u001b[0;32m   (...)\u001b[0m\n\u001b[1;32m   1462\u001b[0m         \u001b[38;5;241m*\u001b[39m\u001b[38;5;241m*\u001b[39mkwargs,\n\u001b[1;32m   1463\u001b[0m     )\n",
      "File \u001b[0;32m/shared-libs/python3.9/py/lib/python3.9/site-packages/seaborn/distributions.py:430\u001b[0m, in \u001b[0;36m_DistributionPlotter.plot_univariate_histogram\u001b[0;34m(self, multiple, element, fill, common_norm, common_bins, shrink, kde, kde_kws, color, legend, line_kws, estimate_kws, **plot_kws)\u001b[0m\n\u001b[1;32m    427\u001b[0m histograms \u001b[38;5;241m=\u001b[39m {}\n\u001b[1;32m    429\u001b[0m \u001b[38;5;66;03m# Do pre-compute housekeeping related to multiple groups\u001b[39;00m\n\u001b[0;32m--> 430\u001b[0m all_data \u001b[38;5;241m=\u001b[39m \u001b[38;5;28;43mself\u001b[39;49m\u001b[38;5;241;43m.\u001b[39;49m\u001b[43mcomp_data\u001b[49m\u001b[38;5;241m.\u001b[39mdropna()\n\u001b[1;32m    431\u001b[0m all_weights \u001b[38;5;241m=\u001b[39m all_data\u001b[38;5;241m.\u001b[39mget(\u001b[38;5;124m\"\u001b[39m\u001b[38;5;124mweights\u001b[39m\u001b[38;5;124m\"\u001b[39m, \u001b[38;5;28;01mNone\u001b[39;00m)\n\u001b[1;32m    433\u001b[0m multiple_histograms \u001b[38;5;241m=\u001b[39m \u001b[38;5;28mset\u001b[39m(\u001b[38;5;28mself\u001b[39m\u001b[38;5;241m.\u001b[39mvariables) \u001b[38;5;241m-\u001b[39m {\u001b[38;5;124m\"\u001b[39m\u001b[38;5;124mx\u001b[39m\u001b[38;5;124m\"\u001b[39m, \u001b[38;5;124m\"\u001b[39m\u001b[38;5;124my\u001b[39m\u001b[38;5;124m\"\u001b[39m}\n",
      "File \u001b[0;32m/shared-libs/python3.9/py/lib/python3.9/site-packages/seaborn/_oldcore.py:1119\u001b[0m, in \u001b[0;36mVectorPlotter.comp_data\u001b[0;34m(self)\u001b[0m\n\u001b[1;32m   1117\u001b[0m grouped \u001b[38;5;241m=\u001b[39m \u001b[38;5;28mself\u001b[39m\u001b[38;5;241m.\u001b[39mplot_data[var]\u001b[38;5;241m.\u001b[39mgroupby(\u001b[38;5;28mself\u001b[39m\u001b[38;5;241m.\u001b[39mconverters[var], sort\u001b[38;5;241m=\u001b[39m\u001b[38;5;28;01mFalse\u001b[39;00m)\n\u001b[1;32m   1118\u001b[0m \u001b[38;5;28;01mfor\u001b[39;00m converter, orig \u001b[38;5;129;01min\u001b[39;00m grouped:\n\u001b[0;32m-> 1119\u001b[0m     \u001b[38;5;28;01mwith\u001b[39;00m pd\u001b[38;5;241m.\u001b[39moption_context(\u001b[38;5;124m'\u001b[39m\u001b[38;5;124mmode.use_inf_as_null\u001b[39m\u001b[38;5;124m'\u001b[39m, \u001b[38;5;28;01mTrue\u001b[39;00m):\n\u001b[1;32m   1120\u001b[0m         orig \u001b[38;5;241m=\u001b[39m orig\u001b[38;5;241m.\u001b[39mdropna()\n\u001b[1;32m   1121\u001b[0m         \u001b[38;5;28;01mif\u001b[39;00m var \u001b[38;5;129;01min\u001b[39;00m \u001b[38;5;28mself\u001b[39m\u001b[38;5;241m.\u001b[39mvar_levels:\n\u001b[1;32m   1122\u001b[0m             \u001b[38;5;66;03m# TODO this should happen in some centralized location\u001b[39;00m\n\u001b[1;32m   1123\u001b[0m             \u001b[38;5;66;03m# it is similar to GH2419, but more complicated because\u001b[39;00m\n\u001b[1;32m   1124\u001b[0m             \u001b[38;5;66;03m# supporting `order` in categorical plots is tricky\u001b[39;00m\n",
      "File \u001b[0;32m/shared-libs/python3.9/py/lib/python3.9/site-packages/pandas/_config/config.py:478\u001b[0m, in \u001b[0;36moption_context.__enter__\u001b[0;34m(self)\u001b[0m\n\u001b[1;32m    477\u001b[0m \u001b[38;5;28;01mdef\u001b[39;00m \u001b[38;5;21m__enter__\u001b[39m(\u001b[38;5;28mself\u001b[39m) \u001b[38;5;241m-\u001b[39m\u001b[38;5;241m>\u001b[39m \u001b[38;5;28;01mNone\u001b[39;00m:\n\u001b[0;32m--> 478\u001b[0m     \u001b[38;5;28mself\u001b[39m\u001b[38;5;241m.\u001b[39mundo \u001b[38;5;241m=\u001b[39m [(pat, _get_option(pat)) \u001b[38;5;28;01mfor\u001b[39;00m pat, val \u001b[38;5;129;01min\u001b[39;00m \u001b[38;5;28mself\u001b[39m\u001b[38;5;241m.\u001b[39mops]\n\u001b[1;32m    480\u001b[0m     \u001b[38;5;28;01mfor\u001b[39;00m pat, val \u001b[38;5;129;01min\u001b[39;00m \u001b[38;5;28mself\u001b[39m\u001b[38;5;241m.\u001b[39mops:\n\u001b[1;32m    481\u001b[0m         _set_option(pat, val, silent\u001b[38;5;241m=\u001b[39m\u001b[38;5;28;01mTrue\u001b[39;00m)\n",
      "File \u001b[0;32m/shared-libs/python3.9/py/lib/python3.9/site-packages/pandas/_config/config.py:478\u001b[0m, in \u001b[0;36m<listcomp>\u001b[0;34m(.0)\u001b[0m\n\u001b[1;32m    477\u001b[0m \u001b[38;5;28;01mdef\u001b[39;00m \u001b[38;5;21m__enter__\u001b[39m(\u001b[38;5;28mself\u001b[39m) \u001b[38;5;241m-\u001b[39m\u001b[38;5;241m>\u001b[39m \u001b[38;5;28;01mNone\u001b[39;00m:\n\u001b[0;32m--> 478\u001b[0m     \u001b[38;5;28mself\u001b[39m\u001b[38;5;241m.\u001b[39mundo \u001b[38;5;241m=\u001b[39m [(pat, \u001b[43m_get_option\u001b[49m\u001b[43m(\u001b[49m\u001b[43mpat\u001b[49m\u001b[43m)\u001b[49m) \u001b[38;5;28;01mfor\u001b[39;00m pat, val \u001b[38;5;129;01min\u001b[39;00m \u001b[38;5;28mself\u001b[39m\u001b[38;5;241m.\u001b[39mops]\n\u001b[1;32m    480\u001b[0m     \u001b[38;5;28;01mfor\u001b[39;00m pat, val \u001b[38;5;129;01min\u001b[39;00m \u001b[38;5;28mself\u001b[39m\u001b[38;5;241m.\u001b[39mops:\n\u001b[1;32m    481\u001b[0m         _set_option(pat, val, silent\u001b[38;5;241m=\u001b[39m\u001b[38;5;28;01mTrue\u001b[39;00m)\n",
      "File \u001b[0;32m/shared-libs/python3.9/py/lib/python3.9/site-packages/pandas/_config/config.py:146\u001b[0m, in \u001b[0;36m_get_option\u001b[0;34m(pat, silent)\u001b[0m\n\u001b[1;32m    145\u001b[0m \u001b[38;5;28;01mdef\u001b[39;00m \u001b[38;5;21m_get_option\u001b[39m(pat: \u001b[38;5;28mstr\u001b[39m, silent: \u001b[38;5;28mbool\u001b[39m \u001b[38;5;241m=\u001b[39m \u001b[38;5;28;01mFalse\u001b[39;00m) \u001b[38;5;241m-\u001b[39m\u001b[38;5;241m>\u001b[39m Any:\n\u001b[0;32m--> 146\u001b[0m     key \u001b[38;5;241m=\u001b[39m \u001b[43m_get_single_key\u001b[49m\u001b[43m(\u001b[49m\u001b[43mpat\u001b[49m\u001b[43m,\u001b[49m\u001b[43m \u001b[49m\u001b[43msilent\u001b[49m\u001b[43m)\u001b[49m\n\u001b[1;32m    148\u001b[0m     \u001b[38;5;66;03m# walk the nested dict\u001b[39;00m\n\u001b[1;32m    149\u001b[0m     root, k \u001b[38;5;241m=\u001b[39m _get_root(key)\n",
      "File \u001b[0;32m/shared-libs/python3.9/py/lib/python3.9/site-packages/pandas/_config/config.py:132\u001b[0m, in \u001b[0;36m_get_single_key\u001b[0;34m(pat, silent)\u001b[0m\n\u001b[1;32m    130\u001b[0m     \u001b[38;5;28;01mif\u001b[39;00m \u001b[38;5;129;01mnot\u001b[39;00m silent:\n\u001b[1;32m    131\u001b[0m         _warn_if_deprecated(pat)\n\u001b[0;32m--> 132\u001b[0m     \u001b[38;5;28;01mraise\u001b[39;00m OptionError(\u001b[38;5;124mf\u001b[39m\u001b[38;5;124m\"\u001b[39m\u001b[38;5;124mNo such keys(s): \u001b[39m\u001b[38;5;132;01m{\u001b[39;00m\u001b[38;5;28mrepr\u001b[39m(pat)\u001b[38;5;132;01m}\u001b[39;00m\u001b[38;5;124m\"\u001b[39m)\n\u001b[1;32m    133\u001b[0m \u001b[38;5;28;01mif\u001b[39;00m \u001b[38;5;28mlen\u001b[39m(keys) \u001b[38;5;241m>\u001b[39m \u001b[38;5;241m1\u001b[39m:\n\u001b[1;32m    134\u001b[0m     \u001b[38;5;28;01mraise\u001b[39;00m OptionError(\u001b[38;5;124m\"\u001b[39m\u001b[38;5;124mPattern matched multiple keys\u001b[39m\u001b[38;5;124m\"\u001b[39m)\n",
      "\u001b[0;31mOptionError\u001b[0m: \"No such keys(s): 'mode.use_inf_as_null'\""
     ]
    },
    {
     "data": {
      "image/png": "[encoded data removed]",
      "text/plain": [
       "<Figure size 640x480 with 1 Axes>"
      ]
     },
     "metadata": {
      "image/png": {
       "height": 413,
       "width": 567
      }
     },
     "output_type": "display_data"
    }
   ],
   "source": [
    "sns.histplot(df['Pclass'])"
   ]
  },
  {
   "cell_type": "code",
   "execution_count": null,
   "metadata": {
    "cell_id": "b30844fe0374466aa713728e8919201f",
    "colab": {
     "base_uri": "https://localhost:8080/",
     "height": 368
    },
    "deepnote_cell_type": "code",
    "deepnote_to_be_reexecuted": false,
    "executionInfo": {
     "elapsed": 511,
     "status": "ok",
     "timestamp": 1632785490700,
     "user": {
      "displayName": "Shasha Liao",
      "photoUrl": "https://lh3.googleusercontent.com/a-/AOh14Ghf5Tj0GAz5by2x9KRBgR3ka1GNpPK67XG2GpESnA=s64",
      "userId": "03341420781931408968"
     },
     "user_tz": 240
    },
    "execution_millis": 201,
    "execution_start": 1708728223705,
    "id": "kuXWLTtqpdfO",
    "outputId": "c2cf6073-6440-4130-b37d-2453214e8480",
    "source_hash": null
   },
   "outputs": [
    {
     "ename": "OptionError",
     "evalue": "\"No such keys(s): 'mode.use_inf_as_null'\"",
     "output_type": "error",
     "traceback": [
      "\u001b[0;31m---------------------------------------------------------------------------\u001b[0m",
      "\u001b[0;31mOptionError\u001b[0m                               Traceback (most recent call last)",
      "Cell \u001b[0;32mIn [23], line 1\u001b[0m\n\u001b[0;32m----> 1\u001b[0m \u001b[43msns\u001b[49m\u001b[38;5;241;43m.\u001b[39;49m\u001b[43mhistplot\u001b[49m\u001b[43m(\u001b[49m\u001b[43mdf\u001b[49m\u001b[43m[\u001b[49m\u001b[38;5;124;43m'\u001b[39;49m\u001b[38;5;124;43mPclass\u001b[39;49m\u001b[38;5;124;43m'\u001b[39;49m\u001b[43m]\u001b[49m\u001b[43m)\u001b[49m\u001b[38;5;241m.\u001b[39mset(xlabel\u001b[38;5;241m=\u001b[39m\u001b[38;5;124m'\u001b[39m\u001b[38;5;124mPriority Class\u001b[39m\u001b[38;5;124m'\u001b[39m,ylabel\u001b[38;5;241m=\u001b[39m\u001b[38;5;124m'\u001b[39m\u001b[38;5;124mNumber\u001b[39m\u001b[38;5;124m'\u001b[39m,title\u001b[38;5;241m=\u001b[39m\u001b[38;5;124m\"\u001b[39m\u001b[38;5;124mHistogram of Priority Class\u001b[39m\u001b[38;5;124m\"\u001b[39m)\n",
      "File \u001b[0;32m/shared-libs/python3.9/py/lib/python3.9/site-packages/seaborn/distributions.py:1432\u001b[0m, in \u001b[0;36mhistplot\u001b[0;34m(data, x, y, hue, weights, stat, bins, binwidth, binrange, discrete, cumulative, common_bins, common_norm, multiple, element, fill, shrink, kde, kde_kws, line_kws, thresh, pthresh, pmax, cbar, cbar_ax, cbar_kws, palette, hue_order, hue_norm, color, log_scale, legend, ax, **kwargs)\u001b[0m\n\u001b[1;32m   1421\u001b[0m estimate_kws \u001b[38;5;241m=\u001b[39m \u001b[38;5;28mdict\u001b[39m(\n\u001b[1;32m   1422\u001b[0m     stat\u001b[38;5;241m=\u001b[39mstat,\n\u001b[1;32m   1423\u001b[0m     bins\u001b[38;5;241m=\u001b[39mbins,\n\u001b[0;32m   (...)\u001b[0m\n\u001b[1;32m   1427\u001b[0m     cumulative\u001b[38;5;241m=\u001b[39mcumulative,\n\u001b[1;32m   1428\u001b[0m )\n\u001b[1;32m   1430\u001b[0m \u001b[38;5;28;01mif\u001b[39;00m p\u001b[38;5;241m.\u001b[39munivariate:\n\u001b[0;32m-> 1432\u001b[0m     \u001b[43mp\u001b[49m\u001b[38;5;241;43m.\u001b[39;49m\u001b[43mplot_univariate_histogram\u001b[49m\u001b[43m(\u001b[49m\n\u001b[1;32m   1433\u001b[0m \u001b[43m        \u001b[49m\u001b[43mmultiple\u001b[49m\u001b[38;5;241;43m=\u001b[39;49m\u001b[43mmultiple\u001b[49m\u001b[43m,\u001b[49m\n\u001b[1;32m   1434\u001b[0m \u001b[43m        \u001b[49m\u001b[43melement\u001b[49m\u001b[38;5;241;43m=\u001b[39;49m\u001b[43melement\u001b[49m\u001b[43m,\u001b[49m\n\u001b[1;32m   1435\u001b[0m \u001b[43m        \u001b[49m\u001b[43mfill\u001b[49m\u001b[38;5;241;43m=\u001b[39;49m\u001b[43mfill\u001b[49m\u001b[43m,\u001b[49m\n\u001b[1;32m   1436\u001b[0m \u001b[43m        \u001b[49m\u001b[43mshrink\u001b[49m\u001b[38;5;241;43m=\u001b[39;49m\u001b[43mshrink\u001b[49m\u001b[43m,\u001b[49m\n\u001b[1;32m   1437\u001b[0m \u001b[43m        \u001b[49m\u001b[43mcommon_norm\u001b[49m\u001b[38;5;241;43m=\u001b[39;49m\u001b[43mcommon_norm\u001b[49m\u001b[43m,\u001b[49m\n\u001b[1;32m   1438\u001b[0m \u001b[43m        \u001b[49m\u001b[43mcommon_bins\u001b[49m\u001b[38;5;241;43m=\u001b[39;49m\u001b[43mcommon_bins\u001b[49m\u001b[43m,\u001b[49m\n\u001b[1;32m   1439\u001b[0m \u001b[43m        \u001b[49m\u001b[43mkde\u001b[49m\u001b[38;5;241;43m=\u001b[39;49m\u001b[43mkde\u001b[49m\u001b[43m,\u001b[49m\n\u001b[1;32m   1440\u001b[0m \u001b[43m        \u001b[49m\u001b[43mkde_kws\u001b[49m\u001b[38;5;241;43m=\u001b[39;49m\u001b[43mkde_kws\u001b[49m\u001b[43m,\u001b[49m\n\u001b[1;32m   1441\u001b[0m \u001b[43m        \u001b[49m\u001b[43mcolor\u001b[49m\u001b[38;5;241;43m=\u001b[39;49m\u001b[43mcolor\u001b[49m\u001b[43m,\u001b[49m\n\u001b[1;32m   1442\u001b[0m \u001b[43m        \u001b[49m\u001b[43mlegend\u001b[49m\u001b[38;5;241;43m=\u001b[39;49m\u001b[43mlegend\u001b[49m\u001b[43m,\u001b[49m\n\u001b[1;32m   1443\u001b[0m \u001b[43m        \u001b[49m\u001b[43mestimate_kws\u001b[49m\u001b[38;5;241;43m=\u001b[39;49m\u001b[43mestimate_kws\u001b[49m\u001b[43m,\u001b[49m\n\u001b[1;32m   1444\u001b[0m \u001b[43m        \u001b[49m\u001b[43mline_kws\u001b[49m\u001b[38;5;241;43m=\u001b[39;49m\u001b[43mline_kws\u001b[49m\u001b[43m,\u001b[49m\n\u001b[1;32m   1445\u001b[0m \u001b[43m        \u001b[49m\u001b[38;5;241;43m*\u001b[39;49m\u001b[38;5;241;43m*\u001b[39;49m\u001b[43mkwargs\u001b[49m\u001b[43m,\u001b[49m\n\u001b[1;32m   1446\u001b[0m \u001b[43m    \u001b[49m\u001b[43m)\u001b[49m\n\u001b[1;32m   1448\u001b[0m \u001b[38;5;28;01melse\u001b[39;00m:\n\u001b[1;32m   1450\u001b[0m     p\u001b[38;5;241m.\u001b[39mplot_bivariate_histogram(\n\u001b[1;32m   1451\u001b[0m         common_bins\u001b[38;5;241m=\u001b[39mcommon_bins,\n\u001b[1;32m   1452\u001b[0m         common_norm\u001b[38;5;241m=\u001b[39mcommon_norm,\n\u001b[0;32m   (...)\u001b[0m\n\u001b[1;32m   1462\u001b[0m         \u001b[38;5;241m*\u001b[39m\u001b[38;5;241m*\u001b[39mkwargs,\n\u001b[1;32m   1463\u001b[0m     )\n",
      "File \u001b[0;32m/shared-libs/python3.9/py/lib/python3.9/site-packages/seaborn/distributions.py:430\u001b[0m, in \u001b[0;36m_DistributionPlotter.plot_univariate_histogram\u001b[0;34m(self, multiple, element, fill, common_norm, common_bins, shrink, kde, kde_kws, color, legend, line_kws, estimate_kws, **plot_kws)\u001b[0m\n\u001b[1;32m    427\u001b[0m histograms \u001b[38;5;241m=\u001b[39m {}\n\u001b[1;32m    429\u001b[0m \u001b[38;5;66;03m# Do pre-compute housekeeping related to multiple groups\u001b[39;00m\n\u001b[0;32m--> 430\u001b[0m all_data \u001b[38;5;241m=\u001b[39m \u001b[38;5;28;43mself\u001b[39;49m\u001b[38;5;241;43m.\u001b[39;49m\u001b[43mcomp_data\u001b[49m\u001b[38;5;241m.\u001b[39mdropna()\n\u001b[1;32m    431\u001b[0m all_weights \u001b[38;5;241m=\u001b[39m all_data\u001b[38;5;241m.\u001b[39mget(\u001b[38;5;124m\"\u001b[39m\u001b[38;5;124mweights\u001b[39m\u001b[38;5;124m\"\u001b[39m, \u001b[38;5;28;01mNone\u001b[39;00m)\n\u001b[1;32m    433\u001b[0m multiple_histograms \u001b[38;5;241m=\u001b[39m \u001b[38;5;28mset\u001b[39m(\u001b[38;5;28mself\u001b[39m\u001b[38;5;241m.\u001b[39mvariables) \u001b[38;5;241m-\u001b[39m {\u001b[38;5;124m\"\u001b[39m\u001b[38;5;124mx\u001b[39m\u001b[38;5;124m\"\u001b[39m, \u001b[38;5;124m\"\u001b[39m\u001b[38;5;124my\u001b[39m\u001b[38;5;124m\"\u001b[39m}\n",
      "File \u001b[0;32m/shared-libs/python3.9/py/lib/python3.9/site-packages/seaborn/_oldcore.py:1119\u001b[0m, in \u001b[0;36mVectorPlotter.comp_data\u001b[0;34m(self)\u001b[0m\n\u001b[1;32m   1117\u001b[0m grouped \u001b[38;5;241m=\u001b[39m \u001b[38;5;28mself\u001b[39m\u001b[38;5;241m.\u001b[39mplot_data[var]\u001b[38;5;241m.\u001b[39mgroupby(\u001b[38;5;28mself\u001b[39m\u001b[38;5;241m.\u001b[39mconverters[var], sort\u001b[38;5;241m=\u001b[39m\u001b[38;5;28;01mFalse\u001b[39;00m)\n\u001b[1;32m   1118\u001b[0m \u001b[38;5;28;01mfor\u001b[39;00m converter, orig \u001b[38;5;129;01min\u001b[39;00m grouped:\n\u001b[0;32m-> 1119\u001b[0m     \u001b[38;5;28;01mwith\u001b[39;00m pd\u001b[38;5;241m.\u001b[39moption_context(\u001b[38;5;124m'\u001b[39m\u001b[38;5;124mmode.use_inf_as_null\u001b[39m\u001b[38;5;124m'\u001b[39m, \u001b[38;5;28;01mTrue\u001b[39;00m):\n\u001b[1;32m   1120\u001b[0m         orig \u001b[38;5;241m=\u001b[39m orig\u001b[38;5;241m.\u001b[39mdropna()\n\u001b[1;32m   1121\u001b[0m         \u001b[38;5;28;01mif\u001b[39;00m var \u001b[38;5;129;01min\u001b[39;00m \u001b[38;5;28mself\u001b[39m\u001b[38;5;241m.\u001b[39mvar_levels:\n\u001b[1;32m   1122\u001b[0m             \u001b[38;5;66;03m# TODO this should happen in some centralized location\u001b[39;00m\n\u001b[1;32m   1123\u001b[0m             \u001b[38;5;66;03m# it is similar to GH2419, but more complicated because\u001b[39;00m\n\u001b[1;32m   1124\u001b[0m             \u001b[38;5;66;03m# supporting `order` in categorical plots is tricky\u001b[39;00m\n",
      "File \u001b[0;32m/shared-libs/python3.9/py/lib/python3.9/site-packages/pandas/_config/config.py:478\u001b[0m, in \u001b[0;36moption_context.__enter__\u001b[0;34m(self)\u001b[0m\n\u001b[1;32m    477\u001b[0m \u001b[38;5;28;01mdef\u001b[39;00m \u001b[38;5;21m__enter__\u001b[39m(\u001b[38;5;28mself\u001b[39m) \u001b[38;5;241m-\u001b[39m\u001b[38;5;241m>\u001b[39m \u001b[38;5;28;01mNone\u001b[39;00m:\n\u001b[0;32m--> 478\u001b[0m     \u001b[38;5;28mself\u001b[39m\u001b[38;5;241m.\u001b[39mundo \u001b[38;5;241m=\u001b[39m [(pat, _get_option(pat)) \u001b[38;5;28;01mfor\u001b[39;00m pat, val \u001b[38;5;129;01min\u001b[39;00m \u001b[38;5;28mself\u001b[39m\u001b[38;5;241m.\u001b[39mops]\n\u001b[1;32m    480\u001b[0m     \u001b[38;5;28;01mfor\u001b[39;00m pat, val \u001b[38;5;129;01min\u001b[39;00m \u001b[38;5;28mself\u001b[39m\u001b[38;5;241m.\u001b[39mops:\n\u001b[1;32m    481\u001b[0m         _set_option(pat, val, silent\u001b[38;5;241m=\u001b[39m\u001b[38;5;28;01mTrue\u001b[39;00m)\n",
      "File \u001b[0;32m/shared-libs/python3.9/py/lib/python3.9/site-packages/pandas/_config/config.py:478\u001b[0m, in \u001b[0;36m<listcomp>\u001b[0;34m(.0)\u001b[0m\n\u001b[1;32m    477\u001b[0m \u001b[38;5;28;01mdef\u001b[39;00m \u001b[38;5;21m__enter__\u001b[39m(\u001b[38;5;28mself\u001b[39m) \u001b[38;5;241m-\u001b[39m\u001b[38;5;241m>\u001b[39m \u001b[38;5;28;01mNone\u001b[39;00m:\n\u001b[0;32m--> 478\u001b[0m     \u001b[38;5;28mself\u001b[39m\u001b[38;5;241m.\u001b[39mundo \u001b[38;5;241m=\u001b[39m [(pat, \u001b[43m_get_option\u001b[49m\u001b[43m(\u001b[49m\u001b[43mpat\u001b[49m\u001b[43m)\u001b[49m) \u001b[38;5;28;01mfor\u001b[39;00m pat, val \u001b[38;5;129;01min\u001b[39;00m \u001b[38;5;28mself\u001b[39m\u001b[38;5;241m.\u001b[39mops]\n\u001b[1;32m    480\u001b[0m     \u001b[38;5;28;01mfor\u001b[39;00m pat, val \u001b[38;5;129;01min\u001b[39;00m \u001b[38;5;28mself\u001b[39m\u001b[38;5;241m.\u001b[39mops:\n\u001b[1;32m    481\u001b[0m         _set_option(pat, val, silent\u001b[38;5;241m=\u001b[39m\u001b[38;5;28;01mTrue\u001b[39;00m)\n",
      "File \u001b[0;32m/shared-libs/python3.9/py/lib/python3.9/site-packages/pandas/_config/config.py:146\u001b[0m, in \u001b[0;36m_get_option\u001b[0;34m(pat, silent)\u001b[0m\n\u001b[1;32m    145\u001b[0m \u001b[38;5;28;01mdef\u001b[39;00m \u001b[38;5;21m_get_option\u001b[39m(pat: \u001b[38;5;28mstr\u001b[39m, silent: \u001b[38;5;28mbool\u001b[39m \u001b[38;5;241m=\u001b[39m \u001b[38;5;28;01mFalse\u001b[39;00m) \u001b[38;5;241m-\u001b[39m\u001b[38;5;241m>\u001b[39m Any:\n\u001b[0;32m--> 146\u001b[0m     key \u001b[38;5;241m=\u001b[39m \u001b[43m_get_single_key\u001b[49m\u001b[43m(\u001b[49m\u001b[43mpat\u001b[49m\u001b[43m,\u001b[49m\u001b[43m \u001b[49m\u001b[43msilent\u001b[49m\u001b[43m)\u001b[49m\n\u001b[1;32m    148\u001b[0m     \u001b[38;5;66;03m# walk the nested dict\u001b[39;00m\n\u001b[1;32m    149\u001b[0m     root, k \u001b[38;5;241m=\u001b[39m _get_root(key)\n",
      "File \u001b[0;32m/shared-libs/python3.9/py/lib/python3.9/site-packages/pandas/_config/config.py:132\u001b[0m, in \u001b[0;36m_get_single_key\u001b[0;34m(pat, silent)\u001b[0m\n\u001b[1;32m    130\u001b[0m     \u001b[38;5;28;01mif\u001b[39;00m \u001b[38;5;129;01mnot\u001b[39;00m silent:\n\u001b[1;32m    131\u001b[0m         _warn_if_deprecated(pat)\n\u001b[0;32m--> 132\u001b[0m     \u001b[38;5;28;01mraise\u001b[39;00m OptionError(\u001b[38;5;124mf\u001b[39m\u001b[38;5;124m\"\u001b[39m\u001b[38;5;124mNo such keys(s): \u001b[39m\u001b[38;5;132;01m{\u001b[39;00m\u001b[38;5;28mrepr\u001b[39m(pat)\u001b[38;5;132;01m}\u001b[39;00m\u001b[38;5;124m\"\u001b[39m)\n\u001b[1;32m    133\u001b[0m \u001b[38;5;28;01mif\u001b[39;00m \u001b[38;5;28mlen\u001b[39m(keys) \u001b[38;5;241m>\u001b[39m \u001b[38;5;241m1\u001b[39m:\n\u001b[1;32m    134\u001b[0m     \u001b[38;5;28;01mraise\u001b[39;00m OptionError(\u001b[38;5;124m\"\u001b[39m\u001b[38;5;124mPattern matched multiple keys\u001b[39m\u001b[38;5;124m\"\u001b[39m)\n",
      "\u001b[0;31mOptionError\u001b[0m: \"No such keys(s): 'mode.use_inf_as_null'\""
     ]
    },
    {
     "data": {
      "image/png": "[encoded data removed]",
      "text/plain": [
       "<Figure size 640x480 with 1 Axes>"
      ]
     },
     "metadata": {
      "image/png": {
       "height": 413,
       "width": 567
      }
     },
     "output_type": "display_data"
    }
   ],
   "source": [
    "sns.histplot(df['Pclass']).set(xlabel='Priority Class',ylabel='Number',title=\"Histogram of Priority Class\")"
   ]
  },
  {
   "cell_type": "markdown",
   "metadata": {
    "cell_id": "ec276ff651924aa3bb080d1bbbbbe1b9",
    "deepnote_cell_type": "markdown",
    "id": "ugI_-RPg4Aif"
   },
   "source": [
    "I would like to graph the x axis using the English name of the priority class"
   ]
  },
  {
   "cell_type": "code",
   "execution_count": null,
   "metadata": {
    "cell_id": "519f5505df0640e78b675ec926df1e12",
    "deepnote_cell_type": "code",
    "deepnote_to_be_reexecuted": false,
    "execution_millis": 152,
    "execution_start": 1708728317617,
    "id": "7Opgm-G3tlWO",
    "source_hash": null
   },
   "outputs": [],
   "source": [
    "dictionary = {1:'First', 2:'Second', 3:'Third'}"
   ]
  },
  {
   "cell_type": "code",
   "execution_count": null,
   "metadata": {
    "cell_id": "7298759f5cc841a0bf1871ab7aa2b0cf",
    "colab": {
     "base_uri": "https://localhost:8080/",
     "height": 447
    },
    "deepnote_cell_type": "code",
    "deepnote_to_be_reexecuted": false,
    "executionInfo": {
     "elapsed": 5,
     "status": "ok",
     "timestamp": 1632878269712,
     "user": {
      "displayName": "Shasha Liao",
      "photoUrl": "https://lh3.googleusercontent.com/a-/AOh14Ghf5Tj0GAz5by2x9KRBgR3ka1GNpPK67XG2GpESnA=s64",
      "userId": "03341420781931408968"
     },
     "user_tz": 240
    },
    "execution_millis": 110,
    "execution_start": 1708728319981,
    "id": "tN6N8bZ6t0fo",
    "outputId": "c77db905-a257-408e-c806-91bfbfc79dc5",
    "source_hash": null
   },
   "outputs": [
    {
     "data": {
      "application/vnd.deepnote.dataframe.v3+json": {
       "column_count": 2,
       "columns": [
        {
         "dtype": "int64",
         "name": "Pclass",
         "stats": {
          "histogram": [
           {
            "bin_end": 1.2,
            "bin_start": 1,
            "count": 216
           },
           {
            "bin_end": 1.4,
            "bin_start": 1.2,
            "count": 0
           },
           {
            "bin_end": 1.6,
            "bin_start": 1.4,
            "count": 0
           },
           {
            "bin_end": 1.8,
            "bin_start": 1.6,
            "count": 0
           },
           {
            "bin_end": 2,
            "bin_start": 1.8,
            "count": 0
           },
           {
            "bin_end": 2.2,
            "bin_start": 2,
            "count": 184
           },
           {
            "bin_end": 2.4000000000000004,
            "bin_start": 2.2,
            "count": 0
           },
           {
            "bin_end": 2.6,
            "bin_start": 2.4000000000000004,
            "count": 0
           },
           {
            "bin_end": 2.8,
            "bin_start": 2.6,
            "count": 0
           },
           {
            "bin_end": 3,
            "bin_start": 2.8,
            "count": 491
           }
          ],
          "max": "3",
          "min": "1",
          "nan_count": 0,
          "unique_count": 3
         }
        },
        {
         "dtype": "object",
         "name": "Priority",
         "stats": {
          "categories": [
           {
            "count": 491,
            "name": "Third"
           },
           {
            "count": 216,
            "name": "First"
           },
           {
            "count": 184,
            "name": "Second"
           }
          ],
          "nan_count": 0,
          "unique_count": 3
         }
        },
        {
         "dtype": "int64",
         "name": "_deepnote_index_column"
        }
       ],
       "row_count": 891,
       "rows": [
        {
         "Pclass": 3,
         "Priority": "Third",
         "_deepnote_index_column": 0
        },
        {
         "Pclass": 1,
         "Priority": "First",
         "_deepnote_index_column": 1
        },
        {
         "Pclass": 3,
         "Priority": "Third",
         "_deepnote_index_column": 2
        },
        {
         "Pclass": 1,
         "Priority": "First",
         "_deepnote_index_column": 3
        },
        {
         "Pclass": 3,
         "Priority": "Third",
         "_deepnote_index_column": 4
        },
        {
         "Pclass": 3,
         "Priority": "Third",
         "_deepnote_index_column": 5
        },
        {
         "Pclass": 1,
         "Priority": "First",
         "_deepnote_index_column": 6
        },
        {
         "Pclass": 3,
         "Priority": "Third",
         "_deepnote_index_column": 7
        },
        {
         "Pclass": 3,
         "Priority": "Third",
         "_deepnote_index_column": 8
        },
        {
         "Pclass": 2,
         "Priority": "Second",
         "_deepnote_index_column": 9
        }
       ]
      },
      "text/html": [
       "<div>\n",
       "<style scoped>\n",
       "    .dataframe tbody tr th:only-of-type {\n",
       "        vertical-align: middle;\n",
       "    }\n",
       "\n",
       "    .dataframe tbody tr th {\n",
       "        vertical-align: top;\n",
       "    }\n",
       "\n",
       "    .dataframe thead th {\n",
       "        text-align: right;\n",
       "    }\n",
       "</style>\n",
       "<table border=\"1\" class=\"dataframe\">\n",
       "  <thead>\n",
       "    <tr style=\"text-align: right;\">\n",
       "      <th></th>\n",
       "      <th>Pclass</th>\n",
       "      <th>Priority</th>\n",
       "    </tr>\n",
       "  </thead>\n",
       "  <tbody>\n",
       "    <tr>\n",
       "      <th>0</th>\n",
       "      <td>3</td>\n",
       "      <td>Third</td>\n",
       "    </tr>\n",
       "    <tr>\n",
       "      <th>1</th>\n",
       "      <td>1</td>\n",
       "      <td>First</td>\n",
       "    </tr>\n",
       "    <tr>\n",
       "      <th>2</th>\n",
       "      <td>3</td>\n",
       "      <td>Third</td>\n",
       "    </tr>\n",
       "    <tr>\n",
       "      <th>3</th>\n",
       "      <td>1</td>\n",
       "      <td>First</td>\n",
       "    </tr>\n",
       "    <tr>\n",
       "      <th>4</th>\n",
       "      <td>3</td>\n",
       "      <td>Third</td>\n",
       "    </tr>\n",
       "    <tr>\n",
       "      <th>...</th>\n",
       "      <td>...</td>\n",
       "      <td>...</td>\n",
       "    </tr>\n",
       "    <tr>\n",
       "      <th>886</th>\n",
       "      <td>2</td>\n",
       "      <td>Second</td>\n",
       "    </tr>\n",
       "    <tr>\n",
       "      <th>887</th>\n",
       "      <td>1</td>\n",
       "      <td>First</td>\n",
       "    </tr>\n",
       "    <tr>\n",
       "      <th>888</th>\n",
       "      <td>3</td>\n",
       "      <td>Third</td>\n",
       "    </tr>\n",
       "    <tr>\n",
       "      <th>889</th>\n",
       "      <td>1</td>\n",
       "      <td>First</td>\n",
       "    </tr>\n",
       "    <tr>\n",
       "      <th>890</th>\n",
       "      <td>3</td>\n",
       "      <td>Third</td>\n",
       "    </tr>\n",
       "  </tbody>\n",
       "</table>\n",
       "<p>891 rows × 2 columns</p>\n",
       "</div>"
      ],
      "text/plain": [
       "     Pclass Priority\n",
       "0         3    Third\n",
       "1         1    First\n",
       "2         3    Third\n",
       "3         1    First\n",
       "4         3    Third\n",
       "..      ...      ...\n",
       "886       2   Second\n",
       "887       1    First\n",
       "888       3    Third\n",
       "889       1    First\n",
       "890       3    Third\n",
       "\n",
       "[891 rows x 2 columns]"
      ]
     },
     "execution_count": 26,
     "metadata": {},
     "output_type": "execute_result"
    }
   ],
   "source": [
    "df[\"Priority\"] = df['Pclass'].map(dictionary)\n",
    "df[['Pclass', \"Priority\"]]"
   ]
  },
  {
   "cell_type": "code",
   "execution_count": null,
   "metadata": {
    "cell_id": "20df68b19d0741c8b1a84200e5b93cb9",
    "colab": {
     "base_uri": "https://localhost:8080/",
     "height": 303
    },
    "deepnote_cell_type": "code",
    "deepnote_to_be_reexecuted": false,
    "executionInfo": {
     "elapsed": 309,
     "status": "ok",
     "timestamp": 1632878288527,
     "user": {
      "displayName": "Shasha Liao",
      "photoUrl": "https://lh3.googleusercontent.com/a-/AOh14Ghf5Tj0GAz5by2x9KRBgR3ka1GNpPK67XG2GpESnA=s64",
      "userId": "03341420781931408968"
     },
     "user_tz": 240
    },
    "execution_millis": 250,
    "execution_start": 1708728334341,
    "id": "PinWXsQ0qx2s",
    "outputId": "40fe349a-08e2-4b17-9ef6-6c8f6f6f9034",
    "source_hash": null
   },
   "outputs": [
    {
     "data": {
      "text/plain": [
       "<AxesSubplot: >"
      ]
     },
     "execution_count": 27,
     "metadata": {},
     "output_type": "execute_result"
    },
    {
     "data": {
      "image/png": "[encoded data removed]",
      "text/plain": [
       "<Figure size 640x480 with 1 Axes>"
      ]
     },
     "metadata": {
      "image/png": {
       "height": 413,
       "width": 555
      }
     },
     "output_type": "display_data"
    }
   ],
   "source": [
    "df['Priority'].hist()"
   ]
  },
  {
   "cell_type": "code",
   "execution_count": null,
   "metadata": {
    "cell_id": "c7306a4a01b6423ab2047969513bccad",
    "colab": {
     "base_uri": "https://localhost:8080/",
     "height": 338
    },
    "deepnote_cell_type": "code",
    "deepnote_to_be_reexecuted": false,
    "executionInfo": {
     "elapsed": 382,
     "status": "ok",
     "timestamp": 1632878299411,
     "user": {
      "displayName": "Shasha Liao",
      "photoUrl": "https://lh3.googleusercontent.com/a-/AOh14Ghf5Tj0GAz5by2x9KRBgR3ka1GNpPK67XG2GpESnA=s64",
      "userId": "03341420781931408968"
     },
     "user_tz": 240
    },
    "execution_millis": 240,
    "execution_start": 1708728347091,
    "id": "LcCCqXabiYMP",
    "outputId": "a8693f3a-5c71-4181-e6d7-42d2aba8e217",
    "source_hash": null
   },
   "outputs": [
    {
     "data": {
      "text/plain": [
       "(array([491.,   0.,   0.,   0.,   0., 216.,   0.,   0.,   0., 184.]),\n",
       " array([0. , 0.2, 0.4, 0.6, 0.8, 1. , 1.2, 1.4, 1.6, 1.8, 2. ]),\n",
       " <BarContainer object of 10 artists>)"
      ]
     },
     "execution_count": 28,
     "metadata": {},
     "output_type": "execute_result"
    },
    {
     "data": {
      "image/png": "[encoded data removed]",
      "text/plain": [
       "<Figure size 640x480 with 1 Axes>"
      ]
     },
     "metadata": {
      "image/png": {
       "height": 413,
       "width": 555
      }
     },
     "output_type": "display_data"
    }
   ],
   "source": [
    "plt.hist(df['Priority'])"
   ]
  },
  {
   "cell_type": "code",
   "execution_count": null,
   "metadata": {
    "cell_id": "2b7f11918183421e8f1fc9950c6c8cab",
    "colab": {
     "base_uri": "https://localhost:8080/",
     "height": 316
    },
    "deepnote_cell_type": "code",
    "deepnote_to_be_reexecuted": false,
    "executionInfo": {
     "elapsed": 414,
     "status": "ok",
     "timestamp": 1632878304593,
     "user": {
      "displayName": "Shasha Liao",
      "photoUrl": "https://lh3.googleusercontent.com/a-/AOh14Ghf5Tj0GAz5by2x9KRBgR3ka1GNpPK67XG2GpESnA=s64",
      "userId": "03341420781931408968"
     },
     "user_tz": 240
    },
    "execution_millis": 206,
    "execution_start": 1708728388846,
    "id": "AUf5jl4xqvRo",
    "outputId": "ed3b7f1e-aeb7-4ced-ec54-faf375a7c65d",
    "source_hash": null
   },
   "outputs": [
    {
     "ename": "OptionError",
     "evalue": "\"No such keys(s): 'mode.use_inf_as_null'\"",
     "output_type": "error",
     "traceback": [
      "\u001b[0;31m---------------------------------------------------------------------------\u001b[0m",
      "\u001b[0;31mOptionError\u001b[0m                               Traceback (most recent call last)",
      "Cell \u001b[0;32mIn [29], line 1\u001b[0m\n\u001b[0;32m----> 1\u001b[0m \u001b[43msns\u001b[49m\u001b[38;5;241;43m.\u001b[39;49m\u001b[43mhistplot\u001b[49m\u001b[43m(\u001b[49m\u001b[43mdf\u001b[49m\u001b[43m,\u001b[49m\u001b[43mx\u001b[49m\u001b[38;5;241;43m=\u001b[39;49m\u001b[38;5;124;43m'\u001b[39;49m\u001b[38;5;124;43mPriority\u001b[39;49m\u001b[38;5;124;43m'\u001b[39;49m\u001b[43m)\u001b[49m\n",
      "File \u001b[0;32m/shared-libs/python3.9/py/lib/python3.9/site-packages/seaborn/distributions.py:1432\u001b[0m, in \u001b[0;36mhistplot\u001b[0;34m(data, x, y, hue, weights, stat, bins, binwidth, binrange, discrete, cumulative, common_bins, common_norm, multiple, element, fill, shrink, kde, kde_kws, line_kws, thresh, pthresh, pmax, cbar, cbar_ax, cbar_kws, palette, hue_order, hue_norm, color, log_scale, legend, ax, **kwargs)\u001b[0m\n\u001b[1;32m   1421\u001b[0m estimate_kws \u001b[38;5;241m=\u001b[39m \u001b[38;5;28mdict\u001b[39m(\n\u001b[1;32m   1422\u001b[0m     stat\u001b[38;5;241m=\u001b[39mstat,\n\u001b[1;32m   1423\u001b[0m     bins\u001b[38;5;241m=\u001b[39mbins,\n\u001b[0;32m   (...)\u001b[0m\n\u001b[1;32m   1427\u001b[0m     cumulative\u001b[38;5;241m=\u001b[39mcumulative,\n\u001b[1;32m   1428\u001b[0m )\n\u001b[1;32m   1430\u001b[0m \u001b[38;5;28;01mif\u001b[39;00m p\u001b[38;5;241m.\u001b[39munivariate:\n\u001b[0;32m-> 1432\u001b[0m     \u001b[43mp\u001b[49m\u001b[38;5;241;43m.\u001b[39;49m\u001b[43mplot_univariate_histogram\u001b[49m\u001b[43m(\u001b[49m\n\u001b[1;32m   1433\u001b[0m \u001b[43m        \u001b[49m\u001b[43mmultiple\u001b[49m\u001b[38;5;241;43m=\u001b[39;49m\u001b[43mmultiple\u001b[49m\u001b[43m,\u001b[49m\n\u001b[1;32m   1434\u001b[0m \u001b[43m        \u001b[49m\u001b[43melement\u001b[49m\u001b[38;5;241;43m=\u001b[39;49m\u001b[43melement\u001b[49m\u001b[43m,\u001b[49m\n\u001b[1;32m   1435\u001b[0m \u001b[43m        \u001b[49m\u001b[43mfill\u001b[49m\u001b[38;5;241;43m=\u001b[39;49m\u001b[43mfill\u001b[49m\u001b[43m,\u001b[49m\n\u001b[1;32m   1436\u001b[0m \u001b[43m        \u001b[49m\u001b[43mshrink\u001b[49m\u001b[38;5;241;43m=\u001b[39;49m\u001b[43mshrink\u001b[49m\u001b[43m,\u001b[49m\n\u001b[1;32m   1437\u001b[0m \u001b[43m        \u001b[49m\u001b[43mcommon_norm\u001b[49m\u001b[38;5;241;43m=\u001b[39;49m\u001b[43mcommon_norm\u001b[49m\u001b[43m,\u001b[49m\n\u001b[1;32m   1438\u001b[0m \u001b[43m        \u001b[49m\u001b[43mcommon_bins\u001b[49m\u001b[38;5;241;43m=\u001b[39;49m\u001b[43mcommon_bins\u001b[49m\u001b[43m,\u001b[49m\n\u001b[1;32m   1439\u001b[0m \u001b[43m        \u001b[49m\u001b[43mkde\u001b[49m\u001b[38;5;241;43m=\u001b[39;49m\u001b[43mkde\u001b[49m\u001b[43m,\u001b[49m\n\u001b[1;32m   1440\u001b[0m \u001b[43m        \u001b[49m\u001b[43mkde_kws\u001b[49m\u001b[38;5;241;43m=\u001b[39;49m\u001b[43mkde_kws\u001b[49m\u001b[43m,\u001b[49m\n\u001b[1;32m   1441\u001b[0m \u001b[43m        \u001b[49m\u001b[43mcolor\u001b[49m\u001b[38;5;241;43m=\u001b[39;49m\u001b[43mcolor\u001b[49m\u001b[43m,\u001b[49m\n\u001b[1;32m   1442\u001b[0m \u001b[43m        \u001b[49m\u001b[43mlegend\u001b[49m\u001b[38;5;241;43m=\u001b[39;49m\u001b[43mlegend\u001b[49m\u001b[43m,\u001b[49m\n\u001b[1;32m   1443\u001b[0m \u001b[43m        \u001b[49m\u001b[43mestimate_kws\u001b[49m\u001b[38;5;241;43m=\u001b[39;49m\u001b[43mestimate_kws\u001b[49m\u001b[43m,\u001b[49m\n\u001b[1;32m   1444\u001b[0m \u001b[43m        \u001b[49m\u001b[43mline_kws\u001b[49m\u001b[38;5;241;43m=\u001b[39;49m\u001b[43mline_kws\u001b[49m\u001b[43m,\u001b[49m\n\u001b[1;32m   1445\u001b[0m \u001b[43m        \u001b[49m\u001b[38;5;241;43m*\u001b[39;49m\u001b[38;5;241;43m*\u001b[39;49m\u001b[43mkwargs\u001b[49m\u001b[43m,\u001b[49m\n\u001b[1;32m   1446\u001b[0m \u001b[43m    \u001b[49m\u001b[43m)\u001b[49m\n\u001b[1;32m   1448\u001b[0m \u001b[38;5;28;01melse\u001b[39;00m:\n\u001b[1;32m   1450\u001b[0m     p\u001b[38;5;241m.\u001b[39mplot_bivariate_histogram(\n\u001b[1;32m   1451\u001b[0m         common_bins\u001b[38;5;241m=\u001b[39mcommon_bins,\n\u001b[1;32m   1452\u001b[0m         common_norm\u001b[38;5;241m=\u001b[39mcommon_norm,\n\u001b[0;32m   (...)\u001b[0m\n\u001b[1;32m   1462\u001b[0m         \u001b[38;5;241m*\u001b[39m\u001b[38;5;241m*\u001b[39mkwargs,\n\u001b[1;32m   1463\u001b[0m     )\n",
      "File \u001b[0;32m/shared-libs/python3.9/py/lib/python3.9/site-packages/seaborn/distributions.py:430\u001b[0m, in \u001b[0;36m_DistributionPlotter.plot_univariate_histogram\u001b[0;34m(self, multiple, element, fill, common_norm, common_bins, shrink, kde, kde_kws, color, legend, line_kws, estimate_kws, **plot_kws)\u001b[0m\n\u001b[1;32m    427\u001b[0m histograms \u001b[38;5;241m=\u001b[39m {}\n\u001b[1;32m    429\u001b[0m \u001b[38;5;66;03m# Do pre-compute housekeeping related to multiple groups\u001b[39;00m\n\u001b[0;32m--> 430\u001b[0m all_data \u001b[38;5;241m=\u001b[39m \u001b[38;5;28;43mself\u001b[39;49m\u001b[38;5;241;43m.\u001b[39;49m\u001b[43mcomp_data\u001b[49m\u001b[38;5;241m.\u001b[39mdropna()\n\u001b[1;32m    431\u001b[0m all_weights \u001b[38;5;241m=\u001b[39m all_data\u001b[38;5;241m.\u001b[39mget(\u001b[38;5;124m\"\u001b[39m\u001b[38;5;124mweights\u001b[39m\u001b[38;5;124m\"\u001b[39m, \u001b[38;5;28;01mNone\u001b[39;00m)\n\u001b[1;32m    433\u001b[0m multiple_histograms \u001b[38;5;241m=\u001b[39m \u001b[38;5;28mset\u001b[39m(\u001b[38;5;28mself\u001b[39m\u001b[38;5;241m.\u001b[39mvariables) \u001b[38;5;241m-\u001b[39m {\u001b[38;5;124m\"\u001b[39m\u001b[38;5;124mx\u001b[39m\u001b[38;5;124m\"\u001b[39m, \u001b[38;5;124m\"\u001b[39m\u001b[38;5;124my\u001b[39m\u001b[38;5;124m\"\u001b[39m}\n",
      "File \u001b[0;32m/shared-libs/python3.9/py/lib/python3.9/site-packages/seaborn/_oldcore.py:1119\u001b[0m, in \u001b[0;36mVectorPlotter.comp_data\u001b[0;34m(self)\u001b[0m\n\u001b[1;32m   1117\u001b[0m grouped \u001b[38;5;241m=\u001b[39m \u001b[38;5;28mself\u001b[39m\u001b[38;5;241m.\u001b[39mplot_data[var]\u001b[38;5;241m.\u001b[39mgroupby(\u001b[38;5;28mself\u001b[39m\u001b[38;5;241m.\u001b[39mconverters[var], sort\u001b[38;5;241m=\u001b[39m\u001b[38;5;28;01mFalse\u001b[39;00m)\n\u001b[1;32m   1118\u001b[0m \u001b[38;5;28;01mfor\u001b[39;00m converter, orig \u001b[38;5;129;01min\u001b[39;00m grouped:\n\u001b[0;32m-> 1119\u001b[0m     \u001b[38;5;28;01mwith\u001b[39;00m pd\u001b[38;5;241m.\u001b[39moption_context(\u001b[38;5;124m'\u001b[39m\u001b[38;5;124mmode.use_inf_as_null\u001b[39m\u001b[38;5;124m'\u001b[39m, \u001b[38;5;28;01mTrue\u001b[39;00m):\n\u001b[1;32m   1120\u001b[0m         orig \u001b[38;5;241m=\u001b[39m orig\u001b[38;5;241m.\u001b[39mdropna()\n\u001b[1;32m   1121\u001b[0m         \u001b[38;5;28;01mif\u001b[39;00m var \u001b[38;5;129;01min\u001b[39;00m \u001b[38;5;28mself\u001b[39m\u001b[38;5;241m.\u001b[39mvar_levels:\n\u001b[1;32m   1122\u001b[0m             \u001b[38;5;66;03m# TODO this should happen in some centralized location\u001b[39;00m\n\u001b[1;32m   1123\u001b[0m             \u001b[38;5;66;03m# it is similar to GH2419, but more complicated because\u001b[39;00m\n\u001b[1;32m   1124\u001b[0m             \u001b[38;5;66;03m# supporting `order` in categorical plots is tricky\u001b[39;00m\n",
      "File \u001b[0;32m/shared-libs/python3.9/py/lib/python3.9/site-packages/pandas/_config/config.py:478\u001b[0m, in \u001b[0;36moption_context.__enter__\u001b[0;34m(self)\u001b[0m\n\u001b[1;32m    477\u001b[0m \u001b[38;5;28;01mdef\u001b[39;00m \u001b[38;5;21m__enter__\u001b[39m(\u001b[38;5;28mself\u001b[39m) \u001b[38;5;241m-\u001b[39m\u001b[38;5;241m>\u001b[39m \u001b[38;5;28;01mNone\u001b[39;00m:\n\u001b[0;32m--> 478\u001b[0m     \u001b[38;5;28mself\u001b[39m\u001b[38;5;241m.\u001b[39mundo \u001b[38;5;241m=\u001b[39m [(pat, _get_option(pat)) \u001b[38;5;28;01mfor\u001b[39;00m pat, val \u001b[38;5;129;01min\u001b[39;00m \u001b[38;5;28mself\u001b[39m\u001b[38;5;241m.\u001b[39mops]\n\u001b[1;32m    480\u001b[0m     \u001b[38;5;28;01mfor\u001b[39;00m pat, val \u001b[38;5;129;01min\u001b[39;00m \u001b[38;5;28mself\u001b[39m\u001b[38;5;241m.\u001b[39mops:\n\u001b[1;32m    481\u001b[0m         _set_option(pat, val, silent\u001b[38;5;241m=\u001b[39m\u001b[38;5;28;01mTrue\u001b[39;00m)\n",
      "File \u001b[0;32m/shared-libs/python3.9/py/lib/python3.9/site-packages/pandas/_config/config.py:478\u001b[0m, in \u001b[0;36m<listcomp>\u001b[0;34m(.0)\u001b[0m\n\u001b[1;32m    477\u001b[0m \u001b[38;5;28;01mdef\u001b[39;00m \u001b[38;5;21m__enter__\u001b[39m(\u001b[38;5;28mself\u001b[39m) \u001b[38;5;241m-\u001b[39m\u001b[38;5;241m>\u001b[39m \u001b[38;5;28;01mNone\u001b[39;00m:\n\u001b[0;32m--> 478\u001b[0m     \u001b[38;5;28mself\u001b[39m\u001b[38;5;241m.\u001b[39mundo \u001b[38;5;241m=\u001b[39m [(pat, \u001b[43m_get_option\u001b[49m\u001b[43m(\u001b[49m\u001b[43mpat\u001b[49m\u001b[43m)\u001b[49m) \u001b[38;5;28;01mfor\u001b[39;00m pat, val \u001b[38;5;129;01min\u001b[39;00m \u001b[38;5;28mself\u001b[39m\u001b[38;5;241m.\u001b[39mops]\n\u001b[1;32m    480\u001b[0m     \u001b[38;5;28;01mfor\u001b[39;00m pat, val \u001b[38;5;129;01min\u001b[39;00m \u001b[38;5;28mself\u001b[39m\u001b[38;5;241m.\u001b[39mops:\n\u001b[1;32m    481\u001b[0m         _set_option(pat, val, silent\u001b[38;5;241m=\u001b[39m\u001b[38;5;28;01mTrue\u001b[39;00m)\n",
      "File \u001b[0;32m/shared-libs/python3.9/py/lib/python3.9/site-packages/pandas/_config/config.py:146\u001b[0m, in \u001b[0;36m_get_option\u001b[0;34m(pat, silent)\u001b[0m\n\u001b[1;32m    145\u001b[0m \u001b[38;5;28;01mdef\u001b[39;00m \u001b[38;5;21m_get_option\u001b[39m(pat: \u001b[38;5;28mstr\u001b[39m, silent: \u001b[38;5;28mbool\u001b[39m \u001b[38;5;241m=\u001b[39m \u001b[38;5;28;01mFalse\u001b[39;00m) \u001b[38;5;241m-\u001b[39m\u001b[38;5;241m>\u001b[39m Any:\n\u001b[0;32m--> 146\u001b[0m     key \u001b[38;5;241m=\u001b[39m \u001b[43m_get_single_key\u001b[49m\u001b[43m(\u001b[49m\u001b[43mpat\u001b[49m\u001b[43m,\u001b[49m\u001b[43m \u001b[49m\u001b[43msilent\u001b[49m\u001b[43m)\u001b[49m\n\u001b[1;32m    148\u001b[0m     \u001b[38;5;66;03m# walk the nested dict\u001b[39;00m\n\u001b[1;32m    149\u001b[0m     root, k \u001b[38;5;241m=\u001b[39m _get_root(key)\n",
      "File \u001b[0;32m/shared-libs/python3.9/py/lib/python3.9/site-packages/pandas/_config/config.py:132\u001b[0m, in \u001b[0;36m_get_single_key\u001b[0;34m(pat, silent)\u001b[0m\n\u001b[1;32m    130\u001b[0m     \u001b[38;5;28;01mif\u001b[39;00m \u001b[38;5;129;01mnot\u001b[39;00m silent:\n\u001b[1;32m    131\u001b[0m         _warn_if_deprecated(pat)\n\u001b[0;32m--> 132\u001b[0m     \u001b[38;5;28;01mraise\u001b[39;00m OptionError(\u001b[38;5;124mf\u001b[39m\u001b[38;5;124m\"\u001b[39m\u001b[38;5;124mNo such keys(s): \u001b[39m\u001b[38;5;132;01m{\u001b[39;00m\u001b[38;5;28mrepr\u001b[39m(pat)\u001b[38;5;132;01m}\u001b[39;00m\u001b[38;5;124m\"\u001b[39m)\n\u001b[1;32m    133\u001b[0m \u001b[38;5;28;01mif\u001b[39;00m \u001b[38;5;28mlen\u001b[39m(keys) \u001b[38;5;241m>\u001b[39m \u001b[38;5;241m1\u001b[39m:\n\u001b[1;32m    134\u001b[0m     \u001b[38;5;28;01mraise\u001b[39;00m OptionError(\u001b[38;5;124m\"\u001b[39m\u001b[38;5;124mPattern matched multiple keys\u001b[39m\u001b[38;5;124m\"\u001b[39m)\n",
      "\u001b[0;31mOptionError\u001b[0m: \"No such keys(s): 'mode.use_inf_as_null'\""
     ]
    },
    {
     "data": {
      "image/png": "[encoded data removed]",
      "text/plain": [
       "<Figure size 640x480 with 1 Axes>"
      ]
     },
     "metadata": {
      "image/png": {
       "height": 413,
       "width": 567
      }
     },
     "output_type": "display_data"
    }
   ],
   "source": [
    "sns.histplot(df,x='Priority')"
   ]
  },
  {
   "cell_type": "code",
   "execution_count": null,
   "metadata": {
    "cell_id": "ab79e743874647569d4e53aa93c5eeef",
    "colab": {
     "base_uri": "https://localhost:8080/",
     "height": 352
    },
    "deepnote_cell_type": "code",
    "deepnote_to_be_reexecuted": true,
    "executionInfo": {
     "elapsed": 151,
     "status": "ok",
     "timestamp": 1632785491282,
     "user": {
      "displayName": "Shasha Liao",
      "photoUrl": "https://lh3.googleusercontent.com/a-/AOh14Ghf5Tj0GAz5by2x9KRBgR3ka1GNpPK67XG2GpESnA=s64",
      "userId": "03341420781931408968"
     },
     "user_tz": 240
    },
    "execution_millis": 195,
    "execution_start": 1658203312460,
    "id": "H-B7cQant5Ke",
    "outputId": "0a0eabb3-76f1-41c8-a4c4-92b3ce6ef3a5",
    "source_hash": null
   },
   "outputs": [
    {
     "name": "stderr",
     "output_type": "stream",
     "text": [
      "/shared-libs/python3.9/py/lib/python3.9/site-packages/seaborn/_decorators.py:36: FutureWarning: Pass the following variable as a keyword arg: x. From version 0.12, the only valid positional argument will be `data`, and passing other arguments without an explicit keyword will result in an error or misinterpretation.\n",
      "  warnings.warn(\n"
     ]
    },
    {
     "data": {
      "text/plain": [
       "<AxesSubplot:xlabel='Priority', ylabel='count'>"
      ]
     },
     "execution_count": 29,
     "metadata": {},
     "output_type": "execute_result"
    },
    {
     "data": {
      "image/png": "[encoded data removed]",
      "text/plain": [
       "<Figure size 432x288 with 1 Axes>"
      ]
     },
     "metadata": {
      "image/png": {
       "height": 262,
       "width": 389
      },
      "needs_background": "light"
     },
     "output_type": "display_data"
    }
   ],
   "source": [
    "sns.countplot(df[\"Priority\"])"
   ]
  },
  {
   "cell_type": "markdown",
   "metadata": {
    "cell_id": "8f5497d764084faabdfd7ffae81514b2",
    "deepnote_cell_type": "markdown",
    "id": "9zEWdU0f18hW"
   },
   "source": [
    "Now I wish to look at the distribution of age. We can use the histogram or distribution plot."
   ]
  },
  {
   "cell_type": "code",
   "execution_count": null,
   "metadata": {
    "cell_id": "86dfe96cc0994608b582de25fcd8cf86",
    "colab": {
     "base_uri": "https://localhost:8080/",
     "height": 303
    },
    "deepnote_cell_type": "code",
    "deepnote_to_be_reexecuted": false,
    "executionInfo": {
     "elapsed": 369,
     "status": "ok",
     "timestamp": 1632878342302,
     "user": {
      "displayName": "Shasha Liao",
      "photoUrl": "https://lh3.googleusercontent.com/a-/AOh14Ghf5Tj0GAz5by2x9KRBgR3ka1GNpPK67XG2GpESnA=s64",
      "userId": "03341420781931408968"
     },
     "user_tz": 240
    },
    "execution_millis": 226,
    "execution_start": 1708728432722,
    "id": "kupm60Xs2Mbs",
    "outputId": "18f154a1-e140-47fa-ee3e-6ecc71bfffab",
    "source_hash": null
   },
   "outputs": [
    {
     "data": {
      "text/plain": [
       "<AxesSubplot: ylabel='Frequency'>"
      ]
     },
     "execution_count": 30,
     "metadata": {},
     "output_type": "execute_result"
    },
    {
     "data": {
      "image/png": "[encoded data removed]",
      "text/plain": [
       "<Figure size 640x480 with 1 Axes>"
      ]
     },
     "metadata": {
      "image/png": {
       "height": 413,
       "width": 571
      }
     },
     "output_type": "display_data"
    }
   ],
   "source": [
    "df['Age'].dropna().plot(kind='hist')"
   ]
  },
  {
   "cell_type": "code",
   "execution_count": null,
   "metadata": {
    "cell_id": "490321e4073e4f5fb3ca95233bd9d4e0",
    "colab": {
     "base_uri": "https://localhost:8080/",
     "height": 408
    },
    "deepnote_cell_type": "code",
    "deepnote_to_be_reexecuted": false,
    "executionInfo": {
     "elapsed": 266,
     "status": "ok",
     "timestamp": 1632878348288,
     "user": {
      "displayName": "Shasha Liao",
      "photoUrl": "https://lh3.googleusercontent.com/a-/AOh14Ghf5Tj0GAz5by2x9KRBgR3ka1GNpPK67XG2GpESnA=s64",
      "userId": "03341420781931408968"
     },
     "user_tz": 240
    },
    "execution_millis": 281,
    "execution_start": 1708728450841,
    "id": "u2WufTpN-AmB",
    "outputId": "fadb0982-6408-4b3c-8fe1-b140a6f9c343",
    "source_hash": null
   },
   "outputs": [
    {
     "data": {
      "text/plain": [
       "(array([ 44.,  24.,  32., 104., 115., 127.,  80.,  59.,  49.,  30.,  22.,\n",
       "         17.,   4.,   6.,   1.]),\n",
       " array([ 0.42      ,  5.72533333, 11.03066667, 16.336     , 21.64133333,\n",
       "        26.94666667, 32.252     , 37.55733333, 42.86266667, 48.168     ,\n",
       "        53.47333333, 58.77866667, 64.084     , 69.38933333, 74.69466667,\n",
       "        80.        ]),\n",
       " <BarContainer object of 15 artists>)"
      ]
     },
     "execution_count": 31,
     "metadata": {},
     "output_type": "execute_result"
    },
    {
     "data": {
      "image/png": "[encoded data removed]",
      "text/plain": [
       "<Figure size 640x480 with 1 Axes>"
      ]
     },
     "metadata": {
      "image/png": {
       "height": 413,
       "width": 552
      }
     },
     "output_type": "display_data"
    }
   ],
   "source": [
    "plt.hist(df['Age'].dropna(), bins = 15)"
   ]
  },
  {
   "cell_type": "code",
   "execution_count": null,
   "metadata": {
    "cell_id": "25b6fb8a79f94325958fba1ee3b3d43e",
    "colab": {
     "base_uri": "https://localhost:8080/",
     "height": 316
    },
    "deepnote_cell_type": "code",
    "deepnote_to_be_reexecuted": true,
    "executionInfo": {
     "elapsed": 336,
     "status": "ok",
     "timestamp": 1632878352788,
     "user": {
      "displayName": "Shasha Liao",
      "photoUrl": "https://lh3.googleusercontent.com/a-/AOh14Ghf5Tj0GAz5by2x9KRBgR3ka1GNpPK67XG2GpESnA=s64",
      "userId": "03341420781931408968"
     },
     "user_tz": 240
    },
    "execution_millis": 482,
    "execution_start": 1658203313192,
    "id": "iLKQzjNE2g-3",
    "outputId": "061cfe38-0918-4f3c-e1c4-78794af7eefb",
    "source_hash": null
   },
   "outputs": [
    {
     "data": {
      "text/plain": [
       "<AxesSubplot:xlabel='Age', ylabel='Count'>"
      ]
     },
     "execution_count": 32,
     "metadata": {},
     "output_type": "execute_result"
    },
    {
     "data": {
      "image/png": "[encoded data removed]",
      "text/plain": [
       "<Figure size 432x288 with 1 Axes>"
      ]
     },
     "metadata": {
      "image/png": {
       "height": 262,
       "width": 389
      },
      "needs_background": "light"
     },
     "output_type": "display_data"
    }
   ],
   "source": [
    "sns.histplot(data = df, x = \"Age\")"
   ]
  },
  {
   "cell_type": "code",
   "execution_count": null,
   "metadata": {
    "cell_id": "4a0eb5d3c7874582a0da2ecc9191ac18",
    "colab": {
     "base_uri": "https://localhost:8080/",
     "height": 334
    },
    "deepnote_cell_type": "code",
    "deepnote_to_be_reexecuted": true,
    "executionInfo": {
     "elapsed": 511,
     "status": "ok",
     "timestamp": 1632785492690,
     "user": {
      "displayName": "Shasha Liao",
      "photoUrl": "https://lh3.googleusercontent.com/a-/AOh14Ghf5Tj0GAz5by2x9KRBgR3ka1GNpPK67XG2GpESnA=s64",
      "userId": "03341420781931408968"
     },
     "user_tz": 240
    },
    "execution_millis": 256,
    "execution_start": 1658203313445,
    "id": "Aov_KSqa24BR",
    "outputId": "b0f831a0-5729-4954-f079-f8cabc1c301f",
    "source_hash": null
   },
   "outputs": [
    {
     "name": "stderr",
     "output_type": "stream",
     "text": [
      "/shared-libs/python3.9/py/lib/python3.9/site-packages/seaborn/distributions.py:2619: FutureWarning: `distplot` is a deprecated function and will be removed in a future version. Please adapt your code to use either `displot` (a figure-level function with similar flexibility) or `histplot` (an axes-level function for histograms).\n",
      "  warnings.warn(msg, FutureWarning)\n"
     ]
    },
    {
     "data": {
      "image/png": "[encoded data removed]",
      "text/plain": [
       "<Figure size 432x288 with 1 Axes>"
      ]
     },
     "metadata": {
      "image/png": {
       "height": 262,
       "width": 398
      },
      "needs_background": "light"
     },
     "output_type": "display_data"
    }
   ],
   "source": [
    "# histogram and density curve\n",
    "plot = sns.distplot(df['Age'].dropna(),bins=8)\n",
    "# plot.set(xlim=(0,80))"
   ]
  },
  {
   "cell_type": "markdown",
   "metadata": {
    "cell_id": "1330cf740ac7479daea10befaf88941f",
    "deepnote_cell_type": "markdown",
    "id": "2pHanMBq4xgY"
   },
   "source": [
    "I currently have a theory. It seems to me that people of a higher priority class should have an equal rate of survival as people in lower classes because money should not buy an individual anything at the expense of others. I'm going to visualize this for myself and look at the number of people who live and die based on their priority class."
   ]
  },
  {
   "cell_type": "code",
   "execution_count": null,
   "metadata": {
    "cell_id": "a045d04336634b088768b72d801f2ae1",
    "colab": {
     "base_uri": "https://localhost:8080/",
     "height": 447
    },
    "deepnote_cell_type": "code",
    "deepnote_to_be_reexecuted": false,
    "executionInfo": {
     "elapsed": 9,
     "status": "ok",
     "timestamp": 1632785492691,
     "user": {
      "displayName": "Shasha Liao",
      "photoUrl": "https://lh3.googleusercontent.com/a-/AOh14Ghf5Tj0GAz5by2x9KRBgR3ka1GNpPK67XG2GpESnA=s64",
      "userId": "03341420781931408968"
     },
     "user_tz": 240
    },
    "execution_millis": 265,
    "execution_start": 1708728540627,
    "id": "38RRfIgP5PcO",
    "outputId": "f1c4a2a2-bd00-4fec-c102-fc4e2c525c0a",
    "source_hash": null
   },
   "outputs": [
    {
     "data": {
      "application/vnd.deepnote.dataframe.v3+json": {
       "column_count": 13,
       "columns": [
        {
         "dtype": "int64",
         "name": "PassengerId",
         "stats": {
          "histogram": [
           {
            "bin_end": 90,
            "bin_start": 1,
            "count": 89
           },
           {
            "bin_end": 179,
            "bin_start": 90,
            "count": 89
           },
           {
            "bin_end": 268,
            "bin_start": 179,
            "count": 89
           },
           {
            "bin_end": 357,
            "bin_start": 268,
            "count": 89
           },
           {
            "bin_end": 446,
            "bin_start": 357,
            "count": 89
           },
           {
            "bin_end": 535,
            "bin_start": 446,
            "count": 89
           },
           {
            "bin_end": 624,
            "bin_start": 535,
            "count": 89
           },
           {
            "bin_end": 713,
            "bin_start": 624,
            "count": 89
           },
           {
            "bin_end": 802,
            "bin_start": 713,
            "count": 89
           },
           {
            "bin_end": 891,
            "bin_start": 802,
            "count": 90
           }
          ],
          "max": "891",
          "min": "1",
          "nan_count": 0,
          "unique_count": 891
         }
        },
        {
         "dtype": "int64",
         "name": "Survived",
         "stats": {
          "histogram": [
           {
            "bin_end": 0.1,
            "bin_start": 0,
            "count": 549
           },
           {
            "bin_end": 0.2,
            "bin_start": 0.1,
            "count": 0
           },
           {
            "bin_end": 0.30000000000000004,
            "bin_start": 0.2,
            "count": 0
           },
           {
            "bin_end": 0.4,
            "bin_start": 0.30000000000000004,
            "count": 0
           },
           {
            "bin_end": 0.5,
            "bin_start": 0.4,
            "count": 0
           },
           {
            "bin_end": 0.6000000000000001,
            "bin_start": 0.5,
            "count": 0
           },
           {
            "bin_end": 0.7000000000000001,
            "bin_start": 0.6000000000000001,
            "count": 0
           },
           {
            "bin_end": 0.8,
            "bin_start": 0.7000000000000001,
            "count": 0
           },
           {
            "bin_end": 0.9,
            "bin_start": 0.8,
            "count": 0
           },
           {
            "bin_end": 1,
            "bin_start": 0.9,
            "count": 342
           }
          ],
          "max": "1",
          "min": "0",
          "nan_count": 0,
          "unique_count": 2
         }
        },
        {
         "dtype": "int64",
         "name": "Pclass",
         "stats": {
          "histogram": [
           {
            "bin_end": 1.2,
            "bin_start": 1,
            "count": 216
           },
           {
            "bin_end": 1.4,
            "bin_start": 1.2,
            "count": 0
           },
           {
            "bin_end": 1.6,
            "bin_start": 1.4,
            "count": 0
           },
           {
            "bin_end": 1.8,
            "bin_start": 1.6,
            "count": 0
           },
           {
            "bin_end": 2,
            "bin_start": 1.8,
            "count": 0
           },
           {
            "bin_end": 2.2,
            "bin_start": 2,
            "count": 184
           },
           {
            "bin_end": 2.4000000000000004,
            "bin_start": 2.2,
            "count": 0
           },
           {
            "bin_end": 2.6,
            "bin_start": 2.4000000000000004,
            "count": 0
           },
           {
            "bin_end": 2.8,
            "bin_start": 2.6,
            "count": 0
           },
           {
            "bin_end": 3,
            "bin_start": 2.8,
            "count": 491
           }
          ],
          "max": "3",
          "min": "1",
          "nan_count": 0,
          "unique_count": 3
         }
        },
        {
         "dtype": "object",
         "name": "Name",
         "stats": {
          "categories": [
           {
            "count": 1,
            "name": "Braund, Mr. Owen Harris"
           },
           {
            "count": 1,
            "name": "Cumings, Mrs. John Bradley (Florence Briggs Thayer)"
           },
           {
            "count": 889,
            "name": "889 others"
           }
          ],
          "nan_count": 0,
          "unique_count": 891
         }
        },
        {
         "dtype": "object",
         "name": "Sex",
         "stats": {
          "categories": [
           {
            "count": 577,
            "name": "male"
           },
           {
            "count": 314,
            "name": "female"
           }
          ],
          "nan_count": 0,
          "unique_count": 2
         }
        },
        {
         "dtype": "float64",
         "name": "Age",
         "stats": {
          "histogram": [
           {
            "bin_end": 8.378,
            "bin_start": 0.42,
            "count": 54
           },
           {
            "bin_end": 16.336000000000002,
            "bin_start": 8.378,
            "count": 46
           },
           {
            "bin_end": 24.294000000000004,
            "bin_start": 16.336000000000002,
            "count": 177
           },
           {
            "bin_end": 32.252,
            "bin_start": 24.294000000000004,
            "count": 169
           },
           {
            "bin_end": 40.21,
            "bin_start": 32.252,
            "count": 118
           },
           {
            "bin_end": 48.168000000000006,
            "bin_start": 40.21,
            "count": 70
           },
           {
            "bin_end": 56.126000000000005,
            "bin_start": 48.168000000000006,
            "count": 45
           },
           {
            "bin_end": 64.084,
            "bin_start": 56.126000000000005,
            "count": 24
           },
           {
            "bin_end": 72.042,
            "bin_start": 64.084,
            "count": 9
           },
           {
            "bin_end": 80,
            "bin_start": 72.042,
            "count": 2
           }
          ],
          "max": "80.0",
          "min": "0.42",
          "nan_count": 177,
          "unique_count": 88
         }
        },
        {
         "dtype": "int64",
         "name": "SibSp",
         "stats": {
          "histogram": [
           {
            "bin_end": 0.8,
            "bin_start": 0,
            "count": 608
           },
           {
            "bin_end": 1.6,
            "bin_start": 0.8,
            "count": 209
           },
           {
            "bin_end": 2.4000000000000004,
            "bin_start": 1.6,
            "count": 28
           },
           {
            "bin_end": 3.2,
            "bin_start": 2.4000000000000004,
            "count": 16
           },
           {
            "bin_end": 4,
            "bin_start": 3.2,
            "count": 0
           },
           {
            "bin_end": 4.800000000000001,
            "bin_start": 4,
            "count": 18
           },
           {
            "bin_end": 5.6000000000000005,
            "bin_start": 4.800000000000001,
            "count": 5
           },
           {
            "bin_end": 6.4,
            "bin_start": 5.6000000000000005,
            "count": 0
           },
           {
            "bin_end": 7.2,
            "bin_start": 6.4,
            "count": 0
           },
           {
            "bin_end": 8,
            "bin_start": 7.2,
            "count": 7
           }
          ],
          "max": "8",
          "min": "0",
          "nan_count": 0,
          "unique_count": 7
         }
        },
        {
         "dtype": "int64",
         "name": "Parch",
         "stats": {
          "histogram": [
           {
            "bin_end": 0.6,
            "bin_start": 0,
            "count": 678
           },
           {
            "bin_end": 1.2,
            "bin_start": 0.6,
            "count": 118
           },
           {
            "bin_end": 1.7999999999999998,
            "bin_start": 1.2,
            "count": 0
           },
           {
            "bin_end": 2.4,
            "bin_start": 1.7999999999999998,
            "count": 80
           },
           {
            "bin_end": 3,
            "bin_start": 2.4,
            "count": 0
           },
           {
            "bin_end": 3.5999999999999996,
            "bin_start": 3,
            "count": 5
           },
           {
            "bin_end": 4.2,
            "bin_start": 3.5999999999999996,
            "count": 4
           },
           {
            "bin_end": 4.8,
            "bin_start": 4.2,
            "count": 0
           },
           {
            "bin_end": 5.3999999999999995,
            "bin_start": 4.8,
            "count": 5
           },
           {
            "bin_end": 6,
            "bin_start": 5.3999999999999995,
            "count": 1
           }
          ],
          "max": "6",
          "min": "0",
          "nan_count": 0,
          "unique_count": 7
         }
        },
        {
         "dtype": "object",
         "name": "Ticket",
         "stats": {
          "categories": [
           {
            "count": 7,
            "name": "347082"
           },
           {
            "count": 7,
            "name": "1601"
           },
           {
            "count": 877,
            "name": "679 others"
           }
          ],
          "nan_count": 0,
          "unique_count": 681
         }
        },
        {
         "dtype": "float64",
         "name": "Fare",
         "stats": {
          "histogram": [
           {
            "bin_end": 51.23292,
            "bin_start": 0,
            "count": 732
           },
           {
            "bin_end": 102.46584,
            "bin_start": 51.23292,
            "count": 106
           },
           {
            "bin_end": 153.69876,
            "bin_start": 102.46584,
            "count": 31
           },
           {
            "bin_end": 204.93168,
            "bin_start": 153.69876,
            "count": 2
           },
           {
            "bin_end": 256.1646,
            "bin_start": 204.93168,
            "count": 11
           },
           {
            "bin_end": 307.39752,
            "bin_start": 256.1646,
            "count": 6
           },
           {
            "bin_end": 358.63044,
            "bin_start": 307.39752,
            "count": 0
           },
           {
            "bin_end": 409.86336,
            "bin_start": 358.63044,
            "count": 0
           },
           {
            "bin_end": 461.09628,
            "bin_start": 409.86336,
            "count": 0
           },
           {
            "bin_end": 512.3292,
            "bin_start": 461.09628,
            "count": 3
           }
          ],
          "max": "512.3292",
          "min": "0.0",
          "nan_count": 0,
          "unique_count": 248
         }
        },
        {
         "dtype": "object",
         "name": "Cabin",
         "stats": {
          "categories": [
           {
            "count": 4,
            "name": "G6"
           },
           {
            "count": 200,
            "name": "146 others"
           },
           {
            "count": 687,
            "name": "Missing"
           }
          ],
          "nan_count": 687,
          "unique_count": 147
         }
        },
        {
         "dtype": "object",
         "name": "Embarked",
         "stats": {
          "categories": [
           {
            "count": 644,
            "name": "S"
           },
           {
            "count": 245,
            "name": "2 others"
           },
           {
            "count": 2,
            "name": "Missing"
           }
          ],
          "nan_count": 2,
          "unique_count": 3
         }
        },
        {
         "dtype": "object",
         "name": "Priority",
         "stats": {
          "categories": [
           {
            "count": 491,
            "name": "Third"
           },
           {
            "count": 216,
            "name": "First"
           },
           {
            "count": 184,
            "name": "Second"
           }
          ],
          "nan_count": 0,
          "unique_count": 3
         }
        },
        {
         "dtype": "int64",
         "name": "_deepnote_index_column"
        }
       ],
       "row_count": 891,
       "rows": [
        {
         "Age": 22,
         "Cabin": "nan",
         "Embarked": "S",
         "Fare": 7.25,
         "Name": "Braund, Mr. Owen Harris",
         "Parch": 0,
         "PassengerId": 1,
         "Pclass": 3,
         "Priority": "Third",
         "Sex": "male",
         "SibSp": 1,
         "Survived": 0,
         "Ticket": "A/5 21171",
         "_deepnote_index_column": 0
        },
        {
         "Age": 38,
         "Cabin": "C85",
         "Embarked": "C",
         "Fare": 71.2833,
         "Name": "Cumings, Mrs. John Bradley (Florence Briggs Thayer)",
         "Parch": 0,
         "PassengerId": 2,
         "Pclass": 1,
         "Priority": "First",
         "Sex": "female",
         "SibSp": 1,
         "Survived": 1,
         "Ticket": "PC 17599",
         "_deepnote_index_column": 1
        },
        {
         "Age": 26,
         "Cabin": "nan",
         "Embarked": "S",
         "Fare": 7.925,
         "Name": "Heikkinen, Miss. Laina",
         "Parch": 0,
         "PassengerId": 3,
         "Pclass": 3,
         "Priority": "Third",
         "Sex": "female",
         "SibSp": 0,
         "Survived": 1,
         "Ticket": "STON/O2. 3101282",
         "_deepnote_index_column": 2
        },
        {
         "Age": 35,
         "Cabin": "C123",
         "Embarked": "S",
         "Fare": 53.1,
         "Name": "Futrelle, Mrs. Jacques Heath (Lily May Peel)",
         "Parch": 0,
         "PassengerId": 4,
         "Pclass": 1,
         "Priority": "First",
         "Sex": "female",
         "SibSp": 1,
         "Survived": 1,
         "Ticket": "113803",
         "_deepnote_index_column": 3
        },
        {
         "Age": 35,
         "Cabin": "nan",
         "Embarked": "S",
         "Fare": 8.05,
         "Name": "Allen, Mr. William Henry",
         "Parch": 0,
         "PassengerId": 5,
         "Pclass": 3,
         "Priority": "Third",
         "Sex": "male",
         "SibSp": 0,
         "Survived": 0,
         "Ticket": "373450",
         "_deepnote_index_column": 4
        },
        {
         "Age": "nan",
         "Cabin": "nan",
         "Embarked": "Q",
         "Fare": 8.4583,
         "Name": "Moran, Mr. James",
         "Parch": 0,
         "PassengerId": 6,
         "Pclass": 3,
         "Priority": "Third",
         "Sex": "male",
         "SibSp": 0,
         "Survived": 0,
         "Ticket": "330877",
         "_deepnote_index_column": 5
        },
        {
         "Age": 54,
         "Cabin": "E46",
         "Embarked": "S",
         "Fare": 51.8625,
         "Name": "McCarthy, Mr. Timothy J",
         "Parch": 0,
         "PassengerId": 7,
         "Pclass": 1,
         "Priority": "First",
         "Sex": "male",
         "SibSp": 0,
         "Survived": 0,
         "Ticket": "17463",
         "_deepnote_index_column": 6
        },
        {
         "Age": 2,
         "Cabin": "nan",
         "Embarked": "S",
         "Fare": 21.075,
         "Name": "Palsson, Master. Gosta Leonard",
         "Parch": 1,
         "PassengerId": 8,
         "Pclass": 3,
         "Priority": "Third",
         "Sex": "male",
         "SibSp": 3,
         "Survived": 0,
         "Ticket": "349909",
         "_deepnote_index_column": 7
        },
        {
         "Age": 27,
         "Cabin": "nan",
         "Embarked": "S",
         "Fare": 11.1333,
         "Name": "Johnson, Mrs. Oscar W (Elisabeth Vilhelmina Berg)",
         "Parch": 2,
         "PassengerId": 9,
         "Pclass": 3,
         "Priority": "Third",
         "Sex": "female",
         "SibSp": 0,
         "Survived": 1,
         "Ticket": "347742",
         "_deepnote_index_column": 8
        },
        {
         "Age": 14,
         "Cabin": "nan",
         "Embarked": "C",
         "Fare": 30.0708,
         "Name": "Nasser, Mrs. Nicholas (Adele Achem)",
         "Parch": 0,
         "PassengerId": 10,
         "Pclass": 2,
         "Priority": "Second",
         "Sex": "female",
         "SibSp": 1,
         "Survived": 1,
         "Ticket": "237736",
         "_deepnote_index_column": 9
        }
       ]
      },
      "text/html": [
       "<div>\n",
       "<style scoped>\n",
       "    .dataframe tbody tr th:only-of-type {\n",
       "        vertical-align: middle;\n",
       "    }\n",
       "\n",
       "    .dataframe tbody tr th {\n",
       "        vertical-align: top;\n",
       "    }\n",
       "\n",
       "    .dataframe thead th {\n",
       "        text-align: right;\n",
       "    }\n",
       "</style>\n",
       "<table border=\"1\" class=\"dataframe\">\n",
       "  <thead>\n",
       "    <tr style=\"text-align: right;\">\n",
       "      <th></th>\n",
       "      <th>PassengerId</th>\n",
       "      <th>Survived</th>\n",
       "      <th>Pclass</th>\n",
       "      <th>Name</th>\n",
       "      <th>Sex</th>\n",
       "      <th>Age</th>\n",
       "      <th>SibSp</th>\n",
       "      <th>Parch</th>\n",
       "      <th>Ticket</th>\n",
       "      <th>Fare</th>\n",
       "      <th>Cabin</th>\n",
       "      <th>Embarked</th>\n",
       "      <th>Priority</th>\n",
       "    </tr>\n",
       "  </thead>\n",
       "  <tbody>\n",
       "    <tr>\n",
       "      <th>0</th>\n",
       "      <td>1</td>\n",
       "      <td>0</td>\n",
       "      <td>3</td>\n",
       "      <td>Braund, Mr. Owen Harris</td>\n",
       "      <td>male</td>\n",
       "      <td>22.0</td>\n",
       "      <td>1</td>\n",
       "      <td>0</td>\n",
       "      <td>A/5 21171</td>\n",
       "      <td>7.2500</td>\n",
       "      <td>NaN</td>\n",
       "      <td>S</td>\n",
       "      <td>Third</td>\n",
       "    </tr>\n",
       "    <tr>\n",
       "      <th>1</th>\n",
       "      <td>2</td>\n",
       "      <td>1</td>\n",
       "      <td>1</td>\n",
       "      <td>Cumings, Mrs. John Bradley (Florence Briggs Th...</td>\n",
       "      <td>female</td>\n",
       "      <td>38.0</td>\n",
       "      <td>1</td>\n",
       "      <td>0</td>\n",
       "      <td>PC 17599</td>\n",
       "      <td>71.2833</td>\n",
       "      <td>C85</td>\n",
       "      <td>C</td>\n",
       "      <td>First</td>\n",
       "    </tr>\n",
       "    <tr>\n",
       "      <th>2</th>\n",
       "      <td>3</td>\n",
       "      <td>1</td>\n",
       "      <td>3</td>\n",
       "      <td>Heikkinen, Miss. Laina</td>\n",
       "      <td>female</td>\n",
       "      <td>26.0</td>\n",
       "      <td>0</td>\n",
       "      <td>0</td>\n",
       "      <td>STON/O2. 3101282</td>\n",
       "      <td>7.9250</td>\n",
       "      <td>NaN</td>\n",
       "      <td>S</td>\n",
       "      <td>Third</td>\n",
       "    </tr>\n",
       "    <tr>\n",
       "      <th>3</th>\n",
       "      <td>4</td>\n",
       "      <td>1</td>\n",
       "      <td>1</td>\n",
       "      <td>Futrelle, Mrs. Jacques Heath (Lily May Peel)</td>\n",
       "      <td>female</td>\n",
       "      <td>35.0</td>\n",
       "      <td>1</td>\n",
       "      <td>0</td>\n",
       "      <td>113803</td>\n",
       "      <td>53.1000</td>\n",
       "      <td>C123</td>\n",
       "      <td>S</td>\n",
       "      <td>First</td>\n",
       "    </tr>\n",
       "    <tr>\n",
       "      <th>4</th>\n",
       "      <td>5</td>\n",
       "      <td>0</td>\n",
       "      <td>3</td>\n",
       "      <td>Allen, Mr. William Henry</td>\n",
       "      <td>male</td>\n",
       "      <td>35.0</td>\n",
       "      <td>0</td>\n",
       "      <td>0</td>\n",
       "      <td>373450</td>\n",
       "      <td>8.0500</td>\n",
       "      <td>NaN</td>\n",
       "      <td>S</td>\n",
       "      <td>Third</td>\n",
       "    </tr>\n",
       "    <tr>\n",
       "      <th>...</th>\n",
       "      <td>...</td>\n",
       "      <td>...</td>\n",
       "      <td>...</td>\n",
       "      <td>...</td>\n",
       "      <td>...</td>\n",
       "      <td>...</td>\n",
       "      <td>...</td>\n",
       "      <td>...</td>\n",
       "      <td>...</td>\n",
       "      <td>...</td>\n",
       "      <td>...</td>\n",
       "      <td>...</td>\n",
       "      <td>...</td>\n",
       "    </tr>\n",
       "    <tr>\n",
       "      <th>886</th>\n",
       "      <td>887</td>\n",
       "      <td>0</td>\n",
       "      <td>2</td>\n",
       "      <td>Montvila, Rev. Juozas</td>\n",
       "      <td>male</td>\n",
       "      <td>27.0</td>\n",
       "      <td>0</td>\n",
       "      <td>0</td>\n",
       "      <td>211536</td>\n",
       "      <td>13.0000</td>\n",
       "      <td>NaN</td>\n",
       "      <td>S</td>\n",
       "      <td>Second</td>\n",
       "    </tr>\n",
       "    <tr>\n",
       "      <th>887</th>\n",
       "      <td>888</td>\n",
       "      <td>1</td>\n",
       "      <td>1</td>\n",
       "      <td>Graham, Miss. Margaret Edith</td>\n",
       "      <td>female</td>\n",
       "      <td>19.0</td>\n",
       "      <td>0</td>\n",
       "      <td>0</td>\n",
       "      <td>112053</td>\n",
       "      <td>30.0000</td>\n",
       "      <td>B42</td>\n",
       "      <td>S</td>\n",
       "      <td>First</td>\n",
       "    </tr>\n",
       "    <tr>\n",
       "      <th>888</th>\n",
       "      <td>889</td>\n",
       "      <td>0</td>\n",
       "      <td>3</td>\n",
       "      <td>Johnston, Miss. Catherine Helen \"Carrie\"</td>\n",
       "      <td>female</td>\n",
       "      <td>NaN</td>\n",
       "      <td>1</td>\n",
       "      <td>2</td>\n",
       "      <td>W./C. 6607</td>\n",
       "      <td>23.4500</td>\n",
       "      <td>NaN</td>\n",
       "      <td>S</td>\n",
       "      <td>Third</td>\n",
       "    </tr>\n",
       "    <tr>\n",
       "      <th>889</th>\n",
       "      <td>890</td>\n",
       "      <td>1</td>\n",
       "      <td>1</td>\n",
       "      <td>Behr, Mr. Karl Howell</td>\n",
       "      <td>male</td>\n",
       "      <td>26.0</td>\n",
       "      <td>0</td>\n",
       "      <td>0</td>\n",
       "      <td>111369</td>\n",
       "      <td>30.0000</td>\n",
       "      <td>C148</td>\n",
       "      <td>C</td>\n",
       "      <td>First</td>\n",
       "    </tr>\n",
       "    <tr>\n",
       "      <th>890</th>\n",
       "      <td>891</td>\n",
       "      <td>0</td>\n",
       "      <td>3</td>\n",
       "      <td>Dooley, Mr. Patrick</td>\n",
       "      <td>male</td>\n",
       "      <td>32.0</td>\n",
       "      <td>0</td>\n",
       "      <td>0</td>\n",
       "      <td>370376</td>\n",
       "      <td>7.7500</td>\n",
       "      <td>NaN</td>\n",
       "      <td>Q</td>\n",
       "      <td>Third</td>\n",
       "    </tr>\n",
       "  </tbody>\n",
       "</table>\n",
       "<p>891 rows × 13 columns</p>\n",
       "</div>"
      ],
      "text/plain": [
       "     PassengerId  Survived  Pclass  \\\n",
       "0              1         0       3   \n",
       "1              2         1       1   \n",
       "2              3         1       3   \n",
       "3              4         1       1   \n",
       "4              5         0       3   \n",
       "..           ...       ...     ...   \n",
       "886          887         0       2   \n",
       "887          888         1       1   \n",
       "888          889         0       3   \n",
       "889          890         1       1   \n",
       "890          891         0       3   \n",
       "\n",
       "                                                  Name     Sex   Age  SibSp  \\\n",
       "0                              Braund, Mr. Owen Harris    male  22.0      1   \n",
       "1    Cumings, Mrs. John Bradley (Florence Briggs Th...  female  38.0      1   \n",
       "2                               Heikkinen, Miss. Laina  female  26.0      0   \n",
       "3         Futrelle, Mrs. Jacques Heath (Lily May Peel)  female  35.0      1   \n",
       "4                             Allen, Mr. William Henry    male  35.0      0   \n",
       "..                                                 ...     ...   ...    ...   \n",
       "886                              Montvila, Rev. Juozas    male  27.0      0   \n",
       "887                       Graham, Miss. Margaret Edith  female  19.0      0   \n",
       "888           Johnston, Miss. Catherine Helen \"Carrie\"  female   NaN      1   \n",
       "889                              Behr, Mr. Karl Howell    male  26.0      0   \n",
       "890                                Dooley, Mr. Patrick    male  32.0      0   \n",
       "\n",
       "     Parch            Ticket     Fare Cabin Embarked Priority  \n",
       "0        0         A/5 21171   7.2500   NaN        S    Third  \n",
       "1        0          PC 17599  71.2833   C85        C    First  \n",
       "2        0  STON/O2. 3101282   7.9250   NaN        S    Third  \n",
       "3        0            113803  53.1000  C123        S    First  \n",
       "4        0            373450   8.0500   NaN        S    Third  \n",
       "..     ...               ...      ...   ...      ...      ...  \n",
       "886      0            211536  13.0000   NaN        S   Second  \n",
       "887      0            112053  30.0000   B42        S    First  \n",
       "888      2        W./C. 6607  23.4500   NaN        S    Third  \n",
       "889      0            111369  30.0000  C148        C    First  \n",
       "890      0            370376   7.7500   NaN        Q    Third  \n",
       "\n",
       "[891 rows x 13 columns]"
      ]
     },
     "execution_count": 32,
     "metadata": {},
     "output_type": "execute_result"
    }
   ],
   "source": [
    "df"
   ]
  },
  {
   "cell_type": "code",
   "execution_count": null,
   "metadata": {
    "cell_id": "cbbb708030584430b8aa340d7154e052",
    "colab": {
     "base_uri": "https://localhost:8080/",
     "height": 316
    },
    "deepnote_cell_type": "code",
    "deepnote_to_be_reexecuted": true,
    "executionInfo": {
     "elapsed": 332,
     "status": "ok",
     "timestamp": 1632878459535,
     "user": {
      "displayName": "Shasha Liao",
      "photoUrl": "https://lh3.googleusercontent.com/a-/AOh14Ghf5Tj0GAz5by2x9KRBgR3ka1GNpPK67XG2GpESnA=s64",
      "userId": "03341420781931408968"
     },
     "user_tz": 240
    },
    "execution_millis": 174,
    "execution_start": 1658203313744,
    "id": "l4Qk-KyQB9EL",
    "outputId": "b6d10807-9306-4e80-b254-3ea184432c98",
    "source_hash": null
   },
   "outputs": [
    {
     "data": {
      "text/plain": [
       "<AxesSubplot:xlabel='Priority', ylabel='count'>"
      ]
     },
     "execution_count": 35,
     "metadata": {},
     "output_type": "execute_result"
    },
    {
     "data": {
      "image/png": "[encoded data removed]",
      "text/plain": [
       "<Figure size 432x288 with 1 Axes>"
      ]
     },
     "metadata": {
      "image/png": {
       "height": 262,
       "width": 389
      },
      "needs_background": "light"
     },
     "output_type": "display_data"
    }
   ],
   "source": [
    "sns.countplot(data=df,x='Priority',hue='Survived')"
   ]
  },
  {
   "cell_type": "markdown",
   "metadata": {
    "cell_id": "0604a7dbd6654099b6eba2e01804ae94",
    "deepnote_cell_type": "markdown",
    "id": "PsdFVRorDkob"
   },
   "source": [
    "Looks like I was definitely wrong. However, it was very fruitful to have the data prove this to me."
   ]
  }
 ],
 "metadata": {
  "deepnote_execution_queue": [],
  "deepnote_notebook_id": "6971e6219bf44eefac27a37aa3dca63b",
  "deepnote_persisted_session": {
   "createdAt": "2024-02-23T23:15:20.639Z"
  },
  "kernelspec": {
   "display_name": "PyTorch GPU",
   "language": "python",
   "name": "pytorch-gpu"
  },
  "language_info": {
   "codemirror_mode": {
    "name": "ipython",
    "version": 3
   },
   "file_extension": ".py",
   "mimetype": "text/x-python",
   "name": "python",
   "nbconvert_exporter": "python",
   "pygments_lexer": "ipython3",
   "version": "3.9.19"
  }
 },
 "nbformat": 4,
 "nbformat_minor": 4
}
